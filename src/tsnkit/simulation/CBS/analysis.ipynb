{
 "cells": [
  {
   "cell_type": "code",
   "execution_count": 102,
   "id": "6a36a671-d1f5-47e9-8a9d-ad9b1609b73e",
   "metadata": {},
   "outputs": [],
   "source": [
    "import seaborn as sns\n",
    "import matplotlib.pyplot as plt\n",
    "import pandas as pd"
   ]
  },
  {
   "cell_type": "markdown",
   "id": "4df6a5b0-49b8-46c5-9f6d-092af7f85b88",
   "metadata": {},
   "source": [
    "## CBS: Multihop"
   ]
  },
  {
   "cell_type": "code",
   "execution_count": 90,
   "id": "4dfbef03-d2ee-4d27-967c-50f247270fb0",
   "metadata": {},
   "outputs": [],
   "source": [
    "result = []\n",
    "for i in [4,8,12, 16]:\n",
    "    with open('log_%s.txt'%i, 'r') as f:\n",
    "        result.append(eval(f.read()))"
   ]
  },
  {
   "cell_type": "code",
   "execution_count": 91,
   "id": "73f1eb82-57e7-4eee-9bc9-0aee7760b1f1",
   "metadata": {},
   "outputs": [],
   "source": [
    "box_plot_data = []"
   ]
  },
  {
   "cell_type": "code",
   "execution_count": 92,
   "id": "de10ff25-d7d5-4adf-b9ba-dee3f0ce6095",
   "metadata": {},
   "outputs": [],
   "source": [
    "hops = [4,8,12,16]"
   ]
  },
  {
   "cell_type": "code",
   "execution_count": 99,
   "id": "be5c22db-9d1e-4a3c-8752-f1e14f777da6",
   "metadata": {},
   "outputs": [
    {
     "data": {
      "image/png": "[encoded data removed]",
      "text/plain": [
       "<Figure size 432x288 with 1 Axes>"
      ]
     },
     "metadata": {
      "needs_background": "light"
     },
     "output_type": "display_data"
    }
   ],
   "source": [
    "box_plot_data = []\n",
    "for i, hop in enumerate(result):\n",
    "    flow = hop[2]\n",
    "    task = pd.read_csv(\"%s_0_motivate_task.csv\"%(str(hops[i])))\n",
    "    box_plot_data.append([flow[1][k] - flow[0][k] - task.loc[i, 'deadline'] for k in range(len(flow[1]))])\n",
    "\n",
    "labels = ['4-hops', '8-hops', '12-hops', '16-hops']\n",
    "plt.boxplot(box_plot_data,patch_artist=True, labels=labels)\n",
    "plt.show()"
   ]
  },
  {
   "cell_type": "code",
   "execution_count": 100,
   "id": "c2662d51-00ec-4942-a85b-870643270c37",
   "metadata": {},
   "outputs": [
    {
     "data": {
      "image/png": "[encoded data removed]",
      "text/plain": [
       "<Figure size 432x288 with 1 Axes>"
      ]
     },
     "metadata": {
      "needs_background": "light"
     },
     "output_type": "display_data"
    }
   ],
   "source": [
    "box_plot_data = []\n",
    "for i, hop in enumerate(result):\n",
    "    flow = hop[3]\n",
    "    task = pd.read_csv(\"%s_0_motivate_task.csv\"%(str(hops[i])))\n",
    "    box_plot_data.append([flow[1][k] - flow[0][k] - task.loc[i, 'deadline'] for k in range(len(flow[1]))])\n",
    "\n",
    "labels = ['4-hops', '8-hops', '12-hops', '16-hops']\n",
    "plt.boxplot(box_plot_data,patch_artist=True, labels=labels)\n",
    "plt.show()"
   ]
  },
  {
   "cell_type": "code",
   "execution_count": 85,
   "id": "e1f0d39e-c1f2-4d99-8ab2-06f788e282c8",
   "metadata": {},
   "outputs": [],
   "source": [
    "box_plot_data = []\n",
    "for i, hop in enumerate(result):\n",
    "    task = pd.read_csv(\"%s_0_motivate_task.csv\"%(str(hops[i])))\n",
    "    temp = []\n",
    "    for traffic in range(len(task)):\n",
    "        flow = hop[traffic]\n",
    "        temp.append([flow[1][k] - flow[0][k] - task.loc[i, 'deadline'] for k in range(len(flow[1]))])\n",
    "    box_plot_data.append([x for y in temp for x in y])"
   ]
  },
  {
   "cell_type": "code",
   "execution_count": 87,
   "id": "6f6dab75-d2fe-4ac6-849e-d64f627505b8",
   "metadata": {},
   "outputs": [
    {
     "data": {
      "image/png": "[encoded data removed]",
      "text/plain": [
       "<Figure size 432x288 with 1 Axes>"
      ]
     },
     "metadata": {
      "needs_background": "light"
     },
     "output_type": "display_data"
    }
   ],
   "source": [
    "labels = ['4-hops', '8-hops', '12-hops', '16-hops']\n",
    "plt.boxplot(box_plot_data,patch_artist=True, labels=labels)\n",
    "plt.show()"
   ]
  },
  {
   "cell_type": "markdown",
   "id": "8e5dd6f3-6549-44ac-a8a8-dc317ce461a6",
   "metadata": {},
   "source": [
    "## CBS vs TAS"
   ]
  },
  {
   "cell_type": "code",
   "execution_count": 103,
   "id": "673b3c90-e9ed-47ac-9b3b-15b1aadf4ac3",
   "metadata": {},
   "outputs": [],
   "source": [
    "result_tas = []\n",
    "for i in [4]:\n",
    "    with open('log_%s_tas.txt'%i, 'r') as f:\n",
    "        result_tas.append(eval(f.read()))"
   ]
  },
  {
   "cell_type": "code",
   "execution_count": 110,
   "id": "c74eff50-3cf9-45ef-abec-d16d191cfe00",
   "metadata": {},
   "outputs": [
    {
     "data": {
      "text/html": [
       "<div>\n",
       "<style scoped>\n",
       "    .dataframe tbody tr th:only-of-type {\n",
       "        vertical-align: middle;\n",
       "    }\n",
       "\n",
       "    .dataframe tbody tr th {\n",
       "        vertical-align: top;\n",
       "    }\n",
       "\n",
       "    .dataframe thead th {\n",
       "        text-align: right;\n",
       "    }\n",
       "</style>\n",
       "<table border=\"1\" class=\"dataframe\">\n",
       "  <thead>\n",
       "    <tr style=\"text-align: right;\">\n",
       "      <th></th>\n",
       "      <th>start</th>\n",
       "      <th>end</th>\n",
       "      <th>size</th>\n",
       "      <th>period</th>\n",
       "      <th>deadline</th>\n",
       "    </tr>\n",
       "  </thead>\n",
       "  <tbody>\n",
       "    <tr>\n",
       "      <th>0</th>\n",
       "      <td>4</td>\n",
       "      <td>7</td>\n",
       "      <td>50</td>\n",
       "      <td>600000</td>\n",
       "      <td>208400</td>\n",
       "    </tr>\n",
       "    <tr>\n",
       "      <th>1</th>\n",
       "      <td>5</td>\n",
       "      <td>7</td>\n",
       "      <td>50</td>\n",
       "      <td>10000000</td>\n",
       "      <td>32000</td>\n",
       "    </tr>\n",
       "    <tr>\n",
       "      <th>2</th>\n",
       "      <td>6</td>\n",
       "      <td>7</td>\n",
       "      <td>50</td>\n",
       "      <td>4800000</td>\n",
       "      <td>105600</td>\n",
       "    </tr>\n",
       "    <tr>\n",
       "      <th>3</th>\n",
       "      <td>4</td>\n",
       "      <td>7</td>\n",
       "      <td>500</td>\n",
       "      <td>100000</td>\n",
       "      <td>55000</td>\n",
       "    </tr>\n",
       "    <tr>\n",
       "      <th>4</th>\n",
       "      <td>5</td>\n",
       "      <td>7</td>\n",
       "      <td>1000</td>\n",
       "      <td>10000000</td>\n",
       "      <td>445000</td>\n",
       "    </tr>\n",
       "    <tr>\n",
       "      <th>5</th>\n",
       "      <td>6</td>\n",
       "      <td>7</td>\n",
       "      <td>500</td>\n",
       "      <td>1200000</td>\n",
       "      <td>120000</td>\n",
       "    </tr>\n",
       "    <tr>\n",
       "      <th>6</th>\n",
       "      <td>4</td>\n",
       "      <td>7</td>\n",
       "      <td>50</td>\n",
       "      <td>600000</td>\n",
       "      <td>58400</td>\n",
       "    </tr>\n",
       "    <tr>\n",
       "      <th>7</th>\n",
       "      <td>5</td>\n",
       "      <td>7</td>\n",
       "      <td>4500</td>\n",
       "      <td>1200000</td>\n",
       "      <td>235000</td>\n",
       "    </tr>\n",
       "    <tr>\n",
       "      <th>8</th>\n",
       "      <td>6</td>\n",
       "      <td>7</td>\n",
       "      <td>1500</td>\n",
       "      <td>100000000</td>\n",
       "      <td>252000</td>\n",
       "    </tr>\n",
       "    <tr>\n",
       "      <th>9</th>\n",
       "      <td>4</td>\n",
       "      <td>7</td>\n",
       "      <td>500</td>\n",
       "      <td>10000000</td>\n",
       "      <td>30000</td>\n",
       "    </tr>\n",
       "    <tr>\n",
       "      <th>10</th>\n",
       "      <td>5</td>\n",
       "      <td>7</td>\n",
       "      <td>4500</td>\n",
       "      <td>10000000</td>\n",
       "      <td>210000</td>\n",
       "    </tr>\n",
       "    <tr>\n",
       "      <th>11</th>\n",
       "      <td>6</td>\n",
       "      <td>7</td>\n",
       "      <td>50</td>\n",
       "      <td>4800000</td>\n",
       "      <td>405600</td>\n",
       "    </tr>\n",
       "  </tbody>\n",
       "</table>\n",
       "</div>"
      ],
      "text/plain": [
       "    start  end  size     period  deadline\n",
       "0       4    7    50     600000    208400\n",
       "1       5    7    50   10000000     32000\n",
       "2       6    7    50    4800000    105600\n",
       "3       4    7   500     100000     55000\n",
       "4       5    7  1000   10000000    445000\n",
       "5       6    7   500    1200000    120000\n",
       "6       4    7    50     600000     58400\n",
       "7       5    7  4500    1200000    235000\n",
       "8       6    7  1500  100000000    252000\n",
       "9       4    7   500   10000000     30000\n",
       "10      5    7  4500   10000000    210000\n",
       "11      6    7    50    4800000    405600"
      ]
     },
     "execution_count": 110,
     "metadata": {},
     "output_type": "execute_result"
    }
   ],
   "source": [
    "task"
   ]
  },
  {
   "cell_type": "code",
   "execution_count": 109,
   "id": "e136eb64-6389-4793-b277-bfa8ad01cab9",
   "metadata": {},
   "outputs": [
    {
     "data": {
      "image/png": "[encoded data removed]",
      "text/plain": [
       "<Figure size 432x288 with 1 Axes>"
      ]
     },
     "metadata": {
      "needs_background": "light"
     },
     "output_type": "display_data"
    }
   ],
   "source": [
    "# box_plot_data = []\n",
    "# hops = result_tas[0]\n",
    "# task = pd.read_csv(\"%s_0_motivate_task.csv\"%(\"4\"))\n",
    "# for traffic in range(len(task)):\n",
    "#     flow = hops[traffic]\n",
    "#     box_plot_data.append([flow[1][k] - flow[0][k] - task.loc[i, 'deadline'] for k in range(len(flow[1]))])\n",
    "\n",
    "# plt.boxplot(box_plot_data,patch_artist=True)\n",
    "# plt.show()"
   ]
  },
  {
   "cell_type": "code",
   "execution_count": 108,
   "id": "4f40e2fa-a710-40cc-9140-f1da3494e86a",
   "metadata": {},
   "outputs": [
    {
     "data": {
      "image/png": "[encoded data removed]",
      "text/plain": [
       "<Figure size 432x288 with 1 Axes>"
      ]
     },
     "metadata": {
      "needs_background": "light"
     },
     "output_type": "display_data"
    }
   ],
   "source": [
    "# box_plot_data = []\n",
    "\n",
    "\n",
    "# hops = result[0]\n",
    "# task = pd.read_csv(\"%s_0_motivate_task.csv\"%(\"4\"))\n",
    "# for traffic in range(len(task)):\n",
    "#     flow = hops[traffic]\n",
    "#     box_plot_data.append([flow[1][k] - flow[0][k] - task.loc[i, 'deadline'] for k in range(len(flow[1]))])\n",
    "\n",
    "# plt.boxplot(box_plot_data,patch_artist=True)\n",
    "# plt.show()"
   ]
  },
  {
   "cell_type": "code",
   "execution_count": null,
   "id": "9f1af7df-5427-4c22-9042-79fcc9eae8b9",
   "metadata": {},
   "outputs": [],
   "source": []
  }
 ],
 "metadata": {
  "kernelspec": {
   "display_name": "Python 3 (ipykernel)",
   "language": "python",
   "name": "python3"
  },
  "language_info": {
   "codemirror_mode": {
    "name": "ipython",
    "version": 3
   },
   "file_extension": ".py",
   "mimetype": "text/x-python",
   "name": "python",
   "nbconvert_exporter": "python",
   "pygments_lexer": "ipython3",
   "version": "3.9.13"
  }
 },
 "nbformat": 4,
 "nbformat_minor": 5
}

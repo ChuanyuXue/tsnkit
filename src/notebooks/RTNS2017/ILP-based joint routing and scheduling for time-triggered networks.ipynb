{
 "cells": [
  {
   "cell_type": "markdown",
   "id": "f1ab0846",
   "metadata": {},
   "source": [
    "## Note\n",
    "\n",
    "This works need to be adapted for TSN network\n",
    "- Replace $o_i$ as traverse every instance from $lcm(i, j) / p_j$"
   ]
  },
  {
   "cell_type": "code",
   "execution_count": 25,
   "id": "02b7c6ec",
   "metadata": {},
   "outputs": [],
   "source": [
    "import pandas as pd\n",
    "import numpy as np\n",
    "from tqdm import tqdm\n",
    "from gurobipy import GRB\n",
    "import gurobipy as gp"
   ]
  },
  {
   "cell_type": "code",
   "execution_count": 48,
   "id": "fe1a386f",
   "metadata": {},
   "outputs": [],
   "source": [
    "macrotick = 100\n",
    "sync_error = 0\n",
    "time_out = 4 * 60 * 60\n",
    "\n",
    "NUM_FLOW = 100000\n",
    "DATA_NAME = \"harmonic0\"\n",
    "TOPO_NAME = \"2\"\n",
    "\n",
    "task = pd.read_csv(\"../../rtns_data/utilization/utilization_25_41.csv\")\n",
    "network = pd.read_csv(\"../../rtns_data/utilization/utilization_topology.csv\")\n",
    "\n",
    "# task = pd.read_csv(\"../../dac_data/%s.csv\"%DATA_NAME)[:NUM_FLOW]\n",
    "# network = pd.read_csv(\"../../dac_data/%s_topology.csv\"%TOPO_NAME)\n",
    "for col in ['size','period','deadline','jitter']:\n",
    "    task[col] = np.ceil(task[col] / macrotick).astype(int)\n",
    "for col in ['t_proc','t_prop']:\n",
    "    network[col] = np.ceil(network[col] / macrotick).astype(int)\n",
    "    \n",
    "nodes = list(network['link'].apply(lambda x:eval(x)[0])) + \\\n",
    "    list(network['link'].apply(lambda x:eval(x)[1]))\n",
    "NODE_SET = list(set(nodes))\n",
    "ES_set = [x for x in NODE_SET if nodes.count(x) == 2]\n",
    "SW_set = list(set(NODE_SET) - set(ES_set))\n",
    "LCM = np.lcm.reduce(task['period'])\n",
    "net = np.zeros(shape = (max(NODE_SET) + 1, max(NODE_SET) + 1))"
   ]
  },
  {
   "cell_type": "markdown",
   "id": "db9a3f96",
   "metadata": {},
   "source": [
    "## 1. Model"
   ]
  },
  {
   "cell_type": "code",
   "execution_count": 51,
   "id": "9af61889",
   "metadata": {},
   "outputs": [],
   "source": [
    "m = gp.Model(\"RTNS2017\")"
   ]
  },
  {
   "cell_type": "code",
   "execution_count": 52,
   "id": "d7e5f5dc-f503-4cba-922a-40249d0c4843",
   "metadata": {},
   "outputs": [],
   "source": [
    "M = int(1e16)"
   ]
  },
  {
   "cell_type": "markdown",
   "id": "361f3255",
   "metadata": {},
   "source": [
    "Network model\n",
    "\n",
    "$I=(V, E, D)$"
   ]
  },
  {
   "cell_type": "code",
   "execution_count": 53,
   "id": "755a9947",
   "metadata": {},
   "outputs": [],
   "source": [
    "net_var = {}\n",
    "\n",
    "for _, row in network.iterrows():\n",
    "    net_var.setdefault(eval(row['link'])[0], {})\n",
    "    net_var[eval(row['link'])[0]]['msd'] = row['t_proc']\n",
    "    net[eval(row['link'])[0], eval(row['link'])[1]] = 1\n",
    "\n",
    "## Create mapping from Link to index\n",
    "link_to_index = {}\n",
    "index_to_link = {}\n",
    "\n",
    "counter = 0\n",
    "for _, row in network.iterrows():\n",
    "    link = row['link']\n",
    "    link_to_index[link] = counter\n",
    "    index_to_link[counter] = link\n",
    "    counter += 1"
   ]
  },
  {
   "cell_type": "code",
   "execution_count": 54,
   "id": "23ecbdf7-7801-4b88-9c01-1427f8662b95",
   "metadata": {},
   "outputs": [],
   "source": [
    "LCM = int(np.lcm.reduce(task['period']))"
   ]
  },
  {
   "cell_type": "markdown",
   "id": "6bd402d1",
   "metadata": {},
   "source": [
    "Task model\n",
    "\n",
    "$$f_{k}=\\left(s_{k}, d_{k}, c t_{k}, r s l_{k}, m l_{k}\\right)$$"
   ]
  },
  {
   "cell_type": "code",
   "execution_count": 55,
   "id": "25aaedab",
   "metadata": {},
   "outputs": [],
   "source": [
    "task_attr = {}\n",
    "\n",
    "x = m.addMVar(shape=(len(task), len(link_to_index)), vtype=GRB.BINARY , name=\"routing\")\n",
    "t = m.addMVar(shape=(len(task), len(link_to_index)), vtype=GRB.INTEGER , name=\"time_start\")\n"
   ]
  },
  {
   "cell_type": "markdown",
   "id": "843e0c9e",
   "metadata": {},
   "source": [
    "$x_{i j k}=\\left\\{\\begin{array}{l}\n",
    "1: \\text { flow } f_{k} \\text { is routed via link }(i, j) \\\\\n",
    "0: \\text { flow } f_{k} \\text { does not use link }(i, j)\n",
    "\\end{array}\\right.$"
   ]
  },
  {
   "cell_type": "markdown",
   "id": "4cab3d6e",
   "metadata": {},
   "source": [
    "$t_{ijk}$: beginning of the time slot of flow f_k on link\n",
    "\n",
    "$o_{ijk}$: a positive integer variable that states an offset of a time slot as a number of full cycles of length ct k"
   ]
  },
  {
   "cell_type": "code",
   "execution_count": 56,
   "id": "cfd1ece5",
   "metadata": {},
   "outputs": [],
   "source": [
    "for k, row in task.iterrows():\n",
    "    task_attr.setdefault(k, {})\n",
    "    \n",
    "    \n",
    "    ## f_k\n",
    "    task_attr[k]['s'] = int(row['src'])\n",
    "    task_attr[k]['d'] = int(eval(row['dst'])[0])\n",
    "    task_attr[k]['ct'] = int(row['period'])\n",
    "    task_attr[k]['rsl'] = int(row['size'] * 8)\n",
    "    task_attr[k]['ml'] = int(row['deadline'])\n",
    "    \n",
    "    ## Bound the t matrix\n",
    "    for j in range(len(link_to_index)):\n",
    "        m.addConstr(0 <= t[k][j])\n",
    "        m.addConstr(t[k][j] <= task_attr[k]['ct'] - task_attr[k]['rsl'])\n"
   ]
  },
  {
   "cell_type": "markdown",
   "id": "459cfa11",
   "metadata": {},
   "source": [
    "## 2. Constraints"
   ]
  },
  {
   "cell_type": "markdown",
   "id": "9865655e",
   "metadata": {},
   "source": [
    "### 2.1 Routing"
   ]
  },
  {
   "cell_type": "markdown",
   "id": "0efb526d",
   "metadata": {},
   "source": [
    "Acting nodes: Exactly one more outgoing than incoming link"
   ]
  },
  {
   "cell_type": "markdown",
   "id": "87f34ad3",
   "metadata": {},
   "source": [
    "\\begin{aligned}\n",
    "&\\forall f_{k} \\in F: \\\\\n",
    "&\\qquad \\sum_{j \\in V \\mid\\left(s_{k}, j\\right) \\in E} x_{s_{k} j k}-\\sum_{j \\in V \\mid\\left(j, s_{k}\\right) \\in E} x_{j s_{k} k}=1\n",
    "\\end{aligned}"
   ]
  },
  {
   "cell_type": "code",
   "execution_count": 57,
   "id": "60308987",
   "metadata": {},
   "outputs": [],
   "source": [
    "link_in = {}\n",
    "link_out = {}\n",
    "for link in link_to_index.keys():\n",
    "    link = eval(link)\n",
    "    link_in.setdefault(link[1], [])\n",
    "    link_in[link[1]].append(str(link))\n",
    "    link_out.setdefault(link[0], [])\n",
    "    link_out[link[0]].append(str(link))"
   ]
  },
  {
   "cell_type": "code",
   "execution_count": 58,
   "id": "3747f92e",
   "metadata": {},
   "outputs": [],
   "source": [
    "for k in task_attr:\n",
    "    m.addConstr(\n",
    "        gp.quicksum(x[k][link_to_index[link]] \n",
    "                    for link in link_out[task_attr[k]['s']]) - \n",
    "        gp.quicksum(x[k][link_to_index[link]] \n",
    "                    for link in link_in[task_attr[k]['s']]) == 1\n",
    "    )\n",
    "    # m.addConstr(\n",
    "    #     gp.quicksum(x[k][link_to_index[link]] \n",
    "    #                 for link in link_in[task_attr[k]['d']]) - \n",
    "    #     gp.quicksum(x[k][link_to_index[link]] \n",
    "    #                 for link in link_out[task_attr[k]['d']]) == 1\n",
    "    # )\n",
    "\n",
    "    # m.addConstr(\n",
    "    #         gp.quicksum(x[k][link_to_index[link]] \n",
    "    #             for v in ES_set for link in link_in[v] ) == 1\n",
    "    # )\n",
    "    # m.addConstr(\n",
    "    #         gp.quicksum(x[k][link_to_index[link]] \n",
    "    #             for v in ES_set for link in link_out[v]) == 1\n",
    "    # )"
   ]
  },
  {
   "cell_type": "markdown",
   "id": "fa8a3103",
   "metadata": {},
   "source": [
    "Forwarding behavior\n",
    "\n",
    "\\begin{aligned}\n",
    "&\\forall f_{k} \\in F, \\forall i \\in V \\backslash\\left\\{s_{k}, d_{k}\\right\\}: \\\\\n",
    "&\\sum_{j \\in V \\mid(i, j) \\in E} x_{i j k}-\\sum_{j \\in V \\mid(j, i) \\in E} x_{j i k}=0\n",
    "\\end{aligned}"
   ]
  },
  {
   "cell_type": "code",
   "execution_count": 59,
   "id": "2556e98a",
   "metadata": {},
   "outputs": [],
   "source": [
    "for k in task_attr:\n",
    "    for i in set(NODE_SET) - set([task_attr[k]['s'], task_attr[k]['d']]):\n",
    "        m.addConstr(\n",
    "            gp.quicksum(x[k][link_to_index[link]] for link in link_out[i])\n",
    "            - \n",
    "            gp.quicksum(x[k][link_to_index[link]] for link in link_in[i])\n",
    "            == 0\n",
    "        )"
   ]
  },
  {
   "cell_type": "markdown",
   "id": "7f25574f",
   "metadata": {},
   "source": [
    "Prune loop\n",
    "\n",
    "\\begin{aligned}\n",
    "&\\forall f_{k} \\in F, \\forall i \\in V: \\\\\n",
    "&\\sum_{j \\in V \\mid(i, j) \\in E} x_{i j k} \\leq 1\n",
    "\\end{aligned}"
   ]
  },
  {
   "cell_type": "code",
   "execution_count": 60,
   "id": "f5cb35cd",
   "metadata": {},
   "outputs": [],
   "source": [
    "for k in task_attr:\n",
    "    for i in NODE_SET:\n",
    "        m.addConstr(\n",
    "            gp.quicksum(x[k][link_to_index[link]] for link in link_out[i]) <= 1\n",
    "        )"
   ]
  },
  {
   "cell_type": "markdown",
   "id": "1889baf8",
   "metadata": {},
   "source": [
    "Make schedule to zero when no path go through:\n",
    "\n",
    "\\begin{aligned}\n",
    "&\\forall f_{k} \\in F, \\forall(i, j) \\in E: \\\\\n",
    "&\\qquad t_{i j k}+o_{i j k} \\leq M * x_{i j k}\n",
    "\\end{aligned}"
   ]
  },
  {
   "cell_type": "code",
   "execution_count": 61,
   "id": "f276cad5",
   "metadata": {},
   "outputs": [],
   "source": [
    "for k in task_attr:\n",
    "    for link_index in index_to_link:\n",
    "        m.addConstr(t[k][link_index] <=  M * x[k][link_index])"
   ]
  },
  {
   "cell_type": "markdown",
   "id": "f5b136ce",
   "metadata": {},
   "source": [
    "scheduling constraints that have to be met along a route from s_k to d_k\n",
    "\n",
    "(packet can only be transmitted after fully procerssing)\n",
    "\n",
    "\\begin{aligned}\n",
    "&\\forall f_{k} \\in F, \\forall i \\in V \\backslash\\left\\{s_{k}, d_{k}\\right\\}: \\\\\n",
    "&\\sum_{j \\in V \\mid(i, j) \\in E}\\left(t_{i j k}+o_{i j k} * c t_{k}\\right)-\\sum_{j \\in V \\mid(j, i) \\in E}\\left(t_{j i k}+o_{j i k} * c t_{k}\\right) \\\\\n",
    "&\\geq m s d_{i} * \\sum_{j \\in V \\mid(i, j) \\in E} x_{i j k}\n",
    "\\end{aligned}"
   ]
  },
  {
   "cell_type": "code",
   "execution_count": 62,
   "id": "29cea564",
   "metadata": {},
   "outputs": [],
   "source": [
    "for k in task_attr:\n",
    "    for i in set(NODE_SET) - set([task_attr[k]['s'], task_attr[k]['d']]):\n",
    "        m.addConstr(\n",
    "            gp.quicksum(t[k][link_to_index[link]] for link in link_out[i])\n",
    "            - \n",
    "            gp.quicksum(t[k][link_to_index[link]] for link in link_in[i])\n",
    "            >= \n",
    "            (net_var[i]['msd'] + task_attr[k]['rsl']) * gp.quicksum(x[k][link_to_index[link]] for link in link_out[i])\n",
    "        )"
   ]
  },
  {
   "cell_type": "markdown",
   "id": "d3eb8413",
   "metadata": {},
   "source": [
    "### 2.2 Resource constraints"
   ]
  },
  {
   "cell_type": "markdown",
   "id": "6689f41f",
   "metadata": {},
   "source": [
    "A schedule is only feasible if the time slots on every link do not overlap.\n",
    "\n",
    "\\begin{gathered}\n",
    "\\forall\\left(f_{k}, f_{l}\\right) \\in F \\times F \\mid l>k, \\forall(i, j) \\in E, \\\\\n",
    "\\forall(u, v) \\in\\left\\{u \\in \\mathbb{N} \\mid u \\leq \\frac{l c m\\left(c t_{k}, c t_{l}\\right)}{c t_{k}}\\right\\} \\times\\left\\{v \\in \\mathbb{N} \\mid v \\leq \\frac{l c m\\left(c t_{k}, c t_{l}\\right)}{c t_{l}}\\right\\}: \\\\\n",
    "\\left(t_{i j l}+v * c t_{l}\\right)-\\left(t_{i j k}+u * c t_{k}\\right) \\\\\n",
    "\\geq r s l_{k}-M *\\left(3-a_{i j k l u v}-x_{i j k}-x_{i j l}\\right) \\\\\n",
    "\\quad\\left(t_{i j k}+u * c t_{k}\\right)-\\left(t_{i j l}+v * c t_{l}\\right) \\\\\n",
    "\\geq r s l_{l}-M *\\left(2+a_{i j k l u v}-x_{i j k}-x_{i j l}\\right)\n",
    "\\end{gathered}"
   ]
  },
  {
   "cell_type": "code",
   "execution_count": 63,
   "id": "83407d53",
   "metadata": {},
   "outputs": [
    {
     "name": "stderr",
     "output_type": "stream",
     "text": [
      "100%|██████████| 30/30 [00:11<00:00,  2.60it/s]\n"
     ]
    }
   ],
   "source": [
    "for link in tqdm(link_to_index):\n",
    "    link_i = link_to_index[link]\n",
    "    for k, l in [(k, l) for k in task_attr for l in task_attr if k < l]:\n",
    "        ctl, ctk = int(task_attr[l]['ct']), int(task_attr[k]['ct'])\n",
    "        t_ijl, t_ijk = t[l][link_i], t[k][link_i]\n",
    "        rsl_k, rsl_l = task_attr[k]['rsl'], task_attr[l]['rsl']\n",
    "        for u, v in [(u, v) \n",
    "                     for u in range(0, int(np.lcm(ctk, ctl) / ctk)) \n",
    "                     for v in range(0, int(np.lcm(ctk, ctl) / ctl))]:\n",
    "            _inte = m.addVar(vtype= GRB.BINARY, name = \"%s%d%d%d%d\"%(link, k, l, u, v))\n",
    "            m.addConstr((t_ijl + v * ctl) - (t_ijk + u * ctk) \n",
    "                        >= rsl_k - M * (3 - _inte - x[k][link_i] - x[l][link_i]))\n",
    "            m.addConstr((t_ijk + u * ctk) - (t_ijl + v * ctl)\n",
    "                       >= rsl_l - M * (2 + _inte - x[k][link_i] - x[l][link_i]))"
   ]
  },
  {
   "cell_type": "markdown",
   "id": "b42e7a55",
   "metadata": {},
   "source": [
    "### 2.3 Application constraints"
   ]
  },
  {
   "cell_type": "markdown",
   "id": "1a7419a1",
   "metadata": {},
   "source": [
    "\\begin{aligned}\n",
    "&\\forall f_{k} \\in F: \\\\\n",
    "&\\sum_{\\substack{j \\in V \\mid \\\\\n",
    "\\left(j, d_{k}\\right) \\in E}}\\left(t_{j d_{k} k}+o_{j d_{k} k} * c t_{k}\\right)-\\sum_{\\substack{j \\in V \\mid \\\\\n",
    "\\left(s_{k}, j\\right) \\in E}}\\left(t_{s_{k} j k}+o_{s_{k} j k} * c t_{k}\\right) \\\\\n",
    "&\\leq m l_{k}-r s l_{k}\n",
    "\\end{aligned}"
   ]
  },
  {
   "cell_type": "code",
   "execution_count": 64,
   "id": "cf44ee6d",
   "metadata": {},
   "outputs": [],
   "source": [
    "for k in task_attr:\n",
    "    m.addConstr(gp.quicksum(t[k][link_to_index[link]]\n",
    "                            for link in link_in[task_attr[k]['d']])\n",
    "               -\n",
    "                gp.quicksum(t[k][link_to_index[link]] \n",
    "                            for link in link_out[task_attr[k]['s']])\n",
    "                <= task_attr[k]['ml'] - task_attr[k]['rsl'] - net_var[i]['msd']\n",
    "                # <= task_attr[k]['ml'] - task_attr[k]['rsl']\n",
    "               )"
   ]
  },
  {
   "cell_type": "markdown",
   "id": "31113fb5",
   "metadata": {},
   "source": [
    "## 3. Objective"
   ]
  },
  {
   "cell_type": "markdown",
   "id": "f736bcec",
   "metadata": {},
   "source": [
    "\\begin{aligned}\n",
    "\\min \\sum_{f_{k} \\in F} &\\left(\\sum_{j \\in V \\mid\\left(j, d_{k}\\right) \\in E}\\left(t_{j d_{k} k}+o_{j d_{k}} k * c t_{k}\\right)\\right.\\\\\n",
    "&\\left.-\\sum_{j \\in V \\mid\\left(s_{k}, j\\right) \\in E}\\left(t_{s_{k} j k}+o_{s_{k} j k} * c t_{k}\\right)\\right)\n",
    "\\end{aligned}"
   ]
  },
  {
   "cell_type": "code",
   "execution_count": 65,
   "id": "11d1ade4",
   "metadata": {},
   "outputs": [],
   "source": [
    "# m.setObjective(\n",
    "#     gp.quicksum(\n",
    "#         gp.quicksum(t[k][link_to_index[link]] \n",
    "#                     for j in range(0, NUM_NODE) for link in link_out[j] if eval(link)[1] == task_attr[k]['d'])\n",
    "#                    -\n",
    "#         gp.quicksum(t[k][link_to_index[link]]\n",
    "#                     for j in range(0, NUM_NODE) for link in link_in[j] if eval(link)[0] == task_attr[k]['s'])\n",
    "#     for k in task_attr\n",
    "#     )\n",
    "#     ,GRB.MINIMIZE)"
   ]
  },
  {
   "cell_type": "code",
   "execution_count": 66,
   "id": "783996b2",
   "metadata": {},
   "outputs": [
    {
     "name": "stdout",
     "output_type": "stream",
     "text": [
      "Set parameter Threads to value 1\n",
      "Gurobi Optimizer version 9.5.2 build v9.5.2rc0 (linux64)\n",
      "Thread count: 8 physical cores, 16 logical processors, using up to 1 threads\n",
      "Optimize a model with 346524 rows, 172710 columns and 1705986 nonzeros\n",
      "Model fingerprint: 0x838a7c47\n",
      "Variable types: 0 continuous, 172710 integer (170640 binary)\n",
      "Coefficient statistics:\n",
      "  Matrix range     [1e+00, 1e+16]\n",
      "  Objective range  [0e+00, 0e+00]\n",
      "  Bounds range     [1e+00, 1e+00]\n",
      "  RHS range        [1e+00, 3e+16]\n",
      "Warning: Model contains large matrix coefficient range\n",
      "Warning: Model contains large rhs\n",
      "         Consider reformulating model or setting NumericFocus parameter\n",
      "         to avoid numerical issues.\n",
      "Presolve removed 316079 rows and 157264 columns (presolve time = 5s) ...\n",
      "Presolve removed 329633 rows and 164097 columns\n",
      "Presolve time: 6.39s\n",
      "Presolved: 16891 rows, 8613 columns, 55744 nonzeros\n",
      "Variable types: 0 continuous, 8613 integer (8159 binary)\n",
      "\n",
      "Root simplex log...\n",
      "\n",
      "Iteration    Objective       Primal Inf.    Dual Inf.      Time\n",
      "       0    0.0000000e+00   5.228159e+04   0.000000e+00      7s\n",
      "    2992    0.0000000e+00   0.000000e+00   0.000000e+00      7s\n",
      "\n",
      "Root relaxation: objective 0.000000e+00, 2992 iterations, 0.03 seconds (0.01 work units)\n",
      "\n",
      "    Nodes    |    Current Node    |     Objective Bounds      |     Work\n",
      " Expl Unexpl |  Obj  Depth IntInf | Incumbent    BestBd   Gap | It/Node Time\n",
      "\n",
      "     0     0    0.00000    0   52          -    0.00000      -     -    7s\n",
      "     0     0    0.00000    0  394          -    0.00000      -     -    7s\n",
      "     0     0    0.00000    0  315          -    0.00000      -     -    7s\n",
      "     0     0    0.00000    0   20          -    0.00000      -     -    7s\n",
      "*    0     0               0       0.0000000    0.00000  0.00%     -    8s\n",
      "\n",
      "Cutting planes:\n",
      "  Cover: 3\n",
      "  Clique: 2\n",
      "  MIR: 74\n",
      "  StrongCG: 7\n",
      "\n",
      "Explored 1 nodes (16058 simplex iterations) in 8.87 seconds (9.87 work units)\n",
      "Thread count was 1 (of 16 available processors)\n",
      "\n",
      "Solution count 1: 0 \n",
      "\n",
      "Optimal solution found (tolerance 1.00e-04)\n",
      "Warning: max constraint violation (4.0000e+00) exceeds tolerance\n",
      "         (possibly due to large matrix coefficients)\n",
      "Best objective 0.000000000000e+00, best bound 0.000000000000e+00, gap 0.0000%\n"
     ]
    }
   ],
   "source": [
    "try: \n",
    "    m.optimize()\n",
    "except gp.GurobiError as E:\n",
    "    print(\"Optimize failed\", E)"
   ]
  },
  {
   "cell_type": "code",
   "execution_count": 67,
   "id": "08bf478e",
   "metadata": {},
   "outputs": [],
   "source": [
    "run_time = m.Runtime"
   ]
  },
  {
   "cell_type": "code",
   "execution_count": 68,
   "id": "0ff01223",
   "metadata": {},
   "outputs": [
    {
     "data": {
      "text/plain": [
       "8.873753070831299"
      ]
     },
     "execution_count": 68,
     "metadata": {},
     "output_type": "execute_result"
    }
   ],
   "source": [
    "run_time"
   ]
  },
  {
   "cell_type": "code",
   "execution_count": 19,
   "id": "ec853ca8-fec5-4faf-8f64-73c4dd90f54e",
   "metadata": {},
   "outputs": [],
   "source": [
    "queue_count = {}\n",
    "queue_log = {}\n",
    "\n",
    "## GCL\n",
    "GCL = []\n",
    "for i in task_attr:\n",
    "    period = task.loc[i, 'period']\n",
    "    for e_i in index_to_link:\n",
    "        e = index_to_link[e_i]\n",
    "        if x[i][e_i].x == 1:\n",
    "            queue_count.setdefault(e, 0)\n",
    "            start = t[i][e_i].x\n",
    "            end = start + task_attr[i]['rsl']\n",
    "            queue = queue_count[e]\n",
    "            for k in range(int(LCM / period)):\n",
    "                GCL.append(\n",
    "                    [eval(e), queue, int(start + k * period) * macrotick, int(end + k * period) * macrotick, LCM * macrotick]\n",
    "                )\n",
    "            queue_log[(i, e)] = queue\n",
    "            queue_count[e] += 1"
   ]
  },
  {
   "cell_type": "code",
   "execution_count": 20,
   "id": "4a5d5e85-d3ca-4448-92cb-8ebfd917bd07",
   "metadata": {},
   "outputs": [],
   "source": [
    "## Offset\n",
    "OFFSET = []\n",
    "for i in task_attr:\n",
    "    start_link = [link for link in link_out[task_attr[i]['s']] if x[i][link_to_index[link]].x == 1][0]\n",
    "    offset = t[i, link_to_index[start_link]].x\n",
    "    OFFSET.append(\n",
    "        [i, 0, (task.loc[i,'period'] - offset) * macrotick]\n",
    "    )    "
   ]
  },
  {
   "cell_type": "code",
   "execution_count": 21,
   "id": "74a029a2-a411-44be-b586-a2957c518ad2",
   "metadata": {},
   "outputs": [],
   "source": [
    "ROUTE = []\n",
    "for i in task_attr:\n",
    "    for k, rr in enumerate(x[i]):\n",
    "        if rr.x == 1:\n",
    "            ROUTE.append(\n",
    "                [i, eval(index_to_link[k])]\n",
    "            )"
   ]
  },
  {
   "cell_type": "code",
   "execution_count": 22,
   "id": "f6ac4bcb-5a30-4945-8280-d257ac6ac868",
   "metadata": {},
   "outputs": [],
   "source": [
    "QUEUE = []\n",
    "for i in task_attr:\n",
    "    for k, rr in enumerate(x[i]):\n",
    "        if rr.x == 1:\n",
    "            e = index_to_link[k]\n",
    "            QUEUE.append([i, 0, eval(e), queue_log[(i, e)]])"
   ]
  },
  {
   "cell_type": "code",
   "execution_count": 23,
   "id": "63da2c8c-320e-493e-a81d-0c992df9737b",
   "metadata": {},
   "outputs": [],
   "source": [
    "GCL = pd.DataFrame(GCL)\n",
    "GCL.columns = [\"link\", \"queue\", \"start\", \"end\", \"cycle\"]\n",
    "GCL.to_csv(\"RTNS2017-%s-%d-%s-GCL.csv\"%(DATA_NAME,NUM_FLOW,TOPO_NAME), index=False)\n",
    "\n",
    "OFFSET = pd.DataFrame(OFFSET)\n",
    "OFFSET.columns = ['id', 'ins_id', 'offset']\n",
    "OFFSET.to_csv(\"RTNS2017-%s-%d-%s-OFFSET.csv\"%(DATA_NAME,NUM_FLOW,TOPO_NAME), index=False)\n",
    "\n",
    "ROUTE = pd.DataFrame(ROUTE)\n",
    "ROUTE.columns = ['id', 'link']\n",
    "ROUTE.to_csv(\"RTNS2017-%s-%d-%s-ROUTE.csv\"%(DATA_NAME,NUM_FLOW,TOPO_NAME), index=False)\n",
    "\n",
    "QUEUE = pd.DataFrame(QUEUE)\n",
    "QUEUE.columns = ['id','ins_id','link','queue']\n",
    "QUEUE.to_csv(\"RTNS2017-%s-%d-%s-QUEUE.csv\"%(DATA_NAME,NUM_FLOW,TOPO_NAME), index=False)"
   ]
  },
  {
   "cell_type": "code",
   "execution_count": 24,
   "id": "970ce19f",
   "metadata": {},
   "outputs": [
    {
     "data": {
      "text/html": [
       "<div>\n",
       "<style scoped>\n",
       "    .dataframe tbody tr th:only-of-type {\n",
       "        vertical-align: middle;\n",
       "    }\n",
       "\n",
       "    .dataframe tbody tr th {\n",
       "        vertical-align: top;\n",
       "    }\n",
       "\n",
       "    .dataframe thead th {\n",
       "        text-align: right;\n",
       "    }\n",
       "</style>\n",
       "<table border=\"1\" class=\"dataframe\">\n",
       "  <thead>\n",
       "    <tr style=\"text-align: right;\">\n",
       "      <th></th>\n",
       "      <th>link</th>\n",
       "      <th>queue</th>\n",
       "      <th>start</th>\n",
       "      <th>end</th>\n",
       "      <th>cycle</th>\n",
       "    </tr>\n",
       "  </thead>\n",
       "  <tbody>\n",
       "    <tr>\n",
       "      <th>0</th>\n",
       "      <td>(3, 11)</td>\n",
       "      <td>0</td>\n",
       "      <td>196000</td>\n",
       "      <td>200000</td>\n",
       "      <td>400000</td>\n",
       "    </tr>\n",
       "    <tr>\n",
       "      <th>1</th>\n",
       "      <td>(3, 11)</td>\n",
       "      <td>0</td>\n",
       "      <td>396000</td>\n",
       "      <td>400000</td>\n",
       "      <td>400000</td>\n",
       "    </tr>\n",
       "    <tr>\n",
       "      <th>2</th>\n",
       "      <td>(4, 3)</td>\n",
       "      <td>0</td>\n",
       "      <td>190000</td>\n",
       "      <td>194000</td>\n",
       "      <td>400000</td>\n",
       "    </tr>\n",
       "    <tr>\n",
       "      <th>3</th>\n",
       "      <td>(4, 3)</td>\n",
       "      <td>0</td>\n",
       "      <td>390000</td>\n",
       "      <td>394000</td>\n",
       "      <td>400000</td>\n",
       "    </tr>\n",
       "    <tr>\n",
       "      <th>4</th>\n",
       "      <td>(5, 4)</td>\n",
       "      <td>0</td>\n",
       "      <td>184000</td>\n",
       "      <td>188000</td>\n",
       "      <td>400000</td>\n",
       "    </tr>\n",
       "    <tr>\n",
       "      <th>...</th>\n",
       "      <td>...</td>\n",
       "      <td>...</td>\n",
       "      <td>...</td>\n",
       "      <td>...</td>\n",
       "      <td>...</td>\n",
       "    </tr>\n",
       "    <tr>\n",
       "      <th>530</th>\n",
       "      <td>(6, 7)</td>\n",
       "      <td>4</td>\n",
       "      <td>268400</td>\n",
       "      <td>304400</td>\n",
       "      <td>400000</td>\n",
       "    </tr>\n",
       "    <tr>\n",
       "      <th>531</th>\n",
       "      <td>(7, 0)</td>\n",
       "      <td>9</td>\n",
       "      <td>311200</td>\n",
       "      <td>347200</td>\n",
       "      <td>400000</td>\n",
       "    </tr>\n",
       "    <tr>\n",
       "      <th>532</th>\n",
       "      <td>(0, 7)</td>\n",
       "      <td>8</td>\n",
       "      <td>66000</td>\n",
       "      <td>74000</td>\n",
       "      <td>400000</td>\n",
       "    </tr>\n",
       "    <tr>\n",
       "      <th>533</th>\n",
       "      <td>(8, 0)</td>\n",
       "      <td>6</td>\n",
       "      <td>38800</td>\n",
       "      <td>46800</td>\n",
       "      <td>400000</td>\n",
       "    </tr>\n",
       "    <tr>\n",
       "      <th>534</th>\n",
       "      <td>(7, 15)</td>\n",
       "      <td>4</td>\n",
       "      <td>76000</td>\n",
       "      <td>84000</td>\n",
       "      <td>400000</td>\n",
       "    </tr>\n",
       "  </tbody>\n",
       "</table>\n",
       "<p>535 rows × 5 columns</p>\n",
       "</div>"
      ],
      "text/plain": [
       "        link  queue   start     end   cycle\n",
       "0    (3, 11)      0  196000  200000  400000\n",
       "1    (3, 11)      0  396000  400000  400000\n",
       "2     (4, 3)      0  190000  194000  400000\n",
       "3     (4, 3)      0  390000  394000  400000\n",
       "4     (5, 4)      0  184000  188000  400000\n",
       "..       ...    ...     ...     ...     ...\n",
       "530   (6, 7)      4  268400  304400  400000\n",
       "531   (7, 0)      9  311200  347200  400000\n",
       "532   (0, 7)      8   66000   74000  400000\n",
       "533   (8, 0)      6   38800   46800  400000\n",
       "534  (7, 15)      4   76000   84000  400000\n",
       "\n",
       "[535 rows x 5 columns]"
      ]
     },
     "execution_count": 24,
     "metadata": {},
     "output_type": "execute_result"
    }
   ],
   "source": [
    "GCL"
   ]
  }
 ],
 "metadata": {
  "kernelspec": {
   "display_name": "Python 3",
   "language": "python",
   "name": "python3"
  },
  "language_info": {
   "codemirror_mode": {
    "name": "ipython",
    "version": 3
   },
   "file_extension": ".py",
   "mimetype": "text/x-python",
   "name": "python",
   "nbconvert_exporter": "python",
   "pygments_lexer": "ipython3",
   "version": "3.8.10"
  },
  "vscode": {
   "interpreter": {
    "hash": "767d51c1340bd893661ea55ea3124f6de3c7a262a8b4abca0554b478b1e2ff90"
   }
  }
 },
 "nbformat": 4,
 "nbformat_minor": 5
}

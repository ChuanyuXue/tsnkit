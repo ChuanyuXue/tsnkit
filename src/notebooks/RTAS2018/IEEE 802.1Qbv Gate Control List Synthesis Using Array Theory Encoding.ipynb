{
 "cells": [
  {
   "cell_type": "code",
   "execution_count": 55,
   "id": "cee2d96f",
   "metadata": {},
   "outputs": [],
   "source": [
    "import pandas as pd\n",
    "import numpy as np\n",
    "import z3\n",
    "from tqdm import tqdm\n",
    "z3.set_option(\"parallel.enable\", True)"
   ]
  },
  {
   "cell_type": "code",
   "execution_count": 56,
   "id": "03edb682",
   "metadata": {},
   "outputs": [],
   "source": [
    "macrotick = 100\n",
    "sync_error = 0\n",
    "time_out = 4 * 60 * 60\n",
    "\n",
    "NUM_FLOW = 10\n",
    "DATA_NAME = \"harmonic12\"\n",
    "TOPO_NAME = \"1\"\n",
    "\n",
    "task = pd.read_csv(\"../../dac_data/%s.csv\"%DATA_NAME)[:NUM_FLOW]\n",
    "network = pd.read_csv(\"../../dac_data/%s_topology.csv\"%TOPO_NAME)\n",
    "for col in ['size','period','deadline','jitter']:\n",
    "    task[col] = np.ceil(task[col] / macrotick).astype(int)\n",
    "for col in ['t_proc','t_prop']:\n",
    "    network[col] = np.ceil(network[col] / macrotick).astype(int)\n",
    "    \n",
    "nodes = list(network['link'].apply(lambda x:eval(x)[0])) + \\\n",
    "    list(network['link'].apply(lambda x:eval(x)[1]))\n",
    "NODE_SET = list(set(nodes))\n",
    "ES_set = [x for x in NODE_SET if nodes.count(x) == 2]\n",
    "SW_set = list(set(NODE_SET) - set(ES_set))\n",
    "LCM = int(np.lcm.reduce(task['period']))\n",
    "net = np.zeros(shape = (max(NODE_SET) + 1, max(NODE_SET) + 1))"
   ]
  },
  {
   "cell_type": "code",
   "execution_count": 57,
   "id": "8836d9a6",
   "metadata": {},
   "outputs": [],
   "source": [
    "# '''\n",
    "# Fake a dataset that only 2 disjoint traffic with 100ms and 50us\n",
    "\n",
    "# '''\n",
    "\n",
    "# # task['period'] = task['period'].apply(lambda x: 10_000_000 if x >= 5_000_000 else 5_000_000)\n",
    "\n",
    "# task.loc[0] = [8, 15, 100, 100_000_000, (800 + 1000) * 3]\n",
    "# task.loc[1] = [11, 12, 100, 50_000, (800 + 1000) * 3]\n",
    "# task = task[:2]"
   ]
  },
  {
   "cell_type": "markdown",
   "id": "db9a3f96",
   "metadata": {},
   "source": [
    "## 1. Model"
   ]
  },
  {
   "cell_type": "code",
   "execution_count": 58,
   "id": "2b75d41a",
   "metadata": {},
   "outputs": [],
   "source": [
    "NUM_WINDOW = 5"
   ]
  },
  {
   "cell_type": "code",
   "execution_count": 59,
   "id": "f79eb181",
   "metadata": {},
   "outputs": [],
   "source": [
    "s = z3.Solver()\n",
    "s.set(\"timeout\", time_out*1000)\n",
    "# s.set(\"timeout\", 4 * 1000) # 4s"
   ]
  },
  {
   "cell_type": "markdown",
   "id": "f84d2feb",
   "metadata": {},
   "source": [
    "Network model"
   ]
  },
  {
   "cell_type": "code",
   "execution_count": 60,
   "id": "b5c3f528",
   "metadata": {},
   "outputs": [],
   "source": [
    "net_var = {}"
   ]
  },
  {
   "cell_type": "code",
   "execution_count": 61,
   "id": "4ef1ecab",
   "metadata": {},
   "outputs": [],
   "source": [
    "for _, row in network.iterrows():\n",
    "    net_var.setdefault(row['link'], {})\n",
    "    net_var[row['link']]['W'] = NUM_WINDOW\n",
    "    net_var[row['link']]['N'] = row['q_num']\n",
    "    net_var[row['link']]['s'] = row['rate']\n",
    "    net_var[row['link']]['tproc'] = row['t_proc']\n",
    "    net_var[row['link']]['phi'] = z3.Array(str(row['link']) + '_' + 'phi', z3.IntSort(),z3.IntSort())\n",
    "    net_var[row['link']]['tau'] = z3.Array(str(row['link']) + '_' + 'tau', z3.IntSort(),z3.IntSort())\n",
    "    net_var[row['link']]['k'] = z3.Array(str(row['link']) + '_' + 'k', z3.IntSort(),z3.IntSort())\n",
    "    net[eval(row['link'])[0], eval(row['link'])[1]] = 1"
   ]
  },
  {
   "cell_type": "markdown",
   "id": "630afa14",
   "metadata": {},
   "source": [
    "Task model"
   ]
  },
  {
   "cell_type": "code",
   "execution_count": 62,
   "id": "12be8a86",
   "metadata": {},
   "outputs": [],
   "source": [
    "task_var = {}\n",
    "task_attr = {}"
   ]
  },
  {
   "cell_type": "code",
   "execution_count": 63,
   "id": "53920860",
   "metadata": {},
   "outputs": [],
   "source": [
    "## Shortest path\n",
    "def bfs_paths(graph, start, goal):\n",
    "    queue = [(start, [start])]\n",
    "    while queue:\n",
    "        (vertex, path) = queue.pop(0)\n",
    "        for _next in set(np.reshape(np.argwhere(graph[vertex] > 0),  -1)) - set(path):\n",
    "            if _next == goal:\n",
    "                yield path + [_next]\n",
    "            else:\n",
    "                queue.append((_next, path + [_next]))"
   ]
  },
  {
   "cell_type": "code",
   "execution_count": 64,
   "id": "b31b5b04",
   "metadata": {},
   "outputs": [],
   "source": [
    "for i, row in task.iterrows():\n",
    "    task.loc[i,'route'] = str(next(bfs_paths(net, int(row['src']), int(eval(row['dst'])[0]))))\n",
    "    task_var.setdefault(i, {})\n",
    "    task_attr.setdefault(i, {})\n",
    "    route = eval(task.loc[i, 'route'])\n",
    "    \n",
    "    task_attr[i]['C'] = int(row['size'])\n",
    "    task_attr[i]['T'] = int(row['period'])\n",
    "    task_attr[i]['L'] = int(row['deadline'])\n",
    "#     task_attr[i]['J'] = 1000000000 \n",
    "    \n",
    "    for _i, a in enumerate(route[:-1]):\n",
    "        link = str((a, route[_i + 1]))\n",
    "        task_var[i].setdefault(link, {})\n",
    "        task_var[i][link] = []\n",
    "        for j in range(int(LCM / task_attr[i]['T'])):\n",
    "            task_var[i][link].append(z3.Int('w_' +  str(i) + '_' + str(link) + '_' + str(j)))\n",
    "        \n",
    "        task_attr[i][link] = {}\n",
    "        task_attr[i][link]['l'] = int(task_attr[i]['C']) * 8\n",
    "        \n",
    "        \n",
    "#         task_var[i][link]['phi'] = []\n",
    "#         task_var[i][link]['p'] =  z3.Int('p_' +  str(i) + '_' + str(link))\n",
    "#         task_var[i][link]['T'] = np.ceil(row['period'] / net_var[str(link)]['mt'])\n",
    "#         task_var[i][link]['L'] = np.ceil((row['size'] * 8 / net_var[str(link)]['s']) / net_var[str(link)]['mt'])\n",
    "#         for j in range(0, int(LCM / row['period'])):\n",
    "#              task_var[i][link]['phi'].append(z3.Int('phi_' +  str(i) + '_' + str(link) + '_' + str(j)))"
   ]
  },
  {
   "cell_type": "markdown",
   "id": "38a8dd52",
   "metadata": {},
   "source": [
    "## 2. Constraints"
   ]
  },
  {
   "cell_type": "code",
   "execution_count": 65,
   "id": "b3d7f60d",
   "metadata": {},
   "outputs": [],
   "source": [
    "for link in net_var:\n",
    "    for k in range(net_var[link]['W']):\n",
    "         net_var[link]['tau'] = z3.Store(net_var[link]['tau'], k, net_var[link]['phi'][k])\n",
    "for i in task_var:\n",
    "    for link in task_var[i]:\n",
    "        for j in task_var[i][link]:\n",
    "            net_var[link]['tau'] = z3.Store(net_var[link]['tau'], j, net_var[link]['tau'][j] + task_attr[i][link]['l'])\n",
    "# for link in net_var:\n",
    "#     for k in range(net_var[link]['W']):\n",
    "#          net_var[link]['tau'] = z3.Store(net_var[link]['tau'], k, net_var[link]['phi'][k])\n",
    "# for i in task_var:\n",
    "#     for link in task_var[i]:\n",
    "#         for j in task_var[i][link]:\n",
    "#             net_var[link]['tau'] = z3.Store(net_var[link]['tau'], j, net_var[link]['tau'][j] + task_attr[i][link]['l'])"
   ]
  },
  {
   "cell_type": "markdown",
   "id": "4c0ff0d9",
   "metadata": {},
   "source": [
    "### 2.1 General constraints"
   ]
  },
  {
   "cell_type": "markdown",
   "id": "6d25802a",
   "metadata": {},
   "source": [
    "Well-deﬁned Windows Constraints [Not used!]\n",
    "\n",
    "\\begin{aligned}\n",
    "&\\forall(a, b) \\in \\mathcal{E}: \\forall k \\in\\left\\{1, \\ldots, \\mathcal{W}^{(a, b)}\\right\\}: \\\\\n",
    "&\\left(\\phi^{(a, b)}[k] \\geq 0\\right) \\wedge\\left(\\tau^{(a, b)}[k]<T_{s}\\right)\n",
    "\\end{aligned}\n",
    "\n",
    "\\begin{aligned}\n",
    "&\\forall(a, b) \\in \\mathcal{E}: \\\\\n",
    "&\\left(\\phi^{(a, b)}[1] \\geq 0\\right) \\wedge\\left(\\tau^{(a, b)}\\left[\\mathcal{W}^{(a, b)}\\right]<T_{s}\\right)\n",
    "\\end{aligned}"
   ]
  },
  {
   "cell_type": "code",
   "execution_count": 66,
   "id": "55f417bf",
   "metadata": {},
   "outputs": [],
   "source": [
    "s.add(net_var[link]['phi'][0] >= 0,\n",
    "        net_var[link]['tau'][-1] < LCM)"
   ]
  },
  {
   "cell_type": "code",
   "execution_count": 67,
   "id": "f5d60261",
   "metadata": {},
   "outputs": [],
   "source": [
    "# for link in net_var:\n",
    "#     for k in range(net_var[link]['W']):\n",
    "#         s.add(net_var[link]['phi'][k] >= 0)\n",
    "#         s.add(net_var[link]['tau'][k] < LCM)\n",
    "\n",
    "for link in net_var:\n",
    "    s.add(net_var[link]['phi'][0] >= 0,\n",
    "        net_var[link]['tau'][-1] < LCM)"
   ]
  },
  {
   "cell_type": "markdown",
   "id": "ab42a75f",
   "metadata": {},
   "source": [
    "$$\\forall(a, b) \\in \\mathcal{E}: \\forall k \\in\\left\\{1, \\ldots, \\mathcal{W}^{(a, b)}\\right\\}: 0 \\leq \\kappa^{(a, b)}[k]<\\aleph_{t t}$$"
   ]
  },
  {
   "cell_type": "code",
   "execution_count": 68,
   "id": "b7aed47a",
   "metadata": {},
   "outputs": [],
   "source": [
    "for link in net_var:\n",
    "    for k in range(net_var[link]['W']):\n",
    "        s.add(net_var[link]['k'][k] >= 0,\n",
    "        net_var[link]['k'][k] < net_var[link]['N'])\n",
    "#s.check()"
   ]
  },
  {
   "cell_type": "markdown",
   "id": "ec82ce60",
   "metadata": {},
   "source": [
    "Stream Instance Constraints"
   ]
  },
  {
   "cell_type": "markdown",
   "id": "2a606737",
   "metadata": {},
   "source": [
    "\\begin{aligned}\n",
    "&\\forall s_{i} \\in \\mathcal{S}: \\forall(a, b) \\in \\mathcal{E}: \\forall j \\in\\left[0, \\frac{T_{s}}{T_{i}}-1\\right]: \\\\\n",
    "&\\left(\\phi^{(a, b)}\\left[\\omega_{i, j}^{(a, b)}\\right] \\geq j \\times T_{i}\\right) \\wedge \\\\\n",
    "&\\left(\\tau^{(a, b)}\\left[\\omega_{i, j}^{(a, b)}\\right]<(j+1) \\times T_{i}\\right)\n",
    "\\end{aligned}"
   ]
  },
  {
   "cell_type": "code",
   "execution_count": 69,
   "id": "1f573d97",
   "metadata": {},
   "outputs": [],
   "source": [
    "for i in task_var:\n",
    "    for link in task_var[i]:\n",
    "        for j in range(int(LCM / task_attr[i]['T'])):\n",
    "            s.add(net_var[link]['phi'][task_var[i][link][j]] >= j * task_attr[i]['T'],\n",
    "            net_var[link]['tau'][task_var[i][link][j]] < (j+1) * task_attr[i]['T'])\n",
    "#s.check()"
   ]
  },
  {
   "cell_type": "markdown",
   "id": "552cdcbb",
   "metadata": {},
   "source": [
    "Zero jitter\n",
    "\n",
    "\\begin{aligned}\n",
    "&\\forall s_{i} \\in \\mathcal{S}: \\forall(a, b) \\in \\mathcal{E}: \\forall j \\in\\left[0, \\frac{T_{s}}{T_{i}}-2\\right]: \\\\\n",
    "&\\left(\\phi^{(a, b)}\\left[\\omega_{i, j+1}^{(a, b)}\\right]-\\phi^{(a, b)}\\left[\\omega_{i, j}^{(a, b)}\\right]=T_{i}\\right) \\\\\n",
    "&\\forall s_{i} \\in \\mathcal{S}: \\forall(a, b) \\in \\mathcal{E}: \\forall j \\in\\left[0, \\frac{T_{s}}{T_{i}}-1\\right]: \\\\\n",
    "&\\left(\\tau^{(a, b)}\\left[\\omega_{i, j}^{(a, b)}\\right]-\\phi^{(a, b)}\\left[\\omega_{i, j}^{(a, b)}\\right]=l_{i}^{(a, b)}\\right)\n",
    "\\end{aligned}"
   ]
  },
  {
   "cell_type": "code",
   "execution_count": 70,
   "id": "478cb6db",
   "metadata": {},
   "outputs": [],
   "source": [
    "# for i in task_var:\n",
    "#     for link in task_var[i]:\n",
    "#         for j in range(int(LCM / task_attr[i]['T']) - 1):\n",
    "#             s.add(\n",
    "#                 net_var[link]['phi'][task_var[i][link][j + 1]] -  \n",
    "#                 net_var[link]['phi'][task_var[i][link][j]]\n",
    "#                 == task_attr[i]['T']\n",
    "#             )\n",
    "#         for j in range(int(LCM / task_attr[i]['T'])):\n",
    "#             s.add(\n",
    "#                 net_var[link]['tau'][task_var[i][link][j]] -  \n",
    "#                 net_var[link]['phi'][task_var[i][link][j]]\n",
    "#                 == task_attr[i][link]['l']\n",
    "#             )\n",
    "            "
   ]
  },
  {
   "cell_type": "markdown",
   "id": "a5907189",
   "metadata": {},
   "source": [
    "Ordered Windows Constraint [Not used!]\n",
    "\n",
    "\\begin{aligned}\n",
    "&\\forall(a, b) \\in \\mathcal{E}: \\forall i, j \\in\\left\\{1, \\ldots, \\mathcal{W}^{(a, b)}\\right\\}, i \\neq j: \\\\\n",
    "&\\left(\\tau^{(a, b)}[i] \\leq \\phi^{(a, b)}[j]\\right) \\vee\\left(\\tau^{(a, b)}[j] \\leq \\phi^{(a, b)}[i]\\right)\n",
    "\\end{aligned}\n",
    "\n",
    "Less computional exausted one:\n",
    "\n",
    "\\begin{aligned}\n",
    "&\\forall(a, b) \\in \\mathcal{E}: \\forall i \\in\\left\\{1, \\ldots, \\mathcal{W}^{(a, b)}-1\\right\\}: \\\\\n",
    "&\\tau^{(a, b)}[i] \\leq \\phi^{(a, b)}[i+1]\n",
    "\\end{aligned}"
   ]
  },
  {
   "cell_type": "code",
   "execution_count": 71,
   "id": "86067a0e",
   "metadata": {},
   "outputs": [],
   "source": [
    "for link in net_var:\n",
    "    for i in range(net_var[link]['W'] - 1):\n",
    "        s.add(net_var[link]['tau'][i] < net_var[link]['phi'][i + 1])\n",
    "#s.check()"
   ]
  },
  {
   "cell_type": "markdown",
   "id": "f550751d",
   "metadata": {},
   "source": [
    "Frame-to-Window Assignment Constraint\n",
    "\n",
    "\\begin{aligned}\n",
    "&\\forall(a, b) \\in \\mathcal{E}: \\forall f_{i, j}^{(a, b)} \\in \\mathcal{F}^{(a, b)}: \\\\\n",
    "&\\left(\\omega_{i, j}^{(a, b)} \\geq 1\\right) \\wedge\\left(\\omega_{i, j}^{(a, b)} \\leq \\mathcal{W}^{(a, b)}\\right)\n",
    "\\end{aligned}"
   ]
  },
  {
   "cell_type": "code",
   "execution_count": 72,
   "id": "29833b6b",
   "metadata": {},
   "outputs": [],
   "source": [
    "for i in task_var:\n",
    "    for link in task_var[i]:\n",
    "        for j in task_var[i][link]:\n",
    "            s.add(0 <= j, j < net_var[link]['W'])"
   ]
  },
  {
   "cell_type": "markdown",
   "id": "fdd140be",
   "metadata": {},
   "source": [
    "Window Size Constraints\n",
    "\n",
    "\\begin{aligned}\n",
    "&\\forall(a, b) \\in \\mathcal{E}: \\forall k \\in\\left\\{1, \\ldots, \\mathcal{W}^{(a, b)}\\right\\}: \\\\\n",
    "&\\tau^{(a, b)}\\left\\langle k \\leftarrow \\phi^{(a, b)}[k]\\right\\rangle\n",
    "\\end{aligned}"
   ]
  },
  {
   "cell_type": "code",
   "execution_count": 73,
   "id": "9d9260a0",
   "metadata": {},
   "outputs": [],
   "source": [
    "# for link in net_var:\n",
    "#     for k in range(net_var[link]['W']):\n",
    "#          s.add(net_var[link]['tau'] == z3.Store(net_var[link]['tau'], k, net_var[link]['phi'][k]))\n",
    "\n",
    "# for link in net_var:\n",
    "#     for k in range(net_var[link]['W']):\n",
    "#         s.add(net_var[link]['phi'][k] == z3.Store(net_var[link]['tau'], k, net_var[link]['phi'][k])[k])\n",
    "# s.check()"
   ]
  },
  {
   "cell_type": "markdown",
   "id": "89f3e02f",
   "metadata": {},
   "source": [
    "\\begin{aligned}\n",
    "&\\forall(a, b) \\in \\mathcal{E}: \\forall f_{i, j}^{(a, b)} \\in \\mathcal{F}^{(a, b)}: \\\\\n",
    "&\\tau^{(a, b)}\\left\\langle\\omega_{i, j}^{(a, b)} \\leftarrow \\tau^{(a, b)}\\left[\\omega_{i, j}^{(a, b)}\\right]+l_{i}^{(a, b)}\\right\\rangle\n",
    "\\end{aligned}"
   ]
  },
  {
   "cell_type": "code",
   "execution_count": 74,
   "id": "1f1af104",
   "metadata": {},
   "outputs": [],
   "source": [
    "# for i in task_var:\n",
    "#     for link in task_var[i]:\n",
    "#         for j in task_var[i][link]:\n",
    "#             s.add(net_var[link]['tau'] == z3.Store(net_var[link]['tau'], j, net_var[link]['tau'][j] + task_attr[i][link]['l']))\n",
    "# s.check()\n",
    "\n",
    "# for i in task_var:\n",
    "#     for link in task_var[i]:\n",
    "#         for j in task_var[i][link]:\n",
    "#             s.add(net_var[link]['tau'][j] + task_attr[i][link]['l'] == z3.Store(net_var[link]['tau'], j, net_var[link]['tau'][j] + task_attr[i][link]['l'])[j])\n",
    "# # s.check()"
   ]
  },
  {
   "cell_type": "markdown",
   "id": "76cda79f",
   "metadata": {},
   "source": [
    "Stream Constraint:"
   ]
  },
  {
   "cell_type": "markdown",
   "id": "b5459709",
   "metadata": {},
   "source": [
    "\\begin{aligned}\n",
    "&\\forall s_{i} \\in \\mathcal{S}: \\forall\\left(v_{k}, v_{k+1}\\right) \\in \\mathcal{R}_{i}, k \\in\\{1, \\ldots, n-2\\}: \\\\\n",
    "&\\forall f_{i, j}^{\\left(v_{k}, v_{k+1}\\right)} \\in \\mathcal{F}_{i}^{\\left(v_{k}, v_{k+1}\\right)}: \\forall f_{i, j}^{\\left(v_{k+1}, v_{k+2}\\right)} \\in \\mathcal{F}_{i}^{\\left(v_{k+1}, v_{k+2}\\right)}: \\\\\n",
    "&\\tau^{\\left(v_{k}, v_{k+1}\\right)}\\left[\\omega_{i, j}^{\\left(v_{k}, v_{k+1}\\right)}\\right]+\\delta \\leq \\phi^{\\left(v_{k+1}, v_{k+2}\\right)}\\left[\\omega_{i, j}^{\\left(v_{k+1}, v_{k+2}\\right)}\\right]\n",
    "\\end{aligned}"
   ]
  },
  {
   "cell_type": "code",
   "execution_count": 75,
   "id": "9f9e98fa",
   "metadata": {},
   "outputs": [],
   "source": [
    "for i in task_var:\n",
    "    hops = list(task_var[i].keys())\n",
    "    for k, link in enumerate(hops[:-1]):\n",
    "        for j in range(int(LCM / task_attr[i]['T'])):\n",
    "            s.add(net_var[link]['tau'][task_var[i][link][j]] + net_var[link]['tproc'] + sync_error <=\n",
    "                  net_var[hops[k + 1]]['phi'][task_var[i][hops[k + 1]][j]])"
   ]
  },
  {
   "cell_type": "markdown",
   "id": "dd9e4d5f",
   "metadata": {},
   "source": [
    "### 2.2 IEEE 802.1 Qbv constraints"
   ]
  },
  {
   "cell_type": "markdown",
   "id": "dabf0890",
   "metadata": {},
   "source": [
    "Stream Isolation Constraint\n",
    "\n",
    "\\begin{aligned}\n",
    "&\\forall k \\in\\left[0, \\frac{T_{s}}{T_{i}}-1\\right]: \\forall l \\in\\left[0, \\frac{T_{s}}{T_{j}}-1\\right]: \\\\\n",
    "&\\left(\\left(\\tau^{(a, b)}\\left[\\omega_{i, k}^{(a, b)}\\right]+\\delta \\leq \\phi^{(y, a)}\\left[\\omega_{j, l}^{(y, a)}\\right]\\right) \\vee\\right. \\\\\n",
    "&\\left.\\left(\\tau^{(a, b)}\\left[\\omega_{j, l}^{(a, b)}\\right]+\\delta \\leq \\phi^{(x, a)}\\left[\\omega_{i, k}^{(x, a)}\\right]\\right)\\right) \\vee \\\\\n",
    "&\\left(\\kappa^{(a, b)}\\left[\\omega_{i, k}^{(a, b)}\\right] \\neq \\kappa^{(a, b)}\\left[\\omega_{j, l}^{(a, b)}\\right]\\right) \\vee\\left(\\omega_{i, k}^{(a, b)}=\\omega_{j, l}^{(a, b)}\\right)\n",
    "\\end{aligned}"
   ]
  },
  {
   "cell_type": "code",
   "execution_count": 76,
   "id": "511c71a2",
   "metadata": {},
   "outputs": [
    {
     "name": "stderr",
     "output_type": "stream",
     "text": [
      "100%|██████████| 45/45 [00:00<00:00, 1012.27it/s]\n"
     ]
    }
   ],
   "source": [
    "for i, j in tqdm([(i,j) for i in task_var for j in task_var if i < j]):\n",
    "    path_i = list(task_var[i].keys())\n",
    "    path_j = list(task_var[j].keys())\n",
    "    for x_a, y_a, a_b in [(path_i[_x - 1], path_j[_y - 1], i_a_b) \n",
    "                        for _x, i_a_b in enumerate(path_i) \n",
    "                        for _y, j_a_b in enumerate(path_j) \n",
    "                        if i_a_b == j_a_b]:\n",
    "        for k, l in [(k,l) for k in range(int(LCM / task_attr[i]['T'])) for l in range(int(LCM / task_attr[j]['T']))]:\n",
    "            s.add(\n",
    "                z3.Or(\n",
    "                net_var[a_b]['tau'][task_var[i][a_b][k]] + sync_error <= net_var[y_a]['phi'][task_var[j][y_a][l]],\n",
    "                net_var[a_b]['tau'][task_var[j][a_b][l]] + sync_error <= net_var[x_a]['phi'][task_var[i][x_a][k]],\n",
    "                net_var[a_b]['k'][task_var[i][a_b][k]] != net_var[a_b]['k'][task_var[j][a_b][l]],\n",
    "                task_var[i][a_b][k] == task_var[j][a_b][l]\n",
    "                )\n",
    "            )\n",
    "#s.check()"
   ]
  },
  {
   "cell_type": "markdown",
   "id": "c621ebaa",
   "metadata": {},
   "source": [
    "Stream End-to-End Latency Constraint\n",
    "\n",
    "\\begin{aligned}\n",
    "&\\forall j \\in\\left\\{0, \\cdots, \\frac{T_{s}}{T_{i}}-1\\right\\}: \\\\\n",
    "&\\forall f_{i, j}^{\\left(v_{1}, v_{2}\\right)} \\in \\mathcal{F}_{i}^{\\left(v_{1}, v_{2}\\right)}, f_{i, j}^{\\left(v_{n-1}, v_{n}\\right)} \\in \\mathcal{F}_{i}^{\\left(v_{n-1}, v_{n}\\right)}: \\\\\n",
    "&\\tau^{\\left(v_{n-1}, v_{n}\\right)}\\left[\\omega_{i, j}^{\\left(v_{n-1}, v_{n}\\right)}\\right]-\\phi^{\\left(v_{1}, v_{2}\\right)}\\left[\\omega_{i, j}^{\\left(v_{1}, v_{2}\\right)}\\right] \\leq L_{i}-\\delta\n",
    "\\end{aligned}"
   ]
  },
  {
   "cell_type": "code",
   "execution_count": 77,
   "id": "9ebedffe",
   "metadata": {},
   "outputs": [],
   "source": [
    "for i in task_var:\n",
    "    _hop_s = list(task_var[i].keys())[0]\n",
    "    _hop_e = list(task_var[i].keys())[-1]\n",
    "    for j in range(int(LCM / task_attr[i]['T'])):\n",
    "        s.add(\n",
    "            net_var[_hop_e]['tau'][task_var[i][_hop_e][j]] - net_var[_hop_s]['phi'][task_var[i][_hop_s][j]] \n",
    "            <= task_attr[i]['L'] - (net_var[link]['tproc'] + sync_error)\n",
    "        )\n",
    "#s.check()"
   ]
  },
  {
   "cell_type": "markdown",
   "id": "1881a2e9",
   "metadata": {},
   "source": [
    "Stream jitter constraint\n",
    "\n",
    "\n",
    "Input jitter \n",
    "\n",
    "\\begin{aligned}\n",
    "&\\forall j, k \\in\\left\\{0, \\cdots, \\frac{T_{s}}{T_{i}}-1\\right\\}: \\\\\n",
    "&\\forall f_{i, j}^{\\left(v_{1}, v_{2}\\right)}, f_{i, k}^{\\left(v_{1}, v_{2}\\right)} \\in \\mathcal{F}_{i}^{\\left(v_{1}, v_{2}\\right)}: \\\\\n",
    "&\\left(\\tau^{\\left(v_{1}, v_{2}\\right)}\\left[\\omega_{i, j}^{\\left(v_{1}, v_{2}\\right)}\\right]-j \\times T_{i}\\right)- \\\\\n",
    "&\\left(\\phi^{\\left(v_{1}, v_{2}\\right)}\\left[\\omega_{i, k}^{\\left(v_{1}, v_{2}\\right)}\\right]-k \\times T_{i}\\right)-l_{i}^{\\left(v_{1}, v_{2}\\right)} \\leq J_{i}\n",
    "\\end{aligned}"
   ]
  },
  {
   "cell_type": "code",
   "execution_count": 78,
   "id": "c50e7afc",
   "metadata": {},
   "outputs": [],
   "source": [
    "# for i in tqdm(task_var):\n",
    "#     _hop_s = list(task_var[i].keys())[0]\n",
    "#     _hop_e = list(task_var[i].keys())[-1]\n",
    "#     for j, k in [(j,k) for j in range(int(LCM / task_attr[i]['T'])) for k in range(int(LCM / task_attr[i]['T'])) if j > i]:\n",
    "#         s.add(\n",
    "#         (net_var[_hop_s]['tau'][task_var[i][_hop_s][j]] - j * task_attr[i]['T']) - \n",
    "#             (net_var[_hop_s]['phi'][task_var[i][_hop_s][k]] - k * task_attr[i]['T']) - \n",
    "#             task_attr[i][_hop_s]['l'] <= task_attr[i]['J']\n",
    "#         )\n",
    "# # s.check()"
   ]
  },
  {
   "cell_type": "markdown",
   "id": "98c9d1f5",
   "metadata": {},
   "source": [
    "Output jitter\n",
    "\n",
    "\\begin{aligned}\n",
    "&\\forall j, k \\in\\left\\{0, \\cdots, \\frac{T_{s}}{T_{i}}-1\\right\\}: \\\\\n",
    "&\\forall f_{i, j}^{\\left(v_{n-1}, v_{n}\\right)}, f_{i, k}^{\\left(v_{n-1}, v_{n}\\right)} \\in \\mathcal{F}_{i}^{\\left(v_{n-1}, v_{n}\\right)}: \\\\\n",
    "&\\left(\\tau^{\\left(v_{n-1}, v_{n}\\right)}\\left[\\omega_{i, j}^{\\left(v_{n-1}, v_{n}\\right)}\\right]-j \\times T_{i}\\right)- \\\\\n",
    "&\\left(\\phi^{\\left(v_{n-1}, v_{n}\\right)}\\left[\\omega_{i, k}^{\\left(v_{n-1}, v_{n}\\right)}\\right]-k \\times T_{i}\\right)-l_{i}^{\\left(v_{n-1}, v_{n}\\right)} \\leq J_{i}\n",
    "\\end{aligned}"
   ]
  },
  {
   "cell_type": "code",
   "execution_count": 79,
   "id": "c7192f9b",
   "metadata": {},
   "outputs": [],
   "source": [
    "# for i in tqdm(task_var):\n",
    "#     _hop_s = list(task_var[i].keys())[0]\n",
    "#     _hop_e = list(task_var[i].keys())[-1]\n",
    "#     for j, k in [(j,k) for j in range(int(LCM / task_attr[i]['T'])) for k in range(int(LCM / task_attr[i]['T'])) if j > i]:\n",
    "#         s.add(\n",
    "#         (net_var[_hop_e]['tau'][task_var[i][_hop_e][j]] - j * task_attr[i]['T']) - \n",
    "#             (net_var[_hop_e]['phi'][task_var[i][_hop_e][k]] - k * task_attr[i]['T']) - \n",
    "#             task_attr[i][_hop_e]['l'] <= task_attr[i]['J']\n",
    "#         )\n",
    "# # s.check()"
   ]
  },
  {
   "cell_type": "code",
   "execution_count": 80,
   "id": "2575438f",
   "metadata": {},
   "outputs": [
    {
     "data": {
      "text/html": [
       "<b>sat</b>"
      ],
      "text/plain": [
       "sat"
      ]
     },
     "execution_count": 80,
     "metadata": {},
     "output_type": "execute_result"
    }
   ],
   "source": [
    "s.check()"
   ]
  },
  {
   "cell_type": "code",
   "execution_count": 81,
   "id": "1b6dc854",
   "metadata": {},
   "outputs": [],
   "source": [
    "result = s.model()"
   ]
  },
  {
   "cell_type": "markdown",
   "id": "0708eb49",
   "metadata": {},
   "source": [
    "## Output schedule"
   ]
  },
  {
   "cell_type": "code",
   "execution_count": 82,
   "id": "2e42fee4",
   "metadata": {},
   "outputs": [],
   "source": [
    "## GCL\n",
    "GCL = []\n",
    "for link in net_var:\n",
    "    for i in range(net_var[link]['W']):\n",
    "        start = result.eval(net_var[link]['phi'][i]).as_long()\n",
    "        end = result.eval(net_var[link]['tau'][i]).as_long()\n",
    "        queue = result.eval(net_var[link]['k'][i]).as_long()\n",
    "        if end > start:\n",
    "            GCL.append([eval(link), queue, start * macrotick, end * macrotick, LCM * macrotick])\n",
    "            \n",
    "## Offset\n",
    "OFFSET = []\n",
    "for i in task_var:\n",
    "    link = list(task_var[i].keys())[0]\n",
    "    for ins_id, ins_window in enumerate(list(task_var[i].values())[0]):\n",
    "        offset = result.eval(net_var[link]['phi'][ins_window]).as_long()\n",
    "        OFFSET.append([i, ins_id, (task.loc[i,'period'] - offset) * macrotick])\n",
    "\n",
    "ROUTE = []\n",
    "for i, row in task.iterrows():\n",
    "    route = eval(str(next(bfs_paths(net, int(row['src']), int(eval(row['dst'])[0])))))\n",
    "    for h, v in enumerate(route[:-1]):\n",
    "        ROUTE.append(\n",
    "            [i, (v, route[h + 1])]\n",
    "        )\n",
    "\n",
    "QUEUE = []\n",
    "for i in task_var:\n",
    "    for link in task_var[i]:\n",
    "        for ins_id, ins_window in enumerate(task_var[i][link]):\n",
    "            QUEUE.append(\n",
    "                [i, ins_id, link, result.eval(net_var[link]['k'][ins_window]).as_long()]\n",
    "            )"
   ]
  },
  {
   "cell_type": "code",
   "execution_count": 83,
   "id": "f0785afc-d08f-42d3-ba80-8ec46500b515",
   "metadata": {},
   "outputs": [],
   "source": [
    "GCL = pd.DataFrame(GCL)\n",
    "GCL.columns = [\"link\", \"queue\", \"start\", \"end\", \"cycle\"]\n",
    "GCL.to_csv(\"RTAS2018-%s-%d-%s-GCL.csv\"%(DATA_NAME,NUM_FLOW,TOPO_NAME), index=False)\n",
    "\n",
    "OFFSET = pd.DataFrame(OFFSET)\n",
    "OFFSET.columns = ['id', 'ins_id', 'offset']\n",
    "OFFSET.to_csv(\"RTAS2018-%s-%d-%s-OFFSET.csv\"%(DATA_NAME,NUM_FLOW,TOPO_NAME), index=False)\n",
    "\n",
    "ROUTE = pd.DataFrame(ROUTE)\n",
    "ROUTE.columns = ['id', 'link']\n",
    "ROUTE.to_csv(\"RTAS2018-%s-%d-%s-ROUTE.csv\"%(DATA_NAME,NUM_FLOW,TOPO_NAME), index=False)\n",
    "\n",
    "QUEUE = pd.DataFrame(QUEUE)\n",
    "QUEUE.columns = ['id','ins_id','link','queue']\n",
    "QUEUE.to_csv(\"RTAS2018-%s-%d-%s-QUEUE.csv\"%(DATA_NAME,NUM_FLOW,TOPO_NAME), index=False)"
   ]
  },
  {
   "cell_type": "code",
   "execution_count": 84,
   "id": "b267e43c-8a2e-4eb7-a805-d210f24bd2f4",
   "metadata": {},
   "outputs": [
    {
     "data": {
      "text/plain": [
       "8.115"
      ]
     },
     "execution_count": 84,
     "metadata": {},
     "output_type": "execute_result"
    }
   ],
   "source": [
    "info = s.statistics()\n",
    "info.time"
   ]
  },
  {
   "cell_type": "code",
   "execution_count": 85,
   "id": "52263f1d-4048-451f-bb11-ae368e50276d",
   "metadata": {},
   "outputs": [
    {
     "data": {
      "text/plain": [
       "116.13"
      ]
     },
     "execution_count": 85,
     "metadata": {},
     "output_type": "execute_result"
    }
   ],
   "source": [
    "# Z3 megabytes\n",
    "info.max_memory"
   ]
  },
  {
   "cell_type": "code",
   "execution_count": null,
   "id": "59f8ae3c-dbca-4d36-a75e-954cdb5136be",
   "metadata": {},
   "outputs": [],
   "source": []
  },
  {
   "cell_type": "code",
   "execution_count": null,
   "id": "3c9a7b05-7a9d-4b4d-a3c0-4caa95ae8586",
   "metadata": {},
   "outputs": [],
   "source": []
  }
 ],
 "metadata": {
  "kernelspec": {
   "display_name": "Python 3",
   "language": "python",
   "name": "python3"
  },
  "language_info": {
   "codemirror_mode": {
    "name": "ipython",
    "version": 3
   },
   "file_extension": ".py",
   "mimetype": "text/x-python",
   "name": "python",
   "nbconvert_exporter": "python",
   "pygments_lexer": "ipython3",
   "version": "3.8.10 (default, Nov 14 2022, 12:59:47) \n[GCC 9.4.0]"
  },
  "vscode": {
   "interpreter": {
    "hash": "e7370f93d1d0cde622a1f8e1c04877d8463912d04d973331ad4851f04de6915a"
   }
  }
 },
 "nbformat": 4,
 "nbformat_minor": 5
}

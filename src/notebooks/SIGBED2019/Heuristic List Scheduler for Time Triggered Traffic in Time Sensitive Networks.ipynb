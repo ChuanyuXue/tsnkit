{
 "cells": [
  {
   "cell_type": "code",
   "execution_count": 35,
   "id": "d001c639",
   "metadata": {},
   "outputs": [],
   "source": [
    "import pandas as pd\n",
    "import numpy as np\n",
    "# from tqdm.notebook import tqdm\n",
    "# from tqdm.autonotebook import tqdm\n",
    "# from tqdm import tqdm\n",
    "# blah blah your code errored\n",
    "# tqdm._instances.clear()\n"
   ]
  },
  {
   "cell_type": "code",
   "execution_count": 36,
   "id": "63bc723c",
   "metadata": {},
   "outputs": [],
   "source": [
    "macrotick = 100\n",
    "sync_error = 0\n",
    "time_out = 4 * 60 * 60\n",
    "\n",
    "NUM_FLOW = 20\n",
    "DATA_NAME = \"harmonic3\"\n",
    "TOPO_NAME = \"0\"\n",
    "\n",
    "task = pd.read_csv(\"../../dac_data/%s.csv\"%DATA_NAME)[:NUM_FLOW]\n",
    "network = pd.read_csv(\"../../dac_data/%s_topology.csv\"%TOPO_NAME)\n",
    "for col in ['size','period','deadline','jitter']:\n",
    "    task[col] = np.ceil(task[col] / macrotick).astype(int)\n",
    "for col in ['t_proc','t_prop']:\n",
    "    network[col] = np.ceil(network[col] / macrotick).astype(int)\n",
    "    \n",
    "nodes = list(network['link'].apply(lambda x:eval(x)[0])) + \\\n",
    "    list(network['link'].apply(lambda x:eval(x)[1]))\n",
    "NODE_SET = list(set(nodes))\n",
    "ES_set = [x for x in NODE_SET if nodes.count(x) == 2]\n",
    "SW_set = list(set(NODE_SET) - set(ES_set))\n",
    "LCM = np.lcm.reduce(task['period'])\n",
    "net = np.zeros(shape = (max(NODE_SET) + 1, max(NODE_SET) + 1))"
   ]
  },
  {
   "cell_type": "markdown",
   "id": "fad53332",
   "metadata": {},
   "source": [
    "## 1. Model"
   ]
  },
  {
   "cell_type": "markdown",
   "id": "70b5916c",
   "metadata": {},
   "source": [
    "Network model:\n",
    "\n",
    "$\\left\\langle\\left[v_{a}, v_{b}\\right] . s,\\left[v_{a}, v_{b}\\right] . d,\\left[v_{a}, v_{b}\\right] . m t,\\left[v_{a}, v_{b}\\right] . c\\right\\rangle$"
   ]
  },
  {
   "cell_type": "markdown",
   "id": "f6f21354",
   "metadata": {},
   "source": [
    "Network model"
   ]
  },
  {
   "cell_type": "code",
   "execution_count": 37,
   "id": "0420e7ab",
   "metadata": {},
   "outputs": [],
   "source": [
    "net_var = {}\n",
    "\n",
    "for _, row in network.iterrows():\n",
    "    net_var.setdefault(row['link'], {})\n",
    "    net_var[row['link']]['tproc'] = row['t_proc']\n",
    "    net[eval(row['link'])[0], eval(row['link'])[1]] = 1"
   ]
  },
  {
   "cell_type": "code",
   "execution_count": 38,
   "id": "42f6a521",
   "metadata": {},
   "outputs": [],
   "source": [
    "## Create mapping from Link to index\n",
    "link_to_index = {}\n",
    "index_to_link = {}\n",
    "\n",
    "counter = 0\n",
    "for _, row in network.iterrows():\n",
    "    link = row['link']\n",
    "    link_to_index[link] = counter\n",
    "    index_to_link[counter] = link\n",
    "    counter += 1"
   ]
  },
  {
   "cell_type": "markdown",
   "id": "43d3b4d6",
   "metadata": {},
   "source": [
    "Task model"
   ]
  },
  {
   "cell_type": "code",
   "execution_count": 39,
   "id": "b31b5330",
   "metadata": {},
   "outputs": [],
   "source": [
    "task_attr = {}\n",
    "task_var = {}\n",
    "for k, row in task.iterrows():\n",
    "    task_attr.setdefault(k, {})\n",
    "    task_var.setdefault(k, {})\n",
    "    \n",
    "    \n",
    "    ## f_k\n",
    "    task_attr[k]['sen'] = int(row['src'])\n",
    "    task_attr[k]['rec'] = int(eval(row['dst'])[0])\n",
    "    task_attr[k]['n'] = int(row['size'])\n",
    "    task_attr[k]['p'] = int(row['period'] )\n",
    "    task_attr[k]['d'] = int(row['deadline'])\n",
    "    task_attr[k]['TD'] = task_attr[k]['n'] * 8\n",
    "    \n",
    "    task_var[k]['priority'] = 0\n",
    "    task_var[k]['e2eD'] = 0\n",
    "    task_var[k]['arr'] = 0\n",
    "    task_var[k]['IT'] = 0\n",
    "    task_var[k]['r'] = None\n",
    "    "
   ]
  },
  {
   "cell_type": "code",
   "execution_count": 40,
   "id": "494883c3",
   "metadata": {},
   "outputs": [],
   "source": [
    "def find_all_paths(graph, start, end, path=[]):\n",
    "        path = path + [start]\n",
    "        if start == end:\n",
    "            return [path]\n",
    "        paths = []\n",
    "        for node in set(np.reshape(np.argwhere(graph[start] > 0),  -1)):\n",
    "            if node not in path:\n",
    "                newpaths = find_all_paths(graph, node, end, path)\n",
    "                for newpath in newpaths:\n",
    "                    paths.append(newpath)\n",
    "        return paths     "
   ]
  },
  {
   "cell_type": "markdown",
   "id": "d5a91fba",
   "metadata": {},
   "source": [
    "## 1. Assign prority"
   ]
  },
  {
   "cell_type": "markdown",
   "id": "5f9d790c",
   "metadata": {},
   "source": [
    "$CC_f=f_{PT} + f_{lj}.TD$"
   ]
  },
  {
   "cell_type": "code",
   "execution_count": 41,
   "id": "c983ddce",
   "metadata": {},
   "outputs": [],
   "source": [
    "for i in task_var:\n",
    "    paths = find_all_paths(net, task_attr[i]['sen'], task_attr[i]['rec'])\n",
    "    task_attr[i]['paths'] = paths\n",
    "    task_var[i]['priority'] = max([len(x) for x in paths])"
   ]
  },
  {
   "cell_type": "code",
   "execution_count": 42,
   "id": "5421daf9",
   "metadata": {},
   "outputs": [],
   "source": [
    "task_order = sorted(list(task_attr.keys()), key= lambda x: task_var[x]['priority'], reverse=True)"
   ]
  },
  {
   "cell_type": "markdown",
   "id": "ff76b718",
   "metadata": {},
   "source": [
    "## 2. Scheduler"
   ]
  },
  {
   "cell_type": "code",
   "execution_count": 43,
   "id": "6b5330f9",
   "metadata": {},
   "outputs": [],
   "source": [
    "def match_time(t, sche) -> int:\n",
    "    '''\n",
    "    Use binary search to quickly find the posistion of GCL\n",
    "    '''\n",
    "    if not sche:\n",
    "        return -1\n",
    "    gate_time = [x[0] for x in sche]\n",
    "    left = 0\n",
    "    right = len(sche) - 1\n",
    "    if gate_time[right] <= t < sche[-1][1]:\n",
    "        return right\n",
    "    elif sche[-1][1] <= t:\n",
    "        return -2\n",
    "    elif t < gate_time[0]:\n",
    "        return -1\n",
    "    \n",
    "    while True:\n",
    "        median = (left + right) // 2\n",
    "        if right - left <= 1:\n",
    "            return left\n",
    "        elif gate_time[left] <= t < gate_time[median]:\n",
    "            right = median\n",
    "        else:\n",
    "            left = median"
   ]
  },
  {
   "cell_type": "code",
   "execution_count": 44,
   "id": "59dd9fb7",
   "metadata": {},
   "outputs": [],
   "source": [
    "def FindET(task, GCL, path):\n",
    "    arr = (len(path) - 1) * (max(network['t_proc']) + task_attr[task]['TD'])\n",
    "    for it in range(0, task_attr[task]['p'] - arr + 1):\n",
    "        _last_hop_end = it\n",
    "        for i, v in enumerate(path[:-1]):\n",
    "            link_flag = True\n",
    "            link = str((v, path[i+1]))\n",
    "            _current_hop_start = _last_hop_end\n",
    "            _last_hop_end = _current_hop_start + max(network['t_proc']) + task_attr[task]['TD']\n",
    "            for alpha in range(0,  int(LCM / task_attr[task]['p'])):\n",
    "                ## REQUIRE TO BE MERGED INTO ORIONAL GITREPO\n",
    "                match_start = match_time(_current_hop_start + alpha * task_attr[task]['p'], GCL[link])\n",
    "                match_end =  match_time(_last_hop_end - max(network['t_proc']) + alpha * task_attr[task]['p'], GCL[link])\n",
    "                if match_start == -1 and GCL[link] and _last_hop_end - max(network['t_proc']) + alpha * task_attr[task]['p'] > GCL[link][0][0]:\n",
    "                    link_flag = False\n",
    "                    break\n",
    "                if match_start == -2 and GCL[link] and _current_hop_start + alpha * task_attr[task]['p'] < GCL[link][-1][1]:\n",
    "                    link_flag = False\n",
    "                    break\n",
    "                if match_start >= 0 and (match_start != match_end or (GCL[link] and\n",
    "                GCL[link][match_start][1] > _current_hop_start + alpha * task_attr[task]['p'])):\n",
    "                    link_flag = False\n",
    "                    break\n",
    "            if link_flag:\n",
    "                ## This link is available and continue to next link\n",
    "                continue\n",
    "            else:\n",
    "                ## Break the search on this IT time\n",
    "                break\n",
    "        else:\n",
    "            return it\n",
    "    return -1"
   ]
  },
  {
   "cell_type": "code",
   "execution_count": 45,
   "id": "eb73cfd3",
   "metadata": {},
   "outputs": [],
   "source": [
    "def Scheduler(task):\n",
    "    global GCL, OFFSET\n",
    "    task_var[task]['arr'] = 0\n",
    "    for r in task_attr[task]['paths']:\n",
    "        IT = FindET(task, GCL, r)\n",
    "        arr = (len(r) - 1) * (max(network['t_proc']) + task_attr[task]['TD'])\n",
    "        if IT == -1 or arr > task_attr[task]['d']:\n",
    "            continue\n",
    "        if task_var[task]['arr'] == 0 or arr < task_var[task]['arr']:\n",
    "            task_var[task]['arr'] = arr\n",
    "            task_var[task]['IT'] = IT\n",
    "            task_var[task]['r'] = r\n",
    "    if task_var[task]['arr'] == 0:\n",
    "        return False\n",
    "        \n",
    "    _last_hop_end = task_var[task]['IT']\n",
    "    for i, v in enumerate(task_var[task]['r'][:-1]):\n",
    "        link = str((v, task_var[task]['r'][i+1]))\n",
    "        _current_hop_start = _last_hop_end\n",
    "        _last_hop_end = _current_hop_start + max(network['t_proc']) + task_attr[task]['TD']\n",
    "        for alpha in range(0, int(LCM / task_attr[task]['p'])):\n",
    "            GCL[link].append([_current_hop_start + alpha * task_attr[task]['p'], \n",
    "                              _last_hop_end - max(network['t_proc']) + alpha * task_attr[task]['p'],\n",
    "                              0])\n",
    "            # if link == \"(8, 0)\":\n",
    "            #     print(GCL[link])\n",
    "        if i == 0:\n",
    "            OFFSET[task] = _current_hop_start\n",
    "    return True"
   ]
  },
  {
   "cell_type": "code",
   "execution_count": 46,
   "id": "9414f373",
   "metadata": {},
   "outputs": [],
   "source": [
    "GCL = {}\n",
    "OFFSET = {}\n",
    "for link in link_to_index:\n",
    "    GCL.setdefault(link, [])"
   ]
  },
  {
   "cell_type": "code",
   "execution_count": 47,
   "id": "cf279399",
   "metadata": {},
   "outputs": [],
   "source": [
    "for i in task_order:\n",
    "    for link in GCL:\n",
    "        GCL[link] = sorted(GCL[link], key=lambda x:x[0], reverse=False)\n",
    "    success = Scheduler(i)\n",
    "    if not success:\n",
    "        print(\"false\")\n",
    "        break"
   ]
  },
  {
   "cell_type": "code",
   "execution_count": 48,
   "id": "39c2d624",
   "metadata": {},
   "outputs": [],
   "source": [
    "# GCL[\"(8, 0)\"] = GCL[\"(8, 0)\"][:1]\n",
    "\n",
    "# if match_start > 0 and (match_start != match_end or (GCL[link] and\n",
    "#                 GCL[link][match_start][1] > _current_hop_start + alpha * task_attr[task]['p'])):\n",
    "\n",
    "# match_time(0, GCL[\"(8, 0)\"])\n",
    "\n",
    "# match_time(80, GCL[\"(8, 0)\"])"
   ]
  },
  {
   "cell_type": "markdown",
   "id": "5d0f25dd",
   "metadata": {},
   "source": [
    "## Output schedule"
   ]
  },
  {
   "cell_type": "code",
   "execution_count": 49,
   "id": "f8210ace",
   "metadata": {},
   "outputs": [],
   "source": [
    "GCL_out = []\n",
    "for link in GCL:\n",
    "    [GCL_out.append([eval(link),\n",
    "               row[2],\n",
    "               row[0] * macrotick, \n",
    "               row[1] * macrotick, \n",
    "               LCM * macrotick]) for row in GCL[link]]\n",
    "GCL = GCL_out\n",
    "# with open('SIGBED19-GCL.txt', 'w') as f:\n",
    "#     f.write(str(GCL))"
   ]
  },
  {
   "cell_type": "code",
   "execution_count": 50,
   "id": "2c5b2b08-ce26-4a49-b676-72f0d343d8c2",
   "metadata": {},
   "outputs": [],
   "source": [
    "## Offset\n",
    "OFFSET_out = []\n",
    "for i in OFFSET:\n",
    "    OFFSET_out.append(\n",
    "        [i, 0, (task.loc[i,'period'] - OFFSET[i]) * macrotick]\n",
    "    )    \n",
    "OFFSET = OFFSET_out"
   ]
  },
  {
   "cell_type": "code",
   "execution_count": 51,
   "id": "8f575c19-237a-48f5-84a1-daac2a250f1a",
   "metadata": {},
   "outputs": [],
   "source": [
    "ROUTE = []\n",
    "for i, row in task.iterrows():\n",
    "    route = task_var[i]['r']\n",
    "    for h, v in enumerate(route[:-1]):\n",
    "        ROUTE.append(\n",
    "            [i, (v, route[h + 1])]\n",
    "        )"
   ]
  },
  {
   "cell_type": "code",
   "execution_count": 52,
   "id": "4be53e52-7d38-4fa4-9d3b-2eecfe9325ea",
   "metadata": {},
   "outputs": [],
   "source": [
    "QUEUE = []\n",
    "for i in task_var:\n",
    "    route = task_var[i]['r']\n",
    "    for h, v in enumerate(route[:-1]):\n",
    "        QUEUE.append([i, 0, (v, route[h + 1]), 0])"
   ]
  },
  {
   "cell_type": "code",
   "execution_count": 53,
   "id": "d91214bc-e0b1-4d22-95f5-8294dc497498",
   "metadata": {},
   "outputs": [],
   "source": [
    "GCL = pd.DataFrame(GCL)\n",
    "GCL.columns = [\"link\", \"queue\", \"start\", \"end\", \"cycle\"]\n",
    "GCL.to_csv(\"SIGBED2019-%s-%d-%s-GCL.csv\"%(DATA_NAME,NUM_FLOW,TOPO_NAME), index=False)\n",
    "\n",
    "OFFSET = pd.DataFrame(OFFSET)\n",
    "OFFSET.columns = ['id', 'ins_id', 'offset']\n",
    "OFFSET.to_csv(\"SIGBED2019-%s-%d-%s-OFFSET.csv\"%(DATA_NAME,NUM_FLOW,TOPO_NAME), index=False)\n",
    "\n",
    "ROUTE = pd.DataFrame(ROUTE)\n",
    "ROUTE.columns = ['id', 'link']\n",
    "ROUTE.to_csv(\"SIGBED2019-%s-%d-%s-ROUTE.csv\"%(DATA_NAME,NUM_FLOW,TOPO_NAME), index=False)\n",
    "\n",
    "QUEUE = pd.DataFrame(QUEUE)\n",
    "QUEUE.columns = ['id','ins_id','link','queue']\n",
    "QUEUE.to_csv(\"SIGBED2019-%s-%d-%s-QUEUE.csv\"%(DATA_NAME,NUM_FLOW,TOPO_NAME), index=False)"
   ]
  },
  {
   "cell_type": "code",
   "execution_count": null,
   "id": "1cfce887",
   "metadata": {},
   "outputs": [],
   "source": []
  }
 ],
 "metadata": {
  "kernelspec": {
   "display_name": "Python 3",
   "language": "python",
   "name": "python3"
  },
  "language_info": {
   "codemirror_mode": {
    "name": "ipython",
    "version": 3
   },
   "file_extension": ".py",
   "mimetype": "text/x-python",
   "name": "python",
   "nbconvert_exporter": "python",
   "pygments_lexer": "ipython3",
   "version": "3.9.5 (default, Nov 23 2021, 15:27:38) \n[GCC 9.3.0]"
  },
  "toc": {
   "base_numbering": 1,
   "nav_menu": {},
   "number_sections": false,
   "sideBar": true,
   "skip_h1_title": false,
   "title_cell": "Table of Contents",
   "title_sidebar": "Contents",
   "toc_cell": false,
   "toc_position": {},
   "toc_section_display": true,
   "toc_window_display": false
  },
  "vscode": {
   "interpreter": {
    "hash": "f9f85f796d01129d0dd105a088854619f454435301f6ffec2fea96ecbd9be4ac"
   }
  }
 },
 "nbformat": 4,
 "nbformat_minor": 5
}

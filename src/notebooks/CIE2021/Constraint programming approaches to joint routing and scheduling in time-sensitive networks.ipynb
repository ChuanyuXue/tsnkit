{
 "cells": [
  {
   "cell_type": "code",
   "execution_count": 53,
   "id": "d793bc6d-4c76-4a52-8e04-cd0a1176b217",
   "metadata": {},
   "outputs": [
    {
     "data": {
      "text/plain": [
       "'\\nPeriodic aware routing usually cause deadline constraint violation \\ncompared with shortest path.\\n\\n'"
      ]
     },
     "execution_count": 53,
     "metadata": {},
     "output_type": "execute_result"
    }
   ],
   "source": [
    "'''\n",
    "Periodic aware routing usually cause deadline constraint violation \n",
    "compared with shortest path.\n",
    "\n",
    "'''"
   ]
  },
  {
   "cell_type": "code",
   "execution_count": 54,
   "id": "1508a246",
   "metadata": {},
   "outputs": [],
   "source": [
    "# CPO_PATH = '/home/ubuntu/Cplex/cpoptimizer/bin/x86-64_linux/cpoptimizer'\n",
    "CPO_PATH = '/opt/ibm/ILOG/CPLEX_Studio221/cpoptimizer/bin/x86-64_linux/cpoptimizer'\n",
    "# CPO_PATH = '/home/cc/tool/CPLEX_Studio221/cpoptimizer/bin/x86-64_linux/cpoptimizer'\n"
   ]
  },
  {
   "cell_type": "code",
   "execution_count": 55,
   "id": "d001c639",
   "metadata": {},
   "outputs": [],
   "source": [
    "import pandas as pd\n",
    "import numpy as np\n",
    "import z3\n",
    "# from tqdm.notebook import tqdm\n",
    "# from tqdm.autonotebook import tqdm\n",
    "from tqdm import tqdm\n",
    "# blah blah your code errored\n",
    "tqdm._instances.clear()"
   ]
  },
  {
   "cell_type": "code",
   "execution_count": 56,
   "id": "7e519d83",
   "metadata": {},
   "outputs": [],
   "source": [
    "from docplex.cp.model import *"
   ]
  },
  {
   "cell_type": "code",
   "execution_count": 57,
   "id": "b0a2f035-59c4-4a2d-8a67-63a131598283",
   "metadata": {},
   "outputs": [],
   "source": [
    "macrotick = 100\n",
    "sync_error = 0\n",
    "time_out = 4 * 60 * 60\n",
    "NUM_FLOW = 128\n",
    "# DATA_NAME = \"orion2\"\n",
    "DATA_NAME = \"harmonic0\"\n",
    "TOPO_NAME = \"1\"\n",
    "\n",
    "# task = pd.read_csv(\"../../dac_data/%s.csv\"%DATA_NAME)[:NUM_FLOW]\n",
    "# task['period'] = task['period'] * 1_000\n",
    "# network = pd.read_csv(\"../../dac_data/%s_topology.csv\"%TOPO_NAME)\n",
    "\n",
    "task = pd.read_csv(\"../../data/stream/stream_%s_%s.csv\" % (18, 0))\n",
    "network = pd.read_csv(\"../../data/stream/stream_topology.csv\")\n",
    "\n",
    "# task = pd.read_csv(\"../../data/utilization/utilization_5_34.csv\")\n",
    "# network = pd.read_csv(\"../../data/utilization/utilization_topology.csv\")\n",
    "\n",
    "for col in ['size','period','deadline','jitter']:\n",
    "    task[col] = np.ceil(task[col] / macrotick).astype(int)\n",
    "for col in ['t_proc','t_prop']:\n",
    "    network[col] = np.ceil(network[col] / macrotick).astype(int)\n",
    "    \n",
    "nodes = list(network['link'].apply(lambda x:eval(x)[0])) + \\\n",
    "    list(network['link'].apply(lambda x:eval(x)[1]))\n",
    "NODE_SET = list(set(nodes))\n",
    "ES_set = [x for x in NODE_SET if nodes.count(x) == 2]\n",
    "SW_set = list(set(NODE_SET) - set(ES_set))\n",
    "LCM = np.lcm.reduce(task['period'])\n",
    "net = np.zeros(shape = (max(NODE_SET) + 1, max(NODE_SET) + 1))"
   ]
  },
  {
   "cell_type": "code",
   "execution_count": 58,
   "id": "7c1165f3",
   "metadata": {},
   "outputs": [
    {
     "data": {
      "text/html": [
       "<div>\n",
       "<style scoped>\n",
       "    .dataframe tbody tr th:only-of-type {\n",
       "        vertical-align: middle;\n",
       "    }\n",
       "\n",
       "    .dataframe tbody tr th {\n",
       "        vertical-align: top;\n",
       "    }\n",
       "\n",
       "    .dataframe thead th {\n",
       "        text-align: right;\n",
       "    }\n",
       "</style>\n",
       "<table border=\"1\" class=\"dataframe\">\n",
       "  <thead>\n",
       "    <tr style=\"text-align: right;\">\n",
       "      <th></th>\n",
       "      <th>id</th>\n",
       "      <th>src</th>\n",
       "      <th>dst</th>\n",
       "      <th>size</th>\n",
       "      <th>period</th>\n",
       "      <th>deadline</th>\n",
       "      <th>jitter</th>\n",
       "    </tr>\n",
       "  </thead>\n",
       "  <tbody>\n",
       "    <tr>\n",
       "      <th>0</th>\n",
       "      <td>0</td>\n",
       "      <td>14</td>\n",
       "      <td>[10]</td>\n",
       "      <td>4</td>\n",
       "      <td>4000</td>\n",
       "      <td>418</td>\n",
       "      <td>418</td>\n",
       "    </tr>\n",
       "    <tr>\n",
       "      <th>1</th>\n",
       "      <td>1</td>\n",
       "      <td>12</td>\n",
       "      <td>[9]</td>\n",
       "      <td>2</td>\n",
       "      <td>8000</td>\n",
       "      <td>230</td>\n",
       "      <td>230</td>\n",
       "    </tr>\n",
       "    <tr>\n",
       "      <th>2</th>\n",
       "      <td>2</td>\n",
       "      <td>14</td>\n",
       "      <td>[10]</td>\n",
       "      <td>4</td>\n",
       "      <td>1000</td>\n",
       "      <td>418</td>\n",
       "      <td>418</td>\n",
       "    </tr>\n",
       "    <tr>\n",
       "      <th>3</th>\n",
       "      <td>3</td>\n",
       "      <td>9</td>\n",
       "      <td>[11]</td>\n",
       "      <td>4</td>\n",
       "      <td>1000</td>\n",
       "      <td>418</td>\n",
       "      <td>418</td>\n",
       "    </tr>\n",
       "    <tr>\n",
       "      <th>4</th>\n",
       "      <td>4</td>\n",
       "      <td>11</td>\n",
       "      <td>[14]</td>\n",
       "      <td>5</td>\n",
       "      <td>8000</td>\n",
       "      <td>250</td>\n",
       "      <td>250</td>\n",
       "    </tr>\n",
       "    <tr>\n",
       "      <th>5</th>\n",
       "      <td>5</td>\n",
       "      <td>13</td>\n",
       "      <td>[11]</td>\n",
       "      <td>2</td>\n",
       "      <td>8000</td>\n",
       "      <td>604</td>\n",
       "      <td>604</td>\n",
       "    </tr>\n",
       "    <tr>\n",
       "      <th>6</th>\n",
       "      <td>6</td>\n",
       "      <td>12</td>\n",
       "      <td>[9]</td>\n",
       "      <td>2</td>\n",
       "      <td>8000</td>\n",
       "      <td>230</td>\n",
       "      <td>230</td>\n",
       "    </tr>\n",
       "    <tr>\n",
       "      <th>7</th>\n",
       "      <td>7</td>\n",
       "      <td>14</td>\n",
       "      <td>[11]</td>\n",
       "      <td>4</td>\n",
       "      <td>2000</td>\n",
       "      <td>326</td>\n",
       "      <td>326</td>\n",
       "    </tr>\n",
       "    <tr>\n",
       "      <th>8</th>\n",
       "      <td>8</td>\n",
       "      <td>11</td>\n",
       "      <td>[15]</td>\n",
       "      <td>5</td>\n",
       "      <td>2000</td>\n",
       "      <td>300</td>\n",
       "      <td>300</td>\n",
       "    </tr>\n",
       "    <tr>\n",
       "      <th>9</th>\n",
       "      <td>9</td>\n",
       "      <td>9</td>\n",
       "      <td>[15]</td>\n",
       "      <td>5</td>\n",
       "      <td>8000</td>\n",
       "      <td>350</td>\n",
       "      <td>350</td>\n",
       "    </tr>\n",
       "    <tr>\n",
       "      <th>10</th>\n",
       "      <td>10</td>\n",
       "      <td>13</td>\n",
       "      <td>[15]</td>\n",
       "      <td>5</td>\n",
       "      <td>2000</td>\n",
       "      <td>300</td>\n",
       "      <td>300</td>\n",
       "    </tr>\n",
       "    <tr>\n",
       "      <th>11</th>\n",
       "      <td>11</td>\n",
       "      <td>15</td>\n",
       "      <td>[8]</td>\n",
       "      <td>4</td>\n",
       "      <td>4000</td>\n",
       "      <td>326</td>\n",
       "      <td>326</td>\n",
       "    </tr>\n",
       "    <tr>\n",
       "      <th>12</th>\n",
       "      <td>12</td>\n",
       "      <td>15</td>\n",
       "      <td>[12]</td>\n",
       "      <td>2</td>\n",
       "      <td>8000</td>\n",
       "      <td>330</td>\n",
       "      <td>330</td>\n",
       "    </tr>\n",
       "    <tr>\n",
       "      <th>13</th>\n",
       "      <td>13</td>\n",
       "      <td>10</td>\n",
       "      <td>[12]</td>\n",
       "      <td>4</td>\n",
       "      <td>4000</td>\n",
       "      <td>168</td>\n",
       "      <td>168</td>\n",
       "    </tr>\n",
       "    <tr>\n",
       "      <th>14</th>\n",
       "      <td>14</td>\n",
       "      <td>11</td>\n",
       "      <td>[9]</td>\n",
       "      <td>5</td>\n",
       "      <td>2000</td>\n",
       "      <td>300</td>\n",
       "      <td>300</td>\n",
       "    </tr>\n",
       "    <tr>\n",
       "      <th>15</th>\n",
       "      <td>15</td>\n",
       "      <td>10</td>\n",
       "      <td>[15]</td>\n",
       "      <td>3</td>\n",
       "      <td>1000</td>\n",
       "      <td>602</td>\n",
       "      <td>602</td>\n",
       "    </tr>\n",
       "    <tr>\n",
       "      <th>16</th>\n",
       "      <td>16</td>\n",
       "      <td>9</td>\n",
       "      <td>[13]</td>\n",
       "      <td>5</td>\n",
       "      <td>1000</td>\n",
       "      <td>450</td>\n",
       "      <td>450</td>\n",
       "    </tr>\n",
       "    <tr>\n",
       "      <th>17</th>\n",
       "      <td>17</td>\n",
       "      <td>8</td>\n",
       "      <td>[10]</td>\n",
       "      <td>2</td>\n",
       "      <td>2000</td>\n",
       "      <td>78</td>\n",
       "      <td>78</td>\n",
       "    </tr>\n",
       "  </tbody>\n",
       "</table>\n",
       "</div>"
      ],
      "text/plain": [
       "    id  src   dst  size  period  deadline  jitter\n",
       "0    0   14  [10]     4    4000       418     418\n",
       "1    1   12   [9]     2    8000       230     230\n",
       "2    2   14  [10]     4    1000       418     418\n",
       "3    3    9  [11]     4    1000       418     418\n",
       "4    4   11  [14]     5    8000       250     250\n",
       "5    5   13  [11]     2    8000       604     604\n",
       "6    6   12   [9]     2    8000       230     230\n",
       "7    7   14  [11]     4    2000       326     326\n",
       "8    8   11  [15]     5    2000       300     300\n",
       "9    9    9  [15]     5    8000       350     350\n",
       "10  10   13  [15]     5    2000       300     300\n",
       "11  11   15   [8]     4    4000       326     326\n",
       "12  12   15  [12]     2    8000       330     330\n",
       "13  13   10  [12]     4    4000       168     168\n",
       "14  14   11   [9]     5    2000       300     300\n",
       "15  15   10  [15]     3    1000       602     602\n",
       "16  16    9  [13]     5    1000       450     450\n",
       "17  17    8  [10]     2    2000        78      78"
      ]
     },
     "execution_count": 58,
     "metadata": {},
     "output_type": "execute_result"
    }
   ],
   "source": [
    "task"
   ]
  },
  {
   "cell_type": "markdown",
   "id": "fad53332",
   "metadata": {},
   "source": [
    "## 1. Model"
   ]
  },
  {
   "cell_type": "markdown",
   "id": "70b5916c",
   "metadata": {},
   "source": [
    "Network model:\n",
    "\n",
    "$\\left\\langle\\left[v_{a}, v_{b}\\right] . s,\\left[v_{a}, v_{b}\\right] . d,\\left[v_{a}, v_{b}\\right] . m t,\\left[v_{a}, v_{b}\\right] . c\\right\\rangle$"
   ]
  },
  {
   "cell_type": "code",
   "execution_count": 59,
   "id": "c5602eb8",
   "metadata": {},
   "outputs": [],
   "source": [
    "net_var = {}\n",
    "for _, row in network.iterrows():\n",
    "    net_var.setdefault(row['link'], {})\n",
    "    net_var[row['link']]['s'] = row['rate']\n",
    "    net_var[row['link']]['d'] = row['t_proc']\n",
    "    net_var[row['link']]['c'] = row['q_num']\n",
    "    net[eval(row['link'])[0], eval(row['link'])[1]] = 1"
   ]
  },
  {
   "cell_type": "markdown",
   "id": "d1addd0f",
   "metadata": {},
   "source": [
    "Task model：\n",
    "\n",
    "$\\left\\langle f_{i, j}^{\\left[v_{a}, v_{b}\\right]} \\cdot \\phi, f_{i, j}^{\\left[v_{a}, v_{b}\\right]} \\cdot T, f_{i, j}^{\\left[v_{a}, v_{b}\\right]} \\cdot L\\right\\rangle$"
   ]
  },
  {
   "cell_type": "markdown",
   "id": "6746e045",
   "metadata": {},
   "source": [
    "Use shortest route in this paper."
   ]
  },
  {
   "cell_type": "code",
   "execution_count": 60,
   "id": "7ad1ca7a",
   "metadata": {},
   "outputs": [],
   "source": [
    "task_var = {}"
   ]
  },
  {
   "cell_type": "code",
   "execution_count": 61,
   "id": "e9795dcd",
   "metadata": {},
   "outputs": [],
   "source": [
    "## Shortest path\n",
    "def bfs_paths(graph, start, goal):\n",
    "    queue = [(start, [start])]\n",
    "    while queue:\n",
    "        (vertex, path) = queue.pop(0)\n",
    "        for _next in set(np.reshape(np.argwhere(graph[vertex] > 0),  -1)) - set(path):\n",
    "            if _next == goal:\n",
    "                yield path + [_next]\n",
    "            else:\n",
    "                queue.append((_next, path + [_next]))"
   ]
  },
  {
   "cell_type": "markdown",
   "id": "a438b491-3378-4fc1-968a-a29fb551cad9",
   "metadata": {},
   "source": [
    "## 1. Optimum routing (Logic-Based Benders Decomposition)"
   ]
  },
  {
   "cell_type": "code",
   "execution_count": 62,
   "id": "abf29f3a-a598-4c32-b038-3b73446c0b0c",
   "metadata": {},
   "outputs": [],
   "source": [
    "s = z3.Optimize()\n",
    "s.set(\"timeout\", 5 * 60*60*1000)"
   ]
  },
  {
   "cell_type": "code",
   "execution_count": 63,
   "id": "457a751e-ee22-4af9-9b11-5db96e6636fb",
   "metadata": {},
   "outputs": [],
   "source": [
    "task_path = {}\n",
    "for i in list(task['id']):\n",
    "    task_path.setdefault(i, {})\n",
    "    for link in net_var:\n",
    "        task_path[i][link] = z3.Int('path_' + str(i) + '+' + str(link))\n",
    "        s.add(\n",
    "            0 <= task_path[i][link],\n",
    "            task_path[i][link] <= 1\n",
    "        )"
   ]
  },
  {
   "cell_type": "code",
   "execution_count": 64,
   "id": "aaacefee-1e76-4642-a81e-e48d2e099462",
   "metadata": {},
   "outputs": [],
   "source": [
    "for i in task_path:\n",
    "    s.add(\n",
    "        z3.Sum([task_path[i][xa] for xa in net_var if eval(xa)[1] == eval(task.loc[i, 'dst'])[0]])\n",
    "        == 1\n",
    "    )\n",
    "    s.add(\n",
    "        z3.Sum([task_path[i][xa] for xa in net_var if eval(xa)[0] == task.loc[i, 'src']])\n",
    "        == 1\n",
    "    )\n",
    "        \n",
    "    ### Add constraint that only 2 ES in path\n",
    "    for link in net_var:\n",
    "        if (eval(link)[0] in ES_set and eval(link)[0] != task.loc[i, 'src']) \\\n",
    "        or (eval(link)[1] in ES_set and eval(link)[1] != eval(task.loc[i, 'dst'])[0]):\n",
    "            s.add(\n",
    "                task_path[i][link] == 0\n",
    "            )\n",
    "for i in task_path:\n",
    "    for v in SW_set:\n",
    "        s.add(\n",
    "            z3.Sum([task_path[i][xa] for xa in net_var if eval(xa)[1] == v])\n",
    "            ==\n",
    "            z3.Sum([task_path[i][ay] for ay in net_var if eval(ay)[0] == v])\n",
    "        )\n",
    "        \n",
    "        ## Add constaint that only pass SW once\n",
    "        s.add(\n",
    "            z3.Sum([task_path[i][xa] for xa in net_var if eval(xa)[1] == v])\n",
    "            <= 1\n",
    "        )\n",
    "        s.add(\n",
    "            z3.Sum([task_path[i][ay] for ay in net_var if eval(ay)[0] == v])\n",
    "            <= 1\n",
    "        )\n",
    "        \n",
    "        \n",
    "# print(s.check())"
   ]
  },
  {
   "cell_type": "markdown",
   "id": "12a86a69-ee71-48fe-b6a8-3e854daf6a8e",
   "metadata": {},
   "source": [
    "### 1.1 Shortest Paths\n",
    "\n",
    "$$\\min \\sum_{\\substack{i \\in \\mathcal{F} \\\\(a, b) \\in \\mathcal{E}}} \\rho_{i, a, b}$$"
   ]
  },
  {
   "cell_type": "code",
   "execution_count": 65,
   "id": "99a1c87b-e2aa-43ec-a808-95066d743d88",
   "metadata": {},
   "outputs": [
    {
     "data": {
      "text/plain": [
       "<z3.z3.OptimizeObjective at 0x7f521194ba30>"
      ]
     },
     "execution_count": 65,
     "metadata": {},
     "output_type": "execute_result"
    }
   ],
   "source": [
    "s.minimize(\n",
    "    z3.Sum(\n",
    "        [task_path[i][link] for i in task_path for link in net_var]\n",
    "    )\n",
    ")"
   ]
  },
  {
   "cell_type": "code",
   "execution_count": 66,
   "id": "b42b1052-9fbe-4ae7-837f-450ce35f9eda",
   "metadata": {},
   "outputs": [],
   "source": [
    "res = s.check()\n",
    "result = s.model()"
   ]
  },
  {
   "cell_type": "markdown",
   "id": "95a4cd07-69f6-4c75-8a30-1ddec234e84e",
   "metadata": {},
   "source": [
    "### 1.2 Load Balancing\n",
    "\n",
    "$$\\forall(a, b) \\in \\mathcal{E}: \\sum_{i \\in \\mathcal{F}} \\rho_{i, a, b} \\cdot \\frac{L_i}{T_i} \\leqslant v$$"
   ]
  },
  {
   "cell_type": "code",
   "execution_count": 67,
   "id": "4ed16df4-ef3a-4e5a-b4c4-e5755170630f",
   "metadata": {},
   "outputs": [],
   "source": [
    "# s.minimize(\n",
    "#     z3.Sum(\n",
    "#         [task_path[i][link] * int(task.loc[i, 'size'] * 8 / task.loc[i, 'period']) for i in task_path for link in net_var]\n",
    "#     )\n",
    "\n",
    "# )"
   ]
  },
  {
   "cell_type": "code",
   "execution_count": 68,
   "id": "68423f04-27ee-4213-bfab-b0ab410efcf3",
   "metadata": {},
   "outputs": [],
   "source": [
    "# res = s.check()\n",
    "# result = s.model()"
   ]
  },
  {
   "cell_type": "code",
   "execution_count": 69,
   "id": "263f2824-303b-486e-8def-5eb4efd834e9",
   "metadata": {},
   "outputs": [],
   "source": [
    "# for i in task_path:\n",
    "#     print([link for link in task_path[i] if result[task_path[i][link]].as_long() == 1])"
   ]
  },
  {
   "cell_type": "markdown",
   "id": "eb473fed-f0b3-45f8-932f-ab222fa52848",
   "metadata": {},
   "source": [
    "### 1.3 Period Matching"
   ]
  },
  {
   "cell_type": "code",
   "execution_count": 70,
   "id": "ab909316",
   "metadata": {},
   "outputs": [],
   "source": [
    "# period_path = {}"
   ]
  },
  {
   "cell_type": "code",
   "execution_count": 71,
   "id": "809cb1b0-2cd7-48f3-8458-41c90a0db76c",
   "metadata": {},
   "outputs": [],
   "source": [
    "# for link in net_var:\n",
    "#     period_path.setdefault(link, {})\n",
    "#     for p in task['period'].unique():\n",
    "#         period_path[link][p] = z3.Int('x_' + str(p) + '+' + str(link))\n",
    "#         s.add(\n",
    "#             0 <= period_path[link][p],\n",
    "#             period_path[link][p] <= 1\n",
    "#         )\n",
    "#         for p_p in task['period'].unique():\n",
    "#             if p_p > p:\n",
    "#                 period_path[link][(p, p_p)] = z3.Int('y_' + str((p, p_p)) + '+' + str(link))\n",
    "#                 s.add(\n",
    "#                     0 <= period_path[link][(p, p_p)],\n",
    "#                     period_path[link][(p, p_p)] <= 1\n",
    "#                 )"
   ]
  },
  {
   "cell_type": "markdown",
   "id": "2611695a-7308-4542-9bbb-8265e7b454c7",
   "metadata": {},
   "source": [
    "\\begin{aligned}\n",
    "&\\forall(a, b) \\in \\mathcal{E}, \\forall p \\in\\{1, \\ldots,|\\mathcal{P}|\\}: x_{p, a, b} \\leqslant \\sum_{i \\in \\mathcal{F}, T_i=P_p} \\rho_{i, a, b} \\\\\n",
    "&\\forall(a, b) \\in \\mathcal{E}, \\forall p \\in\\{1, \\ldots,|\\mathcal{P}|\\}, \\forall i \\in \\mathcal{F}, T_i=P_p: \\rho_{i, a, b} \\leqslant x_{p, a, b}\n",
    "\\end{aligned}"
   ]
  },
  {
   "cell_type": "code",
   "execution_count": 72,
   "id": "c737d649-41a4-4e38-90e5-6b4f95c1f1dd",
   "metadata": {},
   "outputs": [],
   "source": [
    "# for link in net_var:\n",
    "#     for p in task['period'].unique():\n",
    "#         s.add(\n",
    "#             period_path[link][p] <= z3.Sum([task_path[i][link] for i in list(task[task['period'] == p]['id'])])\n",
    "#         )"
   ]
  },
  {
   "cell_type": "code",
   "execution_count": 73,
   "id": "8476a496-38ce-47f5-8be4-aaedc5b5e926",
   "metadata": {},
   "outputs": [],
   "source": [
    "# for link in net_var:\n",
    "#     for p in task['period'].unique():\n",
    "#         for i in list(task[task['period'] == p]['id']):\n",
    "#             s.add(\n",
    "#                 task_path[i][link] <= period_path[link][p]\n",
    "#             )"
   ]
  },
  {
   "cell_type": "markdown",
   "id": "c0e59f22-a51a-49a9-9c14-e6a1ad960c0b",
   "metadata": {},
   "source": [
    "\\begin{aligned}\n",
    "&\\forall(a, b) \\in \\mathcal{E}, \\forall p, p^{\\prime} \\in\\{1, \\ldots,|\\mathcal{P}|\\}, p<p^{\\prime}: \\\\\n",
    "&y_{p, p^{\\prime}, a, b} \\leqslant x_{p, a, b} \\\\\n",
    "&y_{p, p^{\\prime}, a, b} \\leqslant x_{p^{\\prime}, a, b} \\\\\n",
    "&x_{p, a, b}+x_{p^{\\prime}, a, b} \\leqslant y_{p, p^{\\prime}, a, b}+1\n",
    "\\end{aligned}"
   ]
  },
  {
   "cell_type": "code",
   "execution_count": 74,
   "id": "c0ccc81d-7657-468b-bab6-e1f8a8e617e9",
   "metadata": {},
   "outputs": [],
   "source": [
    "# for link in net_var:\n",
    "#     for p, p_p in [(p, p_p) for p in task['period'].unique() for p_p in task['period'].unique() if p_p > p]:\n",
    "#         s.add(\n",
    "#             period_path[link][(p, p_p)] <= period_path[link][p],\n",
    "#             period_path[link][(p, p_p)] <= period_path[link][p_p],\n",
    "#             period_path[link][p] + period_path[link][p_p] <= period_path[link][(p, p_p)] + 1\n",
    "#         )\n",
    "        "
   ]
  },
  {
   "cell_type": "code",
   "execution_count": 75,
   "id": "d5327f41-e5de-45d6-bc78-74b75b3b5e24",
   "metadata": {},
   "outputs": [],
   "source": [
    "# s.minimize(\n",
    "#     z3.Sum(\n",
    "#         [np.lcm(p, p_p) / np.gcd(p, p_p) * period_path[link][(p, p_p)]\n",
    "#          for link in net_var \n",
    "#          for p, p_p in [(p, p_p) for p in task['period'].unique() for p_p in task['period'].unique() if p_p > p]]\n",
    "#     )\n",
    "\n",
    "# )"
   ]
  },
  {
   "cell_type": "code",
   "execution_count": 76,
   "id": "c9cfbaed-6ffa-4c12-9bcb-e46188c27170",
   "metadata": {},
   "outputs": [],
   "source": [
    "# res = s.check()\n",
    "# print(res)\n",
    "# result = s.model()"
   ]
  },
  {
   "cell_type": "code",
   "execution_count": 77,
   "id": "2e431479-1756-4086-8694-b3d859f44ea9",
   "metadata": {},
   "outputs": [],
   "source": [
    "for i in task_path:\n",
    "    task_path[i] = [link for link in task_path[i] if result[task_path[i][link]].as_long() == 1]"
   ]
  },
  {
   "cell_type": "markdown",
   "id": "80f0021d",
   "metadata": {},
   "source": [
    "## 2. Constraints"
   ]
  },
  {
   "cell_type": "code",
   "execution_count": 78,
   "id": "e8954f6d-ccb3-413d-82d2-18dd251d812a",
   "metadata": {},
   "outputs": [],
   "source": [
    "s = CpoModel()"
   ]
  },
  {
   "cell_type": "code",
   "execution_count": 79,
   "id": "1c772a0c-5dc8-423b-bdf1-afd66aa7573c",
   "metadata": {},
   "outputs": [],
   "source": [
    "def path_sort(start, route):\n",
    "    route = [x for x in route]\n",
    "    if len(route) == 0:\n",
    "        return []\n",
    "    for i, link in enumerate(route):\n",
    "        if eval(link)[0] == start:\n",
    "            route.pop(i)\n",
    "            return [link] + path_sort(eval(link)[1], route)\n",
    "    return []"
   ]
  },
  {
   "cell_type": "code",
   "execution_count": 80,
   "id": "9147f891-cdc7-4915-9842-a53c03fb5950",
   "metadata": {},
   "outputs": [],
   "source": [
    "## Assume task is strictly periodic\n",
    "task_var = {}\n",
    "for i, row in task.iterrows():\n",
    "    task_var.setdefault(i, {})\n",
    "    route = path_sort(task.loc[i, 'src'], task_path[i])\n",
    "    for _i, link in enumerate(route):\n",
    "        link = str(link)\n",
    "        task_var[i].setdefault(link, {})\n",
    "        task_var[i][link]['phi'] = []\n",
    "        task_var[i][link]['T'] = int(row['period'])\n",
    "        task_var[i][link]['p'] = s.integer_var()\n",
    "        s.add(\n",
    "            task_var[i][link]['p'] >= 0,\n",
    "            task_var[i][link]['p'] <= 7\n",
    "        )\n",
    "        L = int((row['size'] * 8 / net_var[str(link)]['s']))\n",
    "        for k in range(int(LCM / task_var[i][link]['T'])):\n",
    "            task_var[i][link]['phi'].append(\n",
    "                s.interval_var(\n",
    "                    size = L,\n",
    "                    start = [k * task_var[i][link]['T'], (k+1) * task_var[i][link]['T'] - L]\n",
    "                )\n",
    "            )\n",
    "        \n",
    "        "
   ]
  },
  {
   "cell_type": "markdown",
   "id": "09cac729",
   "metadata": {},
   "source": [
    "### 2.1 General constraints"
   ]
  },
  {
   "cell_type": "markdown",
   "id": "d707d35c",
   "metadata": {},
   "source": [
    "Frame Constraint\n",
    "\n",
    "\\begin{equation}\n",
    "\\forall i \\in \\mathcal{F}, \\forall(a, b) \\in \\mathcal{E}, \\forall k \\in\\left\\{1, \\ldots, \\frac{H P}{T_i}-1\\right\\}: \\operatorname{StartAtStart}\\left(I_{i, k-1}^{a, b}, I_{i, k}^{a, b}, T_i\\right)\n",
    "\\end{equation}"
   ]
  },
  {
   "cell_type": "code",
   "execution_count": 81,
   "id": "af8a033b",
   "metadata": {},
   "outputs": [],
   "source": [
    "for i in task_var:\n",
    "    for link in task_var[i]:\n",
    "        for k in range(int(LCM / task_var[i][link]['T']) - 1):\n",
    "            s.add(\n",
    "                s.start_at_start(task_var[i][link]['phi'][k], task_var[i][link]['phi'][k + 1], task_var[i][link]['T'])\n",
    "            )"
   ]
  },
  {
   "cell_type": "markdown",
   "id": "f1f6a993",
   "metadata": {},
   "source": [
    "\\begin{equation}\n",
    "\\begin{array}{l}\n",
    "\\forall i \\in \\mathcal{F}, \\forall(a, b) \\in \\mathcal{E}, \\forall k \\in\\left\\{1, \\ldots, \\frac{H P}{T_i}-1\\right\\} \\\\\n",
    "\\quad: \\text { PresenceOf }\\left(I_{i, k-1}^{a, b}\\right) \\Leftrightarrow \\text { PresenceOf }\\left(I_{i, k}^{a, b}\\right)\n",
    "\\end{array}\n",
    "\\end{equation}"
   ]
  },
  {
   "cell_type": "code",
   "execution_count": 82,
   "id": "35e5471b",
   "metadata": {},
   "outputs": [],
   "source": [
    "## This constraint is ignored for Logic-based benders decomposition"
   ]
  },
  {
   "cell_type": "markdown",
   "id": "9d3a988a",
   "metadata": {},
   "source": [
    "\\begin{equation}\n",
    "\\forall(a, b) \\in \\mathcal{E}: \\operatorname{NoOverlap}\\left(\\bigcup_{k \\in\\left\\{\\frac{i \\in \\mathcal{F}}{0, \\ldots, \\frac{\\mu_T}{T_i}-1}\\right\\}}\\left\\{I^{a, b}\\right\\}\\right)\n",
    "\\end{equation}"
   ]
  },
  {
   "cell_type": "code",
   "execution_count": 83,
   "id": "75b1f1e9",
   "metadata": {},
   "outputs": [],
   "source": [
    "for link in net_var:\n",
    "    no_overlap_links = [task_var[i][link_i]['phi'] for i in task_var for link_i in task_var[i] if link_i == link]\n",
    "    no_overlap_links = [x for y in no_overlap_links for x in y]\n",
    "    if no_overlap_links:\n",
    "        s.add(\n",
    "            s.no_overlap(no_overlap_links)\n",
    "        )"
   ]
  },
  {
   "cell_type": "markdown",
   "id": "33f608d7",
   "metadata": {},
   "source": [
    "\\begin{equation}\n",
    "\\forall i \\in \\mathcal{F}, \\forall(x, a),(a, b) \\in \\mathcal{E}: \\operatorname{StartBeforeStart}\\left(I_{i, 0}^{x, a}, I_{i, 0}^{a, b}, L_i+d_{x, a}+d_a+\\delta\\right)\n",
    "\\end{equation}"
   ]
  },
  {
   "cell_type": "code",
   "execution_count": 84,
   "id": "695cdd1c",
   "metadata": {},
   "outputs": [],
   "source": [
    "for i in task_var:\n",
    "    for hop, link in enumerate(list(task_var[i].keys())[:-1]):\n",
    "        next_link = list(task_var[i].keys())[hop + 1]\n",
    "        s.add(\n",
    "            s.end_before_start(task_var[i][link]['phi'][0], task_var[i][next_link]['phi'][0], net_var[link]['d'])\n",
    "        )"
   ]
  },
  {
   "cell_type": "code",
   "execution_count": 85,
   "id": "67290c1b",
   "metadata": {},
   "outputs": [],
   "source": [
    "## Deadline constraint\n",
    "for i in task_var:\n",
    "    in_link = list(task_var[i].keys())[0]\n",
    "    out_link = list(task_var[i].keys())[-1]\n",
    "    s.add(\n",
    "        s.end_of(task_var[i][out_link]['phi'][0]) - s.start_of(task_var[i][in_link]['phi'][0]) <= task.loc[i, 'deadline'] - net_var[out_link]['d']\n",
    "    )"
   ]
  },
  {
   "cell_type": "markdown",
   "id": "36100818",
   "metadata": {},
   "source": [
    "### 2.2 IEEE 802.1 Qbv constraint"
   ]
  },
  {
   "cell_type": "markdown",
   "id": "7edfe6ae",
   "metadata": {},
   "source": [
    "\\begin{equation}\n",
    "\\begin{aligned}\n",
    "\\forall i, j \\in \\mathcal{F}, i<j, \\forall(a, b) \\in \\mathcal{E}, \\forall \\alpha \\in\\left\\{0, \\ldots, \\frac{\\operatorname{lcm}\\left\\{T_i, T_j\\right\\}}{T_i}-1\\right\\}, \\forall \\beta \\\\\n",
    "\\in &\\left\\{0, \\ldots, \\frac{\\operatorname{lcm}\\left\\{T_i, T_j\\right\\}}{T_j}-1\\right\\} \\\\\n",
    ": &\\left(\\text { PresenceOf }\\left(I_{i, 0}^{a, b}\\right) \\wedge \\operatorname{PresenceOf}\\left(I_{j, 0}^{a, b}\\right) \\wedge \\lambda_{i, a, b}\\right.\\\\\n",
    "=&\\left.\\lambda_{j, a, b}\\right) \\Rightarrow\\left(\\left(\\operatorname{StartOf}\\left(I_{i, 0}^{a, b}\\right) \\leqslant \\sum_{(y, a) \\in \\mathcal{E}} \\operatorname{PresenceOf}\\left(I_{j, 0}^{y, a}\\right) \\cdot\\left(\\operatorname{StartOf}\\left(I_{j, 0}^{y, a}\\right)\\right.\\right.\\right.\\\\\n",
    "&\\left.\\left.+L_j+d_{y, a}+\\beta \\cdot T_j-\\alpha \\cdot T_i-\\delta\\right)\\right) \\\\\n",
    "& \\vee\\left(\\operatorname{StartOf}\\left(I_{j, 0}^{a, b}\\right) \\leqslant \\sum_{(x, a) \\in \\mathcal{E}} \\operatorname{PresenceOf}\\left(I_{i, 0}^{x, a}\\right) \\cdot\\left(\\operatorname{StartOf}\\left(I_{i, 0}^{x, a}\\right)+L_i\\right.\\right.\\\\\n",
    "&\\left.\\left.\\left.+d_{x, a}+\\alpha \\cdot T_i-\\beta \\cdot T_j-\\delta\\right)\\right)\\right)\n",
    "\\end{aligned}\n",
    "\\end{equation}"
   ]
  },
  {
   "cell_type": "code",
   "execution_count": 86,
   "id": "fae4be0d",
   "metadata": {},
   "outputs": [],
   "source": [
    "## Stream / Frame isolation\n",
    "\n",
    "for i, j in [(i,j) for i in task_var for j in task_var if i < j]:\n",
    "    path_i = list(task_var[i].keys())\n",
    "    path_j = list(task_var[j].keys())\n",
    "    i_period, j_period = int(task.loc[i]['period']), int(task.loc[j]['period'])\n",
    "    for x_a, y_a, a_b in [(path_i[_x - 1], path_j[_y - 1], i_a_b) \n",
    "                        for _x, i_a_b in enumerate(path_i) \n",
    "                        for _y, j_a_b in enumerate(path_j) \n",
    "                        if i_a_b == j_a_b and _x != 0 and _y != 0]:\n",
    "        # print(x_a, y_a, a_b)\n",
    "        lcm = np.lcm(i_period, j_period)\n",
    "        for a, b in [(a, b)\n",
    "                        for a in range(0, int(lcm / i_period))\n",
    "                        for b in range(0, int(lcm / j_period))]:\n",
    "            s.add(\n",
    "                s.logical_or(\n",
    "                        task_var[i][a_b]['p'] != task_var[j][a_b]['p'],\n",
    "                        s.logical_or(\n",
    "                        s.start_of(task_var[i][a_b]['phi'][0]) + a * i_period < s.start_of(task_var[j][y_a]['phi'][0]) + b * j_period + net_var[a_b]['d'],\n",
    "                        s.start_of(task_var[j][a_b]['phi'][0]) + b * j_period < s.start_of(task_var[i][x_a]['phi'][0]) + a * i_period + net_var[a_b]['d'],\n",
    "                        )\n",
    "                    )\n",
    "                # s.if_then(\n",
    "                #     task_var[i][a_b]['p'] == task_var[j][a_b]['p'],\n",
    "                #     ## A SIMPLE ERROR REQUIRES TO BE MERGED INTO GITREPO\n",
    "                #     s.logical_or(\n",
    "                #         s.start_of(task_var[i][a_b]['phi'][0]) + a * i_period < s.start_of(task_var[j][y_a]['phi'][0]) + b * j_period + net_var[a_b]['d'],\n",
    "                #         s.start_of(task_var[j][a_b]['phi'][0]) + b * j_period < s.start_of(task_var[i][x_a]['phi'][0]) + a * i_period + net_var[a_b]['d'],\n",
    "                #     ) == True\n",
    "                # )\n",
    "            )"
   ]
  },
  {
   "cell_type": "markdown",
   "id": "fe2582fc",
   "metadata": {},
   "source": [
    "FIFO constraint - Designed by Chuanyu Jul 2 2022"
   ]
  },
  {
   "cell_type": "code",
   "execution_count": 87,
   "id": "f04a8f99",
   "metadata": {},
   "outputs": [],
   "source": [
    "start_time = time.time()\n",
    "result = s.solve(\n",
    "        agent='local',\n",
    "        # execfile='/home/ubuntu/Cplex/cpoptimizer/bin/x86-64_linux/cpoptimizer',\n",
    "        execfile=CPO_PATH,\n",
    "        LogVerbosity='Quiet',\n",
    "        # SearchType = 'DepthFirst',\n",
    "        Workers = 1,\n",
    "        TimeLimit=time_out)\n",
    "end_time = time.time()\n",
    "res = result.get_solve_status()"
   ]
  },
  {
   "cell_type": "code",
   "execution_count": 88,
   "id": "f46d8c2c",
   "metadata": {},
   "outputs": [
    {
     "data": {
      "text/plain": [
       "'Infeasible'"
      ]
     },
     "execution_count": 88,
     "metadata": {},
     "output_type": "execute_result"
    }
   ],
   "source": [
    "res"
   ]
  },
  {
   "cell_type": "code",
   "execution_count": null,
   "id": "2990085e",
   "metadata": {},
   "outputs": [],
   "source": [
    "if res == 'Unknown' or res == 'SearchStoppedByLimit':\n",
    "    pass\n",
    "if res == 'Feasible':\n",
    "    pass\n",
    "if res == 'Infeasible':\n",
    "    pass"
   ]
  },
  {
   "cell_type": "code",
   "execution_count": null,
   "id": "84c06630",
   "metadata": {},
   "outputs": [],
   "source": [
    "# for i in task_var:\n",
    "#     print('[Task %ad] ------------------------------'%i)\n",
    "#     for link in task_var[i]:\n",
    "#         pass\n",
    "#         # print(result.get_value(task_var[i][link]['phi'][0]))\n",
    "#         # print(result.get_value(task_var[i][link]['phi'][1]))\n",
    "#         # print(result.get_value(task_var[i][link]['p']))\n",
    "#         # try:\n",
    "#         #     print(result.get_value(task_var[i][link]['p']))\n",
    "#         # except:\n",
    "#         #     print(0)"
   ]
  },
  {
   "cell_type": "markdown",
   "id": "5d0f25dd",
   "metadata": {},
   "source": [
    "## Output schedule"
   ]
  },
  {
   "cell_type": "code",
   "execution_count": null,
   "id": "f8210ace",
   "metadata": {},
   "outputs": [],
   "source": [
    "## GCL\n",
    "GCL = []\n",
    "for i in task_var:\n",
    "    for e in task_var[i]:\n",
    "        start = result.get_value(task_var[i][e]['phi'][0]).start\n",
    "        end = result.get_value(task_var[i][e]['phi'][0]).end\n",
    "        queue = result.get_value(task_var[i][e]['p'])\n",
    "        last = end\n",
    "        queue = i\n",
    "        t = task_var[i][e]['T']\n",
    "        for k in range(int(LCM / t)):\n",
    "            GCL.append(\n",
    "                [eval(e), queue, (start + k * t) * macrotick, (end + k * t) * macrotick, LCM * macrotick]\n",
    "            )"
   ]
  },
  {
   "cell_type": "code",
   "execution_count": null,
   "id": "2df939b5",
   "metadata": {},
   "outputs": [],
   "source": [
    "## Offset\n",
    "OFFSET = []\n",
    "for i in task_var:\n",
    "    offset = result.get_value(list(task_var[i].values())[0]['phi'][0]).start\n",
    "    OFFSET.append(\n",
    "        [i, 0, (list(task_var[i].values())[0]['T'] - offset) * macrotick]\n",
    "    )    "
   ]
  },
  {
   "cell_type": "code",
   "execution_count": null,
   "id": "51a15a05",
   "metadata": {},
   "outputs": [],
   "source": [
    "ROUTE = []\n",
    "for i, row in task.iterrows():\n",
    "    route = list(task_var[i].keys())\n",
    "    for h, v in enumerate(route):\n",
    "        ROUTE.append(\n",
    "            [i, v]\n",
    "        )\n",
    "# with open('RTNS16-route-CBS-16.txt', 'w') as f:\n",
    "#     f.write(str(route))"
   ]
  },
  {
   "cell_type": "code",
   "execution_count": null,
   "id": "3c36b113-c613-473d-aa00-208c9837d571",
   "metadata": {},
   "outputs": [],
   "source": [
    "QUEUE = []\n",
    "for i in task_var:\n",
    "    for e in task_var[i]:\n",
    "        queue = result.get_value(task_var[i][e]['p'])\n",
    "        queue = i\n",
    "        QUEUE.append([i, 0, eval(e), queue])\n",
    "        # queue[i][e] = result[task_var[i][e]['p']]\n",
    "# with open('RTNS16-queue-CBS-16.txt', 'w') as f:\n",
    "#     f.write(str(queue))"
   ]
  },
  {
   "cell_type": "code",
   "execution_count": null,
   "id": "7608bba6-9358-49b1-834c-afc81f1357b4",
   "metadata": {},
   "outputs": [],
   "source": [
    "GCL = pd.DataFrame(GCL)\n",
    "GCL.columns = [\"link\", \"queue\", \"start\", \"end\", \"cycle\"]\n",
    "GCL.to_csv(\"CIE2021-%s-%d-%s-GCL.csv\"%(DATA_NAME,NUM_FLOW,TOPO_NAME), index=False)\n",
    "\n",
    "OFFSET = pd.DataFrame(OFFSET)\n",
    "OFFSET.columns = ['id', 'ins_id', 'offset']\n",
    "OFFSET.to_csv(\"CIE2021-%s-%d-%s-OFFSET.csv\"%(DATA_NAME,NUM_FLOW,TOPO_NAME), index=False)\n",
    "\n",
    "ROUTE = pd.DataFrame(ROUTE)\n",
    "ROUTE.columns = ['id', 'link']\n",
    "ROUTE.to_csv(\"CIE2021-%s-%d-%s-ROUTE.csv\"%(DATA_NAME,NUM_FLOW,TOPO_NAME), index=False)\n",
    "\n",
    "QUEUE = pd.DataFrame(QUEUE)\n",
    "QUEUE.columns = ['id','ins_id','link','queue']\n",
    "QUEUE.to_csv(\"CIE2021-%s-%d-%s-QUEUE.csv\"%(DATA_NAME,NUM_FLOW,TOPO_NAME), index=False)"
   ]
  },
  {
   "cell_type": "code",
   "execution_count": null,
   "id": "e6b6833f",
   "metadata": {},
   "outputs": [],
   "source": [
    "result.get_solve_time()"
   ]
  },
  {
   "cell_type": "code",
   "execution_count": null,
   "id": "05e6cf8f",
   "metadata": {},
   "outputs": [],
   "source": [
    "## In bytes -> to Megabytes\n",
    "result.get_solver_infos()[\"PeakMemoryUsage\"] / 1024 / 1024"
   ]
  }
 ],
 "metadata": {
  "kernelspec": {
   "display_name": "Python 3",
   "language": "python",
   "name": "python3"
  },
  "language_info": {
   "codemirror_mode": {
    "name": "ipython",
    "version": 3
   },
   "file_extension": ".py",
   "mimetype": "text/x-python",
   "name": "python",
   "nbconvert_exporter": "python",
   "pygments_lexer": "ipython3",
   "version": "3.8.10 (default, Nov 14 2022, 12:59:47) \n[GCC 9.4.0]"
  },
  "toc": {
   "base_numbering": 1,
   "nav_menu": {},
   "number_sections": false,
   "sideBar": true,
   "skip_h1_title": false,
   "title_cell": "Table of Contents",
   "title_sidebar": "Contents",
   "toc_cell": false,
   "toc_position": {},
   "toc_section_display": true,
   "toc_window_display": false
  },
  "vscode": {
   "interpreter": {
    "hash": "767d51c1340bd893661ea55ea3124f6de3c7a262a8b4abca0554b478b1e2ff90"
   }
  }
 },
 "nbformat": 4,
 "nbformat_minor": 5
}

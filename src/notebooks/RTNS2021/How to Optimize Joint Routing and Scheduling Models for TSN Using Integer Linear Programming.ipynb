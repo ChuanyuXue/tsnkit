{
 "cells": [
  {
   "cell_type": "code",
   "execution_count": 30,
   "id": "e58ca690",
   "metadata": {},
   "outputs": [],
   "source": [
    "import pandas as pd\n",
    "import numpy as np\n",
    "from tqdm import tqdm\n",
    "import gurobipy as gp\n",
    "from gurobipy import GRB"
   ]
  },
  {
   "cell_type": "code",
   "execution_count": 31,
   "id": "3d98062a-d1dd-47b6-a9d1-db8dbf673e7c",
   "metadata": {},
   "outputs": [],
   "source": [
    "macrotick = 100\n",
    "sync_error = 0\n",
    "time_out = 4 * 60 * 60\n",
    "\n",
    "NUM_FLOW = 1000\n",
    "DATA_NAME = \"orion0\"\n",
    "TOPO_NAME = \"3\"\n",
    "\n",
    "task = pd.read_csv(\"../../dac_data/%s.csv\"%DATA_NAME)[:NUM_FLOW]\n",
    "network = pd.read_csv(\"../../dac_data/%s_topology.csv\"%TOPO_NAME)\n",
    "for col in ['size','period','deadline','jitter']:\n",
    "    task[col] = np.ceil(task[col] / macrotick).astype(int)\n",
    "for col in ['t_proc','t_prop']:\n",
    "    network[col] = np.ceil(network[col] / macrotick).astype(int)\n",
    "    \n",
    "nodes = list(network['link'].apply(lambda x:eval(x)[0])) + \\\n",
    "    list(network['link'].apply(lambda x:eval(x)[1]))\n",
    "NODE_SET = list(set(nodes))\n",
    "ES_set = [x for x in NODE_SET if nodes.count(x) == 2]\n",
    "SW_set = list(set(NODE_SET) - set(ES_set))\n",
    "LCM = np.lcm.reduce(task['period'])\n",
    "net = np.zeros(shape = (max(NODE_SET) + 1, max(NODE_SET) + 1))"
   ]
  },
  {
   "cell_type": "code",
   "execution_count": 32,
   "id": "04d2966b",
   "metadata": {},
   "outputs": [],
   "source": [
    "M = int(1e16)"
   ]
  },
  {
   "cell_type": "code",
   "execution_count": 33,
   "id": "a8d5ca05-bed3-4864-a73e-ca80292d8978",
   "metadata": {},
   "outputs": [],
   "source": [
    "task_attr = {}\n",
    "for k, row in task.iterrows():\n",
    "#     task_var.setdefault(k, {})\n",
    "    task_attr.setdefault(k, {})\n",
    "    \n",
    "    ## f_k\n",
    "    task_attr[k]['src'] = int(row['src'])\n",
    "    task_attr[k]['dst'] = int(eval(row['dst'])[0])\n",
    "    task_attr[k]['cycle_time'] = int(row['period'])\n",
    "    task_attr[k]['size'] = int(row['size'])\n",
    "    task_attr[k]['l'] = int(row['deadline'])\n",
    "    task_attr[k]['dtr'] = int(row['size']) * 8\n",
    "    \n",
    "#     ## Bound the t matrix\n",
    "#     for j in index_to_link:\n",
    "#         m.addConstr(t[k][j] <= task_attr[k]['ct'] - 1)\n"
   ]
  },
  {
   "cell_type": "code",
   "execution_count": 34,
   "id": "887b93e8-3c5b-485d-8b7f-2d5130643b0c",
   "metadata": {},
   "outputs": [],
   "source": [
    "net_var = {}\n",
    "for _, row in network.iterrows():\n",
    "    net_var.setdefault(eval(row['link'])[0], {})\n",
    "    net_var[eval(row['link'])[0]]['msd'] = row['t_proc']\n",
    "    net[eval(row['link'])[0], eval(row['link'])[1]] = 1\n",
    "\n",
    "## Create mapping from Link to index\n",
    "link_to_index = {}\n",
    "index_to_link = {}\n",
    "\n",
    "counter = 0\n",
    "for _, row in network.iterrows():\n",
    "    link = row['link']\n",
    "    link_to_index[link] = counter\n",
    "    index_to_link[counter] = link\n",
    "    counter += 1"
   ]
  },
  {
   "cell_type": "markdown",
   "id": "f3541bab-e908-422c-9fa8-a85cc74be96d",
   "metadata": {},
   "source": [
    "## Preprocessing"
   ]
  },
  {
   "cell_type": "code",
   "execution_count": 35,
   "id": "45249009-3b86-4314-8f5d-694a17db86a7",
   "metadata": {},
   "outputs": [],
   "source": [
    "def find_all_paths(graph, start, end, path=[]):\n",
    "    path = path + [start]\n",
    "    if start == end:\n",
    "        return [path]\n",
    "    paths = []\n",
    "    for node in set(np.reshape(np.argwhere(graph[start] > 0),  -1)):\n",
    "        if node not in path:\n",
    "            newpaths = find_all_paths(graph, node, end, path)\n",
    "            for newpath in newpaths:\n",
    "                paths.append(newpath)\n",
    "    return paths     "
   ]
  },
  {
   "cell_type": "code",
   "execution_count": 36,
   "id": "0d89ff56-1e83-4baf-9643-6c6ba7bf1bf0",
   "metadata": {},
   "outputs": [],
   "source": [
    "paths = {}\n",
    "for i in task_attr:\n",
    "    paths[i] = find_all_paths(net, task_attr[i]['src'],task_attr[i]['dst'])\n",
    "    for k in range(len(paths[i])):\n",
    "        paths[i][k] = list({x: int(eval(str(paths[i][k]))[h+1]) for h, x in enumerate(eval(str(paths[i][k]))[:-1])}.items())"
   ]
  },
  {
   "cell_type": "code",
   "execution_count": 37,
   "id": "84281762-7512-44b7-94a5-d64caa92e113",
   "metadata": {},
   "outputs": [],
   "source": [
    "route_space = {}\n",
    "for i in paths:\n",
    "    route_space[i] = set([str(x) for y in paths[i] for x in y if len(y) * (task_attr[i]['size'] + max(network['t_proc'])) <= task_attr[i]['l']])\n",
    "    # route_space[i] = set(link_to_index.keys())"
   ]
  },
  {
   "cell_type": "markdown",
   "id": "2c186d9d",
   "metadata": {},
   "source": [
    "## 1. Model"
   ]
  },
  {
   "cell_type": "code",
   "execution_count": 38,
   "id": "b37013da",
   "metadata": {},
   "outputs": [],
   "source": [
    "m = gp.Model(\"RTNS2021\")"
   ]
  },
  {
   "cell_type": "markdown",
   "id": "6a1967e6",
   "metadata": {},
   "source": [
    "Network model"
   ]
  },
  {
   "cell_type": "markdown",
   "id": "b58974be",
   "metadata": {},
   "source": [
    "$$\\mathcal{G}=\\{\\mathcal{V}, \\mathcal{E}\\}$$"
   ]
  },
  {
   "cell_type": "markdown",
   "id": "7f6e028d",
   "metadata": {},
   "source": [
    "$$s=\\left(v_{\\text {src }}, v_{\\mathrm{dst}}, \\text { size }, l\\right) \\mid v_{s}, v_{d} \\in \\text { Hosts, } l \\in(0, \\text { cycle_time }], \\text { size } \\in[64, M T U]$$"
   ]
  },
  {
   "cell_type": "markdown",
   "id": "a3c9eeb9",
   "metadata": {},
   "source": [
    "Add route mapping"
   ]
  },
  {
   "cell_type": "code",
   "execution_count": 39,
   "id": "8eea514b",
   "metadata": {},
   "outputs": [],
   "source": [
    "link_in = {}\n",
    "link_out = {}\n",
    "for link in link_to_index.keys():\n",
    "    link = eval(link)\n",
    "    link_in.setdefault(link[1], [])\n",
    "    link_in[link[1]].append(str(link))\n",
    "    link_out.setdefault(link[0], [])\n",
    "    link_out[link[0]].append(str(link))"
   ]
  },
  {
   "cell_type": "code",
   "execution_count": 40,
   "id": "63319383",
   "metadata": {},
   "outputs": [],
   "source": [
    "x = m.addMVar(shape=(len(task), len(link_to_index)), vtype=GRB.BINARY , name=\"routing\")\n",
    "start = m.addMVar(shape=(len(task), len(link_to_index)), vtype=GRB.INTEGER , name=\"time_start\")\n",
    "end = m.addMVar(shape=(len(task), len(link_to_index)), vtype=GRB.INTEGER , name=\"time_end\")"
   ]
  },
  {
   "cell_type": "markdown",
   "id": "93491660",
   "metadata": {},
   "source": [
    "## 2. Constraints"
   ]
  },
  {
   "cell_type": "markdown",
   "id": "8f07ffa2",
   "metadata": {},
   "source": [
    "### 2.1 Route constraints"
   ]
  },
  {
   "cell_type": "markdown",
   "id": "8cd93caf",
   "metadata": {},
   "source": [
    "$$\\forall\\left(v_{\\mathrm{src}}, v_{\\mathrm{dst}}, \\mathrm{size}, d, c\\right) \\in \\mathcal{S}: \\sum_{e \\in \\text { in_edges }\\left(v_{\\mathrm{src}}\\right)} \\mathrm{x}_{\\mathrm{s}, \\mathrm{e}}=0$$"
   ]
  },
  {
   "cell_type": "code",
   "execution_count": 41,
   "id": "2b09bf5c",
   "metadata": {},
   "outputs": [],
   "source": [
    "for s in task_attr:\n",
    "    m.addConstr(\n",
    "        gp.quicksum(x[s][link_to_index[link]] for link in link_in[task_attr[s]['src']]\n",
    "                   if link in route_space[s]) == 0\n",
    "    )"
   ]
  },
  {
   "cell_type": "markdown",
   "id": "a22c9a5b",
   "metadata": {},
   "source": [
    "$$\\forall\\left(v_{\\mathrm{src}}, v_{\\mathrm{dst}}, \\mathrm{size}, d, c\\right) \\in \\mathcal{S}: \\sum_{e \\in \\text { out_edges }\\left(v_{\\mathrm{src}}\\right)} \\mathrm{x}_{\\mathrm{s}, \\mathrm{e}}=1$$"
   ]
  },
  {
   "cell_type": "code",
   "execution_count": 42,
   "id": "228307b7",
   "metadata": {},
   "outputs": [],
   "source": [
    "for s in task_attr:\n",
    "    m.addConstr(\n",
    "        gp.quicksum(x[s][link_to_index[link]] for link in link_out[task_attr[s]['src']]\n",
    "                   if link in route_space[s]) == 1\n",
    "    )\n",
    "    ### Have to specify the source\n",
    "    for v in ES_set:\n",
    "        m.addConstr(\n",
    "            gp.quicksum(\n",
    "                   x[s][link_to_index[link]] for link in link_out[v] if v != task_attr[s]['src']\n",
    "                and link in route_space[s]\n",
    "            ) == 0\n",
    "        )"
   ]
  },
  {
   "cell_type": "markdown",
   "id": "96091757",
   "metadata": {},
   "source": [
    "$$\\forall\\left(v_{\\mathrm{src}}, v_{\\mathrm{dst}}, \\mathrm{size}, d, c\\right) \\in \\mathcal{S}: \\sum_{\\left.e \\in \\text { out_edges }{ }_{\\mathrm{dst}}\\right)} \\mathrm{x}_{\\mathrm{s}, \\mathrm{e}}=0$$"
   ]
  },
  {
   "cell_type": "code",
   "execution_count": 43,
   "id": "c76ad05c",
   "metadata": {},
   "outputs": [],
   "source": [
    "for s in task_attr:\n",
    "    m.addConstr(\n",
    "        gp.quicksum(x[s][link_to_index[link]] for link in link_out[task_attr[s]['dst']]\n",
    "                   if link in route_space[s]) == 0\n",
    "    )"
   ]
  },
  {
   "cell_type": "markdown",
   "id": "337379b2",
   "metadata": {},
   "source": [
    "$$\\forall\\left(v_{\\mathrm{src}}, v_{\\mathrm{dst}}, \\mathrm{size}, d, c\\right) \\in \\mathcal{S}: \\sum_{e \\in \\text { in_edges }\\left(v_{\\mathrm{dst}}\\right)} \\mathrm{x}_{\\mathrm{s}, \\mathrm{e}}=1$$"
   ]
  },
  {
   "cell_type": "code",
   "execution_count": 44,
   "id": "39949fa1",
   "metadata": {},
   "outputs": [],
   "source": [
    "for s in task_attr:\n",
    "    m.addConstr(\n",
    "        gp.quicksum(x[s][link_to_index[link]] for link in link_in[task_attr[s]['dst']]\n",
    "                   if link in route_space[s]) == 1\n",
    "    )"
   ]
  },
  {
   "cell_type": "markdown",
   "id": "e6e664ab",
   "metadata": {},
   "source": [
    "$$\\begin{gathered}\n",
    "\\forall\\left(v_{\\mathrm{src}}, v_{\\mathrm{dst}}, \\mathrm{size}, d, c\\right) \\in \\mathcal{S}, \\forall v \\in \\mathcal{V} \\backslash\\left\\{v_{\\mathrm{src}}, v_{\\mathrm{dst}}\\right\\}: \\\\\n",
    "\\sum_{e \\in \\text { in_edges }(v)} \\mathrm{x}_{\\mathrm{s}, \\mathrm{e}}=\\sum_{e \\in \\text { out_edges }(v)} \\mathrm{x}_{\\mathrm{s}, \\mathrm{e}}\n",
    "\\end{gathered}$$"
   ]
  },
  {
   "cell_type": "code",
   "execution_count": 45,
   "id": "69e1085f",
   "metadata": {},
   "outputs": [],
   "source": [
    "for s in task_attr:\n",
    "    for v in SW_set:\n",
    "        m.addConstr(\n",
    "            gp.quicksum(x[s][link_to_index[link]] for link in link_in[v]\n",
    "                       if link in route_space[s])\n",
    "            ==\n",
    "            gp.quicksum(x[s][link_to_index[link]] for link in link_out[v]\n",
    "                       if link in route_space[s])\n",
    "        )"
   ]
  },
  {
   "cell_type": "markdown",
   "id": "85732a60",
   "metadata": {},
   "source": [
    "\\begin{gathered}\n",
    "\\forall\\left(v_{\\mathrm{src}}, v_{\\mathrm{dst}}, \\operatorname{size}, d, c\\right) \\in \\mathcal{S}, \\forall v \\in \\mathcal{V} \\backslash\\left\\{v_{\\mathrm{src}}, v_{\\mathrm{dst}}\\right\\}: \\\\\n",
    "\\sum_{e \\in \\text { out_edges }(v)} \\mathrm{X}_{\\mathrm{s}, \\mathrm{e}} \\leq 1\n",
    "\\end{gathered}"
   ]
  },
  {
   "cell_type": "code",
   "execution_count": 46,
   "id": "69e85db1",
   "metadata": {},
   "outputs": [],
   "source": [
    "for s in task_attr:\n",
    "    for v in SW_set:\n",
    "        m.addConstr(\n",
    "            gp.quicksum(x[s][link_to_index[link]] for link in link_out[v]\n",
    "                       if link in route_space[s]) <= 1\n",
    "        )"
   ]
  },
  {
   "cell_type": "markdown",
   "id": "53a2ec32",
   "metadata": {},
   "source": [
    "### 2.2 Scheduling constraint"
   ]
  },
  {
   "cell_type": "markdown",
   "id": "d8898646",
   "metadata": {},
   "source": [
    "$$\\forall e \\in \\mathcal{E}, \\forall s \\in \\mathcal{S}: \\text { end }_{\\mathrm{s}, \\mathrm{e}} \\leq c y c l e_{-} \\text {time } \\cdot \\mathrm{x}_{\\mathrm{s}, \\mathrm{e}}$$"
   ]
  },
  {
   "cell_type": "code",
   "execution_count": 47,
   "id": "a3f34a4e",
   "metadata": {},
   "outputs": [],
   "source": [
    "for s in task_attr:\n",
    "    for e in index_to_link:\n",
    "        if index_to_link[e] in route_space[s]:\n",
    "            m.addConstr(\n",
    "                end[s][e] <= task_attr[s]['cycle_time'] * x[s][e]\n",
    "            )"
   ]
  },
  {
   "cell_type": "markdown",
   "id": "c3818a56",
   "metadata": {},
   "source": [
    "\\begin{gathered}\n",
    "\\forall e \\in \\mathcal{E}, \\forall s \\in \\mathcal{S}: \\mathrm{end}_{\\mathrm{s}, \\mathrm{e}}=\\mathrm{start}_{\\mathrm{s}, \\mathrm{e}}+ \\\\\n",
    "\\mathrm{x}_{\\mathrm{s}, \\mathrm{e}} \\cdot \\text { trans_delay }(\\text { stream_size,link_speed }(e))\n",
    "\\end{gathered}"
   ]
  },
  {
   "cell_type": "code",
   "execution_count": 48,
   "id": "53717d7f",
   "metadata": {},
   "outputs": [],
   "source": [
    "for s in task_attr:\n",
    "    for e in index_to_link:\n",
    "        if index_to_link[e] in route_space[s]:\n",
    "            m.addConstr(\n",
    "                end[s][e] == start[s][e] + x[s][e] * task_attr[s]['dtr']\n",
    "            )\n",
    "        "
   ]
  },
  {
   "cell_type": "markdown",
   "id": "8e8a46a3",
   "metadata": {},
   "source": [
    "\\begin{aligned}\n",
    "&\\forall\\left(v_{\\text {src }}, v_{\\mathrm{dst}}, \\text { size }, d, c\\right) \\in \\mathcal{S}, \\forall v \\in \\mathcal{V} \\backslash\\left\\{v_{\\text {src }}, v_{\\mathrm{dst}}\\right\\}\\\\\n",
    "&\\sum_{e \\in \\text { in_edges }(v)} \\text { end }_{\\mathrm{s}, \\mathrm{e}}+\\mathrm{x}_{\\mathrm{s}, \\mathrm{e}} \\cdot\\left(\\text { prop_delay }(e)+\\operatorname{proc}_{-} \\operatorname{delay}(v)\\right)\\\\\n",
    "&=\\sum_{e \\in \\text { out_edges }(v)} \\operatorname{start}_{\\mathrm{s}, \\mathrm{e}}\n",
    "\\end{aligned}"
   ]
  },
  {
   "cell_type": "code",
   "execution_count": 49,
   "id": "7b75f631",
   "metadata": {},
   "outputs": [],
   "source": [
    "for s in task_attr:\n",
    "    for v in SW_set:\n",
    "        m.addConstr(\n",
    "            gp.quicksum(\n",
    "                end[s][link_to_index[e]] +  x[s][link_to_index[e]] * net_var[eval(e)[1]]['msd']\n",
    "                for e in link_in[v] if e in route_space[s]\n",
    "            ) == \n",
    "            gp.quicksum(\n",
    "                start[s][link_to_index[e]]\n",
    "                for e in link_out[v] if e in route_space[s]\n",
    "            )\n",
    "        )"
   ]
  },
  {
   "cell_type": "markdown",
   "id": "0be519a2",
   "metadata": {},
   "source": [
    "⚠️ Only for cut-through switches\n",
    "\n",
    "\\begin{aligned}\n",
    "&\\forall\\left(v_{\\mathrm{src}}, v_{\\mathrm{dst}}, \\mathrm{size}, d, c\\right) \\in \\mathcal{S}, \\forall v \\in \\mathcal{V} \\backslash\\left\\{v_{\\mathrm{src}}, v_{\\mathrm{dst}}\\right\\}:\\\\\n",
    "&\\sum_{e \\in \\text { in_edges }(v)} \\text { start }_{\\mathrm{s}, \\mathrm{e}}+\\text { trans_delay }\\left(H E A D E R_{-} \\text {SIZE,link_speed }(e)\\right)\n",
    "\\end{aligned}"
   ]
  },
  {
   "cell_type": "code",
   "execution_count": 50,
   "id": "5d30f7ba",
   "metadata": {},
   "outputs": [],
   "source": [
    "# for s in task_attr:\n",
    "#     for v in range(NUM_SW):\n",
    "#         m.addConstr(\n",
    "#             gp.quicksum(\n",
    "#                 start[s][e] + task_attr[s]['dtr']\n",
    "#             )\n",
    "#         )"
   ]
  },
  {
   "cell_type": "markdown",
   "id": "0f8f7cab",
   "metadata": {},
   "source": [
    "\\begin{gathered}\n",
    "\\forall\\left(\\left(s, s^{\\prime}\\right), e\\right) \\in(\\mathcal{S} \\times \\mathcal{S}) \\times \\mathcal{E} \\mid s \\neq s^{\\prime}: \\\\\n",
    "\\text { end }_{\\mathrm{s}, \\mathrm{e}} \\leq \\mathrm{start} \\mathrm{s}_{\\mathrm{s}^{\\prime}, \\mathrm{e}}+\\mathrm{y}_{\\mathrm{s}, \\mathrm{s}^{\\prime}, \\mathrm{e}} \\cdot M \\\\\n",
    "\\text { end }_{\\mathrm{s}^{\\prime}, \\mathrm{e}} \\leq \\mathrm{star} \\mathrm{t}_{\\mathrm{s}, \\mathrm{e}}+\\left(1-\\mathrm{y}_{\\mathrm{s}, \\mathrm{s}^{\\prime}, \\mathrm{e}}\\right) \\cdot M\n",
    "\\end{gathered}"
   ]
  },
  {
   "cell_type": "code",
   "execution_count": 51,
   "id": "b76de6a7",
   "metadata": {},
   "outputs": [
    {
     "name": "stderr",
     "output_type": "stream",
     "text": [
      "100%|██████████| 17391/17391 [11:56<00:00, 24.27it/s] \n"
     ]
    }
   ],
   "source": [
    "for s, s_p in tqdm([(s, s_p) for s in task_attr for s_p in task_attr if s < s_p]):\n",
    "    s_t, s_p_t = task.loc[s].period, task.loc[s_p].period\n",
    "    lcm = np.lcm(s_t, s_p_t)\n",
    "    for e in index_to_link:\n",
    "        if index_to_link[e] in route_space[s] and index_to_link[e] in route_space[s_p]:\n",
    "            for a, b in [(a,b) for a in range(0, int(lcm / s_t)) for b in range(0, int(lcm / s_p_t))]:\n",
    "                _inte = m.addVar(vtype= GRB.BINARY, name = \"%d%d%s\"%(s, s_p, index_to_link[e]))\n",
    "                m.addConstr(\n",
    "                    end[s][e] + a * s_t <= start[s_p][e] - 1 + b * s_p_t + (2 + _inte - x[s][e] - x[s_p][e]) * M\n",
    "                )\n",
    "                m.addConstr(\n",
    "                    end[s_p][e] + b * s_p_t <= start[s][e] - 1 + a * s_t + (3 - _inte - x[s][e] - x[s_p][e]) * M\n",
    "                )"
   ]
  },
  {
   "cell_type": "code",
   "execution_count": 52,
   "id": "fb9a2c89",
   "metadata": {},
   "outputs": [
    {
     "name": "stdout",
     "output_type": "stream",
     "text": [
      "Gurobi Optimizer version 9.5.2 build v9.5.2rc0 (linux64)\n",
      "Thread count: 8 physical cores, 16 logical processors, using up to 16 threads\n",
      "Optimize a model with 14406180 rows, 7251832 columns and 71961962 nonzeros\n",
      "Model fingerprint: 0x63fcaf9d\n",
      "Variable types: 0 continuous, 7251832 integer (7209944 binary)\n",
      "Coefficient statistics:\n",
      "  Matrix range     [1e+00, 1e+16]\n",
      "  Objective range  [0e+00, 0e+00]\n",
      "  Bounds range     [1e+00, 1e+00]\n",
      "  RHS range        [1e+00, 3e+16]\n",
      "Warning: Model contains large matrix coefficient range\n",
      "Warning: Model contains large rhs\n",
      "         Consider reformulating model or setting NumericFocus parameter\n",
      "         to avoid numerical issues.\n",
      "Presolve removed 6633 rows and 0 columns (presolve time = 5s) ...\n",
      "Presolve removed 8782 rows and 43761 columns (presolve time = 12s) ...\n",
      "Presolve removed 2127849 rows and 43762 columns (presolve time = 16s) ...\n",
      "Presolve removed 4246905 rows and 2162818 columns (presolve time = 20s) ...\n",
      "Presolve removed 4246905 rows and 2162818 columns (presolve time = 32s) ...\n",
      "Presolve removed 4246905 rows and 2162818 columns (presolve time = 36s) ...\n",
      "Presolve removed 4247081 rows and 2162818 columns (presolve time = 42s) ...\n",
      "Presolve removed 4247081 rows and 2162818 columns (presolve time = 47s) ...\n",
      "Presolve removed 4248130 rows and 2163867 columns (presolve time = 52s) ...\n",
      "Presolve removed 4248130 rows and 2163867 columns (presolve time = 55s) ...\n",
      "Presolve removed 4248164 rows and 2163867 columns (presolve time = 60s) ...\n",
      "Presolve removed 4248164 rows and 2163867 columns (presolve time = 65s) ...\n",
      "Presolve removed 4248164 rows and 2163867 columns (presolve time = 70s) ...\n",
      "Presolve removed 4248177 rows and 2163867 columns (presolve time = 75s) ...\n",
      "Presolve removed 4248182 rows and 2163872 columns (presolve time = 80s) ...\n",
      "Presolve removed 4248182 rows and 2163872 columns (presolve time = 85s) ...\n",
      "Presolve removed 4248182 rows and 2163872 columns (presolve time = 90s) ...\n",
      "Presolve removed 4248182 rows and 2163872 columns (presolve time = 96s) ...\n",
      "Presolve removed 4248182 rows and 2163872 columns (presolve time = 104s) ...\n",
      "Presolve removed 4248182 rows and 2163872 columns (presolve time = 106s) ...\n",
      "Presolve removed 4248182 rows and 2163872 columns (presolve time = 112s) ...\n",
      "Presolve removed 4248182 rows and 2163872 columns (presolve time = 115s) ...\n",
      "Presolve removed 4248182 rows and 2163872 columns (presolve time = 120s) ...\n",
      "Presolve removed 4248182 rows and 2163872 columns (presolve time = 130s) ...\n",
      "Presolve removed 4248182 rows and 2163872 columns (presolve time = 132s) ...\n",
      "Presolve removed 4248182 rows and 2163872 columns (presolve time = 135s) ...\n",
      "Presolve removed 4248182 rows and 2163872 columns (presolve time = 140s) ...\n",
      "Presolve removed 4248182 rows and 2163872 columns (presolve time = 145s) ...\n",
      "Presolve removed 4248182 rows and 2163872 columns (presolve time = 150s) ...\n",
      "Presolve removed 4248182 rows and 2163872 columns (presolve time = 155s) ...\n",
      "Presolve removed 4248182 rows and 2163872 columns (presolve time = 165s) ...\n",
      "Presolve removed 4248182 rows and 2163872 columns (presolve time = 179s) ...\n",
      "Presolve removed 4248182 rows and 2163872 columns (presolve time = 206s) ...\n",
      "Presolve removed 4248182 rows and 2163872 columns (presolve time = 210s) ...\n",
      "Presolve removed 4248182 rows and 2163872 columns (presolve time = 215s) ...\n",
      "Presolve removed 4248182 rows and 2163872 columns (presolve time = 220s) ...\n",
      "Presolve removed 4248182 rows and 2163872 columns (presolve time = 225s) ...\n",
      "Presolve removed 4248182 rows and 2163872 columns (presolve time = 233s) ...\n",
      "Presolve removed 4248182 rows and 2163872 columns (presolve time = 236s) ...\n",
      "Presolve removed 4248182 rows and 2163872 columns (presolve time = 243s) ...\n",
      "Presolve removed 4248182 rows and 2163872 columns (presolve time = 245s) ...\n",
      "Presolve removed 4248182 rows and 2163872 columns (presolve time = 250s) ...\n",
      "Presolve removed 4248182 rows and 2163872 columns (presolve time = 256s) ...\n",
      "Presolve removed 4248182 rows and 2163872 columns (presolve time = 264s) ...\n",
      "Presolve removed 4248182 rows and 2163872 columns (presolve time = 266s) ...\n",
      "Presolve removed 4248182 rows and 2163872 columns (presolve time = 272s) ...\n",
      "Presolve removed 4248182 rows and 2163872 columns (presolve time = 275s) ...\n",
      "Presolve removed 4248182 rows and 2163872 columns (presolve time = 280s) ...\n",
      "Presolve removed 4248182 rows and 2163872 columns (presolve time = 286s) ...\n",
      "Presolve removed 4248182 rows and 2163872 columns (presolve time = 290s) ...\n",
      "Presolve removed 4248182 rows and 2163872 columns (presolve time = 296s) ...\n",
      "Presolve removed 4248182 rows and 2163872 columns (presolve time = 300s) ...\n",
      "Presolve removed 4248182 rows and 2163872 columns (presolve time = 305s) ...\n",
      "Presolve removed 4248182 rows and 2163872 columns (presolve time = 310s) ...\n",
      "Presolve removed 4248182 rows and 2163872 columns (presolve time = 315s) ...\n",
      "Presolve removed 4248182 rows and 2163872 columns (presolve time = 320s) ...\n",
      "Presolve removed 4248182 rows and 2163872 columns (presolve time = 327s) ...\n",
      "Presolve removed 4248182 rows and 2163872 columns (presolve time = 339s) ...\n",
      "Presolve removed 4248182 rows and 2163872 columns (presolve time = 356s) ...\n",
      "Presolve removed 4248182 rows and 2163872 columns (presolve time = 360s) ...\n",
      "Presolve removed 4248182 rows and 2163872 columns (presolve time = 365s) ...\n",
      "Presolve removed 4248182 rows and 2163872 columns (presolve time = 374s) ...\n",
      "Presolve removed 4248182 rows and 2163872 columns (presolve time = 376s) ...\n",
      "Presolve removed 4248182 rows and 2163872 columns (presolve time = 382s) ...\n",
      "Presolve removed 4248182 rows and 2163872 columns (presolve time = 385s) ...\n",
      "Presolve removed 4248182 rows and 2163872 columns (presolve time = 391s) ...\n",
      "Presolve removed 4248182 rows and 2163872 columns (presolve time = 395s) ...\n",
      "Presolve removed 4248182 rows and 2163872 columns (presolve time = 400s) ...\n",
      "Presolve removed 4248182 rows and 2163872 columns (presolve time = 409s) ...\n",
      "Presolve removed 4248182 rows and 2163872 columns (presolve time = 415s) ...\n",
      "Presolve removed 4248182 rows and 2163872 columns\n",
      "Presolve time: 415.49s\n",
      "Presolved: 10157998 rows, 5087960 columns, 49910872 nonzeros\n",
      "Variable types: 0 continuous, 5087960 integer (5075126 binary)\n",
      "\n",
      "Deterministic concurrent LP optimizer: primal simplex, dual simplex, and barrier\n",
      "Showing barrier log only...\n",
      "\n",
      "Root barrier log...\n",
      "\n",
      "Ordering time: 2.13s\n",
      "\n",
      "Barrier statistics:\n",
      " Dense cols : 17680\n",
      " AA' NZ     : 5.040e+07\n",
      " Factor NZ  : 2.404e+08 (roughly 8.0 GB of memory)\n",
      " Factor Ops : 1.834e+12 (roughly 15 seconds per iteration)\n",
      " Threads    : 6\n"
     ]
    },
    {
     "ename": "",
     "evalue": "",
     "output_type": "error",
     "traceback": [
      "\u001b[1;31mThe Kernel crashed while executing code in the the current cell or a previous cell. Please review the code in the cell(s) to identify a possible cause of the failure. Click <a href='https://aka.ms/vscodeJupyterKernelCrash'>here</a> for more info. View Jupyter <a href='command:jupyter.viewOutput'>log</a> for further details."
     ]
    },
    {
     "ename": "",
     "evalue": "",
     "output_type": "error",
     "traceback": [
      "\u001b[1;31mCanceled future for execute_request message before replies were done"
     ]
    }
   ],
   "source": [
    "try: \n",
    "    m.optimize()\n",
    "except gp.GurobiError as E:\n",
    "    print(\"Optimize failed\", E)"
   ]
  },
  {
   "cell_type": "markdown",
   "id": "d768ef00-097d-49b4-8064-c13ddc1a2bac",
   "metadata": {},
   "source": [
    "## Output Schedule"
   ]
  },
  {
   "cell_type": "code",
   "execution_count": null,
   "id": "4d86a396-10b7-4a7b-b8b2-f9e43a31da9b",
   "metadata": {},
   "outputs": [],
   "source": [
    "## GCL\n",
    "GCL = []\n",
    "for i in task_attr:\n",
    "    period = task.loc[i, 'period']\n",
    "    for e_i in index_to_link:\n",
    "        link = index_to_link[e_i]\n",
    "        if x[i][e_i].x > 0:\n",
    "            s = start[i][e_i].x\n",
    "            e = end[i][e_i].x\n",
    "            queue = 0\n",
    "            for k in range(int(LCM / period)):\n",
    "                GCL.append(\n",
    "                    [eval(link), 0, int(s + k * period) * macrotick, int(e + k * period) * macrotick, LCM * macrotick]\n",
    "                )"
   ]
  },
  {
   "cell_type": "code",
   "execution_count": null,
   "id": "614438f8-bca4-403f-8bac-299c8103d920",
   "metadata": {},
   "outputs": [],
   "source": [
    "## Offset\n",
    "OFFSET = []\n",
    "for i in task_attr:\n",
    "    start_link = [link for link in link_out[task_attr[i]['src']] if x[i][link_to_index[link]].x > 0][0]\n",
    "    offset = start[i, link_to_index[start_link]].x\n",
    "    OFFSET.append(\n",
    "        [i, 0, (task.loc[i,'period'] - offset) * macrotick]\n",
    "    )    "
   ]
  },
  {
   "cell_type": "code",
   "execution_count": null,
   "id": "0c7a4c71-22d7-40b9-8fc0-28a5367105fc",
   "metadata": {},
   "outputs": [],
   "source": [
    "ROUTE = []\n",
    "for i in task_attr:\n",
    "    for k, rr in enumerate(x[i]):\n",
    "        if rr.x > 0:\n",
    "            ROUTE.append(\n",
    "                [i, eval(index_to_link[k])]\n",
    "            )"
   ]
  },
  {
   "cell_type": "code",
   "execution_count": null,
   "id": "29549758-281e-4b00-9aec-5e800868f54a",
   "metadata": {},
   "outputs": [],
   "source": [
    "QUEUE = []\n",
    "for i in task_attr:\n",
    "    for k, rr in enumerate(x[i]):\n",
    "        if rr.x > 0:\n",
    "            e = index_to_link[k]\n",
    "            QUEUE.append([i, 0, eval(e), 0])"
   ]
  },
  {
   "cell_type": "code",
   "execution_count": null,
   "id": "c4c4c234-eb64-47ff-a170-096b4a56cd6b",
   "metadata": {},
   "outputs": [],
   "source": [
    "GCL = pd.DataFrame(GCL)\n",
    "GCL.columns = [\"link\", \"queue\", \"start\", \"end\", \"cycle\"]\n",
    "GCL.to_csv(\"RTNS2021-%s-%d-%s-GCL.csv\"%(DATA_NAME,NUM_FLOW,TOPO_NAME), index=False)\n",
    "\n",
    "OFFSET = pd.DataFrame(OFFSET)\n",
    "OFFSET.columns = ['id', 'ins_id', 'offset']\n",
    "OFFSET.to_csv(\"RTNS2021-%s-%d-%s-OFFSET.csv\"%(DATA_NAME,NUM_FLOW,TOPO_NAME), index=False)\n",
    "\n",
    "ROUTE = pd.DataFrame(ROUTE)\n",
    "ROUTE.columns = ['id', 'link']\n",
    "ROUTE.to_csv(\"RTNS2021-%s-%d-%s-ROUTE.csv\"%(DATA_NAME,NUM_FLOW,TOPO_NAME), index=False)\n",
    "\n",
    "QUEUE = pd.DataFrame(QUEUE)\n",
    "QUEUE.columns = ['id','ins_id','link','queue']\n",
    "QUEUE.to_csv(\"RTNS2021-%s-%d-%s-QUEUE.csv\"%(DATA_NAME,NUM_FLOW,TOPO_NAME), index=False)"
   ]
  },
  {
   "cell_type": "code",
   "execution_count": null,
   "id": "3d7aa537-4d4a-410a-991c-a54e93e6be9e",
   "metadata": {},
   "outputs": [],
   "source": []
  }
 ],
 "metadata": {
  "kernelspec": {
   "display_name": "Python 3.8.10 64-bit",
   "language": "python",
   "name": "python3"
  },
  "language_info": {
   "codemirror_mode": {
    "name": "ipython",
    "version": 3
   },
   "file_extension": ".py",
   "mimetype": "text/x-python",
   "name": "python",
   "nbconvert_exporter": "python",
   "pygments_lexer": "ipython3",
   "version": "3.9.13"
  },
  "vscode": {
   "interpreter": {
    "hash": "767d51c1340bd893661ea55ea3124f6de3c7a262a8b4abca0554b478b1e2ff90"
   }
  }
 },
 "nbformat": 4,
 "nbformat_minor": 5
}

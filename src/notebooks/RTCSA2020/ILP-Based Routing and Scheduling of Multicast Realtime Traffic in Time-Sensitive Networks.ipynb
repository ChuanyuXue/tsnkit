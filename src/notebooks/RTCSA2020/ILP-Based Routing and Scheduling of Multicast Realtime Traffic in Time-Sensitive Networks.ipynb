{
 "cells": [
  {
   "cell_type": "code",
   "execution_count": 79,
   "id": "063858ff",
   "metadata": {},
   "outputs": [],
   "source": [
    "import pandas as pd\n",
    "import numpy as np\n",
    "from tqdm import tqdm\n",
    "\n",
    "import gurobipy as gp\n",
    "from gurobipy import GRB"
   ]
  },
  {
   "cell_type": "code",
   "execution_count": 80,
   "id": "226f5f28",
   "metadata": {},
   "outputs": [],
   "source": [
    "macrotick = 100\n",
    "sync_error = 0\n",
    "time_out = 4 * 60 * 60\n",
    "\n",
    "NUM_FLOW = 18\n",
    "DATA_NAME = \"harmonic12\"\n",
    "TOPO_NAME = \"0\"\n",
    "\n",
    "task = pd.read_csv(\"../../dac_data/%s.csv\"%DATA_NAME)[:NUM_FLOW]\n",
    "network = pd.read_csv(\"../../dac_data/%s_topology.csv\"%TOPO_NAME)\n",
    "for col in ['size','period','deadline','jitter']:\n",
    "    task[col] = np.ceil(task[col] / macrotick).astype(int)\n",
    "for col in ['t_proc','t_prop']:\n",
    "    network[col] = np.ceil(network[col] / macrotick).astype(int)\n",
    "    \n",
    "nodes = list(network['link'].apply(lambda x:eval(x)[0])) + \\\n",
    "    list(network['link'].apply(lambda x:eval(x)[1]))\n",
    "NODE_SET = list(set(nodes))\n",
    "ES_set = [x for x in NODE_SET if nodes.count(x) == 2]\n",
    "SW_set = list(set(NODE_SET) - set(ES_set))\n",
    "LCM = np.lcm.reduce(task['period'])\n",
    "net = np.zeros(shape = (max(NODE_SET) + 1, max(NODE_SET) + 1))"
   ]
  },
  {
   "cell_type": "code",
   "execution_count": 81,
   "id": "0de3510b-9046-4798-99dc-fffcdda8f7ac",
   "metadata": {},
   "outputs": [
    {
     "data": {
      "text/plain": [
       "'\\nThere is a bug in the overlap constraints that causes overlap when window-start of f_j is set to x + 1 and window-close of i is set to x. \\nThe bug is fixed when we change x+1 to x+5.\\n'"
      ]
     },
     "execution_count": 81,
     "metadata": {},
     "output_type": "execute_result"
    }
   ],
   "source": [
    "'''\n",
    "There is a bug in the overlap constraints that causes overlap when window-start of f_j is set to x + 1 and window-close of i is set to x. \n",
    "The bug is fixed when we change x+1 to x+5.\n",
    "'''"
   ]
  },
  {
   "cell_type": "markdown",
   "id": "8e2539c5",
   "metadata": {},
   "source": [
    "## 1. Model"
   ]
  },
  {
   "cell_type": "code",
   "execution_count": 82,
   "id": "5d538353",
   "metadata": {},
   "outputs": [],
   "source": [
    "M = int(1e16)"
   ]
  },
  {
   "cell_type": "code",
   "execution_count": 83,
   "id": "86359374",
   "metadata": {},
   "outputs": [],
   "source": [
    "m = gp.Model(\"RTCSA2020\")"
   ]
  },
  {
   "cell_type": "markdown",
   "id": "b04d8e28",
   "metadata": {},
   "source": [
    "Network model\n",
    "\n",
    "$I=(V, E, D)$"
   ]
  },
  {
   "cell_type": "code",
   "execution_count": 84,
   "id": "d8fa9f32",
   "metadata": {},
   "outputs": [],
   "source": [
    "net_var = {}\n",
    "\n",
    "for _, row in network.iterrows():\n",
    "    net_var.setdefault(eval(row['link'])[0], {})\n",
    "    net_var[eval(row['link'])[0]]['msd'] = row['t_proc']\n",
    "    net[eval(row['link'])[0], eval(row['link'])[1]] = 1\n",
    "\n",
    "## Create mapping from Link to index\n",
    "link_to_index = {}\n",
    "index_to_link = {}\n",
    "\n",
    "counter = 0\n",
    "for _, row in network.iterrows():\n",
    "    link = row['link']\n",
    "    link_to_index[link] = counter\n",
    "    index_to_link[counter] = link\n",
    "    counter += 1\n"
   ]
  },
  {
   "cell_type": "markdown",
   "id": "43425b12",
   "metadata": {},
   "source": [
    "Task model\n",
    "\n"
   ]
  },
  {
   "cell_type": "markdown",
   "id": "d768e318",
   "metadata": {},
   "source": [
    "\\begin{equation}\n",
    "\\begin{array}{ll}\n",
    "p_{k m} & \\text { binary: } 1 \\text { if flow } f_{k} \\text { is routed via link } m \\in E \\\\\n",
    "a_{k l m u v} & \\text { binary: } 1 \\text { if } f_{k} \\text { is scheduled before } f_{l} \\text { on } m(\\mathrm{cf} .(7) \\text { and (8)) } \\\\\n",
    "o_{k m} & \\text { integer: number of offset cycles for transmission start of } f_{k} \\text { on } m \\\\\n",
    "t_{k m} & \\text { integer: transmission start of } f_{k} \\text { on } m \\text { within interval }\\left[0, f_{k} \\cdot c t-1\\right] \\\\\n",
    "\\hline\n",
    "\\end{array}\n",
    "\\end{equation}"
   ]
  },
  {
   "cell_type": "code",
   "execution_count": 85,
   "id": "455a7a6b",
   "metadata": {},
   "outputs": [],
   "source": [
    "p = m.addMVar(shape=(len(task), len(link_to_index)), vtype=GRB.BINARY , name=\"routing\")\n",
    "t = m.addMVar(shape=(len(task), len(link_to_index)), vtype=GRB.INTEGER , name=\"time_start\")"
   ]
  },
  {
   "cell_type": "markdown",
   "id": "46cdcea8",
   "metadata": {},
   "source": [
    "$$f_{k}=\\left(src_{k}, dst_{k}, ct_{k}, rsl_{k}, ml_{k}\\right)$$"
   ]
  },
  {
   "cell_type": "code",
   "execution_count": 86,
   "id": "803cd918",
   "metadata": {},
   "outputs": [],
   "source": [
    "task_attr = {}\n",
    "for k, row in task.iterrows():\n",
    "#     task_var.setdefault(k, {})\n",
    "    task_attr.setdefault(k, {})\n",
    "    \n",
    "    ## f_k\n",
    "    task_attr[k]['src'] = int(row['src'])\n",
    "    task_attr[k]['dst'] = eval(row['dst']) if isinstance(row['dst'], str) else [row['dst']]\n",
    "    task_attr[k]['ct'] = int(row['period'])\n",
    "    task_attr[k]['rsl'] = int(row['size'] * 8)\n",
    "    task_attr[k]['ml'] = int(row['deadline'])\n",
    "    \n",
    "    ## Bound the t matrix\n",
    "    for j in index_to_link:\n",
    "        m.addConstr(t[k][j] <= task_attr[k]['ct'] - task_attr[k]['rsl'])\n",
    "        \n",
    "#     for _, row in network.iterrows():\n",
    "#         link = row['Link']\n",
    "#         task_var[k].setdefault(link, {})\n",
    "#         ## Routing\n",
    "#         task_var[k][link]['route'] = m.addVar(vtype=GRB.BINARY , name=\"x_%d_%s\"%(k, link))\n",
    "#         ## Scheduling\n",
    "#         task_var[k][link]['flow_start'] = m.addVar(vtype=GRB.INTEGER , name=\"t_%d_%s\"%(k, link))\n",
    "#         task_var[k][link]['flow_offset'] = m.addVar(vtype=GRB.INTEGER , name=\"o_%d_%s\"%(k, link))"
   ]
  },
  {
   "cell_type": "markdown",
   "id": "80732bcf",
   "metadata": {},
   "source": [
    "## 2. Route preprocessing"
   ]
  },
  {
   "cell_type": "code",
   "execution_count": 87,
   "id": "97592d62",
   "metadata": {},
   "outputs": [],
   "source": [
    "link_in = {}\n",
    "link_out = {}\n",
    "for link in link_to_index.keys():\n",
    "    link = eval(link)\n",
    "    link_in.setdefault(link[1], [])\n",
    "    link_in[link[1]].append(str(link))\n",
    "    link_out.setdefault(link[0], [])\n",
    "    link_out[link[0]].append(str(link))"
   ]
  },
  {
   "cell_type": "code",
   "execution_count": 88,
   "id": "fea2af40",
   "metadata": {},
   "outputs": [],
   "source": [
    "vk = {}\n",
    "for k in task_attr:\n",
    "    vk[k] = []\n",
    "    vk[k] += list(SW_set)\n",
    "    vk[k] += list([task_attr[k]['src']])\n",
    "    vk[k] += task_attr[k]['dst']"
   ]
  },
  {
   "cell_type": "markdown",
   "id": "5c529ea6",
   "metadata": {},
   "source": []
  },
  {
   "cell_type": "markdown",
   "id": "e05758be",
   "metadata": {},
   "source": [
    "## 3. Constraints"
   ]
  },
  {
   "cell_type": "markdown",
   "id": "d2447fbd",
   "metadata": {},
   "source": [
    "### 3.1 Multicast routing"
   ]
  },
  {
   "cell_type": "markdown",
   "id": "80f6f51a",
   "metadata": {},
   "source": [
    "$\\forall k \\in F, \\forall i \\in f_{k} . d s t s:$\n",
    "$$\n",
    "\\sum_{\\bar{m} \\in \\breve{E}_{k i}} p_{k \\bar{m}}=1\n",
    "$$"
   ]
  },
  {
   "cell_type": "code",
   "execution_count": 89,
   "id": "36532110",
   "metadata": {},
   "outputs": [],
   "source": [
    "for k in task_attr:\n",
    "    for i in task_attr[k]['dst']:\n",
    "        m.addConstr(\n",
    "            gp.quicksum(\n",
    "               p[k][link_to_index[link]] for link in link_in[i]\n",
    "            ) == 1\n",
    "        )\n",
    "    for v in ES_set:\n",
    "        m.addConstr(\n",
    "            gp.quicksum(p[k][link_to_index[link]] for link in link_in[v]\n",
    "                        if v not in task_attr[k]['dst']) == 0)\n",
    "\n",
    "## Have to specific the source\n",
    "for k in task_attr:\n",
    "    m.addConstr(\n",
    "        gp.quicksum(\n",
    "               p[k][link_to_index[link]] for link in link_out[task_attr[k]['src']]\n",
    "        ) == 1\n",
    "    )\n",
    "    m.addConstr(\n",
    "        gp.quicksum(\n",
    "               p[k][link_to_index[link]] for link in link_in[task_attr[k]['src']]\n",
    "        ) == 0\n",
    "    )\n",
    "    for v in ES_set:\n",
    "        m.addConstr(\n",
    "            gp.quicksum(\n",
    "                   p[k][link_to_index[link]] for link in link_out[v] if v != task_attr[k]['src']\n",
    "            ) == 0\n",
    "        )\n"
   ]
  },
  {
   "cell_type": "markdown",
   "id": "bbad1695",
   "metadata": {},
   "source": [
    "\\begin{equation}\n",
    "\\begin{array}{l}\n",
    "\\forall k \\in F, \\forall i \\in V_{k} \\backslash\\left\\{f_{k} . s r c\\right\\}: \\\\\n",
    "\\sum_{\\widehat{m} \\in \\widehat{E}_{k i}} p_{k \\widehat{m}} \\leqslant \\sum_{\\widetilde{m} \\in \\breve{E}_{k i}} p_{k \\widetilde{m}} \\cdot M_{2}\n",
    "\\end{array}\n",
    "\\end{equation}"
   ]
  },
  {
   "cell_type": "code",
   "execution_count": 90,
   "id": "a03d1643",
   "metadata": {},
   "outputs": [],
   "source": [
    "for k in task_attr:\n",
    "    for i in set(vk[k]) - set([task_attr[k]['src']]):\n",
    "        m.addConstr(\n",
    "            gp.quicksum(\n",
    "                p[k][link_to_index[link]] for link in link_out[i]\n",
    "            )\n",
    "            <=\n",
    "            gp.quicksum(\n",
    "                p[k][link_to_index[link]] for link in link_in[i]\n",
    "            ) * M\n",
    "        )\n",
    "#     ## This constraint is required to prune the paths ending in switches\n",
    "#     for i in set(vk[k]) - set(task_attr[k]['dst']):\n",
    "#         m.addConstr(\n",
    "#             gp.quicksum(\n",
    "#                 p[k][link_to_index[link]] for link in link_in[i]\n",
    "#             )\n",
    "#             <=\n",
    "#             gp.quicksum(\n",
    "#                 p[k][link_to_index[link]] for link in link_out[i]\n",
    "#             )\n",
    "#         )"
   ]
  },
  {
   "cell_type": "markdown",
   "id": "a8f5cc0f",
   "metadata": {},
   "source": [
    "\\begin{aligned}\n",
    "&\\forall k \\in F, \\forall i \\in V_{k} \\backslash\\left\\{f_{k} \\cdot s r c\\right\\}, \\forall \\widehat{m} \\in \\widehat{E}_{k i}: \\\\\n",
    "&p_{k \\widehat{m}} \\leqslant \\sum_{\\widetilde{m} \\in \\breve{E}_{k i} \\mid \\widetilde{m}_{0} \\neq \\widehat{m}_{1}} p_{k \\widetilde{m}}\n",
    "\\end{aligned}"
   ]
  },
  {
   "cell_type": "code",
   "execution_count": 91,
   "id": "94854b9a",
   "metadata": {},
   "outputs": [],
   "source": [
    "# for k in task_attr:\n",
    "#     for i in set(vk[k]) - set([task_attr[k]['src']]):\n",
    "#         for m_out in link_out[i]:\n",
    "#             p[k][link_to_index[m_out]] <= gp.quicksum(\n",
    "#                 p[k][link_to_index[link]] for link in link_in[i] if eval(link)[0] != eval(m_out)[1]\n",
    "#             )"
   ]
  },
  {
   "cell_type": "markdown",
   "id": "785ec823",
   "metadata": {},
   "source": [
    "### 3.2 Multicast Path Scheduling"
   ]
  },
  {
   "cell_type": "markdown",
   "id": "8767b9ad",
   "metadata": {},
   "source": [
    "$$t_{-} d_{k m n}=\\left(o_{k n} \\cdot f_{k} . c t+t_{k n}\\right)-\\left(o_{k m} \\cdot f_{k} . c t+t_{k m}\\right)$$"
   ]
  },
  {
   "cell_type": "markdown",
   "id": "9ba42a5d",
   "metadata": {},
   "source": [
    "Intuitive Path Scheduling"
   ]
  },
  {
   "cell_type": "markdown",
   "id": "f1e51dff",
   "metadata": {},
   "source": [
    "\\begin{array}{r}\n",
    "\\forall k \\in F, \\forall i \\in V_{k} \\backslash\\left\\{f_{k} . s r c\\right\\}, \\forall \\widehat{m} \\in \\widehat{E}_{k i}, \\forall \\check{m} \\in \\check{E}_{k i}: \\\\\n",
    "t_{-} d_{k \\bar{m} \\widehat{m}} \\geqslant v_{i} . m s d-M_{4} \\cdot\\left(1-p_{k \\widetilde{m}}\\right)\n",
    "\\end{array}"
   ]
  },
  {
   "cell_type": "code",
   "execution_count": 92,
   "id": "340cf459",
   "metadata": {},
   "outputs": [],
   "source": [
    "for k in task_attr:\n",
    "    for i in set(vk[k]) - set([task_attr[k]['src']]):\n",
    "        for m_out in link_out[i]:\n",
    "            m_out = link_to_index[m_out]\n",
    "            for m_in in link_in[i]:\n",
    "                m_in = link_to_index[m_in]\n",
    "                m.addConstr(\n",
    "                    (t[k][m_out]) - \n",
    "                    (t[k][m_in]) >=\n",
    "                    net_var[i]['msd'] + task_attr[k]['rsl'] - M * (1 - p[k][m_out])\n",
    "                )\n",
    "                "
   ]
  },
  {
   "cell_type": "markdown",
   "id": "3abbf5c3",
   "metadata": {},
   "source": [
    "Shortest Path Consideration"
   ]
  },
  {
   "cell_type": "markdown",
   "id": "821e38af",
   "metadata": {},
   "source": [
    "\\begin{gathered}\n",
    "\\forall k \\in F, \\forall \\hat{m} \\in \\widehat{E}_{k f_{k} . s r c}, \\forall m \\in E_{k} \\mid m_{0} \\neq f_{k} . s r c: \\\\\n",
    "t_{-} d_{k \\widehat{m} m} \\geqslant \\sum_{i \\in S P\\left(f_{k} \\cdot s r c, m_{0}\\right)} v_{i} \\cdot m s d\n",
    "\\end{gathered}"
   ]
  },
  {
   "cell_type": "code",
   "execution_count": 93,
   "id": "81ac463d",
   "metadata": {},
   "outputs": [],
   "source": [
    "## Shortest path\n",
    "def bfs_paths(graph, start, goal):\n",
    "    queue = [(start, [start])]\n",
    "    while queue:\n",
    "        (vertex, path) = queue.pop(0)\n",
    "        for _next in set(np.reshape(np.argwhere(graph[vertex] > 0),  -1)) - set(path):\n",
    "            if _next == goal:\n",
    "                yield path + [_next]\n",
    "            else:\n",
    "                queue.append((_next, path + [_next]))"
   ]
  },
  {
   "cell_type": "code",
   "execution_count": 94,
   "id": "780ee67b",
   "metadata": {},
   "outputs": [],
   "source": [
    "# for k in task_attr:\n",
    "#     for m_out in link_out[task_attr[k]['src']]:\n",
    "#         for link in [link for link in link_to_index if eval(link)[0] != task_attr[k]['src']]:\n",
    "#             m.addConstr(\n",
    "#                 (t[k][link_to_index[link]]) - \n",
    "#                 (t[k][link_to_index[m_out]]) >=\n",
    "#                 gp.quicksum([net_var[v]['msd'] + task_attr[k]['rsl'] for v in next(bfs_paths(net, task_attr[k]['src'], eval(link)[0]))[:-1]])\n",
    "#             )"
   ]
  },
  {
   "cell_type": "markdown",
   "id": "237ee6ee",
   "metadata": {},
   "source": [
    "Path Dependency Reduction"
   ]
  },
  {
   "cell_type": "markdown",
   "id": "6266c28a",
   "metadata": {},
   "source": [
    "$$t_{-} d_{k \\widetilde{m} \\widehat{m}} \\geqslant v_{i} . m s d$$"
   ]
  },
  {
   "cell_type": "code",
   "execution_count": 95,
   "id": "ac59cd82",
   "metadata": {},
   "outputs": [],
   "source": [
    "# for k in tqdm(task_attr):\n",
    "#     for i in range(NUM_SW):\n",
    "#         for m_in in link_in[i]:\n",
    "#             for m_out in link_out[i]:\n",
    "#                 m.addConstr(\n",
    "#                     t[k][link_to_index[m_out]] - \n",
    "#                     t[k][link_to_index[m_in]] >=\n",
    "#                     net_var[v]['msd'] + task_attr[k]['rsl']\n",
    "#                 )"
   ]
  },
  {
   "cell_type": "markdown",
   "id": "bc063da5",
   "metadata": {},
   "source": [
    "### 3.3 Resource Constraints"
   ]
  },
  {
   "cell_type": "markdown",
   "id": "2ac7f8cd",
   "metadata": {},
   "source": [
    "\\begin{aligned}\n",
    "&\\forall(k, l) \\in F^{2} \\mid l>k, \\forall m \\in E_{k} \\cap E_{l} \\text {, }\\\\\n",
    "&\\forall(u, v) \\in \\mathbb{N}^{2} \\mid u \\leqslant \\frac{l c m\\left(f_{k} \\cdot c t, f_{l} \\cdot c t\\right)}{f_{k} \\cdot c t} \\wedge v \\leqslant \\frac{l c m\\left(f_{k} \\cdot c t, f_{l} . c t\\right)}{f_{l} . c t} \\text { : }\\\\\n",
    "&\\left(t_{l m}+v \\cdot f_{l} . c t\\right)-\\left(t_{k m}+u \\cdot f_{k} . c t\\right)\\\\\n",
    "&\\geqslant f_{k} \\cdot r s l-M_{7} \\cdot\\left(3-a_{k l m u v}-p_{k m}-p_{l m}\\right)\\\\\n",
    "&\\left(t_{k m}+u \\cdot f_{k} . c t\\right)-\\left(t_{l m}+v \\cdot f_{l} . c t\\right)\\\\\n",
    "&\\geqslant f_{l} \\cdot r s l-M_{8} \\cdot\\left(2+a_{k l m u v}-p_{k m}-p_{l m}\\right)\n",
    "\\end{aligned}"
   ]
  },
  {
   "cell_type": "code",
   "execution_count": 96,
   "id": "6d3c42cb",
   "metadata": {},
   "outputs": [],
   "source": [
    "for k, l in [(k, l) for k in task_attr for l in task_attr if k < l]:\n",
    "    for link in index_to_link:\n",
    "        ctl, ctk = int(task_attr[l]['ct']), int(task_attr[k]['ct'])\n",
    "        t_ijl, t_ijk = t[l][link], t[k][link]\n",
    "        rsl_k, rsl_l = task_attr[k]['rsl'], task_attr[l]['rsl']\n",
    "        for u, v in [(u, v) \n",
    "                         for u in range(0, int(np.lcm(ctk, ctl) / ctk)) \n",
    "                         for v in range(0, int(np.lcm(ctk, ctl) / ctl))]:\n",
    "            _inte = m.addVar(vtype= GRB.BINARY, name = \"%s%d%d%d%d\"%(link, k, l, u, v))\n",
    "            m.addConstr((t_ijl + v * ctl) - (t_ijk + u * ctk) \n",
    "                        >= rsl_k - M * (3 - _inte - p[k][link] - p[l][link])) \n",
    "            m.addConstr((t_ijk + u * ctk) - (t_ijl + v * ctl)\n",
    "                       >= rsl_l - M * (2 + _inte - p[k][link] - p[l][link])) "
   ]
  },
  {
   "cell_type": "markdown",
   "id": "aa5da15d",
   "metadata": {},
   "source": [
    "### 3.4 Application Constraints"
   ]
  },
  {
   "cell_type": "markdown",
   "id": "c2a90870",
   "metadata": {},
   "source": [
    "$$l t_{k i}=\\sum_{\\bar{m} \\in \\breve{E}_{k i}}\\left(o_{k \\bar{m}} \\cdot f_{k} \\cdot c t+t_{k \\bar{m}}\\right)-\\sum_{\\widehat{m} \\in \\widehat{E}_{k f_{k} \\cdot s r c}}\\left(o_{k \\widehat{m}} \\cdot f_{k} \\cdot c t+t_{k \\widehat{m}}\\right)$$"
   ]
  },
  {
   "cell_type": "markdown",
   "id": "8f6fcaa5",
   "metadata": {},
   "source": [
    "$\\forall k \\in F, \\forall i \\in f_{k} . d s t s:$\n",
    "$$\n",
    "l t_{k i}+f_{k} \\cdot r s l \\leqslant f_{k} \\cdot m l\n",
    "$$"
   ]
  },
  {
   "cell_type": "code",
   "execution_count": 97,
   "id": "fed83740",
   "metadata": {},
   "outputs": [],
   "source": [
    "for k in task_attr:\n",
    "    for i in task_attr[k]['dst']:\n",
    "        m.addConstr(\n",
    "            gp.quicksum(t[k][link_to_index[link]] for link in link_in[i])\n",
    "            - \n",
    "            gp.quicksum(t[k][link_to_index[link]] for link in link_out[task_attr[k]['src']])\n",
    "            + task_attr[k]['rsl'] + net_var[eval(link_in[i][0])[0]]['msd'] <= task_attr[k]['ml']\n",
    "        )"
   ]
  },
  {
   "cell_type": "markdown",
   "id": "b0699c1d",
   "metadata": {},
   "source": [
    "## 4.Optimization"
   ]
  },
  {
   "cell_type": "markdown",
   "id": "700b73c0",
   "metadata": {},
   "source": [
    "Flow Latency Minimization"
   ]
  },
  {
   "cell_type": "markdown",
   "id": "1ff8edb7",
   "metadata": {},
   "source": [
    "$$\\operatorname{Minimize} \\sum_{k \\in F} \\sum_{i \\in f_{k} . d s t s} l t_{k i}$$"
   ]
  },
  {
   "cell_type": "code",
   "execution_count": 98,
   "id": "e95c8e76",
   "metadata": {},
   "outputs": [],
   "source": [
    "# m.setObjective(\n",
    "#     gp.quicksum(\n",
    "#         gp.quicksum(\n",
    "#             gp.quicksum(o[k][link_to_index[link]] * task_attr[k]['ct']\n",
    "#                         + t[k][link_to_index[link]] for link in link_in[i])\n",
    "#             - \n",
    "#             gp.quicksum(o[k][link_to_index[link]] * task_attr[k]['ct']\n",
    "#                         + t[k][link_to_index[link]] for link in link_out[task_attr[k]['src']])\n",
    "#             for i in task_attr[k]['dst']\n",
    "#         )\n",
    "        \n",
    "#     for k in task_attr\n",
    "#     )\n",
    "#     ,GRB.MINIMIZE)"
   ]
  },
  {
   "cell_type": "markdown",
   "id": "5f6e4b4c",
   "metadata": {},
   "source": [
    "Shortest Path with Secondary Latency Minimization"
   ]
  },
  {
   "cell_type": "markdown",
   "id": "209d4ba3",
   "metadata": {},
   "source": [
    "$$\\text { Minimize } \\sum_{k \\in F} \\sum_{m \\in E_{k}} p_{k m}$$"
   ]
  },
  {
   "cell_type": "code",
   "execution_count": 99,
   "id": "40a43667",
   "metadata": {},
   "outputs": [],
   "source": [
    "# m.setObjective(\n",
    "#     gp.quicksum(\n",
    "#         gp.quicksum(\n",
    "#             p[k][link_to_index[m]]\n",
    "#             for m in link_to_index\n",
    "#         )\n",
    "        \n",
    "#     for k in task_attr\n",
    "#     )\n",
    "#     ,GRB.MINIMIZE)"
   ]
  },
  {
   "cell_type": "code",
   "execution_count": 100,
   "id": "d96efde6",
   "metadata": {},
   "outputs": [
    {
     "name": "stdout",
     "output_type": "stream",
     "text": [
      "Gurobi Optimizer version 9.5.1 build v9.5.1rc2 (mac64[arm])\n",
      "Thread count: 10 physical cores, 10 logical processors, using up to 10 threads\n",
      "Optimize a model with 24696 rows, 12330 columns and 117612 nonzeros\n",
      "Model fingerprint: 0x08c17531\n",
      "Variable types: 0 continuous, 12330 integer (11790 binary)\n",
      "Coefficient statistics:\n",
      "  Matrix range     [1e+00, 1e+16]\n",
      "  Objective range  [0e+00, 0e+00]\n",
      "  Bounds range     [1e+00, 1e+00]\n",
      "  RHS range        [1e+00, 3e+16]\n",
      "Warning: Model contains large matrix coefficient range\n",
      "Warning: Model contains large rhs\n",
      "         Consider reformulating model or setting NumericFocus parameter\n",
      "         to avoid numerical issues.\n",
      "Presolve removed 23565 rows and 11726 columns\n",
      "Presolve time: 0.13s\n",
      "Presolved: 1131 rows, 604 columns, 3921 nonzeros\n",
      "Variable types: 0 continuous, 604 integer (489 binary)\n",
      "Found heuristic solution: objective 0.0000000\n",
      "\n",
      "Explored 0 nodes (0 simplex iterations) in 0.15 seconds (0.29 work units)\n",
      "Thread count was 10 (of 10 available processors)\n",
      "\n",
      "Solution count 1: 0 \n",
      "\n",
      "Optimal solution found (tolerance 1.00e-04)\n",
      "Best objective 0.000000000000e+00, best bound 0.000000000000e+00, gap 0.0000%\n"
     ]
    }
   ],
   "source": [
    "try: \n",
    "    m.optimize()\n",
    "except gp.GurobiError as E:\n",
    "    print(\"Optimize failed\", E)"
   ]
  },
  {
   "cell_type": "code",
   "execution_count": 101,
   "id": "af219b34",
   "metadata": {},
   "outputs": [
    {
     "data": {
      "text/plain": [
       "2"
      ]
     },
     "execution_count": 101,
     "metadata": {},
     "output_type": "execute_result"
    }
   ],
   "source": [
    "m.status"
   ]
  },
  {
   "cell_type": "markdown",
   "id": "5bfbd19d",
   "metadata": {},
   "source": [
    "## Output schedule"
   ]
  },
  {
   "cell_type": "code",
   "execution_count": 102,
   "id": "c2fe8aad",
   "metadata": {},
   "outputs": [],
   "source": [
    "queue_count = {}\n",
    "queue_log = {}\n",
    "GCL = []\n",
    "for i in task_attr:\n",
    "    for e in [index_to_link[ei] for ei, x in enumerate(p[i]) if x.x > 0]:\n",
    "        queue_count.setdefault(e, 0)\n",
    "        start = t[i][link_to_index[e]].x\n",
    "        end = start + task_attr[i]['rsl']\n",
    "        queue = queue_count[e]\n",
    "        p_task = task.loc[i, 'period']\n",
    "        for k in range(int(LCM / p_task)):\n",
    "            GCL.append(\n",
    "                [eval(e), queue, int(start + k * p_task) * macrotick, int(end + k * p_task) * macrotick, LCM * macrotick]\n",
    "            )\n",
    "        queue_log[(i, e)] = queue\n",
    "        queue_count[e] += 1"
   ]
  },
  {
   "cell_type": "code",
   "execution_count": 103,
   "id": "0833af0a-bdb3-40e9-ae51-a2c7bb1370f4",
   "metadata": {},
   "outputs": [],
   "source": [
    "OFFSET = []\n",
    "for i in task_attr:\n",
    "    for e in [index_to_link[ei] for ei, x in enumerate(p[i]) if x.x > 0]:\n",
    "        if eval(e)[0] == task_attr[i]['src']:\n",
    "            OFFSET.append(\n",
    "                [i, 0, (task.loc[i, 'period'] - t[i][link_to_index[e]].x) * macrotick]\n",
    "            )"
   ]
  },
  {
   "cell_type": "code",
   "execution_count": 104,
   "id": "a047fd08-ad08-40fe-8369-d82f54804197",
   "metadata": {},
   "outputs": [],
   "source": [
    "ROUTE = []\n",
    "for i, row in task.iterrows():\n",
    "    for link in [index_to_link[ei] for ei, x in enumerate(p[i]) if x.x > 0]:\n",
    "        ROUTE.append([i, link])"
   ]
  },
  {
   "cell_type": "code",
   "execution_count": 105,
   "id": "0412712b-d0e1-4a7c-9b32-e9cebe6c9687",
   "metadata": {},
   "outputs": [],
   "source": [
    "QUEUE = []\n",
    "for i in task_attr:\n",
    "    for e in [index_to_link[ei] for ei, x in enumerate(p[i]) if x.x > 0]:\n",
    "        QUEUE.append([i, 0, e, queue_log[(i, e)]])"
   ]
  },
  {
   "cell_type": "code",
   "execution_count": 106,
   "id": "9c4c12dd",
   "metadata": {},
   "outputs": [],
   "source": [
    "GCL = pd.DataFrame(GCL)\n",
    "GCL.columns = [\"link\", \"queue\", \"start\", \"end\", \"cycle\"]\n",
    "GCL.to_csv(\"RTCSA2020-%s-%d-%s-GCL.csv\"%(DATA_NAME,NUM_FLOW,TOPO_NAME), index=False)\n",
    "\n",
    "OFFSET = pd.DataFrame(OFFSET)\n",
    "OFFSET.columns = ['id', 'ins_id', 'offset']\n",
    "OFFSET.to_csv(\"RTCSA2020-%s-%d-%s-OFFSET.csv\"%(DATA_NAME,NUM_FLOW,TOPO_NAME), index=False)\n",
    "\n",
    "ROUTE = pd.DataFrame(ROUTE)\n",
    "ROUTE.columns = ['id', 'link']\n",
    "ROUTE.to_csv(\"RTCSA2020-%s-%d-%s-ROUTE.csv\"%(DATA_NAME,NUM_FLOW,TOPO_NAME), index=False)\n",
    "\n",
    "QUEUE = pd.DataFrame(QUEUE)\n",
    "QUEUE.columns = ['id','ins_id','link','queue']\n",
    "QUEUE.to_csv(\"RTCSA2020-%s-%d-%s-QUEUE.csv\"%(DATA_NAME,NUM_FLOW,TOPO_NAME), index=False)"
   ]
  }
 ],
 "metadata": {
  "kernelspec": {
   "display_name": "Python 3",
   "language": "python",
   "name": "python3"
  },
  "language_info": {
   "codemirror_mode": {
    "name": "ipython",
    "version": 3
   },
   "file_extension": ".py",
   "mimetype": "text/x-python",
   "name": "python",
   "nbconvert_exporter": "python",
   "pygments_lexer": "ipython3",
   "version": "3.9.5"
  },
  "vscode": {
   "interpreter": {
    "hash": "f9f85f796d01129d0dd105a088854619f454435301f6ffec2fea96ecbd9be4ac"
   }
  }
 },
 "nbformat": 4,
 "nbformat_minor": 5
}

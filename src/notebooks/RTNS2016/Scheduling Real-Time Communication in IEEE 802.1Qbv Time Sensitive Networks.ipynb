{
 "cells": [
  {
   "cell_type": "markdown",
   "id": "8036d064-bfd6-4186-841d-7c84672e1284",
   "metadata": {},
   "source": [
    "## Scheduling Real-Time Communication in IEEE 802.1Qbv Time Sensitive Networks\n",
    "\n",
    "Auther: ilviu S. Craciunas, Ramon Serna Oliver, Martin Chmelík, Wilfried Steiner\n",
    "\n",
    "Proceedings of the 24th International Conference on Real-Time Networks and Systems"
   ]
  },
  {
   "cell_type": "code",
   "execution_count": 1,
   "id": "d001c639",
   "metadata": {},
   "outputs": [],
   "source": [
    "import pandas as pd\n",
    "import numpy as np\n",
    "import z3\n",
    "from tqdm import tqdm\n"
   ]
  },
  {
   "cell_type": "code",
   "execution_count": 2,
   "id": "f52b8709-3d55-4524-a403-f986870c2aab",
   "metadata": {},
   "outputs": [],
   "source": [
    "macrotick = 100\n",
    "sync_error = 0\n",
    "time_out = 4 * 60 * 60"
   ]
  },
  {
   "cell_type": "code",
   "execution_count": 3,
   "id": "7614f4fe",
   "metadata": {},
   "outputs": [],
   "source": [
    "NUM_FLOW = 51\n",
    "DATA_NAME = \"single11\"\n",
    "TOPO_NAME = \"0\"\n",
    "\n",
    "task = pd.read_csv(\"../../data/utilization/utilization_10_10.csv\")\n",
    "network = pd.read_csv(\"../../data/utilization/utilization_topology.csv\")\n",
    "\n",
    "# task = pd.read_csv(\"../../dac_data/%s.csv\"%DATA_NAME)\n",
    "# network = pd.read_csv(\"../../dac_data/%s_topology.csv\"%TOPO_NAME)\n",
    "\n",
    "for col in ['size','period','deadline','jitter']:\n",
    "    task[col] = np.ceil(task[col] / macrotick).astype(int)\n",
    "for col in ['t_proc','t_prop']:\n",
    "    network[col] = np.ceil(network[col] / macrotick).astype(int)\n",
    "    \n",
    "nodes = list(network['link'].apply(lambda x:eval(x)[0])) + \\\n",
    "    list(network['link'].apply(lambda x:eval(x)[1]))\n",
    "NODE_SET = list(set(nodes))\n",
    "ES_set = [x for x in NODE_SET if nodes.count(x) == 2]\n",
    "SW_set = list(set(NODE_SET) - set(ES_set))\n",
    "LCM = np.lcm.reduce(task['period'])\n",
    "net = np.zeros(shape = (max(NODE_SET) + 1, max(NODE_SET) + 1))"
   ]
  },
  {
   "cell_type": "markdown",
   "id": "738c9b90",
   "metadata": {},
   "source": [
    "## Notice!\n",
    "\n",
    "Here we assume each traffic is strictly periodic and each traffic only contains 1 frame (Less than 65535)\n",
    "\n",
    "$f_{i,j + 1}^{(a,b)} = f_{i,j}^{(a,b)} + s_{i}^{(a,b)}.T$\n",
    "\n",
    "$|F_{i}^{(a,b)}| = \\frac{LCM}{s_{i}.T}$\n",
    "\n",
    "Why?\n",
    "\n",
    "- To make the comparision more fair as other works only consider 1 frame per Hyper-parameter NUM_FRAME is not common in other works.\n",
    "- Reasonably, this assumption can be converted to \"Each traffic has multiple frames successively or Regard each periodic frame as a unique traffic\".\n",
    "- Reduce complexity, the time for adding constraints is too long."
   ]
  },
  {
   "cell_type": "markdown",
   "id": "fad53332",
   "metadata": {},
   "source": [
    "## 1. Model"
   ]
  },
  {
   "cell_type": "code",
   "execution_count": 4,
   "id": "cb03edd7-7494-4904-a4f4-068c73d83e9b",
   "metadata": {},
   "outputs": [],
   "source": [
    "s = z3.Solver()\n",
    "s.set(\"timeout\", time_out * 1000)"
   ]
  },
  {
   "cell_type": "markdown",
   "id": "70b5916c",
   "metadata": {},
   "source": [
    "Network model:\n",
    "\n",
    "$\\left\\langle\\left[v_{a}, v_{b}\\right] . s,\\left[v_{a}, v_{b}\\right] . d,\\left[v_{a}, v_{b}\\right] . m t,\\left[v_{a}, v_{b}\\right] . c\\right\\rangle$"
   ]
  },
  {
   "cell_type": "code",
   "execution_count": 5,
   "id": "c5602eb8",
   "metadata": {},
   "outputs": [],
   "source": [
    "net_var = {}\n",
    "for _, row in network.iterrows():\n",
    "    net_var.setdefault(row['link'], {})\n",
    "    net_var[row['link']]['s'] = row['rate']\n",
    "    net_var[row['link']]['d'] = row['t_proc']\n",
    "    net_var[row['link']]['c'] = row['q_num']\n",
    "    net[eval(row['link'])[0], eval(row['link'])[1]] = 1"
   ]
  },
  {
   "cell_type": "markdown",
   "id": "d1addd0f",
   "metadata": {},
   "source": [
    "Task model：\n",
    "\n",
    "$\\left\\langle f_{i, j}^{\\left[v_{a}, v_{b}\\right]} \\cdot \\phi, f_{i, j}^{\\left[v_{a}, v_{b}\\right]} \\cdot T, f_{i, j}^{\\left[v_{a}, v_{b}\\right]} \\cdot L\\right\\rangle$"
   ]
  },
  {
   "cell_type": "code",
   "execution_count": 6,
   "id": "7ad1ca7a",
   "metadata": {},
   "outputs": [],
   "source": [
    "task_var = {}"
   ]
  },
  {
   "cell_type": "code",
   "execution_count": 7,
   "id": "e9795dcd",
   "metadata": {},
   "outputs": [],
   "source": [
    "## Shortest path\n",
    "def bfs_paths(graph, start, goal):\n",
    "    queue = [(start, [start])]\n",
    "    while queue:\n",
    "        (vertex, path) = queue.pop(0)\n",
    "        for _next in set(np.reshape(np.argwhere(graph[vertex] > 0),  -1)) - set(path):\n",
    "            if _next == goal:\n",
    "                yield path + [_next]\n",
    "            else:\n",
    "                queue.append((_next, path + [_next]))"
   ]
  },
  {
   "cell_type": "code",
   "execution_count": 8,
   "id": "6fee74cd",
   "metadata": {},
   "outputs": [],
   "source": [
    "## Assume task is strictly periodic\n",
    "for i, row in task.iterrows(): \n",
    "    task_var.setdefault(i, {})\n",
    "    route = eval(str(next(bfs_paths(net, int(row['src']), int(eval(row['dst'])[0])))))\n",
    "    for _i, a in enumerate(route[:-1]):\n",
    "        link = str((a, route[_i + 1]))\n",
    "        task_var[i].setdefault(link, {})\n",
    "        task_var[i][link]['phi'] = z3.Int('phi_' +  str(i) + '_' + str(link))\n",
    "        task_var[i][link]['p'] =  z3.Int('p_' +  str(i) + '_' + str(link))\n",
    "        task_var[i][link]['T'] = row['period']\n",
    "        task_var[i][link]['L'] = int(row['size'] * 8 / net_var[str(link)]['s'])"
   ]
  },
  {
   "cell_type": "markdown",
   "id": "80f0021d",
   "metadata": {},
   "source": [
    "## 2. Constraints"
   ]
  },
  {
   "cell_type": "markdown",
   "id": "09cac729",
   "metadata": {},
   "source": [
    "### 2.1 General constraints"
   ]
  },
  {
   "cell_type": "markdown",
   "id": "d707d35c",
   "metadata": {},
   "source": [
    "Frame Constraint\n",
    "\n",
    "$\\begin{aligned}\n",
    "&\\forall s_{i} \\in \\mathcal{S}, \\forall\\left[v_{a}, v_{b}\\right] \\in s_{i}, \\forall f_{i, j}^{\\left[v_{a}, v_{b}\\right]} \\in \\mathcal{F}_{i}^{\\left[v_{a}, v_{b}\\right]}: \\\\\n",
    "&\\left(f_{i, j}^{\\left[v_{a}, v_{b}\\right]} \\cdot \\phi \\geq 0\\right) \\wedge\\left(f_{i, j}^{\\left[v_{a}, v_{b}\\right]} \\cdot \\phi \\leq f_{i, j}^{\\left[v_{a}, v_{b}\\right]} \\cdot T-f_{i, j}^{\\left[v_{a}, v_{b}\\right]} \\cdot L\\right)\n",
    "\\end{aligned}$"
   ]
  },
  {
   "cell_type": "code",
   "execution_count": 9,
   "id": "35e5471b",
   "metadata": {},
   "outputs": [
    {
     "name": "stderr",
     "output_type": "stream",
     "text": [
      "100%|██████████| 78/78 [00:00<00:00, 2770.21it/s]\n"
     ]
    }
   ],
   "source": [
    "for i, f_i in tqdm(task_var.items()):\n",
    "    for link, f_i_link in f_i.items():\n",
    "        s.add(f_i_link['phi'] >= 0, f_i_link['phi'] <= f_i_link['T'] - f_i_link['L'])"
   ]
  },
  {
   "cell_type": "markdown",
   "id": "9d3a988a",
   "metadata": {},
   "source": [
    "Flow Transmission Constraint\n",
    "\n",
    "$\\begin{aligned}\n",
    "&\\forall s_{i} \\in \\mathcal{S}, \\forall\\left[v_{a}, v_{x}\\right],\\left[v_{x}, v_{b}\\right] \\in s_{i} \\\\\n",
    "&\\forall f_{i, j}^{\\left[v_{a}, v_{x}\\right]} \\in \\mathcal{F}_{i}^{\\left[v_{a}, v_{x}\\right]}, \\forall f_{i, j}^{\\left[v_{x}, v_{b}\\right]} \\in \\mathcal{F}_{i}^{\\left[v_{x}, v_{b}\\right]}: \\\\\n",
    "&f_{i, j}^{\\left[v_{x}, v_{b}\\right]} \\cdot \\phi \\times\\left[v_{x}, v_{b}\\right] . m t-\\left[v_{a}, v_{x}\\right] . d-\\delta \\geq \\\\\n",
    "&\\left(f_{i, j}^{\\left[v_{a}, v_{x}\\right]} \\cdot \\phi+f_{i, j}^{\\left[v_{a}, v_{x}\\right]} . L\\right) \\times\\left[v_{a}, v_{x}\\right] . m t\n",
    "\\end{aligned}$"
   ]
  },
  {
   "cell_type": "code",
   "execution_count": 11,
   "id": "75b1f1e9",
   "metadata": {},
   "outputs": [],
   "source": [
    "for i in task_var.keys():\n",
    "    path = list(task_var[i].keys())\n",
    "    for _i, link in enumerate(path[:-1]):\n",
    "        next_hop = path[_i + 1]\n",
    "        s.add(\n",
    "            task_var[i][link]['phi'] + task_var[i][link]['L'] + net_var[link]['d'] + sync_error <=\n",
    "            task_var[i][next_hop]['phi']\n",
    "        )"
   ]
  },
  {
   "cell_type": "markdown",
   "id": "33f608d7",
   "metadata": {},
   "source": [
    "End-to-end constraint\n",
    "\n",
    "$\\begin{aligned}\n",
    "&\\forall s_{i} \\in \\mathcal{S}: \\operatorname{src}\\left(s_{i}\\right) \\cdot m t \\times f_{i, 1}^{s r c\\left(s_{i}\\right)} \\cdot \\phi+s_{i} \\cdot e 2 e \\geq \\\\\n",
    "&\\operatorname{dest}\\left(s_{i}\\right) \\cdot m t \\times\\left(\\operatorname{last}\\left(\\mathcal{F}_{i}^{\\operatorname{dest}\\left(s_{i}\\right)}\\right) \\cdot \\phi+\\operatorname{last}\\left(\\mathcal{F}_{i}^{\\operatorname{dest}\\left(s_{i}\\right)}\\right) \\cdot L\\right)\n",
    "\\end{aligned}$"
   ]
  },
  {
   "cell_type": "code",
   "execution_count": 13,
   "id": "695cdd1c",
   "metadata": {},
   "outputs": [
    {
     "name": "stderr",
     "output_type": "stream",
     "text": [
      "100%|██████████| 78/78 [00:00<00:00, 4494.95it/s]\n"
     ]
    }
   ],
   "source": [
    "for i in tqdm(task_var.keys()):\n",
    "    _hop_s = list(task_var[i].items())[0]\n",
    "    _hop_e = list(task_var[i].items())[-1]\n",
    "    s.add(\n",
    "        _hop_s[1]['phi'] + int(task.loc[i]['deadline']) >=\n",
    "        _hop_e[1]['phi'] + _hop_e[1]['L'] + net_var[_hop_e[0]]['d'] + sync_error\n",
    "        # _hop_e[1]['phi'] + _hop_e[1]['L'] + sync_error\n",
    "    )"
   ]
  },
  {
   "cell_type": "markdown",
   "id": "bb6487fe",
   "metadata": {},
   "source": [
    "Link Constraint\n",
    "\n",
    "$\\begin{aligned}\n",
    "&\\forall\\left[v_{a}, v_{b}\\right] \\in \\mathcal{L}, \\forall \\mathcal{F}_{i}^{\\left[v_{a}, v_{b}\\right]}, \\mathcal{F}_{j}^{\\left[v_{a}, v_{b}\\right]}, i \\neq j \\\\\n",
    "&\\forall f_{i, k}^{\\left[v_{a}, v_{b}\\right]} \\in \\mathcal{F}_{i}^{\\left[v_{a}, v_{b}\\right]}, \\forall f_{j, l}^{\\left[v_{a}, v_{b}\\right]} \\in \\mathcal{F}_{j}^{\\left[v_{a}, v_{b}\\right]} \\\\\n",
    "&\\forall \\alpha \\in\\left[0, h p_{i}^{j} / s_{i} \\cdot T-1\\right], \\forall \\beta \\in\\left[0, h p_{i}^{j} / s_{j} \\cdot T-1\\right]: \\\\\n",
    "&\\left(f_{i, k}^{\\left[v_{a}, v_{b}\\right]} \\cdot \\phi+\\alpha \\times f_{i, k}^{\\left[v_{a}, v_{b}\\right]} \\cdot T \\geq\\right. \\\\\n",
    "&\\left.f_{j, l}^{\\left[v_{a}, v_{b}\\right]} \\cdot \\phi+\\beta \\times f_{j, l}^{\\left[v_{a}, v_{b}\\right]} \\cdot T+f_{j, l}^{\\left[v_{a}, v_{b}\\right]} \\cdot L\\right) \\vee \\\\\n",
    "&\\left(f_{j, l}^{\\left[v_{a}, v_{b}\\right]} \\cdot \\phi+\\beta \\times f_{j, l}^{\\left[v_{a}, v_{b}\\right]} \\cdot T \\geq\\right. \\\\\n",
    "&\\left.f_{i, k}^{\\left[v_{a}, v_{b}\\right]} \\cdot \\phi+\\alpha \\times f_{i, k}^{\\left[v_{a}, v_{b}\\right]} \\cdot T+f_{i, k}^{\\left[v_{a}, v_{b}\\right]} \\cdot L\\right)\n",
    "\\end{aligned}$"
   ]
  },
  {
   "cell_type": "code",
   "execution_count": 15,
   "id": "62820a55",
   "metadata": {},
   "outputs": [
    {
     "name": "stderr",
     "output_type": "stream",
     "text": [
      "100%|██████████| 36/36 [00:06<00:00,  5.83it/s]\n"
     ]
    }
   ],
   "source": [
    "count = 0\n",
    "for link in tqdm(net_var.keys()):\n",
    "    for i, j in [(i,j) for i in range(len(task)) for j in range(0, len(task)) \n",
    "                 if i < j and link in task_var[i] and link in task_var[j]]:\n",
    "        lcm = np.lcm(task_var[i][link]['T'], task_var[j][link]['T'])\n",
    "        i_phi, i_t, i_l = task_var[i][link]['phi'], task_var[i][link]['T'], task_var[i][link]['L']\n",
    "        j_phi, j_t, j_l = task_var[j][link]['phi'], task_var[j][link]['T'], task_var[j][link]['L']\n",
    "        for a, b in [(a,b) for a in range(0, int(lcm / task.loc[i].period)) for b in range(0, int(lcm / task.loc[j].period))]:\n",
    "            s.add(\n",
    "                z3.Or(\n",
    "                    i_phi + a * i_t >= j_phi + b * j_t + j_l,\n",
    "                    j_phi + b * j_t >= i_phi + a * i_t + i_l\n",
    "                )\n",
    "            )"
   ]
  },
  {
   "cell_type": "markdown",
   "id": "36100818",
   "metadata": {},
   "source": [
    "### 2.2 IEEE 802.1 Qbv constraint"
   ]
  },
  {
   "cell_type": "code",
   "execution_count": 17,
   "id": "fa50575c",
   "metadata": {},
   "outputs": [
    {
     "name": "stderr",
     "output_type": "stream",
     "text": [
      "100%|██████████| 78/78 [00:00<00:00, 3039.52it/s]\n"
     ]
    }
   ],
   "source": [
    "for i in tqdm(task_var.keys()):\n",
    "    for link in task_var[i].keys():\n",
    "        s.add(0 <= task_var[i][link]['p'])\n",
    "        s.add(task_var[i][link]['p'] < net_var[link]['c'])"
   ]
  },
  {
   "cell_type": "code",
   "execution_count": 18,
   "id": "4dc9fd7d",
   "metadata": {},
   "outputs": [
    {
     "data": {
      "text/html": [
       "<b>sat</b>"
      ],
      "text/plain": [
       "sat"
      ]
     },
     "execution_count": 18,
     "metadata": {},
     "output_type": "execute_result"
    }
   ],
   "source": [
    "s.check()"
   ]
  },
  {
   "cell_type": "markdown",
   "id": "dfe5dabc",
   "metadata": {},
   "source": [
    "Ideal scenario\n",
    "\n",
    "$\\begin{aligned}\n",
    "&\\forall\\left[v_{a}, v_{b}\\right] \\in \\mathcal{L}, \\forall s_{i}^{\\left[v_{a}, v_{b}\\right]}, s_{j}^{\\left[v_{a}, v_{b}\\right]} \\in \\mathcal{S}, i \\neq j, \\\\\n",
    "&\\forall f_{i, k}^{\\left[v_{a}, v_{b}\\right]} \\in \\mathcal{F}_{i}^{\\left[v_{a}, v_{b}\\right]}, \\forall f_{j, l}^{\\left[v_{a}, v_{b}\\right]} \\in \\mathcal{F}_{j}^{\\left[v_{a}, v_{b}\\right]} \\\\\n",
    "&\\forall \\alpha \\in\\left[0, h p_{i}^{j} / s_{i} \\cdot T-1\\right], \\forall \\beta \\in\\left[0, h p_{i}^{j} / s_{j} \\cdot T-1\\right]: \\\\\n",
    "&\\left(f_{i, k}^{\\left[v_{x}, v_{a}\\right]} \\cdot \\phi \\times\\left[v_{x}, v_{a}\\right] . m t+\\alpha \\times s_{i} \\cdot T+\\left[v_{x}, v_{a}\\right] . d+\\delta \\leq\\right. \\\\\n",
    "&\\left.f_{j, l}^{\\left[v_{y}, v_{a}\\right]} \\cdot \\phi \\times\\left[v_{y}, v_{a}\\right] . m t+\\beta \\times s_{j} . T+\\left[v_{y}, v_{a}\\right] . d\\right) \\vee \\\\\n",
    "&\\left(f_{j, l}^{\\left[v_{y}, v_{a}\\right]} \\cdot \\phi \\times\\left[v_{y}, v_{a}\\right] . m t+\\beta \\times s_{j} \\cdot T+\\left[v_{y}, v_{a}\\right] . d+\\delta \\leq\\right. \\\\\n",
    "&\\left.f_{i, k}^{\\left[v_{x}, v_{a}\\right]} \\cdot \\phi \\times\\left[v_{x}, v_{a}\\right] . m t+\\alpha \\times s_{i} \\cdot T+\\left[v_{x}, v_{a}\\right] \\cdot d\\right),\n",
    "\\end{aligned}$"
   ]
  },
  {
   "cell_type": "code",
   "execution_count": 19,
   "id": "0033d465",
   "metadata": {},
   "outputs": [],
   "source": [
    "# ## Idea scenario [No specific isolation]\n",
    "\n",
    "# for i, j in tqdm([(i,j) for i in range(len(task)) for j in range(0, len(task)) if i < j]):\n",
    "#     path_i = list(task_var[i].keys())\n",
    "#     path_j = list(task_var[j].keys())\n",
    "#     i_period, j_period = int(task.loc[i]['period']), int(task.loc[j]['period'])\n",
    "    \n",
    "#     for x_a, y_a, a_b in [(path_i[_x - 1], path_j[_y - 1], i_a_b) \n",
    "#                         for _x, i_a_b in enumerate(path_i) \n",
    "#                         for _y, j_a_b in enumerate(path_j) \n",
    "#                         if i_a_b == j_a_b and _x>0 and _y>0 and _x != _y]:\n",
    "        \n",
    "#         lcm = np.lcm(task.loc[i].period, task.loc[j].period)\n",
    "#         i_x_a_phi, x_a_mt, x_a_d = task_var[i][x_a]['phi'], net_var[x_a]['mt'], net_var[x_a]['d']\n",
    "#         j_y_a_phi, y_a_mt, y_a_d = task_var[j][y_a]['phi'], net_var[y_a]['mt'], net_var[y_a]['d']\n",
    "#         i_a_b_p = task_var[i][str(a_b)]['p']\n",
    "#         j_a_b_p = task_var[j][str(a_b)]['p']\n",
    "        \n",
    "#         for a, b in [(a,b) for a in range(0, int(lcm / task.loc[i].period)) for b in range(0, int(lcm / task.loc[j].period))]:\n",
    "#             s.add(z3.Or(\n",
    "#                     i_x_a_phi * x_a_mt + a * i_period + x_a_d + NETWORK_ERROR <=\n",
    "#                     j_y_a_phi * y_a_mt + b * j_period + y_a_d,\n",
    "#                     j_y_a_phi * y_a_mt + b * j_period + y_a_d + NETWORK_ERROR <=\n",
    "#                     i_x_a_phi * x_a_mt + a * i_period + x_a_d,\n",
    "#                     i_a_b_p != j_a_b_p\n",
    "#                 ))\n",
    "#     print(s.check(), i, j)"
   ]
  },
  {
   "cell_type": "markdown",
   "id": "7edfe6ae",
   "metadata": {},
   "source": [
    "Frame / Stream isolation\n",
    "\n",
    "$\\begin{aligned}\n",
    "&\\forall\\left[v_{a}, v_{b}\\right] \\in \\mathcal{L}, \\forall s_{i}^{\\left[v_{a}, v_{b}\\right]}, s_{j}^{\\left[v_{a}, v_{b}\\right]} \\in \\mathcal{S}, i \\neq j \\\\\n",
    "&\\forall f_{i, k}^{\\left[v_{a}, v_{b}\\right]} \\in \\mathcal{F}_{i}^{\\left[v_{a}, v_{b}\\right]}, \\forall f_{j, l}^{\\left[v_{a}, v_{b}\\right]} \\in \\mathcal{F}_{j}^{\\left[v_{a}, v_{b}\\right]} \\\\\n",
    "&\\forall \\alpha \\in\\left[0, h p_{i}^{j} / s_{i} \\cdot T-1\\right], \\forall \\beta \\in\\left[0, h p_{i}^{j} / s_{j} \\cdot T-1\\right]: \\\\\n",
    "&\\left(f_{j, l}^{\\left[v_{a}, v_{b}\\right]} \\cdot \\phi \\times\\left[v_{a}, v_{b}\\right] \\cdot m t+\\alpha \\times s_{j} . T+\\delta \\leq\\right. \\\\\n",
    "&\\left.f_{i, k}^{\\left[v_{x}, v_{a}\\right]} \\cdot \\phi \\times\\left[v_{x}, v_{a}\\right] . m t+\\beta \\times s_{i} \\cdot T+\\left[v_{x}, v_{a}\\right] . d\\right) \\vee \\\\\n",
    "&\\left(f_{i, k}^{\\left[v_{a}, v_{b}\\right]} \\cdot \\phi \\times\\left[v_{a}, v_{b}\\right] \\cdot m t+\\beta \\times s_{i} \\cdot T+\\delta \\leq\\right. \\\\\n",
    "&\\left.f_{j, l}^{\\left[v_{y}, v_{a}\\right]} \\cdot \\phi \\times\\left[v_{y}, v_{a}\\right] \\cdot m t+\\alpha \\times s_{j} . T+\\left[v_{y}, v_{a}\\right] . d\\right)\n",
    "\\end{aligned}$"
   ]
  },
  {
   "cell_type": "code",
   "execution_count": 20,
   "id": "fae4be0d",
   "metadata": {},
   "outputs": [
    {
     "name": "stderr",
     "output_type": "stream",
     "text": [
      "100%|██████████| 3003/3003 [00:08<00:00, 343.60it/s]\n"
     ]
    }
   ],
   "source": [
    "## Stream / Frame isolation\n",
    "\n",
    "count = 0\n",
    "for i, j in tqdm([(i,j) for i in range(len(task)) for j in range(0, len(task)) if i < j]):\n",
    "    path_i = list(task_var[i].keys())\n",
    "    path_j = list(task_var[j].keys())\n",
    "    i_period, j_period = int(task.loc[i]['period']), int(task.loc[j]['period'])\n",
    "    \n",
    "    for x_a, y_a, a_b in [(path_i[_x - 1], path_j[_y - 1], i_a_b) \n",
    "                        for _x, i_a_b in enumerate(path_i) \n",
    "                        for _y, j_a_b in enumerate(path_j) \n",
    "                        if i_a_b == j_a_b]:\n",
    "        lcm = np.lcm(task.loc[i].period, task.loc[j].period)\n",
    "        i_x_a_phi, j_y_a_phi, i_a_b_phi, j_a_b_phi =  task_var[i][x_a]['phi'], task_var[j][y_a]['phi'], task_var[i][a_b]['phi'], task_var[j][a_b]['phi'] \n",
    "        x_a_d, y_a_d = net_var[x_a]['d'], net_var[y_a]['d']\n",
    "        i_a_b_p = task_var[i][str(a_b)]['p']\n",
    "        j_a_b_p = task_var[j][str(a_b)]['p']\n",
    "        \n",
    "        for a, b in [(a,b) for a in range(0, int(lcm / task.loc[i].period)) for b in range(0, int(lcm / task.loc[j].period))]:\n",
    "            s.add(\n",
    "                z3.Or(\n",
    "                    j_a_b_phi + b * j_period + sync_error <\n",
    "                    i_x_a_phi + a * i_period + x_a_d,\n",
    "                    i_a_b_phi + a * i_period + sync_error <\n",
    "                    j_y_a_phi + b * j_period + y_a_d,\n",
    "                    i_a_b_p != j_a_b_p\n",
    "                )\n",
    "            )"
   ]
  },
  {
   "cell_type": "code",
   "execution_count": 21,
   "id": "940c142a",
   "metadata": {},
   "outputs": [
    {
     "data": {
      "text/html": [
       "<b>sat</b>"
      ],
      "text/plain": [
       "sat"
      ]
     },
     "execution_count": 21,
     "metadata": {},
     "output_type": "execute_result"
    }
   ],
   "source": [
    "s.check()"
   ]
  },
  {
   "cell_type": "markdown",
   "id": "fe2582fc",
   "metadata": {},
   "source": [
    "FIFO constraint - Designed by Chuanyu Jul 2 2022"
   ]
  },
  {
   "cell_type": "code",
   "execution_count": 22,
   "id": "d31c3a89",
   "metadata": {},
   "outputs": [],
   "source": [
    "# ## FIFO constraint\n",
    "\n",
    "# for i, j in tqdm([(i,j) for i in range(len(task)) for j in range(0, len(task)) if i != j]):\n",
    "#     path_i = list(task_var[i].keys())\n",
    "#     path_j = list(task_var[j].keys())\n",
    "#     i_period, j_period = int(task.loc[i]['period']), int(task.loc[j]['period'])\n",
    "    \n",
    "#     for x_a, y_a, a_b in [(path_i[_x - 1], path_j[_y - 1], i_a_b) \n",
    "#                         for _x, i_a_b in enumerate(path_i) \n",
    "#                         for _y, j_a_b in enumerate(path_j) \n",
    "#                         if i_a_b == j_a_b and _x>0 and _y>0]:\n",
    "#         lcm = np.lcm(task.loc[i].period, task.loc[j].period)\n",
    "#         i_x_a_phi, j_y_a_phi, i_a_b_phi, j_a_b_phi =  task_var[i][x_a]['phi'], task_var[j][y_a]['phi'], task_var[i][a_b]['phi'], task_var[j][a_b]['phi'] \n",
    "#         x_a_mt, y_a_mt, a_b_mt = net_var[x_a]['mt'], net_var[y_a]['mt'], net_var[a_b]['mt']\n",
    "#         x_a_d, y_a_d = net_var[x_a]['d'], net_var[y_a]['d']\n",
    "#         i_a_b_p = task_var[i][str(a_b)]['p']\n",
    "#         j_a_b_p = task_var[j][str(a_b)]['p']\n",
    "        \n",
    "#         for a, b in [(a,b) for a in range(0, int(lcm / task.loc[i].period)) for b in range(0, int(lcm / task.loc[j].period))]:\n",
    "#             s.add(\n",
    "#                 z3.Or(\n",
    "#                     i_a_b_phi * a_b_mt + a * i_period >\n",
    "#                     j_a_b_phi * a_b_mt + b * j_period\n",
    "#                     ,\n",
    "#                     i_x_a_phi * x_a_mt + a * i_period + x_a_d <\n",
    "#                     j_y_a_phi * y_a_mt + b * j_period + y_a_d\n",
    "#                     ,\n",
    "#                     i_a_b_p != j_a_b_p\n",
    "#                 )\n",
    "#             )\n",
    "# print(s.check())"
   ]
  },
  {
   "cell_type": "code",
   "execution_count": 23,
   "id": "2e476e46",
   "metadata": {},
   "outputs": [
    {
     "name": "stdout",
     "output_type": "stream",
     "text": [
      "sat\n"
     ]
    }
   ],
   "source": [
    "res = s.check()\n",
    "print(res)\n",
    "result = s.model()"
   ]
  },
  {
   "cell_type": "code",
   "execution_count": 24,
   "id": "5df54df2-ac4b-4927-a630-47dad510a063",
   "metadata": {},
   "outputs": [
    {
     "data": {
      "text/plain": [
       "True"
      ]
     },
     "execution_count": 24,
     "metadata": {},
     "output_type": "execute_result"
    }
   ],
   "source": [
    "str(res) == 'sat'"
   ]
  },
  {
   "cell_type": "code",
   "execution_count": 25,
   "id": "84c06630",
   "metadata": {},
   "outputs": [],
   "source": [
    "# for i in task_var:\n",
    "#     print('[Task %ad] ------------------------------'%i)\n",
    "#     print(i, [result[x['phi']] for x in task_var[i].values()], [result[x['p']] for x in task_var[i].values()])"
   ]
  },
  {
   "cell_type": "markdown",
   "id": "5d0f25dd",
   "metadata": {},
   "source": [
    "## Output schedule"
   ]
  },
  {
   "cell_type": "code",
   "execution_count": 26,
   "id": "f8210ace",
   "metadata": {},
   "outputs": [],
   "source": [
    "## GCL\n",
    "GCL = []\n",
    "for i in task_var:\n",
    "    for e in task_var[i]:\n",
    "        start = result[task_var[i][e]['phi']].as_long()\n",
    "        end = start + task_var[i][e]['L']\n",
    "        queue = result[task_var[i][e]['p']].as_long()\n",
    "        t = task_var[i][e]['T']\n",
    "        for k in range(int(LCM / t)):\n",
    "            GCL.append(\n",
    "                [eval(e), queue, (start + k * t) * macrotick, (end  + k * t) * macrotick, LCM * macrotick]\n",
    "            )"
   ]
  },
  {
   "cell_type": "code",
   "execution_count": 27,
   "id": "2df939b5",
   "metadata": {},
   "outputs": [],
   "source": [
    "## Offset\n",
    "OFFSET = []\n",
    "for i in task_var:\n",
    "    offset = result[list(task_var[i].values())[0]['phi']].as_long()\n",
    "    OFFSET.append(\n",
    "        [i, 0, (list(task_var[i].values())[0]['T'] - offset) * macrotick]\n",
    "    )    \n",
    "# with open('RTNS16-route-CBS-16.txt', 'w') as f:\n",
    "#     f.write(str(route))"
   ]
  },
  {
   "cell_type": "code",
   "execution_count": 28,
   "id": "51a15a05",
   "metadata": {},
   "outputs": [],
   "source": [
    "QUEUE = []\n",
    "for i in task_var:\n",
    "    for e in task_var[i]:\n",
    "        QUEUE.append([i, 0, eval(e), result[task_var[i][e]['p']]])\n",
    "        # queue[i][e] = result[task_var[i][e]['p']]\n",
    "# with open('RTNS16-queue-CBS-16.txt', 'w') as f:\n",
    "#     f.write(str(queue))"
   ]
  },
  {
   "cell_type": "code",
   "execution_count": 29,
   "id": "ec2dffa2-6bb1-4955-b82e-bb0a54e90f98",
   "metadata": {},
   "outputs": [],
   "source": [
    "ROUTE = []\n",
    "for i, row in task.iterrows():\n",
    "    route = eval(str(next(bfs_paths(net, int(row['src']), int(eval(row['dst'])[0])))))\n",
    "    for h, v in enumerate(route[:-1]):\n",
    "        ROUTE.append(\n",
    "            [i, (v, route[h + 1])]\n",
    "        )"
   ]
  },
  {
   "cell_type": "code",
   "execution_count": 30,
   "id": "3c36b113-c613-473d-aa00-208c9837d571",
   "metadata": {},
   "outputs": [],
   "source": [
    "GCL = pd.DataFrame(GCL)\n",
    "GCL.columns = [\"link\", \"queue\", \"start\", \"end\", \"cycle\"]\n",
    "GCL.to_csv(\"RTNS2016-%s-%d-%s-GCL.csv\"%(DATA_NAME,NUM_FLOW,TOPO_NAME), index=False)\n",
    "\n",
    "OFFSET = pd.DataFrame(OFFSET)\n",
    "OFFSET.columns = ['id', 'ins_id', 'offset']\n",
    "OFFSET.to_csv(\"RTNS2016-%s-%d-%s-OFFSET.csv\"%(DATA_NAME,NUM_FLOW,TOPO_NAME), index=False)\n",
    "\n",
    "ROUTE = pd.DataFrame(ROUTE)\n",
    "ROUTE.columns = ['id', 'link']\n",
    "ROUTE.to_csv(\"RTNS2016-%s-%d-%s-ROUTE.csv\"%(DATA_NAME,NUM_FLOW,TOPO_NAME), index=False)\n",
    "\n",
    "QUEUE = pd.DataFrame(QUEUE)\n",
    "QUEUE.columns = ['id','ins_id','link','queue']\n",
    "QUEUE.to_csv(\"RTNS2016-%s-%d-%s-QUEUE.csv\"%(DATA_NAME,NUM_FLOW,TOPO_NAME), index=False)"
   ]
  },
  {
   "cell_type": "code",
   "execution_count": 31,
   "id": "65b49e66",
   "metadata": {},
   "outputs": [],
   "source": [
    "info = s.statistics()"
   ]
  },
  {
   "cell_type": "code",
   "execution_count": 32,
   "id": "d4a7b3ae",
   "metadata": {},
   "outputs": [
    {
     "data": {
      "text/plain": [
       "0.075"
      ]
     },
     "execution_count": 32,
     "metadata": {},
     "output_type": "execute_result"
    }
   ],
   "source": [
    "info.time"
   ]
  },
  {
   "cell_type": "code",
   "execution_count": 33,
   "id": "34735628",
   "metadata": {},
   "outputs": [
    {
     "data": {
      "text/plain": [
       "285.57"
      ]
     },
     "execution_count": 33,
     "metadata": {},
     "output_type": "execute_result"
    }
   ],
   "source": [
    "info.max_memory"
   ]
  }
 ],
 "metadata": {
  "kernelspec": {
   "display_name": "Python 3",
   "language": "python",
   "name": "python3"
  },
  "language_info": {
   "codemirror_mode": {
    "name": "ipython",
    "version": 3
   },
   "file_extension": ".py",
   "mimetype": "text/x-python",
   "name": "python",
   "nbconvert_exporter": "python",
   "pygments_lexer": "ipython3",
   "version": "3.9.13"
  },
  "toc": {
   "base_numbering": 1,
   "nav_menu": {},
   "number_sections": false,
   "sideBar": true,
   "skip_h1_title": false,
   "title_cell": "Table of Contents",
   "title_sidebar": "Contents",
   "toc_cell": false,
   "toc_position": {},
   "toc_section_display": true,
   "toc_window_display": false
  },
  "vscode": {
   "interpreter": {
    "hash": "e7370f93d1d0cde622a1f8e1c04877d8463912d04d973331ad4851f04de6915a"
   }
  }
 },
 "nbformat": 4,
 "nbformat_minor": 5
}

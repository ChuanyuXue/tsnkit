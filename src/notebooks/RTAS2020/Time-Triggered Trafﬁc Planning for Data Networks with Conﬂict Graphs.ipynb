{
 "cells": [
  {
   "cell_type": "code",
   "execution_count": 1,
   "metadata": {},
   "outputs": [],
   "source": [
    "import pandas as pd\n",
    "import numpy as np\n",
    "import gurobipy as gp\n",
    "from gurobipy import GRB\n",
    "import networkx as nx\n",
    "from tqdm import tqdm"
   ]
  },
  {
   "cell_type": "code",
   "execution_count": 2,
   "metadata": {},
   "outputs": [],
   "source": [
    "macrotick = 100\n",
    "sync_error = 0\n",
    "time_out = 4 * 60 * 60\n",
    "\n",
    "NUM_FLOW = 500\n",
    "DATA_NAME = \"auto0\"\n",
    "TOPO_NAME = \"4\"\n",
    "\n",
    "task = pd.read_csv(\"../../data/stream/stream_38_32.csv\")\n",
    "network = pd.read_csv(\"../../data/stream/stream_topology.csv\")\n",
    "\n",
    "for col in ['size','period','deadline','jitter']:\n",
    "    task[col] = np.ceil(task[col] / macrotick).astype(int)\n",
    "for col in ['t_proc','t_prop']:\n",
    "    network[col] = np.ceil(network[col] / macrotick).astype(int)\n",
    "    \n",
    "nodes = list(network['link'].apply(lambda x:eval(x)[0])) + \\\n",
    "    list(network['link'].apply(lambda x:eval(x)[1]))\n",
    "NODE_SET = list(set(nodes))\n",
    "ES_set = [x for x in NODE_SET if nodes.count(x) == 2]\n",
    "SW_set = list(set(NODE_SET) - set(ES_set))\n",
    "LCM = np.lcm.reduce(task['period'])\n",
    "net = np.zeros(shape = (max(NODE_SET) + 1, max(NODE_SET) + 1))"
   ]
  },
  {
   "cell_type": "code",
   "execution_count": 3,
   "metadata": {},
   "outputs": [],
   "source": [
    "## Shortest path\n",
    "def bfs_paths(graph, start, goal):\n",
    "    queue = [(start, [start])]\n",
    "    while queue:\n",
    "        (vertex, path) = queue.pop(0)\n",
    "        for _next in set(np.reshape(np.argwhere(graph[vertex] > 0),  -1)) - set(path):\n",
    "            if _next == goal:\n",
    "                yield path + [_next]\n",
    "            else:\n",
    "                queue.append((_next, path + [_next]))"
   ]
  },
  {
   "cell_type": "code",
   "execution_count": 4,
   "metadata": {},
   "outputs": [],
   "source": [
    "net_var = {}\n",
    "\n",
    "for _, row in network.iterrows():\n",
    "    net_var.setdefault(row['link'], {})\n",
    "    net_var[row['link']]['t_proc'] = int(row['t_proc'])\n",
    "    net[eval(row['link'])[0], eval(row['link'])[1]] = 1\n",
    "g = nx.DiGraph(net)\n",
    "\n",
    "## Create mapping from Link to index\n",
    "link_to_index = {}\n",
    "index_to_link = {}\n",
    "\n",
    "counter = 0\n",
    "for _, row in network.iterrows():\n",
    "    link = row['link']\n",
    "    link_to_index[link] = counter\n",
    "    index_to_link[counter] = link\n",
    "    counter += 1"
   ]
  },
  {
   "cell_type": "code",
   "execution_count": 5,
   "metadata": {},
   "outputs": [],
   "source": [
    "class Node:\n",
    "    def __init__(self, i, f, pi, ci, di, path, offset):\n",
    "        self.i = i\n",
    "        self.f = f\n",
    "        self.pi = pi\n",
    "        self.ci = ci\n",
    "        self.di = di\n",
    "        self.path = path\n",
    "        self.offset = offset\n",
    "        self.init()\n",
    "        \n",
    "    \n",
    "    def init(self):\n",
    "        self.r = np.zeros(len(index_to_link))\n",
    "        self.t = np.zeros(len(index_to_link))\n",
    "        for index, link in enumerate(self.path):\n",
    "            self.r[link_to_index[link]] = 1\n",
    "            if index == 0:\n",
    "                self.t[link_to_index[link]] = self.offset\n",
    "            else:\n",
    "                self.t[link_to_index[link]] = self.t[link_to_index[self.path[index - 1]]] + self.ci + net_var[link]['t_proc']\n"
   ]
  },
  {
   "cell_type": "code",
   "execution_count": 6,
   "metadata": {},
   "outputs": [],
   "source": [
    "def conflict(i: Node, j: Node):\n",
    "    global net_var, index_to_link\n",
    "    r_i = np.nonzero(i.r)[0]\n",
    "    r_j = np.nonzero(j.r)[0]\n",
    "\n",
    "    if i.i == j.i:\n",
    "        return False\n",
    "    if not set(r_i) & set(r_j):\n",
    "        return False\n",
    "\n",
    "    for link in set(r_i) & set(r_j):\n",
    "        lcm = np.lcm(i.pi, j.pi)\n",
    "        for a, b in [\n",
    "                        (a, b) for a in range(0, int(lcm / i.pi))\n",
    "                            for b in range(0, int(lcm / j.pi))\n",
    "                    ]:\n",
    "            jgi = j.t[link] + b * j.pi >= i.t[link] + i.ci + a * i.pi\n",
    "            igj = i.t[link] + a * i.pi >= j.t[link] + j.ci + b * j.pi\n",
    "            if not (jgi or igj):\n",
    "                return True\n",
    "    return False\n",
    "\n",
    "# a = Node(0, 1, 100, 10, 100, ['(0, 1)', '(1, 2)'], 11)\n",
    "# b = Node(1, 3, 20, 10, 20, ['(0, 1)', '(1, 2)'], 0)\n",
    "# print(conflict(a,b))\n"
   ]
  },
  {
   "cell_type": "code",
   "execution_count": 7,
   "metadata": {},
   "outputs": [],
   "source": [
    "def get_paths(g, start, end):\n",
    "    paths = nx.all_simple_paths(g, start, end)\n",
    "    return [[str((v, path[h + 1]))\n",
    "            for h, v in enumerate(path[:-1])] for path in paths]"
   ]
  },
  {
   "cell_type": "code",
   "execution_count": 8,
   "metadata": {},
   "outputs": [],
   "source": [
    "# phases = [list(range(0, task.loc[i]['period'] - task.loc[i]['size'] * 8)) for i in range(len(task))]\n",
    "# paths = [get_paths(g, task.loc[i]['src'], eval(task.loc[i]['dst'])[0]) for i in range(len(task))]\n",
    "# current_state = [[0, 0] for i in range(len(task))] ## [phase, path]"
   ]
  },
  {
   "cell_type": "code",
   "execution_count": 9,
   "metadata": {},
   "outputs": [],
   "source": [
    "def stateful_generator(i):\n",
    "    ## Not reach the end of the paths\n",
    "    global current_state, phases, paths\n",
    "    if current_state[i][1] < len(paths[i]) - 1:\n",
    "        current_state[i][1] += 1\n",
    "        return (phases[i][current_state[i][0]], paths[i][current_state[i][1]])\n",
    "    elif current_state[i][0] < len(phases[i]) - 1:\n",
    "        current_state[i][0] += 1\n",
    "        current_state[i][1] = 0\n",
    "        return (phases[i][current_state[i][0]], paths[i][current_state[i][1]])\n",
    "    else:\n",
    "        return None"
   ]
  },
  {
   "cell_type": "code",
   "execution_count": 10,
   "metadata": {},
   "outputs": [],
   "source": [
    "def add_vertex(v: Node):\n",
    "    global CG\n",
    "    CG.add_node(v.i, config = v)\n",
    "    for node in CG.nodes:\n",
    "        if node == v.i:\n",
    "            continue\n",
    "        if conflict(v, CG.nodes[node]['config']):\n",
    "            CG.add_edge(v.i, node)\n",
    "    "
   ]
  },
  {
   "cell_type": "code",
   "execution_count": 11,
   "metadata": {},
   "outputs": [],
   "source": [
    "def generator(task_set):\n",
    "    global task, num_node\n",
    "    flag = False\n",
    "    for i in task_set:\n",
    "        phase, path = stateful_generator(i)\n",
    "        config = Node(num_node, i, task.loc[i]['period'], task.loc[i]['size'] * 8, task.loc[i]['deadline'], path, phase)\n",
    "        add_vertex(config)\n",
    "        num_node += 1\n",
    "        flag = True\n",
    "    return flag"
   ]
  },
  {
   "cell_type": "code",
   "execution_count": 12,
   "metadata": {},
   "outputs": [],
   "source": [
    "# CG = nx.Graph()"
   ]
  },
  {
   "cell_type": "code",
   "execution_count": 13,
   "metadata": {},
   "outputs": [],
   "source": [
    "# add_vertex(a)\n",
    "# print(CG)\n",
    "# add_vertex(b)\n",
    "# print(CG)\n",
    "# c = Node(2, 5, 20, 10, 20, ['(0, 1)', '(1, 2)'], 20)\n",
    "# print(conflict(a, c))\n",
    "# print(conflict(b, c))\n",
    "# add_vertex(c)\n",
    "# print(CG)"
   ]
  },
  {
   "cell_type": "code",
   "execution_count": 14,
   "metadata": {},
   "outputs": [],
   "source": [
    "# sc = np.zeros(len(task)) + 1"
   ]
  },
  {
   "cell_type": "code",
   "execution_count": 15,
   "metadata": {},
   "outputs": [],
   "source": [
    "def luby():\n",
    "    global CG, sc\n",
    "    a = 0.7\n",
    "\n",
    "    CG_copy = CG.copy()\n",
    "\n",
    "    I = set()\n",
    "    while CG_copy.nodes:\n",
    "        X = set()\n",
    "        for node in [x for x in CG_copy.nodes]:\n",
    "            if nx.degree(CG_copy, node) == 0:\n",
    "                I.add(node)\n",
    "                CG_copy.remove_node(node)\n",
    "                continue\n",
    "            p_deg = 1 / (2 * nx.degree(CG_copy, node))\n",
    "            p_sc = 1 - ((sc[CG.nodes[node]['config'].f] + 1) / (max(sc) + 1))\n",
    "            if np.random.random() < a * p_deg + (1 - a) * p_sc:\n",
    "                X.add(node)\n",
    "                \n",
    "        I_p = X\n",
    "        edges = list(CG_copy.subgraph(I_p).edges)\n",
    "        while edges:\n",
    "            link = edges.pop()\n",
    "            if nx.degree(CG_copy, link[0]) <= nx.degree(CG_copy, link[1]):\n",
    "                I_p.remove(link[0])\n",
    "            else:\n",
    "                I_p.remove(link[1])\n",
    "            edges = list(CG_copy.subgraph(I_p).edges)\n",
    "\n",
    "        # for link in CG_copy.subgraph(I_p).edges:\n",
    "        #     if nx.degree(CG_copy, link[0]) <= nx.degree(CG_copy, link[1]):\n",
    "        #         I_p.remove(link[0])\n",
    "        #     else:\n",
    "        #         I_p.remove(link[1])\n",
    "        I = I | I_p\n",
    "        Y = I_p | set().union(*(CG_copy.neighbors(n) for n in I_p))\n",
    "        CG_copy.remove_nodes_from(Y)\n",
    "    return I\n",
    "\n",
    "# GC = nx.Graph()\n",
    "# add_vertex(Node(0, 0, 100, 10, 20, ['(0, 1)', '(1, 2)'], 0))\n",
    "# add_vertex(Node(1, 1, 100, 10, 100, ['(0, 1)', '(1, 2)'],10 - 1))\n",
    "# add_vertex(Node(2, 2, 100, 10, 20, ['(0, 1)', '(1, 2)'], 20 - 2))\n",
    "# add_vertex(Node(3, 3, 100, 10, 20, ['(0, 1)', '(1, 2)'], 30 - 3))\n",
    "# add_vertex(Node(4, 4, 100, 10, 20, ['(0, 1)', '(1, 2)'], 40 - 4))\n",
    "# add_vertex(Node(5, 5, 100, 10, 20, ['(0, 1)', '(1, 2)'], 50 - 5))\n",
    "# add_vertex(Node(6, 6, 100, 10, 20, ['(0, 1)', '(1, 2)'], 60 - 6))\n",
    "# nx.draw(CG, with_labels=True)\n",
    "# independent_set = luby()\n",
    "# print(independent_set)\n",
    "    "
   ]
  },
  {
   "cell_type": "code",
   "execution_count": 16,
   "metadata": {},
   "outputs": [],
   "source": [
    "def ILP():\n",
    "    global CG\n",
    "    CG_copy = CG.copy()\n",
    "    m = gp.Model('ILP')\n",
    "    m.setParam('OutputFlag', False)\n",
    "    m.setParam('timeLimit', 5 * 60)\n",
    "    xv = m.addVars(CG_copy.nodes, vtype=GRB.BINARY, name='x')\n",
    "    xs = m.addVars(len(task), vtype=GRB.BINARY, name='s')\n",
    "    m.setObjective(xs.sum(), GRB.MAXIMIZE)\n",
    "    for edge in CG_copy.edges:\n",
    "        m.addConstr(xv[edge[0]] + xv[edge[1]] <= 1)\n",
    "    for i in range(len(task)):\n",
    "        m.addConstr(xs[i] <= sum(xv[k] for k in CG_copy.nodes if CG.nodes[k]['config'].f == i))\n",
    "    m.optimize()\n",
    "    return set([k for k in CG_copy.nodes if xv[k].x == 1])\n"
   ]
  },
  {
   "cell_type": "code",
   "execution_count": 17,
   "metadata": {},
   "outputs": [],
   "source": [
    "def nods_to_streams(nodes):\n",
    "    global CG\n",
    "    streams = set()\n",
    "    for node in nodes:\n",
    "        streams.add(CG.nodes[node]['config'].f)\n",
    "    return streams"
   ]
  },
  {
   "cell_type": "code",
   "execution_count": 18,
   "metadata": {},
   "outputs": [],
   "source": [
    "# ILP_set = ILP()\n",
    "# print(ILP_set)"
   ]
  },
  {
   "cell_type": "code",
   "execution_count": 19,
   "metadata": {},
   "outputs": [],
   "source": [
    "# num_covered = []\n",
    "# opt_window_size = 10\n",
    "\n",
    "def trigger_sure():\n",
    "    global num_covered, opt_window_size\n",
    "    opt_window_size = min(opt_window_size, 20)\n",
    "    window = num_covered[-opt_window_size:]\n",
    "    d_past = np.sum(np.diff(window))\n",
    "    if d_past > 0:\n",
    "        opt_window_size += 1\n",
    "        return False\n",
    "    else:\n",
    "        opt_window_size = 10\n",
    "        return True\n",
    "    "
   ]
  },
  {
   "cell_type": "code",
   "execution_count": 20,
   "metadata": {},
   "outputs": [],
   "source": [
    "# p_thres = 1\n",
    "# graph_window_size = 5\n",
    "def trigger_completion(miss_num):\n",
    "    global num_covered, graph_window_size, p_thres\n",
    "    graph_window_size = min(graph_window_size, 20)\n",
    "    window_old = num_covered[-(graph_window_size + 1): -1]\n",
    "    window_new = num_covered[-graph_window_size:]\n",
    "    if not window_old:\n",
    "        n_old = 0\n",
    "    else:\n",
    "        n_old = round(np.mean(window_old))\n",
    "    n_new = round(np.mean(window_new))\n",
    "    if n_new < n_old:\n",
    "        p_thres -= 1\n",
    "        graph_window_size -= 1\n",
    "    elif n_new > n_old:\n",
    "        p_thres += 1\n",
    "        graph_window_size += 1\n",
    "    else:\n",
    "        p_thres -= 1\n",
    "    if miss_num > p_thres:\n",
    "        return True\n",
    "    else:\n",
    "        return False\n"
   ]
  },
  {
   "cell_type": "code",
   "execution_count": 21,
   "metadata": {},
   "outputs": [],
   "source": [
    "## Global variables to remember searching state\n",
    "num_node = 0\n",
    "phases = [list(range(0, task.loc[i]['period'] - task.loc[i]['size'] * 8)) for i in range(len(task))]\n",
    "paths = [get_paths(g, task.loc[i]['src'], eval(task.loc[i]['dst'])[0]) for i in range(len(task))]\n",
    "\n",
    "for i in range(len(task)):\n",
    "    paths[i] = [path for path in paths[i] if len(path) * (task.loc[i]['size'] * 8 + 10) <= task.loc[i]['deadline']]\n",
    "\n",
    "for x in paths:\n",
    "    if len(x) == 0:\n",
    "        print('No path available')\n",
    "        raise Exception\n",
    "\n",
    "for i in range(len(task)):\n",
    "    np.random.shuffle(paths[i])\n",
    "    np.random.shuffle(phases[i])\n",
    "\n",
    "current_state = [[0, 0] for i in range(len(task))] ## [phase, path]\n",
    "\n",
    "\n",
    "## Global: conflict graph\n",
    "CG = nx.Graph()\n",
    "## Global: number of covered tasks of heuristic\n",
    "sc = np.zeros(len(task))\n",
    "## Historical number of covered tasks\n",
    "num_covered = []\n",
    "## If the missing streams large than p_thres, then trigger generate function\n",
    "p_thres = len(task) // 2\n",
    "opt_window_size = 5\n",
    "graph_window_size = 5\n",
    "\n"
   ]
  },
  {
   "cell_type": "code",
   "execution_count": 22,
   "metadata": {},
   "outputs": [
    {
     "name": "stdout",
     "output_type": "stream",
     "text": [
      "Luby Triggered: | graph size-38 | IMS size-29 | covered-29 |\n",
      "Set parameter Username\n",
      "Academic license - for non-commercial use only - expires 2024-01-01\n",
      "ILP  Triggered: | graph size-38 | IMS size-30 | covered-29 |\n",
      "Luby Triggered: | graph size-76 | IMS size-33 | covered-33 |\n",
      "Luby Triggered: | graph size-114 | IMS size-34 | covered-34 |\n",
      "Luby Triggered: | graph size-152 | IMS size-41 | covered-36 |\n",
      "Luby Triggered: | graph size-190 | IMS size-45 | covered-31 |\n",
      "Luby Triggered: | graph size-228 | IMS size-56 | covered-36 |\n",
      "Luby Triggered: | graph size-266 | IMS size-53 | covered-35 |\n",
      "Luby Triggered: | graph size-304 | IMS size-61 | covered-36 |\n",
      "Luby Triggered: | graph size-342 | IMS size-70 | covered-37 |\n",
      "Luby Triggered: | graph size-380 | IMS size-71 | covered-36 |\n",
      "Luby Triggered: | graph size-418 | IMS size-72 | covered-36 |\n",
      "Luby Triggered: | graph size-456 | IMS size-76 | covered-37 |\n",
      "Luby Triggered: | graph size-494 | IMS size-82 | covered-38 |\n",
      "SOLVED\n"
     ]
    }
   ],
   "source": [
    "### Algorithm\n",
    "\n",
    "flag = True\n",
    "while flag:\n",
    "    flag = generator(list(range(len(task))))\n",
    "    I = luby()\n",
    "    covered_streams = nods_to_streams(I)\n",
    "    missed_streams = set(range(len(task))) - covered_streams\n",
    "    num_covered.append(len(covered_streams))\n",
    "    sc[list(covered_streams)] += 1\n",
    "    print('Luby Triggered: | graph size-%d | IMS size-%d | covered-%d |'%(len(CG.nodes), len(I), len(covered_streams)))\n",
    "    # print(missed_streams)\n",
    "    if trigger_completion(len(missed_streams)):\n",
    "        generator(missed_streams)\n",
    "    if trigger_sure():\n",
    "        I = ILP()\n",
    "        coverd_streams = nods_to_streams(I)\n",
    "        missed_streams = set(range(len(task))) - covered_streams\n",
    "        num_covered.append(len(covered_streams))\n",
    "        sc[list(covered_streams)] += 1\n",
    "        print('ILP  Triggered: | graph size-%d | IMS size-%d | covered-%d |'%(len(CG.nodes), len(I), len(covered_streams)))\n",
    "        # print(missed_streams)\n",
    "        if trigger_completion(len(missed_streams)):\n",
    "            generator(missed_streams)\n",
    "    if len(covered_streams) == len(task):\n",
    "        print('SOLVED')\n",
    "        break\n",
    "else:\n",
    "    print('NOT SOLVED')\n"
   ]
  },
  {
   "cell_type": "code",
   "execution_count": 23,
   "metadata": {},
   "outputs": [
    {
     "name": "stdout",
     "output_type": "stream",
     "text": [
      "['(13, 5)', '(5, 4)', '(4, 3)', '(3, 2)', '(2, 1)', '(1, 0)', '(0, 8)'] 1820\n",
      "['(11, 3)', '(3, 2)', '(2, 1)', '(1, 0)', '(0, 7)', '(7, 6)', '(6, 14)'] 1167\n",
      "['(12, 4)', '(4, 5)', '(5, 6)', '(6, 7)', '(7, 0)', '(0, 1)', '(1, 2)', '(2, 10)'] 1783\n",
      "['(10, 2)', '(2, 1)', '(1, 6)', '(6, 14)'] 3763\n",
      "['(9, 1)', '(1, 2)', '(2, 5)', '(5, 4)', '(4, 3)', '(3, 11)'] 3524\n",
      "['(10, 2)', '(2, 1)', '(1, 0)', '(0, 7)', '(7, 6)', '(6, 5)', '(5, 4)', '(4, 12)'] 3863\n",
      "['(12, 4)', '(4, 5)', '(5, 6)', '(6, 1)', '(1, 0)', '(0, 8)'] 977\n",
      "['(13, 5)', '(5, 2)', '(2, 3)', '(3, 11)'] 1532\n",
      "['(10, 2)', '(2, 5)', '(5, 6)', '(6, 7)', '(7, 0)', '(0, 1)', '(1, 9)'] 568\n",
      "['(12, 4)', '(4, 5)', '(5, 13)'] 3260\n",
      "['(8, 0)', '(0, 7)', '(7, 6)', '(6, 14)'] 3310\n",
      "['(11, 3)', '(3, 4)', '(4, 5)', '(5, 6)', '(6, 7)', '(7, 0)', '(0, 1)', '(1, 9)'] 3396\n",
      "['(12, 4)', '(4, 5)', '(5, 6)', '(6, 1)', '(1, 0)', '(0, 7)', '(7, 15)'] 513\n",
      "['(11, 3)', '(3, 2)', '(2, 1)', '(1, 0)', '(0, 7)', '(7, 6)', '(6, 5)', '(5, 4)', '(4, 12)'] 3010\n",
      "['(9, 1)', '(1, 6)', '(6, 5)', '(5, 4)', '(4, 12)'] 1792\n",
      "['(9, 1)', '(1, 2)', '(2, 3)', '(3, 4)', '(4, 5)', '(5, 6)', '(6, 7)', '(7, 15)'] 264\n",
      "['(12, 4)', '(4, 5)', '(5, 13)'] 2366\n",
      "['(15, 7)', '(7, 0)', '(0, 8)'] 3397\n",
      "['(10, 2)', '(2, 5)', '(5, 4)', '(4, 12)'] 2457\n",
      "['(9, 1)', '(1, 6)', '(6, 14)'] 2666\n",
      "['(14, 6)', '(6, 1)', '(1, 9)'] 1359\n",
      "['(13, 5)', '(5, 6)', '(6, 7)', '(7, 0)', '(0, 1)', '(1, 2)', '(2, 3)', '(3, 4)', '(4, 12)'] 459\n",
      "['(8, 0)', '(0, 7)', '(7, 6)', '(6, 5)', '(5, 4)', '(4, 3)', '(3, 2)', '(2, 1)', '(1, 9)'] 746\n",
      "['(14, 6)', '(6, 5)', '(5, 2)', '(2, 1)', '(1, 9)'] 3547\n",
      "['(8, 0)', '(0, 7)', '(7, 6)', '(6, 1)', '(1, 2)', '(2, 5)', '(5, 4)', '(4, 12)'] 3751\n",
      "['(9, 1)', '(1, 6)', '(6, 5)', '(5, 2)', '(2, 10)'] 2695\n",
      "['(11, 3)', '(3, 2)', '(2, 5)', '(5, 6)', '(6, 1)', '(1, 0)', '(0, 7)', '(7, 15)'] 2516\n",
      "['(13, 5)', '(5, 4)', '(4, 3)', '(3, 2)', '(2, 1)', '(1, 6)', '(6, 14)'] 2505\n",
      "['(14, 6)', '(6, 1)', '(1, 2)', '(2, 5)', '(5, 13)'] 3593\n",
      "['(10, 2)', '(2, 5)', '(5, 6)', '(6, 1)', '(1, 9)'] 1525\n",
      "['(9, 1)', '(1, 0)', '(0, 7)', '(7, 6)', '(6, 5)', '(5, 2)', '(2, 10)'] 2816\n",
      "['(9, 1)', '(1, 6)', '(6, 5)', '(5, 2)', '(2, 3)', '(3, 11)'] 1961\n",
      "['(10, 2)', '(2, 3)', '(3, 4)', '(4, 5)', '(5, 6)', '(6, 1)', '(1, 0)', '(0, 8)'] 3181\n",
      "['(15, 7)', '(7, 6)', '(6, 5)', '(5, 4)', '(4, 3)', '(3, 11)'] 1308\n",
      "['(8, 0)', '(0, 1)', '(1, 9)'] 1307\n",
      "['(9, 1)', '(1, 0)', '(0, 7)', '(7, 6)', '(6, 5)', '(5, 2)', '(2, 10)'] 2484\n",
      "['(8, 0)', '(0, 7)', '(7, 6)', '(6, 5)', '(5, 4)', '(4, 3)', '(3, 2)', '(2, 1)', '(1, 9)'] 1164\n",
      "['(11, 3)', '(3, 4)', '(4, 5)', '(5, 6)', '(6, 7)', '(7, 0)', '(0, 1)', '(1, 2)', '(2, 10)'] 1510\n"
     ]
    },
    {
     "ename": "",
     "evalue": "",
     "output_type": "error",
     "traceback": [
      "\u001b[1;31mThe Kernel crashed while executing code in the the current cell or a previous cell. Please review the code in the cell(s) to identify a possible cause of the failure. Click <a href='https://aka.ms/vscodeJupyterKernelCrash'>here</a> for more info. View Jupyter <a href='command:jupyter.viewOutput'>log</a> for further details."
     ]
    },
    {
     "ename": "",
     "evalue": "",
     "output_type": "error",
     "traceback": [
      "\u001b[1;31mThe Kernel crashed while executing code in the the current cell or a previous cell. Please review the code in the cell(s) to identify a possible cause of the failure. Click <a href='https://aka.ms/vscodeJupyterKernelCrash'>here</a> for more info. View Jupyter <a href='command:jupyter.viewOutput'>log</a> for further details."
     ]
    },
    {
     "ename": "",
     "evalue": "",
     "output_type": "error",
     "traceback": [
      "\u001b[1;31mThe Kernel crashed while executing code in the the current cell or a previous cell. Please review the code in the cell(s) to identify a possible cause of the failure. Click <a href='https://aka.ms/vscodeJupyterKernelCrash'>here</a> for more info. View Jupyter <a href='command:jupyter.viewOutput'>log</a> for further details."
     ]
    },
    {
     "ename": "",
     "evalue": "",
     "output_type": "error",
     "traceback": [
      "\u001b[1;31mThe Kernel crashed while executing code in the the current cell or a previous cell. Please review the code in the cell(s) to identify a possible cause of the failure. Click <a href='https://aka.ms/vscodeJupyterKernelCrash'>here</a> for more info. View Jupyter <a href='command:jupyter.viewOutput'>log</a> for further details."
     ]
    },
    {
     "ename": "",
     "evalue": "",
     "output_type": "error",
     "traceback": [
      "\u001b[1;31mThe Kernel crashed while executing code in the the current cell or a previous cell. Please review the code in the cell(s) to identify a possible cause of the failure. Click <a href='https://aka.ms/vscodeJupyterKernelCrash'>here</a> for more info. View Jupyter <a href='command:jupyter.viewOutput'>log</a> for further details."
     ]
    },
    {
     "ename": "",
     "evalue": "",
     "output_type": "error",
     "traceback": [
      "\u001b[1;31mThe Kernel crashed while executing code in the the current cell or a previous cell. Please review the code in the cell(s) to identify a possible cause of the failure. Click <a href='https://aka.ms/vscodeJupyterKernelCrash'>here</a> for more info. View Jupyter <a href='command:jupyter.viewOutput'>log</a> for further details."
     ]
    },
    {
     "ename": "",
     "evalue": "",
     "output_type": "error",
     "traceback": [
      "\u001b[1;31mThe Kernel crashed while executing code in the the current cell or a previous cell. Please review the code in the cell(s) to identify a possible cause of the failure. Click <a href='https://aka.ms/vscodeJupyterKernelCrash'>here</a> for more info. View Jupyter <a href='command:jupyter.viewOutput'>log</a> for further details."
     ]
    },
    {
     "ename": "",
     "evalue": "",
     "output_type": "error",
     "traceback": [
      "\u001b[1;31mThe Kernel crashed while executing code in the the current cell or a previous cell. Please review the code in the cell(s) to identify a possible cause of the failure. Click <a href='https://aka.ms/vscodeJupyterKernelCrash'>here</a> for more info. View Jupyter <a href='command:jupyter.viewOutput'>log</a> for further details."
     ]
    },
    {
     "ename": "",
     "evalue": "",
     "output_type": "error",
     "traceback": [
      "\u001b[1;31mThe Kernel crashed while executing code in the the current cell or a previous cell. Please review the code in the cell(s) to identify a possible cause of the failure. Click <a href='https://aka.ms/vscodeJupyterKernelCrash'>here</a> for more info. View Jupyter <a href='command:jupyter.viewOutput'>log</a> for further details."
     ]
    },
    {
     "ename": "",
     "evalue": "",
     "output_type": "error",
     "traceback": [
      "\u001b[1;31mThe Kernel crashed while executing code in the the current cell or a previous cell. Please review the code in the cell(s) to identify a possible cause of the failure. Click <a href='https://aka.ms/vscodeJupyterKernelCrash'>here</a> for more info. View Jupyter <a href='command:jupyter.viewOutput'>log</a> for further details."
     ]
    },
    {
     "ename": "",
     "evalue": "",
     "output_type": "error",
     "traceback": [
      "\u001b[1;31mThe Kernel crashed while executing code in the the current cell or a previous cell. Please review the code in the cell(s) to identify a possible cause of the failure. Click <a href='https://aka.ms/vscodeJupyterKernelCrash'>here</a> for more info. View Jupyter <a href='command:jupyter.viewOutput'>log</a> for further details."
     ]
    },
    {
     "ename": "",
     "evalue": "",
     "output_type": "error",
     "traceback": [
      "\u001b[1;31mThe Kernel crashed while executing code in the the current cell or a previous cell. Please review the code in the cell(s) to identify a possible cause of the failure. Click <a href='https://aka.ms/vscodeJupyterKernelCrash'>here</a> for more info. View Jupyter <a href='command:jupyter.viewOutput'>log</a> for further details."
     ]
    },
    {
     "ename": "",
     "evalue": "",
     "output_type": "error",
     "traceback": [
      "\u001b[1;31mThe Kernel crashed while executing code in the the current cell or a previous cell. Please review the code in the cell(s) to identify a possible cause of the failure. Click <a href='https://aka.ms/vscodeJupyterKernelCrash'>here</a> for more info. View Jupyter <a href='command:jupyter.viewOutput'>log</a> for further details."
     ]
    },
    {
     "ename": "",
     "evalue": "",
     "output_type": "error",
     "traceback": [
      "\u001b[1;31mThe Kernel crashed while executing code in the the current cell or a previous cell. Please review the code in the cell(s) to identify a possible cause of the failure. Click <a href='https://aka.ms/vscodeJupyterKernelCrash'>here</a> for more info. View Jupyter <a href='command:jupyter.viewOutput'>log</a> for further details."
     ]
    },
    {
     "ename": "",
     "evalue": "",
     "output_type": "error",
     "traceback": [
      "\u001b[1;31mThe Kernel crashed while executing code in the the current cell or a previous cell. Please review the code in the cell(s) to identify a possible cause of the failure. Click <a href='https://aka.ms/vscodeJupyterKernelCrash'>here</a> for more info. View Jupyter <a href='command:jupyter.viewOutput'>log</a> for further details."
     ]
    },
    {
     "ename": "",
     "evalue": "",
     "output_type": "error",
     "traceback": [
      "\u001b[1;31mThe Kernel crashed while executing code in the the current cell or a previous cell. Please review the code in the cell(s) to identify a possible cause of the failure. Click <a href='https://aka.ms/vscodeJupyterKernelCrash'>here</a> for more info. View Jupyter <a href='command:jupyter.viewOutput'>log</a> for further details."
     ]
    },
    {
     "ename": "",
     "evalue": "",
     "output_type": "error",
     "traceback": [
      "\u001b[1;31mThe Kernel crashed while executing code in the the current cell or a previous cell. Please review the code in the cell(s) to identify a possible cause of the failure. Click <a href='https://aka.ms/vscodeJupyterKernelCrash'>here</a> for more info. View Jupyter <a href='command:jupyter.viewOutput'>log</a> for further details."
     ]
    },
    {
     "ename": "",
     "evalue": "",
     "output_type": "error",
     "traceback": [
      "\u001b[1;31mThe Kernel crashed while executing code in the the current cell or a previous cell. Please review the code in the cell(s) to identify a possible cause of the failure. Click <a href='https://aka.ms/vscodeJupyterKernelCrash'>here</a> for more info. View Jupyter <a href='command:jupyter.viewOutput'>log</a> for further details."
     ]
    },
    {
     "ename": "",
     "evalue": "",
     "output_type": "error",
     "traceback": [
      "\u001b[1;31mThe Kernel crashed while executing code in the the current cell or a previous cell. Please review the code in the cell(s) to identify a possible cause of the failure. Click <a href='https://aka.ms/vscodeJupyterKernelCrash'>here</a> for more info. View Jupyter <a href='command:jupyter.viewOutput'>log</a> for further details."
     ]
    },
    {
     "ename": "",
     "evalue": "",
     "output_type": "error",
     "traceback": [
      "\u001b[1;31mThe Kernel crashed while executing code in the the current cell or a previous cell. Please review the code in the cell(s) to identify a possible cause of the failure. Click <a href='https://aka.ms/vscodeJupyterKernelCrash'>here</a> for more info. View Jupyter <a href='command:jupyter.viewOutput'>log</a> for further details."
     ]
    },
    {
     "ename": "",
     "evalue": "",
     "output_type": "error",
     "traceback": [
      "\u001b[1;31mThe Kernel crashed while executing code in the the current cell or a previous cell. Please review the code in the cell(s) to identify a possible cause of the failure. Click <a href='https://aka.ms/vscodeJupyterKernelCrash'>here</a> for more info. View Jupyter <a href='command:jupyter.viewOutput'>log</a> for further details."
     ]
    },
    {
     "ename": "",
     "evalue": "",
     "output_type": "error",
     "traceback": [
      "\u001b[1;31mThe Kernel crashed while executing code in the the current cell or a previous cell. Please review the code in the cell(s) to identify a possible cause of the failure. Click <a href='https://aka.ms/vscodeJupyterKernelCrash'>here</a> for more info. View Jupyter <a href='command:jupyter.viewOutput'>log</a> for further details."
     ]
    },
    {
     "ename": "",
     "evalue": "",
     "output_type": "error",
     "traceback": [
      "\u001b[1;31mThe Kernel crashed while executing code in the the current cell or a previous cell. Please review the code in the cell(s) to identify a possible cause of the failure. Click <a href='https://aka.ms/vscodeJupyterKernelCrash'>here</a> for more info. View Jupyter <a href='command:jupyter.viewOutput'>log</a> for further details."
     ]
    },
    {
     "ename": "",
     "evalue": "",
     "output_type": "error",
     "traceback": [
      "\u001b[1;31mThe Kernel crashed while executing code in the the current cell or a previous cell. Please review the code in the cell(s) to identify a possible cause of the failure. Click <a href='https://aka.ms/vscodeJupyterKernelCrash'>here</a> for more info. View Jupyter <a href='command:jupyter.viewOutput'>log</a> for further details."
     ]
    },
    {
     "ename": "",
     "evalue": "",
     "output_type": "error",
     "traceback": [
      "\u001b[1;31mThe Kernel crashed while executing code in the the current cell or a previous cell. Please review the code in the cell(s) to identify a possible cause of the failure. Click <a href='https://aka.ms/vscodeJupyterKernelCrash'>here</a> for more info. View Jupyter <a href='command:jupyter.viewOutput'>log</a> for further details."
     ]
    },
    {
     "ename": "",
     "evalue": "",
     "output_type": "error",
     "traceback": [
      "\u001b[1;31mThe Kernel crashed while executing code in the the current cell or a previous cell. Please review the code in the cell(s) to identify a possible cause of the failure. Click <a href='https://aka.ms/vscodeJupyterKernelCrash'>here</a> for more info. View Jupyter <a href='command:jupyter.viewOutput'>log</a> for further details."
     ]
    },
    {
     "ename": "",
     "evalue": "",
     "output_type": "error",
     "traceback": [
      "\u001b[1;31mThe Kernel crashed while executing code in the the current cell or a previous cell. Please review the code in the cell(s) to identify a possible cause of the failure. Click <a href='https://aka.ms/vscodeJupyterKernelCrash'>here</a> for more info. View Jupyter <a href='command:jupyter.viewOutput'>log</a> for further details."
     ]
    },
    {
     "ename": "",
     "evalue": "",
     "output_type": "error",
     "traceback": [
      "\u001b[1;31mThe Kernel crashed while executing code in the the current cell or a previous cell. Please review the code in the cell(s) to identify a possible cause of the failure. Click <a href='https://aka.ms/vscodeJupyterKernelCrash'>here</a> for more info. View Jupyter <a href='command:jupyter.viewOutput'>log</a> for further details."
     ]
    },
    {
     "ename": "",
     "evalue": "",
     "output_type": "error",
     "traceback": [
      "\u001b[1;31mThe Kernel crashed while executing code in the the current cell or a previous cell. Please review the code in the cell(s) to identify a possible cause of the failure. Click <a href='https://aka.ms/vscodeJupyterKernelCrash'>here</a> for more info. View Jupyter <a href='command:jupyter.viewOutput'>log</a> for further details."
     ]
    },
    {
     "ename": "",
     "evalue": "",
     "output_type": "error",
     "traceback": [
      "\u001b[1;31mThe Kernel crashed while executing code in the the current cell or a previous cell. Please review the code in the cell(s) to identify a possible cause of the failure. Click <a href='https://aka.ms/vscodeJupyterKernelCrash'>here</a> for more info. View Jupyter <a href='command:jupyter.viewOutput'>log</a> for further details."
     ]
    },
    {
     "ename": "",
     "evalue": "",
     "output_type": "error",
     "traceback": [
      "\u001b[1;31mThe Kernel crashed while executing code in the the current cell or a previous cell. Please review the code in the cell(s) to identify a possible cause of the failure. Click <a href='https://aka.ms/vscodeJupyterKernelCrash'>here</a> for more info. View Jupyter <a href='command:jupyter.viewOutput'>log</a> for further details."
     ]
    },
    {
     "ename": "",
     "evalue": "",
     "output_type": "error",
     "traceback": [
      "\u001b[1;31mThe Kernel crashed while executing code in the the current cell or a previous cell. Please review the code in the cell(s) to identify a possible cause of the failure. Click <a href='https://aka.ms/vscodeJupyterKernelCrash'>here</a> for more info. View Jupyter <a href='command:jupyter.viewOutput'>log</a> for further details."
     ]
    },
    {
     "ename": "",
     "evalue": "",
     "output_type": "error",
     "traceback": [
      "\u001b[1;31mThe Kernel crashed while executing code in the the current cell or a previous cell. Please review the code in the cell(s) to identify a possible cause of the failure. Click <a href='https://aka.ms/vscodeJupyterKernelCrash'>here</a> for more info. View Jupyter <a href='command:jupyter.viewOutput'>log</a> for further details."
     ]
    },
    {
     "ename": "",
     "evalue": "",
     "output_type": "error",
     "traceback": [
      "\u001b[1;31mThe Kernel crashed while executing code in the the current cell or a previous cell. Please review the code in the cell(s) to identify a possible cause of the failure. Click <a href='https://aka.ms/vscodeJupyterKernelCrash'>here</a> for more info. View Jupyter <a href='command:jupyter.viewOutput'>log</a> for further details."
     ]
    }
   ],
   "source": [
    "for i in range(len(task)):\n",
    "    print(CG.nodes[i]['config'].path, CG.nodes[i]['config'].offset)"
   ]
  },
  {
   "cell_type": "code",
   "execution_count": null,
   "metadata": {},
   "outputs": [
    {
     "ename": "",
     "evalue": "",
     "output_type": "error",
     "traceback": [
      "\u001b[1;31mFailed to start the Kernel. \n",
      "\u001b[1;31mActivating extension 'ms-python.python' failed: TelemetrySender.sendEventData must be a function. \n",
      "\u001b[1;31mView Jupyter <a href='command:jupyter.viewOutput'>log</a> for further details."
     ]
    }
   ],
   "source": [
    "window = num_covered[-opt_window_size:]\n",
    "np.sum(np.diff(window))"
   ]
  }
 ],
 "metadata": {
  "kernelspec": {
   "display_name": "Python 3 (ipykernel)",
   "language": "python",
   "name": "python3"
  },
  "language_info": {
   "codemirror_mode": {
    "name": "ipython",
    "version": 3
   },
   "file_extension": ".py",
   "mimetype": "text/x-python",
   "name": "python",
   "nbconvert_exporter": "python",
   "pygments_lexer": "ipython3",
   "version": "3.8.10"
  },
  "orig_nbformat": 4,
  "vscode": {
   "interpreter": {
    "hash": "e7370f93d1d0cde622a1f8e1c04877d8463912d04d973331ad4851f04de6915a"
   }
  }
 },
 "nbformat": 4,
 "nbformat_minor": 2
}

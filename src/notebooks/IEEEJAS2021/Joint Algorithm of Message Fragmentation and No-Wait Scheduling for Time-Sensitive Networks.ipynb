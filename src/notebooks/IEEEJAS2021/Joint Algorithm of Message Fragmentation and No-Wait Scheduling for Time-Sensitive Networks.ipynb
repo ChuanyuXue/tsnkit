{
 "cells": [
  {
   "cell_type": "code",
   "execution_count": 23,
   "id": "d001c639",
   "metadata": {},
   "outputs": [],
   "source": [
    "import pandas as pd\n",
    "import numpy as np\n",
    "import z3\n",
    "# from tqdm.notebook import tqdm\n",
    "# from tqdm.autonotebook import tqdm\n",
    "from tqdm import tqdm\n",
    "# blah blah your code errored\n",
    "tqdm._instances.clear()\n"
   ]
  },
  {
   "cell_type": "code",
   "execution_count": 24,
   "id": "eef46609",
   "metadata": {},
   "outputs": [],
   "source": [
    "macrotick = 100\n",
    "sync_error = 0\n",
    "time_out = 4 * 60 * 60\n",
    "NUM_FLOW = 50\n",
    "DATA_NAME = \"0\"\n",
    "TOPO_NAME = \"2\"\n",
    "\n",
    "task = pd.read_csv(\"../../dac_data/%s.csv\"%DATA_NAME)[:50]\n",
    "network = pd.read_csv(\"../../dac_data/%s_topology.csv\"%TOPO_NAME)\n",
    "for col in ['size','period','deadline','jitter']:\n",
    "    task[col] = np.ceil(task[col] / macrotick).astype(int)\n",
    "for col in ['t_proc','t_prop']:\n",
    "    network[col] = np.ceil(network[col] / macrotick).astype(int)\n",
    "    \n",
    "nodes = list(network['link'].apply(lambda x:eval(x)[0])) + \\\n",
    "    list(network['link'].apply(lambda x:eval(x)[1]))\n",
    "NODE_SET = list(set(nodes))\n",
    "ES_set = [x for x in NODE_SET if nodes.count(x) == 2]\n",
    "SW_set = list(set(NODE_SET) - set(ES_set))\n",
    "LCM = np.lcm.reduce(task['period'])\n",
    "net = np.zeros(shape = (max(NODE_SET) + 1, max(NODE_SET) + 1))"
   ]
  },
  {
   "cell_type": "markdown",
   "id": "fad53332",
   "metadata": {},
   "source": [
    "## 1. Model"
   ]
  },
  {
   "cell_type": "markdown",
   "id": "70b5916c",
   "metadata": {},
   "source": [
    "Network model:\n",
    "\n",
    "$\\left\\langle\\left[v_{a}, v_{b}\\right] . s,\\left[v_{a}, v_{b}\\right] . d,\\left[v_{a}, v_{b}\\right] . m t,\\left[v_{a}, v_{b}\\right] . c\\right\\rangle$"
   ]
  },
  {
   "cell_type": "code",
   "execution_count": 25,
   "id": "6af9ae40",
   "metadata": {},
   "outputs": [],
   "source": [
    "s = z3.Optimize()\n",
    "s.set(\"timeout\", 5 * 60*60*1000)"
   ]
  },
  {
   "cell_type": "code",
   "execution_count": 26,
   "id": "c3de36fb",
   "metadata": {},
   "outputs": [],
   "source": [
    "## Set macrotick as 100 ms\n",
    "\n",
    "U = 3\n",
    "E = max(network['t_proc'])\n",
    "MSS = 150 \n",
    "LCM = np.lcm.reduce(task['period'])"
   ]
  },
  {
   "cell_type": "code",
   "execution_count": null,
   "id": "ac059c6c",
   "metadata": {},
   "outputs": [],
   "source": []
  },
  {
   "cell_type": "code",
   "execution_count": 27,
   "id": "c5602eb8",
   "metadata": {},
   "outputs": [],
   "source": [
    "net_var = {}\n",
    "for _, row in network.iterrows():\n",
    "    net_var.setdefault(row['link'], {})\n",
    "    net_var[row['link']]['msd'] = row['t_proc']\n",
    "    net[eval(row['link'])[0], eval(row['link'])[1]] = 1"
   ]
  },
  {
   "cell_type": "code",
   "execution_count": 28,
   "id": "7ad1ca7a",
   "metadata": {},
   "outputs": [],
   "source": [
    "task_var = {}"
   ]
  },
  {
   "cell_type": "code",
   "execution_count": 29,
   "id": "e9795dcd",
   "metadata": {},
   "outputs": [],
   "source": [
    "## Shortest path\n",
    "def bfs_paths(graph, start, goal):\n",
    "    queue = [(start, [start])]\n",
    "    while queue:\n",
    "        (vertex, path) = queue.pop(0)\n",
    "        for _next in set(np.reshape(np.argwhere(graph[vertex] > 0),  -1)) - set(path):\n",
    "            if _next == goal:\n",
    "                yield path + [_next]\n",
    "            else:\n",
    "                queue.append((_next, path + [_next]))"
   ]
  },
  {
   "cell_type": "code",
   "execution_count": 30,
   "id": "6fee74cd",
   "metadata": {},
   "outputs": [],
   "source": [
    "## Assume task is strictly periodic\n",
    "for i, row in task.iterrows():\n",
    "    task.loc[i,'route'] = str(next(bfs_paths(net, int(row['src']), int(eval(row['dst'])[0]))))\n",
    "    task_var.setdefault(i, {})\n",
    "    route = eval(task.loc[i, 'route'])\n",
    "    for j in range(U):\n",
    "        task_var[i].setdefault(j, {})\n",
    "        task_var[i][j]['w'] = z3.Int('w_' +  str(i) + '_' + str(j))\n",
    "        task_var[i][j]['s'] =  z3.Int('s_' +  str(i) + '_' + str(j))\n",
    "        task_var[i][j]['u'] =  z3.Int('u_' +  str(i) + '_' + str(j))\n",
    "    task_var[i]['p'] = int(row['period'])\n",
    "    task_var[i]['d'] = int(row['deadline'])\n",
    "    task_var[i]['s'] = int(row['size'])\n",
    "    task_var[i]['pi'] = list({x: int(eval(str(route))[i+1]) for i, x in enumerate(eval(str(route))[:-1])}.items())\n",
    "    "
   ]
  },
  {
   "cell_type": "markdown",
   "id": "80f0021d",
   "metadata": {},
   "source": [
    "## 2. Constraints"
   ]
  },
  {
   "cell_type": "markdown",
   "id": "d707d35c",
   "metadata": {},
   "source": [
    "Range Constraints:\n",
    "\n",
    "\\begin{aligned}\n",
    "&\\forall f_i \\in F, \\forall j \\in\\left[0, \\frac{H}{p_i}\\right), \\forall g \\in[0, U) \\\\\n",
    "&0 \\leq s_{i, j, g} \\leq M S S, u_{i, j, g} \\in\\{0,1\\} \\\\\n",
    "&j \\times p_i \\leq w_{i, j, g} \\leq j \\times p_i+d_i \\\\\n",
    "&w_{i, j, g} \\leq w_{i, j, g+1}, u_{i, j, g} \\geq u_{i, j, g+1} .\n",
    "\\end{aligned}"
   ]
  },
  {
   "cell_type": "code",
   "execution_count": 31,
   "id": "35e5471b",
   "metadata": {},
   "outputs": [],
   "source": [
    "for i in task_var:\n",
    "    for g in range(U):\n",
    "        s.add(\n",
    "            task_var[i][g]['s'] >= 0,\n",
    "            task_var[i][g]['s'] <= MSS,\n",
    "            task_var[i][g]['w'] >= 0,\n",
    "            task_var[i][g]['w'] < task_var[i]['p'],\n",
    "            task_var[i][g]['w'] < task_var[i][g + 1]['w'] if g + 1 < U else True,\n",
    "            task_var[i][g]['u'] >= 0,\n",
    "            task_var[i][g]['u'] <= 1,\n",
    "            task_var[i][g]['u'] >= task_var[i][g + 1]['u'] if g + 1 < U else True\n",
    "        )"
   ]
  },
  {
   "cell_type": "markdown",
   "id": "9d3a988a",
   "metadata": {},
   "source": [
    "Size Constraint\n",
    "\n",
    "\\begin{gathered}\n",
    "\\forall f_i \\in F, \\forall j \\in\\left[0, \\frac{H}{p_i}\\right), \\sum_{\\forall g \\in[0, U)} s_{i, j, g}=\\mathfrak{s}_i \\\\\n",
    "\\forall g \\in[0, U),\\left(\\left(s_{i, j, g}>0\\right) \\wedge\\left(u_{i, j, g}=1\\right)\\right) \\vee \\\\\n",
    "\\left(\\left(s_{i, j, g}=0\\right) \\wedge\\left(u_{i, j, g}=0\\right)\\right)\n",
    "\\end{gathered}"
   ]
  },
  {
   "cell_type": "code",
   "execution_count": 32,
   "id": "75b1f1e9",
   "metadata": {},
   "outputs": [],
   "source": [
    "for i in task_var:\n",
    "    s.add(\n",
    "        z3.Sum(\n",
    "            [task_var[i][g]['s'] for g in range(U)]\n",
    "        ) == task_var[i]['s']\n",
    "    )\n",
    "    for g in range(U):\n",
    "        s.add(\n",
    "            z3.Or(\n",
    "                z3.And(task_var[i][g]['s'] > 0, task_var[i][g]['u'] == 1),\n",
    "                z3.And(task_var[i][g]['s'] == 0, task_var[i][g]['u'] == 0)\n",
    "            )\n",
    "        )"
   ]
  },
  {
   "cell_type": "markdown",
   "id": "7d20e952-0cb2-42c6-91d7-658437a47334",
   "metadata": {},
   "source": [
    "Real-Time Constraint\n",
    "\\begin{aligned}\n",
    "&\\forall f_i \\in F, \\forall j \\in\\left[0, \\frac{H}{p_i}\\right), \\forall g \\in[0, U) \\\\\n",
    "&\\neg u_{i, j, g} \\vee\\left(w_{i, j, g}+\\frac{s_{i, j, g}+e}{v} \\times r_i \\leq j \\times p_i+d_i\\right)\n",
    "\\end{aligned}\n"
   ]
  },
  {
   "cell_type": "code",
   "execution_count": 33,
   "id": "2976e0e4-4a4e-458a-aa28-ffbf40929533",
   "metadata": {},
   "outputs": [],
   "source": [
    "for i in task_var:\n",
    "    for g in range(U):\n",
    "        s.add(\n",
    "            z3.Or(\n",
    "                task_var[i][g]['u'] == 0,\n",
    "                (task_var[i][g]['s'] * 8 + net_var[str(task_var[i]['pi'][0])]['msd'] + sync_error)\\\n",
    "                     * len(task_var[i]['pi']) < task_var[i]['d']\n",
    "            )\n",
    "        )"
   ]
  },
  {
   "cell_type": "markdown",
   "id": "33f608d7",
   "metadata": {},
   "source": [
    "No-Conflict Constraint:\n",
    "\n",
    "\\begin{aligned}\n",
    "&\\forall l_{a, b} \\in L, \\forall f_i, f_x \\in F, \\forall j \\in\\left[0, \\frac{H}{p_i}\\right) \\\\\n",
    "&\\forall y \\in\\left[0, \\frac{H}{p_x}\\right), \\forall g, z \\in[0, U) \\\\\n",
    "&((i=x) \\wedge(j=y) \\wedge(g=z)) \\vee \\\\\n",
    "&\\neg u_{i, j, g} \\vee \\neg u_{x, y, z} \\vee\\left(l_{a, b} \\notin \\Pi_i\\right) \\vee\\left(l_{a, b} \\notin \\Pi_x\\right) \\vee \\\\\n",
    "&\\left(A_{x, y, z}\\left(l_{a, b}\\right)+\\frac{s_{x, y, z}+e}{v}<A_{i, j, g}\\left(l_{a, b}\\right)\\right) \\vee \\\\\n",
    "&\\left(A_{i, j, g}\\left(l_{a, b}\\right)+\\frac{s_{i, j, g}+e}{v}<A_{x, y, z}\\left(l_{a, b}\\right)\\right)\n",
    "\\end{aligned}"
   ]
  },
  {
   "cell_type": "code",
   "execution_count": 34,
   "id": "bf632845-5a34-4625-b541-7a4d66c3c10d",
   "metadata": {},
   "outputs": [],
   "source": [
    "## Construct A_x,y,z\n",
    "\n",
    "A = {}\n",
    "for i in task_var:\n",
    "    A.setdefault(i, {})\n",
    "    for g in range(U):\n",
    "        A[i].setdefault(g, {})\n",
    "        route = task_var[i]['pi']\n",
    "        for hop, link in enumerate(route):\n",
    "            if hop == 0:\n",
    "                A[i][g][link] = task_var[i][g]['w']\n",
    "            else:\n",
    "                A[i][g][link] = A[i][g][route[hop - 1]] + task_var[i][g]['s'] * 8 + net_var[str(route[hop])]['msd'] + sync_error"
   ]
  },
  {
   "cell_type": "code",
   "execution_count": 35,
   "id": "cc44f3e7-afb4-4db2-a786-e8cf2051f7cc",
   "metadata": {},
   "outputs": [
    {
     "name": "stderr",
     "output_type": "stream",
     "text": [
      "100%|██████████| 40/40 [00:04<00:00,  8.72it/s]\n"
     ]
    }
   ],
   "source": [
    "for link in tqdm(net_var):\n",
    "    link = eval(link)\n",
    "    for i, j in [(i,j) for i in task_var for j in task_var \n",
    "                if link in task_var[i]['pi'] and link in task_var[j]['pi']]:\n",
    "        lcm = np.lcm(task_var[i]['p'], task_var[j]['p'])\n",
    "        for a, b in [(a,b) for a in range(0, int(lcm / task_var[i]['p'])) for b in range(0, int(lcm / task_var[j]['p']))]:\n",
    "            for g, z in [(g,z) for g in range(U) for z in range(U)]:\n",
    "                if i < j or g != z:\n",
    "                    s.add(\n",
    "                        z3.Implies(\n",
    "                            task_var[i][g]['u'] + task_var[j][z]['u'] == 2,\n",
    "                            z3.Or(\n",
    "                                A[i][g][link] + (task_var[i][g]['s']) * 8 + a * task_var[i]['p'] < A[j][z][link] + b * task_var[j]['p'],\n",
    "                                A[j][z][link] + (task_var[j][z]['s']) * 8 + b * task_var[j]['p'] < A[i][g][link] + a * task_var[i]['p'],\n",
    "                            )\n",
    "                        )\n",
    "                    )"
   ]
  },
  {
   "cell_type": "markdown",
   "id": "3b0624e4-3d2a-4379-94c3-24facc1e1160",
   "metadata": {},
   "source": [
    "## Objective "
   ]
  },
  {
   "cell_type": "code",
   "execution_count": 36,
   "id": "466d264c-282f-42a0-a88e-1515dfe1d5d5",
   "metadata": {},
   "outputs": [],
   "source": [
    "# s.minimize(\n",
    "#     z3.Sum(\n",
    "#         [task_var[i][g]['u'] for i,g in [(i, g) for i in task_var for g in range(U)]]\n",
    "#     )\n",
    "# )"
   ]
  },
  {
   "cell_type": "code",
   "execution_count": 37,
   "id": "f04a8f99",
   "metadata": {},
   "outputs": [],
   "source": [
    "res = s.check()"
   ]
  },
  {
   "cell_type": "code",
   "execution_count": null,
   "id": "2e476e46",
   "metadata": {},
   "outputs": [],
   "source": [
    "result = s.model()"
   ]
  },
  {
   "cell_type": "markdown",
   "id": "5d0f25dd",
   "metadata": {},
   "source": [
    "## Output schedule"
   ]
  },
  {
   "cell_type": "code",
   "execution_count": null,
   "id": "f8210ace",
   "metadata": {},
   "outputs": [],
   "source": [
    "## GCL\n",
    "GCL = []\n",
    "for i in task_var:\n",
    "    for hop, e in enumerate(task_var[i]['pi']):\n",
    "        for u in [u for u in range(U) if result[task_var[i][u]['u']] == 1]:\n",
    "            start = result.eval(A[i][u][e]).as_long()\n",
    "            size = result[task_var[i][u]['s']].as_long() * 8\n",
    "            end = start + size\n",
    "            queue = 0\n",
    "            t = task_var[i]['p']\n",
    "            for k in range(int(LCM / t)):\n",
    "                GCL.append(\n",
    "                    [e, queue, (start + k * t) * macrotick, (end + k * t) * macrotick, LCM * macrotick]\n",
    "                )"
   ]
  },
  {
   "cell_type": "code",
   "execution_count": null,
   "id": "6e5b4dac-4d2f-4388-be1f-8f8388e22c5a",
   "metadata": {},
   "outputs": [],
   "source": [
    "## Offset\n",
    "OFFSET = []\n",
    "for i in task_var:\n",
    "    for u in [u for u in range(U) if result[task_var[i][u]['u']] == 1]:\n",
    "        offset = result.eval(A[i][u][task_var[i]['pi'][0]]).as_long()\n",
    "        OFFSET.append(\n",
    "            [i, u, (task_var[i]['p'] - offset) * macrotick]\n",
    "        )    "
   ]
  },
  {
   "cell_type": "code",
   "execution_count": null,
   "id": "4aed3305-30e3-4a4b-a121-b5cea0794f23",
   "metadata": {},
   "outputs": [],
   "source": [
    "QUEUE = []\n",
    "for i in task_var:\n",
    "    for e in task_var[i]['pi']:\n",
    "        for u in [u for u in range(U) if result[task_var[i][u]['u']] == 1]:\n",
    "            QUEUE.append([i, 0, e, 0])\n",
    "        # queue[i][e] = result[task_var[i][e]['p']]\n",
    "# with open('RTNS16-queue-CBS-16.txt', 'w') as f:\n",
    "#     f.write(str(queue))"
   ]
  },
  {
   "cell_type": "code",
   "execution_count": null,
   "id": "38f4540d-a150-47eb-b640-6c6d2b94ae21",
   "metadata": {},
   "outputs": [],
   "source": [
    "ROUTE = []\n",
    "for i, row in task.iterrows():\n",
    "    route = task_var[i]['pi']\n",
    "    for h, v in enumerate(route):\n",
    "        ROUTE.append(\n",
    "            [i, v]\n",
    "        )"
   ]
  },
  {
   "cell_type": "code",
   "execution_count": null,
   "id": "11d9b297-86db-4e98-9b43-2544304a128f",
   "metadata": {},
   "outputs": [],
   "source": [
    "SIZE = []\n",
    "for i in task_var:\n",
    "    for u in [u for u in range(U) if result[task_var[i][u]['u']] == 1]:\n",
    "        SIZE.append(\n",
    "            [i, u, result[task_var[i][u]['s']].as_long() * macrotick]\n",
    "        )"
   ]
  },
  {
   "cell_type": "code",
   "execution_count": null,
   "id": "8ba9d559-ec08-402c-84b6-b4683eed045e",
   "metadata": {},
   "outputs": [],
   "source": [
    "GCL = pd.DataFrame(GCL)\n",
    "GCL.columns = [\"link\", \"queue\", \"start\", \"end\", \"cycle\"]\n",
    "GCL.to_csv(\"IEEEJAS2021-%s-%d-%s-GCL.csv\"%(DATA_NAME,NUM_FLOW,TOPO_NAME), index=False)\n",
    "\n",
    "OFFSET = pd.DataFrame(OFFSET)\n",
    "OFFSET.columns = ['id', 'ins_id', 'offset']\n",
    "OFFSET.to_csv(\"IEEEJAS2021-%s-%d-%s-OFFSET.csv\"%(DATA_NAME,NUM_FLOW,TOPO_NAME), index=False)\n",
    "\n",
    "ROUTE = pd.DataFrame(ROUTE)\n",
    "ROUTE.columns = ['id', 'link']\n",
    "ROUTE.to_csv(\"IEEEJAS2021-%s-%d-%s-ROUTE.csv\"%(DATA_NAME,NUM_FLOW,TOPO_NAME), index=False)\n",
    "\n",
    "QUEUE = pd.DataFrame(QUEUE)\n",
    "QUEUE.columns = ['id','ins_id','link','queue']\n",
    "QUEUE.to_csv(\"IEEEJAS2021-%s-%d-%s-QUEUE.csv\"%(DATA_NAME,NUM_FLOW,TOPO_NAME), index=False)\n",
    "\n",
    "SIZE = pd.DataFrame(QUEUE)\n",
    "SIZE.columns = ['id','ins_id','link','queue']\n",
    "SIZE.to_csv(\"IEEEJAS2021-%s-%d-%s-QUEUE.csv\"%(DATA_NAME,NUM_FLOW,TOPO_NAME), index=False)"
   ]
  }
 ],
 "metadata": {
  "kernelspec": {
   "display_name": "base",
   "language": "python",
   "name": "python3"
  },
  "language_info": {
   "codemirror_mode": {
    "name": "ipython",
    "version": 3
   },
   "file_extension": ".py",
   "mimetype": "text/x-python",
   "name": "python",
   "nbconvert_exporter": "python",
   "pygments_lexer": "ipython3",
   "version": "3.9.13"
  },
  "toc": {
   "base_numbering": 1,
   "nav_menu": {},
   "number_sections": false,
   "sideBar": true,
   "skip_h1_title": false,
   "title_cell": "Table of Contents",
   "title_sidebar": "Contents",
   "toc_cell": false,
   "toc_position": {},
   "toc_section_display": true,
   "toc_window_display": false
  },
  "vscode": {
   "interpreter": {
    "hash": "c6e4e9f98eb68ad3b7c296f83d20e6de614cb42e90992a65aa266555a3137d0d"
   }
  }
 },
 "nbformat": 4,
 "nbformat_minor": 5
}

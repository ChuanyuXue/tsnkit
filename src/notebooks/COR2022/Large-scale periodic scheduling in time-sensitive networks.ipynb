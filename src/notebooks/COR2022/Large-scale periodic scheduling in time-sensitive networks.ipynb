{
 "cells": [
  {
   "cell_type": "code",
   "execution_count": 48,
   "id": "4752e705",
   "metadata": {},
   "outputs": [],
   "source": [
    "import pandas as pd\n",
    "import numpy as np\n",
    "# from tqdm.notebook import tqdm\n",
    "# from tqdm.autonotebook import tqdm\n",
    "from tqdm import tqdm\n",
    "from copy import deepcopy\n",
    "# blah blah your code errored\n",
    "tqdm._instances.clear()"
   ]
  },
  {
   "cell_type": "code",
   "execution_count": 49,
   "id": "c2dd7263-9bf5-4ce5-82b3-8f9b4c088140",
   "metadata": {},
   "outputs": [],
   "source": [
    "macrotick = 100\n",
    "sync_error = 0\n",
    "time_out = 4 * 60 * 60\n",
    "NUM_FLOW = 43\n",
    "DATA_NAME = \"single0\"\n",
    "TOPO_NAME = \"0\"\n",
    "\n",
    "task = pd.read_csv(\"../../dac_data/%s.csv\"%DATA_NAME)[:NUM_FLOW]\n",
    "network = pd.read_csv(\"../../dac_data/%s_topology.csv\"%TOPO_NAME)\n",
    "for col in ['size','period','deadline','jitter']:\n",
    "    task[col] = np.ceil(task[col] / macrotick).astype(int)\n",
    "for col in ['t_proc','t_prop']:\n",
    "    network[col] = np.ceil(network[col] / macrotick).astype(int)\n",
    "    \n",
    "nodes = list(network['link'].apply(lambda x:eval(x)[0])) + \\\n",
    "    list(network['link'].apply(lambda x:eval(x)[1]))\n",
    "NODE_SET = list(set(nodes))\n",
    "ES_set = [x for x in NODE_SET if nodes.count(x) == 2]\n",
    "SW_set = list(set(NODE_SET) - set(ES_set))\n",
    "LCM = np.lcm.reduce(task['period'])\n",
    "net = np.zeros(shape = (max(NODE_SET) + 1, max(NODE_SET) + 1))"
   ]
  },
  {
   "cell_type": "markdown",
   "id": "61ee430e",
   "metadata": {},
   "source": [
    "## 1. Model"
   ]
  },
  {
   "cell_type": "code",
   "execution_count": 50,
   "id": "d5c50d63",
   "metadata": {},
   "outputs": [],
   "source": [
    "net_var = {}\n",
    "\n",
    "for _, row in network.iterrows():\n",
    "    net_var.setdefault(row['link'], {})\n",
    "    net_var[row['link']]['msd'] = row['t_proc']\n",
    "    net[eval(row['link'])[0], eval(row['link'])[1]] = 1"
   ]
  },
  {
   "cell_type": "code",
   "execution_count": 51,
   "id": "c88b28a5",
   "metadata": {},
   "outputs": [],
   "source": [
    "## Create mapping from Link to index\n",
    "link_to_index = {}\n",
    "index_to_link = {}\n",
    "\n",
    "counter = 0\n",
    "for _, row in network.iterrows():\n",
    "    link = row['link']\n",
    "    link_to_index[link] = counter\n",
    "    index_to_link[counter] = link\n",
    "    counter += 1"
   ]
  },
  {
   "cell_type": "markdown",
   "id": "37b8a061",
   "metadata": {},
   "source": [
    "Task model"
   ]
  },
  {
   "cell_type": "code",
   "execution_count": 52,
   "id": "5f42bb3e",
   "metadata": {},
   "outputs": [],
   "source": [
    "## Shortest path\n",
    "def bfs_paths(graph, start, goal):\n",
    "    queue = [(start, [start])]\n",
    "    while queue:\n",
    "        (vertex, path) = queue.pop(0)\n",
    "        for _next in set(np.reshape(np.argwhere(graph[vertex] > 0),  -1)) - set(path):\n",
    "            if _next == goal:\n",
    "                yield path + [_next]\n",
    "            else:\n",
    "                queue.append((_next, path + [_next]))"
   ]
  },
  {
   "cell_type": "code",
   "execution_count": 53,
   "id": "c15b11cf",
   "metadata": {},
   "outputs": [],
   "source": [
    "task_attr = {}\n",
    "task_var = {}\n",
    "for k, row in task.iterrows():\n",
    "    task_attr.setdefault(k, {})\n",
    "    task_var.setdefault(k, {})\n",
    "    \n",
    "    ## f_k\n",
    "    task_attr[k]['t'] = int(row['src'])\n",
    "    task_attr[k]['l'] = int(eval(row['dst'])[0])\n",
    "#     task_attr[k]['ct'] = int(row['period']) \n",
    "#     task_attr[k]['rsl'] = int(row['size'] * 8) \n",
    "#     task_attr[k]['ml'] = int(row['deadline'])\n",
    "    task_attr[k]['p'] = int(row['size'])\n",
    "    task_attr[k]['T'] = int(row['period'])\n",
    "    task_attr[k]['d'] = int(row['deadline'])\n",
    "    task_attr[k]['L'] = task_attr[k]['p'] * 8\n",
    "    \n",
    "    task_attr[k]['route'] = next(bfs_paths(net, int(row['src']), int(eval(row['dst'])[0])))"
   ]
  },
  {
   "cell_type": "code",
   "execution_count": 54,
   "id": "f589c65e",
   "metadata": {},
   "outputs": [],
   "source": [
    "route_to_index = {}\n",
    "index_to_route = {}\n",
    "for k in task_attr:\n",
    "    route_to_index.setdefault(k, {})\n",
    "    index_to_route.setdefault(k, {})\n",
    "    for i, v in enumerate(task_attr[k]['route'][:-1]):\n",
    "        route_to_index[k][str((v, task_attr[k]['route'][i+1]))] = i\n",
    "        index_to_route[k][i] = str((v, task_attr[k]['route'][i+1]))"
   ]
  },
  {
   "cell_type": "markdown",
   "id": "0bfc84ec",
   "metadata": {},
   "source": [
    "\\begin{aligned}\n",
    "&e s t_{i, t_{i}, t_{i}^{\\prime}} \\leftarrow r_{i}\\\\\n",
    "&e s t_{i, a, b} \\leftarrow e s t_{i, p r e c(a), a}+L_{i, p r e c(a), a}+d_{\\text {prec }(a), a}+d_{a}+\\delta\\\\\n",
    "&l s t_{i, l_{i}^{\\prime}, l_{i}} \\leftarrow \\tilde{d}_{i}-L_{i, l_{i}^{\\prime}, l_{i}}-d_{l_{i}^{\\prime}, l_{i}}\\\\\n",
    "&l s t_{i, a, b} \\leftarrow l s t_{i, b, s u c c(b)}-L_{i, a, b}-d_{a, b}-d_{b}-\\delta\n",
    "\\end{aligned}"
   ]
  },
  {
   "cell_type": "code",
   "execution_count": 55,
   "id": "fa7c6695",
   "metadata": {},
   "outputs": [],
   "source": [
    "## It assumes a offset\n",
    "\n",
    "est = {}\n",
    "lst = {}\n",
    "\n",
    "for k in task_attr:\n",
    "    est.setdefault(k, [None] * (len(task_attr[k]['route']) - 1))\n",
    "    lst.setdefault(k, [None] * (len(task_attr[k]['route']) - 1))\n",
    "    for i in range(len(est[k])):\n",
    "        if i == 0:\n",
    "#             est[k][i] = np.random.randint(0, (task_attr[i]['T'] - task_attr[i]['d'] - task_attr[i]['L']) // 100) * 100\n",
    "            est[k][i] = 0\n",
    "            continue\n",
    "        est[k][i] = est[k][i-1] + task_attr[k]['L'] + net_var[index_to_route[k][i]]['msd']\n",
    "    \n",
    "    for i in range(len(lst[k])-1, -1, -1):\n",
    "        if i == len(lst[k])-1:\n",
    "            lst[k][i] = est[k][0] + task_attr[k]['d'] - task_attr[k]['L'] - net_var[index_to_route[k][i]]['msd']\n",
    "            continue\n",
    "        lst[k][i] = lst[k][i+1] - task_attr[k]['L'] - net_var[index_to_route[k][i + 1]]['msd']\n",
    "        \n",
    "est_copy = deepcopy(est)\n",
    "lst_copy = deepcopy(lst)"
   ]
  },
  {
   "cell_type": "markdown",
   "id": "af2259c8",
   "metadata": {},
   "source": [
    "## 2. Tools"
   ]
  },
  {
   "cell_type": "markdown",
   "id": "f411fd84",
   "metadata": {},
   "source": [
    "criterion values\n",
    "\n",
    "$$\\operatorname{crit}\\left(f_{i, a, b}\\right)=\\frac{\\tilde{d}_{i} \\cdot\\left(l s t_{i, a, b}-e s t_{i, a, b}\\right)+\\operatorname{order}\\left(f_{i, a, b}\\right)}{\\operatorname{conflicts}\\left(f_{i, a, b}\\right)}$$"
   ]
  },
  {
   "cell_type": "code",
   "execution_count": 56,
   "id": "9746bcd3",
   "metadata": {},
   "outputs": [],
   "source": [
    "conflicts = {(k, link): 1 \n",
    "               for k, link in[\n",
    "             x for y in [[(x, str((f, task_attr[x]['route'][i+1])))\n",
    "               for i,f in enumerate(task_attr[x]['route'][:-1])] \n",
    "               for x in task_attr]\n",
    "               for x in y]}\n",
    "\n",
    "def crit(task):\n",
    "    global task_attr, lst_copy, est_copy, conflicts\n",
    "    route_index = route_to_index[task[0]][task[1]]\n",
    "    return (task_attr[task[0]]['d'] * (\n",
    "        lst_copy[task[0]][route_index] - \n",
    "        est_copy[task[0]][route_index]\n",
    "    ) + route_index) / conflicts[task]\n",
    "\n"
   ]
  },
  {
   "cell_type": "markdown",
   "id": "676cf067",
   "metadata": {},
   "source": [
    "## 3. EPIC"
   ]
  },
  {
   "cell_type": "code",
   "execution_count": 57,
   "id": "a107043a",
   "metadata": {},
   "outputs": [],
   "source": [
    "def getVar(uf):\n",
    "    return sorted(uf, key = crit, reverse=False)[0]"
   ]
  },
  {
   "cell_type": "code",
   "execution_count": 58,
   "id": "8b4d03e1",
   "metadata": {},
   "outputs": [],
   "source": [
    "def getBounds(k):\n",
    "    global est, af, cs, assign\n",
    "    task = af[k][0]\n",
    "    current_link = af[k][1]\n",
    "    current_index = route_to_index[task][current_link]\n",
    "    \n",
    "    if current_index > 0:\n",
    "        last_ins = (task, index_to_route[task][current_index - 1])\n",
    "        if last_ins in af:\n",
    "            est[task][current_index] = assign[af.index(last_ins)][0] \\\n",
    "            + task_attr[task]['L'] + net_var[index_to_route[task][current_index]]['msd']\n",
    "            cs[k].add(af.index(last_ins))\n",
    "    return (est[task][current_index], 0)\n"
   ]
  },
  {
   "cell_type": "markdown",
   "id": "8aaa6754",
   "metadata": {},
   "source": [
    "**Frame isolation**\n",
    "\n",
    "\\begin{aligned}\n",
    "&\\forall \\beta \\in\\left\\{0, \\ldots, \\frac{\\operatorname{lcm}\\left\\{T_{i}, T_{j}\\right\\}}{T_{j}}-1\\right\\}: \\\\\n",
    "&\\left(s_{i, a, b}+\\alpha \\cdot T_{i} \\leq s_{j, y, a}+\\beta \\cdot T_{j}+L_{j, y, a}+d_{y, a}-\\delta\\right) \\\\\n",
    "&\\quad \\vee\\left(s_{j, a, b}+\\beta \\cdot T_{j} \\leq s_{i, x, a}+\\alpha \\cdot T_{i}+L_{i, x, a}+d_{x, a}-\\delta\\right) \\\\\n",
    "&\\quad \\vee\\left(\\lambda_{i, a, b} \\neq \\lambda_{j, a, b}\\right)\n",
    "\\end{aligned}"
   ]
  },
  {
   "cell_type": "markdown",
   "id": "cc93c154",
   "metadata": {},
   "source": [
    "**Overlap**\n",
    "\n",
    "The wrong formular in the paper\n",
    "\n",
    "\\begin{aligned}\n",
    "&s\\left(a f\\left[m^{\\prime}\\right]\\right)-s(a f[k]) \\% g \\geq L(a f[k]) \\\\\n",
    "&s(a f[k])-s\\left(a f\\left[m^{\\prime}\\right]\\right) \\% g \\geq L\\left(a f\\left[m^{\\prime}\\right]\\right)\n",
    "\\end{aligned}\n",
    "\n",
    "The correct one from \"Pira, Clément, and Christian Artigues. \"Line search method for solving a non-preemptive strictly periodic scheduling problem.\" Journal of Scheduling 19.3 (2016): 227-243.\"\n",
    "\n",
    "$$\\left(t_{j}-t_{i}\\right) \\quad \\bmod g_{i, j} \\geq l_{i, j}, \\quad \\forall(i, j), i \\neq j$$"
   ]
  },
  {
   "cell_type": "code",
   "execution_count": 59,
   "id": "bdce9a74",
   "metadata": {},
   "outputs": [],
   "source": [
    "def check(k, val):\n",
    "    global assign, af, cs, gs\n",
    "    val = list(val)\n",
    "    task, link = af[k][0], af[k][1]\n",
    "\n",
    "    success = True\n",
    "    for k2, (task2, link2) in [(k2, (task2, link2))\n",
    "                               for k2, (task2, link2) in enumerate(af)\n",
    "                               if link2 == link and k2 != k]:\n",
    "        if val[1] == assign[k2][1] and route_to_index[task][link] != 0:\n",
    "            prec = index_to_route[task][route_to_index[task][link] - 1]\n",
    "            prec2 = index_to_route[task2][route_to_index[task2][link2] - 1]\n",
    "            if (task, prec) in af and (task2, prec2) in af:\n",
    "                k_prec, k2_prec = af.index((task, prec)), af.index(\n",
    "                    (task2, prec2))\n",
    "                _lcm = int(np.lcm(task_attr[task]['T'], task_attr[task2]['T']))\n",
    "                for a, b in [(a, b)\n",
    "                             for a in range(_lcm // task_attr[task]['T'])\n",
    "                             for b in range(_lcm // task_attr[task2]['T'])]:\n",
    "                    frame_iso = \\\n",
    "                    val[0] + a * task_attr[task]['T'] < assign[k2_prec][0] + b * task_attr[task2]['T'] + net_var[link]['msd'] or\\\n",
    "                    assign[k2][0] + b * task_attr[task2]['T'] < assign[k_prec][0] + a * task_attr[task]['T'] + net_var[link2]['msd']\n",
    "                    if frame_iso == False:\n",
    "                        cs[k].add(k_prec)\n",
    "                        cs[k].add(k2_prec)\n",
    "                        if val[1] < 8 - 1:\n",
    "                            val[1] += 1\n",
    "                        else:\n",
    "                            val[0] = np.inf\n",
    "                        success = False\n",
    "                        break\n",
    "                    if not success:\n",
    "                        break\n",
    "\n",
    "        if success or val[0] <= lst[task][route_to_index[task][link]]:\n",
    "            g = np.gcd(task_attr[task]['T'], task_attr[task2]['T'])\n",
    "            d1 = (assign[k2][0] - val[0]) % g\n",
    "            d2 = (val[0] - assign[k2][0]) % g\n",
    "            if d1 < task_attr[task]['L']:\n",
    "                cs[k].add(k2)\n",
    "                val = (val[0] + task_attr[task2]['L'] + d1, 0)\n",
    "                success = False\n",
    "            elif d2 < task_attr[task2]['L']:\n",
    "                cs[k].add(k2)\n",
    "                val = (val[0] + task_attr[task2]['L'] - d2, 0)\n",
    "                success = False\n",
    "        if not success:\n",
    "            return False, tuple(val)\n",
    "\n",
    "    return True, (val[0], val[1] + 1) if val[1] < 8 - 1 else (val[0] + 1, val[1])"
   ]
  },
  {
   "cell_type": "code",
   "execution_count": 60,
   "id": "5b1c5228",
   "metadata": {},
   "outputs": [],
   "source": [
    "af = []\n",
    "uf = [x for y in \n",
    "     [[(x, str((f, task_attr[x]['route'][i+1])))\n",
    "       for i,f in enumerate(task_attr[x]['route'][:-1])] for x in task_attr]\n",
    "     for x in y\n",
    "     ]\n",
    "allFrame = af + uf\n",
    "\n",
    "assign = [None for i in range(len(allFrame))]\n",
    "newVals = [(0,0) for k in range(len(allFrame))]\n",
    "\n",
    "cs = [set() for i in range(len(allFrame))]\n",
    "gs = set()\n",
    "\n",
    "k = 0"
   ]
  },
  {
   "cell_type": "code",
   "execution_count": 61,
   "id": "883f3c87",
   "metadata": {
    "scrolled": false
   },
   "outputs": [],
   "source": [
    "while k < len(allFrame):\n",
    "    if k == len(af):\n",
    "        af.append(getVar(uf))\n",
    "        uf.pop(uf.index(af[k]))\n",
    "        val = getBounds(k)\n",
    "    else:\n",
    "        val = newVals[k]\n",
    "    success = False\n",
    "    while not success and val[0] <= lst[af[k][0]][route_to_index[af[k][0]][af[k][1]]]:\n",
    "        assign[k] = val\n",
    "        success, val = check(k, val)\n",
    "    if success:\n",
    "        newVals[k] = val\n",
    "        k = k + 1\n",
    "    else:\n",
    "        if len(cs[k]) == 0 and len(gs) == 0:\n",
    "            print('Infeasible')\n",
    "            break\n",
    "            \n",
    "        ## Update criteria\n",
    "        conflicts[af[k]] += len(cs[k])\n",
    "        \n",
    "        if gs and max(gs) > max(cs[k]):\n",
    "            m = max(gs)\n",
    "            gs = gs | cs[k] - set([m])\n",
    "        else:\n",
    "            m = max(cs[k])\n",
    "            cs[m] = cs[m] | cs[k] - set([m])\n",
    "        while k > m:\n",
    "            assign[k] = None\n",
    "            revert = af.pop(k)\n",
    "            uf.append(revert)\n",
    "            newVals[k] = (0,0)\n",
    "            cs[k] = set()\n",
    "            k = k - 1\n",
    "        \n",
    "       "
   ]
  },
  {
   "cell_type": "markdown",
   "id": "25dc9efc-d2d1-4f91-b6ab-2dccd2f7da34",
   "metadata": {},
   "source": [
    "## Output Schedule"
   ]
  },
  {
   "cell_type": "code",
   "execution_count": 62,
   "id": "a54637dd-d809-4d52-a5b5-1f4ed789fcb7",
   "metadata": {},
   "outputs": [],
   "source": [
    "## GCL\n",
    "GCL = []\n",
    "for i in range(len(af)):\n",
    "    task, link = af[i]\n",
    "    start, queue = assign[i]\n",
    "    period = int(task_attr[task]['T'])\n",
    "    # queue = i\n",
    "    for t in range(int(LCM / period)):\n",
    "        GCL.append([link, queue, \n",
    "        (start + t * period) * macrotick, \n",
    "        (start + task_attr[task]['L'] + t * period) * macrotick, \n",
    "        LCM * macrotick])"
   ]
  },
  {
   "cell_type": "code",
   "execution_count": 63,
   "id": "ffc1ac32-8e0a-4429-803b-f822f33a0bd9",
   "metadata": {},
   "outputs": [],
   "source": [
    "OFFSET = []\n",
    "for i in task_attr:\n",
    "    s_hop = str(tuple(task_attr[i]['route'][:2]))\n",
    "    for index, (start, _) in enumerate(assign):\n",
    "        if af[index][0] == i and af[index][1] == s_hop:\n",
    "            OFFSET.append([i, 0, (task_attr[i]['T'] - start) * macrotick])"
   ]
  },
  {
   "cell_type": "code",
   "execution_count": 64,
   "id": "9fed4992-847d-4944-bf6c-ce01547b723c",
   "metadata": {},
   "outputs": [],
   "source": [
    "ROUTE = []\n",
    "for i in task_attr:\n",
    "    route = task_attr[i]['route']\n",
    "    for h, v in enumerate(route[:-1]):\n",
    "        ROUTE.append(\n",
    "            [i, (v, route[h + 1])]\n",
    "        )"
   ]
  },
  {
   "cell_type": "code",
   "execution_count": 65,
   "id": "1c4b425f-a5e9-4ea4-b421-e40ec53c0e23",
   "metadata": {},
   "outputs": [],
   "source": [
    "QUEUE = []\n",
    "for i in range(len(af)):\n",
    "    task, link = af[i]\n",
    "    _, queue = assign[i]\n",
    "    # queue = i\n",
    "    QUEUE.append([task, 0, eval(link), queue])\n",
    "    # QUEUE.append([task, 0, eval(link), queue])"
   ]
  },
  {
   "cell_type": "code",
   "execution_count": 66,
   "id": "0f67d34f-b3ea-49d9-9817-66ec16bd1c68",
   "metadata": {},
   "outputs": [],
   "source": [
    "GCL = pd.DataFrame(GCL)\n",
    "GCL.columns = [\"link\", \"queue\", \"start\", \"end\", \"cycle\"]\n",
    "GCL.to_csv(\"COR2022-%s-%d-%s-GCL.csv\"%(DATA_NAME,NUM_FLOW,TOPO_NAME), index=False)\n",
    "\n",
    "OFFSET = pd.DataFrame(OFFSET)\n",
    "OFFSET.columns = ['id', 'ins_id', 'offset']\n",
    "OFFSET.to_csv(\"COR2022-%s-%d-%s-OFFSET.csv\"%(DATA_NAME,NUM_FLOW,TOPO_NAME), index=False)\n",
    "\n",
    "ROUTE = pd.DataFrame(ROUTE)\n",
    "ROUTE.columns = ['id', 'link']\n",
    "ROUTE.to_csv(\"COR2022-%s-%d-%s-ROUTE.csv\"%(DATA_NAME,NUM_FLOW,TOPO_NAME), index=False)\n",
    "\n",
    "QUEUE = pd.DataFrame(QUEUE)\n",
    "QUEUE.columns = ['id','ins_id','link','queue']\n",
    "QUEUE.to_csv(\"COR2022-%s-%d-%s-QUEUE.csv\"%(DATA_NAME,NUM_FLOW,TOPO_NAME), index=False)"
   ]
  }
 ],
 "metadata": {
  "kernelspec": {
   "display_name": "Python 3",
   "language": "python",
   "name": "python3"
  },
  "language_info": {
   "codemirror_mode": {
    "name": "ipython",
    "version": 3
   },
   "file_extension": ".py",
   "mimetype": "text/x-python",
   "name": "python",
   "nbconvert_exporter": "python",
   "pygments_lexer": "ipython3",
   "version": "3.8.10 (default, Nov 14 2022, 12:59:47) \n[GCC 9.4.0]"
  },
  "vscode": {
   "interpreter": {
    "hash": "e7370f93d1d0cde622a1f8e1c04877d8463912d04d973331ad4851f04de6915a"
   }
  }
 },
 "nbformat": 4,
 "nbformat_minor": 5
}

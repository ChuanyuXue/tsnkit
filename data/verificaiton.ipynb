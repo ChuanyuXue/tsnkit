{
 "cells": [
  {
   "attachments": {},
   "cell_type": "markdown",
   "metadata": {},
   "source": [
    "## 1.Check how many routing paths exist in the data set."
   ]
  },
  {
   "cell_type": "code",
   "execution_count": 19,
   "metadata": {},
   "outputs": [],
   "source": [
    "import pandas as pd\n",
    "import os\n",
    "import networkx as nx\n",
    "import numpy as np"
   ]
  },
  {
   "cell_type": "code",
   "execution_count": 54,
   "metadata": {},
   "outputs": [],
   "source": [
    "def check_path(graph, sample_num = 10):\n",
    "    ## Find the end-station\n",
    "    degree_dict = dict(graph.degree())\n",
    "    degree_one_nodes = [node for node, degree in degree_dict.items() if degree == 1]\n",
    "\n",
    "    # Randomly select 10 pairs of talker and listeners\n",
    "    talkers = np.random.choice(degree_one_nodes, sample_num)\n",
    "    listener = np.random.choice(degree_one_nodes, sample_num)\n",
    "\n",
    "    # Replace the listeners same as talkers\n",
    "    while np.any(talkers == listener):\n",
    "        listener = np.where(talkers == listener, np.random.choice(degree_one_nodes, 10), listener)\n",
    "\n",
    "    number_of_paths = []\n",
    "    for i in range(sample_num):\n",
    "        source_node = talkers[i]\n",
    "        target_node = listener[i]\n",
    "        all_paths = nx.all_simple_paths(graph, source=source_node, target=target_node)\n",
    "        number_of_paths.append(sum(1 for _ in all_paths))\n",
    "    return number_of_paths"
   ]
  },
  {
   "cell_type": "code",
   "execution_count": 55,
   "metadata": {},
   "outputs": [],
   "source": [
    "def check_path_num(topo_type, sample_num = 10):\n",
    "    net_list = []\n",
    "    for path in [x for x in os.listdir(topo_type) if 'topo' in x]:\n",
    "        topo = pd.read_csv(f'{topo_type}/' + path)\n",
    "        topo['source'] = topo['link'].apply(lambda x: eval(x)[0])\n",
    "        topo['target'] = topo['link'].apply(lambda x: eval(x)[1])\n",
    "        net_list.append(topo)\n",
    "\n",
    "    for conf in net_list:\n",
    "        # Create a graph from the dataframe\n",
    "        graph = nx.from_pandas_edgelist(conf, source='source', target='target')\n",
    "        assert isinstance(graph, nx.classes.graph.Graph) == True\n",
    "        result = check_path(graph, sample_num)\n",
    "        if topo_type in ['line', 'tree']:\n",
    "            if not all(x == 1 for x in result ):\n",
    "                print(f'Error in {topo_type} topology', result )\n",
    "        elif topo_type == 'ring':\n",
    "            if not all(x == 2 for x in result ):\n",
    "                print(f'Error in {topo_type} topology', result )\n",
    "        else:\n",
    "            if not all(x > 1 for x in result ):\n",
    "                print(f'Error in {topo_type} topology', result )"
   ]
  },
  {
   "cell_type": "code",
   "execution_count": 56,
   "metadata": {},
   "outputs": [],
   "source": [
    "check_path_num('line')"
   ]
  },
  {
   "cell_type": "code",
   "execution_count": 57,
   "metadata": {},
   "outputs": [],
   "source": [
    "check_path_num('tree')"
   ]
  },
  {
   "cell_type": "code",
   "execution_count": 58,
   "metadata": {},
   "outputs": [],
   "source": [
    "check_path_num('ring')"
   ]
  },
  {
   "cell_type": "code",
   "execution_count": 59,
   "metadata": {},
   "outputs": [],
   "source": [
    "check_path_num('mesh')"
   ]
  },
  {
   "cell_type": "code",
   "execution_count": null,
   "metadata": {},
   "outputs": [],
   "source": []
  }
 ],
 "metadata": {
  "kernelspec": {
   "display_name": "Python 3",
   "language": "python",
   "name": "python3"
  },
  "language_info": {
   "codemirror_mode": {
    "name": "ipython",
    "version": 3
   },
   "file_extension": ".py",
   "mimetype": "text/x-python",
   "name": "python",
   "nbconvert_exporter": "python",
   "pygments_lexer": "ipython3",
   "version": "3.8.10"
  },
  "orig_nbformat": 4
 },
 "nbformat": 4,
 "nbformat_minor": 2
}

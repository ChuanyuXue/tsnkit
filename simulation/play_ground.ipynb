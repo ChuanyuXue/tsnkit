{
 "cells": [
  {
   "cell_type": "code",
   "execution_count": null,
   "id": "3f588dd3",
   "metadata": {},
   "outputs": [],
   "source": [
    "import pandas as pd\n",
    "import numpy as np\n",
    "import seaborn as sns\n",
    "from tqdm import tqdm\n",
    "\n",
    "np.random.seed(1024)\n",
    "VERBOSE = False"
   ]
  },
  {
   "cell_type": "markdown",
   "id": "3a709ba9",
   "metadata": {},
   "source": [
    "## 1. IO\n"
   ]
  },
  {
   "cell_type": "code",
   "execution_count": null,
   "id": "dac90953",
   "metadata": {},
   "outputs": [],
   "source": [
    "network = pd.read_csv(\"../reproduction/data/0_topology.csv\")\n",
    "task = pd.read_csv(\"../reproduction/data/0_medium_task.csv\")"
   ]
  },
  {
   "cell_type": "code",
   "execution_count": null,
   "id": "c4c2eb4c",
   "metadata": {},
   "outputs": [],
   "source": [
    "applicaiton_1 = task[task['start'] == 8]"
   ]
  },
  {
   "cell_type": "code",
   "execution_count": null,
   "id": "8688030b",
   "metadata": {},
   "outputs": [],
   "source": [
    "gcd = np.gcd.reduce(applicaiton_1['period'])"
   ]
  },
  {
   "cell_type": "code",
   "execution_count": null,
   "id": "9f3d4604",
   "metadata": {},
   "outputs": [],
   "source": [
    "lcm = np.lcm.reduce(task['period'])"
   ]
  },
  {
   "cell_type": "code",
   "execution_count": null,
   "id": "789376e0",
   "metadata": {},
   "outputs": [],
   "source": [
    "period_candidaite = list(range(min(applicaiton_1['period']), max(applicaiton_1['period'])+1, gcd))"
   ]
  },
  {
   "cell_type": "code",
   "execution_count": null,
   "id": "ef1b084b",
   "metadata": {},
   "outputs": [],
   "source": [
    "applicaton_size = list(applicaiton_1['size'] * 8)"
   ]
  },
  {
   "cell_type": "code",
   "execution_count": null,
   "id": "2937a52d",
   "metadata": {},
   "outputs": [],
   "source": [
    "applicaton_period = list(applicaiton_1['period'])"
   ]
  },
  {
   "cell_type": "code",
   "execution_count": null,
   "id": "b0ae6383",
   "metadata": {},
   "outputs": [],
   "source": [
    "applicaton_size"
   ]
  },
  {
   "cell_type": "code",
   "execution_count": null,
   "id": "215259fd",
   "metadata": {},
   "outputs": [],
   "source": [
    "applicaton_period"
   ]
  },
  {
   "cell_type": "code",
   "execution_count": null,
   "id": "cc1c097e",
   "metadata": {},
   "outputs": [],
   "source": []
  },
  {
   "cell_type": "code",
   "execution_count": null,
   "id": "e51a2a2a",
   "metadata": {},
   "outputs": [],
   "source": [
    "np.lcm.reduce(applicaton_period)"
   ]
  },
  {
   "cell_type": "markdown",
   "id": "f3b07ad2",
   "metadata": {},
   "source": [
    "0.3s"
   ]
  },
  {
   "cell_type": "code",
   "execution_count": null,
   "id": "fd2accaa",
   "metadata": {},
   "outputs": [],
   "source": [
    "[400, 800, 12000]"
   ]
  },
  {
   "cell_type": "code",
   "execution_count": null,
   "id": "838b69e0",
   "metadata": {},
   "outputs": [],
   "source": [
    "12000"
   ]
  },
  {
   "cell_type": "code",
   "execution_count": null,
   "id": "faf12896",
   "metadata": {},
   "outputs": [],
   "source": [
    "12000 -> 4\n",
    "12800 -> 2\n"
   ]
  },
  {
   "cell_type": "code",
   "execution_count": null,
   "id": "8f9969a9",
   "metadata": {},
   "outputs": [],
   "source": [
    "for x in period_candidaite:\n",
    "    theta / sum(applicaton_size)"
   ]
  },
  {
   "cell_type": "code",
   "execution_count": null,
   "id": "9e15aec9",
   "metadata": {},
   "outputs": [],
   "source": [
    "np.floor(period_candidaite[0] / 100000000)"
   ]
  },
  {
   "cell_type": "code",
   "execution_count": null,
   "id": "c251ffe2",
   "metadata": {},
   "outputs": [],
   "source": [
    "10000001"
   ]
  },
  {
   "cell_type": "code",
   "execution_count": null,
   "id": "b60a51b6",
   "metadata": {},
   "outputs": [],
   "source": [
    "window_candidate = []\n",
    "for x in period_candidaite:\n",
    "    window_size = 0\n",
    "    for i, task in applicaiton_1.iterrows():\n",
    "        number_task = np.ceil(x / task['period'])\n",
    "        window_size += number_task * task['size'] * 8\n",
    "#         if number_task > 1:\n",
    "#             window_size += task['period'] * (number_task - 1)\n",
    "    window_candidate.append(window_size)"
   ]
  },
  {
   "cell_type": "code",
   "execution_count": null,
   "id": "12f5f773",
   "metadata": {},
   "outputs": [],
   "source": [
    "period_candidaite"
   ]
  },
  {
   "cell_type": "code",
   "execution_count": null,
   "id": "cc2cd583",
   "metadata": {},
   "outputs": [],
   "source": [
    "period_candidaite"
   ]
  },
  {
   "cell_type": "markdown",
   "id": "2d7962bc",
   "metadata": {},
   "source": [
    "## 2. Simulation"
   ]
  },
  {
   "cell_type": "markdown",
   "id": "197ae7de",
   "metadata": {},
   "source": [
    "### Constant Values"
   ]
  },
  {
   "cell_type": "code",
   "execution_count": null,
   "id": "1d0885bd",
   "metadata": {},
   "outputs": [],
   "source": [
    "## Network setting\n",
    "NUM_ES = 8\n",
    "NUM_SW = 8\n",
    "NUM_NODE = NUM_ES + NUM_SW\n",
    "NUM_PORT = 4\n",
    "NUM_QUEUES = 8\n",
    "\n",
    "PROC = 1_000\n",
    "\n",
    "## Task setting\n",
    "NUM_FLOW = 8\n",
    "\n",
    "## Global setting\n",
    "GRANULARITY = 100"
   ]
  },
  {
   "cell_type": "markdown",
   "id": "904f2786",
   "metadata": {},
   "source": [
    "### initial variables"
   ]
  },
  {
   "cell_type": "code",
   "execution_count": null,
   "id": "e0ca7b3e",
   "metadata": {},
   "outputs": [],
   "source": [
    "net = np.zeros(shape = (NUM_NODE, NUM_NODE))\n",
    "for _, row in network.iterrows():\n",
    "    net[eval(row['Link'])[0], eval(row['Link'])[1]] = 1\n",
    "period = list(task['period'])\n",
    "size = list(task['size'])\n",
    "deadline = list(task['deadline'])\n",
    "MTU = np.lcm.reduce(period)\n",
    "\n",
    "## Shortest path\n",
    "def bfs_paths(graph, start, goal):\n",
    "    queue = [(start, [start])]\n",
    "    while queue:\n",
    "        (vertex, path) = queue.pop(0)\n",
    "        for _next in set(np.reshape(np.argwhere(graph[vertex] > 0),  -1)) - set(path):\n",
    "            if _next == goal:\n",
    "                yield path + [_next]\n",
    "            else:\n",
    "                queue.append((_next, path + [_next]))"
   ]
  },
  {
   "cell_type": "code",
   "execution_count": null,
   "id": "2f42333f",
   "metadata": {},
   "outputs": [],
   "source": [
    "t_release = [0] * NUM_FLOW"
   ]
  },
  {
   "cell_type": "markdown",
   "id": "21000e06",
   "metadata": {},
   "source": [
    "### Calculate latency and jitter\n",
    "\n",
    "Calaucate the release time of each flow."
   ]
  },
  {
   "cell_type": "code",
   "execution_count": null,
   "id": "157a62d9",
   "metadata": {},
   "outputs": [],
   "source": [
    "log = [[[], []] for i in range(NUM_FLOW)]"
   ]
  },
  {
   "cell_type": "code",
   "execution_count": null,
   "id": "a98d727d",
   "metadata": {},
   "outputs": [],
   "source": [
    "# %%cython -a\n",
    "# def match_time(int t, int[:, :] sche) -> int:\n",
    "#     '''\n",
    "#     Use binary search to quickly find the posistion of GCL\n",
    "#     '''\n",
    "#     gate_time = [x[0] for x in sche]\n",
    "#     left = 0\n",
    "#     right = len(sche) - 1\n",
    "#     if t >= gate_time[right]:\n",
    "#         return right\n",
    "\n",
    "#     while True:\n",
    "#         median = (left + right) // 2\n",
    "#         if right - left <= 1:\n",
    "#             return left\n",
    "#         elif gate_time[left] <= t < gate_time[median]:\n",
    "#             right = median\n",
    "#         else:\n",
    "#             left = median"
   ]
  },
  {
   "cell_type": "code",
   "execution_count": null,
   "id": "e6b17324",
   "metadata": {},
   "outputs": [],
   "source": [
    "def match_time(t, sche) -> int:\n",
    "    '''\n",
    "    Use binary search to quickly find the posistion of GCL\n",
    "    '''\n",
    "    if not sche:\n",
    "        return -1\n",
    "    gate_time = [x[0] for x in sche]\n",
    "    left = 0\n",
    "    right = len(sche) - 1\n",
    "    if gate_time[right] <= t < sche[-1][1]:\n",
    "        return right\n",
    "    elif sche[-1][1] <= t or t < gate_time[0]:\n",
    "        return -1\n",
    "    \n",
    "    while True:\n",
    "        median = (left + right) // 2\n",
    "        if right - left <= 1:\n",
    "            return left\n",
    "        elif gate_time[left] <= t < gate_time[median]:\n",
    "            right = median\n",
    "        else:\n",
    "            left = median"
   ]
  },
  {
   "cell_type": "markdown",
   "id": "cf663494",
   "metadata": {},
   "source": [
    "### Define Task"
   ]
  },
  {
   "cell_type": "code",
   "execution_count": null,
   "id": "d4354e8c",
   "metadata": {},
   "outputs": [],
   "source": [
    "## Shortest path\n",
    "def bfs_paths(graph, start, goal):\n",
    "    queue = [(start, [start])]\n",
    "    while queue:\n",
    "        (vertex, path) = queue.pop(0)\n",
    "        for _next in set(np.reshape(np.argwhere(graph[vertex] > 0),  -1)) - set(path):\n",
    "            if _next == goal:\n",
    "                yield path + [_next]\n",
    "            else:\n",
    "                queue.append((_next, path + [_next]))"
   ]
  },
  {
   "cell_type": "code",
   "execution_count": null,
   "id": "f7a19332",
   "metadata": {},
   "outputs": [],
   "source": [
    "for link in GCL:\n",
    "    GCL[link] = sorted(GCL[link], key=lambda x:x[0], reverse=False)"
   ]
  },
  {
   "cell_type": "code",
   "execution_count": null,
   "id": "e15a4aed",
   "metadata": {},
   "outputs": [],
   "source": [
    "for link in GCL:\n",
    "    temp = GCL[link]\n",
    "    for i, row in enumerate(temp[:-1]):\n",
    "        if row[1] >= temp[i+1][0]:\n",
    "            print('overlap', link, row, temp[i+1])"
   ]
  },
  {
   "cell_type": "code",
   "execution_count": null,
   "id": "ec74ad82",
   "metadata": {},
   "outputs": [],
   "source": [
    "log = [[[], []] for i in range(NUM_FLOW)]\n",
    "egress_q = {link: [[] for i in range(NUM_QUEUES)] for link, _ in GCL.items()}\n",
    "mutex_lock = {link: 0 for link, _ in GCL.items()}\n",
    "_pool = {link: [] for link, _ in GCL.items()}\n",
    "\n",
    "for t in tqdm(range(0, MTU * 10, GRANULARITY)):\n",
    "    if t % MTU == 0:\n",
    "        print(\"[Net Cycle] ------ %d ----------\"%(t // MTU))\n",
    "        \n",
    "    ## Release task\n",
    "    for flow in range(NUM_FLOW):\n",
    "        if t % period[flow] == 0:\n",
    "            link = (route[flow][0], route[flow][1])\n",
    "            egress_q[link][queue[flow][link]].append(flow)\n",
    "            \n",
    "    ## Timer - TODO: Replace by heap\n",
    "    for link, vec in _pool.items():\n",
    "        _new_vec = []\n",
    "        for ct, flow in vec:\n",
    "            if t >= ct:\n",
    "                if link[-1] == route[flow][-1]: \n",
    "                    log[flow][1].append(t)\n",
    "                    if VERBOSE:\n",
    "                        print(\"Flow %d: Received at %d\"%(flow,t))\n",
    "                    continue\n",
    "                elif link[0] == route[flow][0]:\n",
    "                    log[flow][0].append(t)\n",
    "                    if VERBOSE:\n",
    "                        print(\"Flow %d: Released at %d\"%(flow,t))\n",
    "                new_link = (link[-1], _route[flow][link[-1]])\n",
    "                egress_q[new_link][queue[flow][new_link]].append(flow)\n",
    "            else:\n",
    "                _new_vec.append((ct, flow))\n",
    "        _pool[link] = _new_vec\n",
    "    \n",
    "    # Qbv\n",
    "    for link, sche in GCL.items():\n",
    "        current_t = t % MTU\n",
    "        index = match_time(current_t, sche)\n",
    "        if index == -1:\n",
    "            continue\n",
    "        s, e, q = sche[index]\n",
    "        if t >= mutex_lock[link] and egress_q[link][q]:\n",
    "            trans_delay = size[egress_q[link][q][0]] * 8\n",
    "            if e - current_t >= trans_delay:\n",
    "                out = egress_q[link][q].pop(0)\n",
    "                _pool[link].append((t + trans_delay + PROC, out))\n",
    "                mutex_lock[link] = t + trans_delay"
   ]
  },
  {
   "cell_type": "markdown",
   "id": "390e2e64",
   "metadata": {},
   "source": [
    "### Define Schedule"
   ]
  },
  {
   "cell_type": "code",
   "execution_count": null,
   "id": "f0226a69",
   "metadata": {},
   "outputs": [],
   "source": []
  }
 ],
 "metadata": {
  "kernelspec": {
   "display_name": "Python 3",
   "language": "python",
   "name": "python3"
  },
  "language_info": {
   "codemirror_mode": {
    "name": "ipython",
    "version": 3
   },
   "file_extension": ".py",
   "mimetype": "text/x-python",
   "name": "python",
   "nbconvert_exporter": "python",
   "pygments_lexer": "ipython3",
   "version": "3.9.2"
  },
  "toc": {
   "base_numbering": 1,
   "nav_menu": {},
   "number_sections": false,
   "sideBar": true,
   "skip_h1_title": false,
   "title_cell": "Table of Contents",
   "title_sidebar": "Contents",
   "toc_cell": false,
   "toc_position": {},
   "toc_section_display": true,
   "toc_window_display": false
  }
 },
 "nbformat": 4,
 "nbformat_minor": 5
}

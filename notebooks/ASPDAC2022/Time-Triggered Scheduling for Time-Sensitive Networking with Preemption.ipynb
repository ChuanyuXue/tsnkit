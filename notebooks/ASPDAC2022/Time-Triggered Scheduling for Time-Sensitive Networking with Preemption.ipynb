{
 "cells": [
  {
   "cell_type": "code",
   "execution_count": 66,
   "id": "valid-recovery",
   "metadata": {},
   "outputs": [],
   "source": [
    "import pandas as pd\n",
    "import numpy as np\n",
    "import z3\n",
    "from tqdm import tqdm"
   ]
  },
  {
   "cell_type": "code",
   "execution_count": 67,
   "id": "tired-presentation",
   "metadata": {},
   "outputs": [],
   "source": [
    "macrotick = 100\n",
    "sync_error = 0\n",
    "time_out = 45 * 60"
   ]
  },
  {
   "cell_type": "code",
   "execution_count": 68,
   "id": "alike-prototype",
   "metadata": {},
   "outputs": [],
   "source": [
    "NUM_FLOW = 10\n",
    "DATA_NAME = \"harmonic0\"\n",
    "TOPO_NAME = \"0\"\n",
    "\n",
    "task = pd.read_csv(\"../../data/utilization/utilization_5_9_task.csv\")\n",
    "network = pd.read_csv(\"../../data/utilization/utilization_5_9_topo.csv\")\n",
    "# task = pd.read_csv(\"../../dac_data/%s.csv\"%DATA_NAME)[:NUM_FLOW]\n",
    "# network = pd.read_csv(\"../../dac_data/%s_topology.csv\"%TOPO_NAME)\n",
    "for col in ['size','period','deadline','jitter']:\n",
    "    task[col] = np.ceil(task[col] / macrotick).astype(int)\n",
    "for col in ['t_proc','t_prop']:\n",
    "    network[col] = np.ceil(network[col] / macrotick).astype(int)\n",
    "    \n",
    "nodes = list(network['link'].apply(lambda x:eval(x)[0])) + \\\n",
    "    list(network['link'].apply(lambda x:eval(x)[1]))\n",
    "NODE_SET = list(set(nodes))\n",
    "ES_set = [x for x in NODE_SET if nodes.count(x) == 2]\n",
    "SW_set = list(set(NODE_SET) - set(ES_set))\n",
    "LCM = np.lcm.reduce(task['period'])\n",
    "net = np.zeros(shape = (max(NODE_SET) + 1, max(NODE_SET) + 1))"
   ]
  },
  {
   "cell_type": "code",
   "execution_count": 69,
   "id": "dressed-hawaiian",
   "metadata": {},
   "outputs": [],
   "source": [
    "U = 3"
   ]
  },
  {
   "cell_type": "code",
   "execution_count": 70,
   "id": "7adc26c2",
   "metadata": {},
   "outputs": [],
   "source": [
    "min_size = 1"
   ]
  },
  {
   "cell_type": "markdown",
   "id": "joint-feelings",
   "metadata": {},
   "source": [
    "## 1. Model"
   ]
  },
  {
   "cell_type": "code",
   "execution_count": 71,
   "id": "fallen-maker",
   "metadata": {},
   "outputs": [],
   "source": [
    "s = z3.Solver()\n",
    "s.set(\"timeout\", time_out * 1000)"
   ]
  },
  {
   "cell_type": "code",
   "execution_count": 72,
   "id": "naked-planner",
   "metadata": {},
   "outputs": [],
   "source": [
    "net_var = {}\n",
    "for _, row in network.iterrows():\n",
    "    net_var.setdefault(row['link'], {})\n",
    "    net_var[row['link']]['s'] = row['rate']\n",
    "    net_var[row['link']]['d'] = row['t_proc']\n",
    "    net_var[row['link']]['c'] = row['q_num']\n",
    "    net[eval(row['link'])[0], eval(row['link'])[1]] = 1"
   ]
  },
  {
   "cell_type": "code",
   "execution_count": 73,
   "id": "collected-orleans",
   "metadata": {},
   "outputs": [],
   "source": [
    "task_var = {}"
   ]
  },
  {
   "cell_type": "code",
   "execution_count": 74,
   "id": "reflected-bubble",
   "metadata": {},
   "outputs": [],
   "source": [
    "## Shortest path\n",
    "def bfs_paths(graph, start, goal):\n",
    "    queue = [(start, [start])]\n",
    "    while queue:\n",
    "        (vertex, path) = queue.pop(0)\n",
    "        for _next in set(np.reshape(np.argwhere(graph[vertex] > 0),  -1)) - set(path):\n",
    "            if _next == goal:\n",
    "                yield path + [_next]\n",
    "            else:\n",
    "                queue.append((_next, path + [_next]))"
   ]
  },
  {
   "cell_type": "code",
   "execution_count": 75,
   "id": "consolidated-review",
   "metadata": {},
   "outputs": [],
   "source": [
    "## Assume task is strictly periodic\n",
    "for i, row in task.iterrows(): \n",
    "    task_var.setdefault(i, {})\n",
    "    route = eval(str(next(bfs_paths(net, int(row['src']), int(eval(row['dst'])[0])))))\n",
    "    for _i, a in enumerate(route[:-1]):\n",
    "        link = str((a, route[_i + 1]))\n",
    "        task_var[i].setdefault(link, {})\n",
    "\n",
    "        # task_var[i][link]['r'] = z3.IntVector(\"r_\" + str(i) + '_' + str(link), int(LCM/row['period']))\n",
    "        # task_var[i][link]['f'] = z3.IntVector(\"r_\" + str(i) + '_' + str(link), int(LCM/row['period']))\n",
    "        task_var[i][link]['N'] = z3.BoolVector(\"n_\" + str(i) + '_' + str(link), int(LCM/row['period']))\n",
    "        task_var[i][link]['T'] = row['period']\n",
    "        task_var[i][link]['L'] = int(row['size'] * 8 / net_var[str(link)]['s'])\n",
    "        for j in range(0, int(LCM/row['period'])):\n",
    "            task_var[i][link].setdefault(j, {})\n",
    "            task_var[i][link][j]['r'] = z3.IntVector(\"r_\" + str(i) + str(j) + '_' + str(link), U)\n",
    "            task_var[i][link][j]['f'] = z3.IntVector(\"f_\" + str(i) + str(j) + '_' + str(link), U)\n",
    "            s.add(\n",
    "                j * row['period'] <= task_var[i][link][j]['r'][0],\n",
    "                task_var[i][link][j]['f'][U - 1] <= (j + 1) * row['period']\n",
    "            )"
   ]
  },
  {
   "cell_type": "markdown",
   "id": "retained-person",
   "metadata": {},
   "source": [
    "## 2. Constraints"
   ]
  },
  {
   "cell_type": "code",
   "execution_count": 76,
   "id": "e5f002ea",
   "metadata": {},
   "outputs": [],
   "source": [
    "for i, k in [(i, k) for i in task_var for k in task_var if i != k]:\n",
    "    for link in [link for link in net_var if link in task_var[i] and link in task_var[k]]:\n",
    "        for j, l in [(j, l) for j in range(int(LCM / task_var[i][link]['T'])) \n",
    "        for l in range(int(LCM / task_var[k][link]['T']))]:\n",
    "            s.add(\n",
    "                z3.Implies(\n",
    "                    z3.Or(\n",
    "                        z3.And(task_var[i][link]['N'][j] == True, task_var[k][link]['N'][l] == True),\n",
    "                        z3.And(task_var[i][link]['N'][j] == False, task_var[k][link]['N'][l] == False)\n",
    "                    ),\n",
    "                    z3.Or(\n",
    "                        task_var[i][link][j]['r'][0] >= task_var[k][link][l]['f'][-1],\n",
    "                        task_var[k][link][l]['r'][0] >= task_var[i][link][j]['f'][-1]\n",
    "                        # task_var[i][link][j]['r'][0] - task_var[k][link][l]['r'][0] >= task_var[k][link]['L'],\n",
    "                        # task_var[k][link][l]['r'][0] - task_var[i][link][j]['r'][0] >= task_var[i][link]['L'],\n",
    "                    )\n",
    "                )\n",
    "            )"
   ]
  },
  {
   "cell_type": "code",
   "execution_count": 77,
   "id": "varied-mouth",
   "metadata": {},
   "outputs": [
    {
     "name": "stderr",
     "output_type": "stream",
     "text": [
      "100%|██████████| 156/156 [00:54<00:00,  2.84it/s]\n"
     ]
    }
   ],
   "source": [
    "for i, k in tqdm([(i, k) for i in task_var for k in task_var if i != k]):\n",
    "    for link in [link for link in net_var if link in task_var[i] and link in task_var[k]]:\n",
    "        for j, l in [(j, l) for j in range(int(LCM / task_var[i][link]['T'])) \n",
    "        for l in range(int(LCM / task_var[k][link]['T']))]:\n",
    "            temp = []\n",
    "            for y, z in [(y, z) for y in range(0, U - 1) for z in set(range(0, U - 1)) - set([y, y+1])]:\n",
    "                temp.append(\n",
    "                        z3.And(\n",
    "                            z3.Or(\n",
    "                            task_var[i][link][j]['f'][0] <= task_var[k][link][l]['r'][0],\n",
    "                            task_var[k][link][l]['f'][0] <= task_var[i][link][j]['r'][0]\n",
    "                            ),\n",
    "                            task_var[k][link][l]['f'][y] <= task_var[i][link][j]['r'][0],\n",
    "                            task_var[k][link][l]['r'][y + 1] >= task_var[i][link][j]['f'][0],\n",
    "                            task_var[i][link][j]['f'][0] - task_var[i][link][j]['r'][0] == task_var[i][link]['L'],\n",
    "                        )\n",
    "\n",
    "                        # z3.Or(\n",
    "                        #     task_var[i][link][j]['f'][0] <= task_var[k][link][l]['r'][0],\n",
    "                        #     task_var[k][link][l]['f'][0] <= task_var[i][link][j]['r'][0],\n",
    "                        #     z3.And(\n",
    "                        #         task_var[k][link][l]['f'][y] - task_var[k][link][l]['r'][y] >= min_size,\n",
    "                        #         task_var[k][link][l]['f'][y + 1] - task_var[k][link][l]['r'][y + 1] >= min_size,\n",
    "                        #         z3.Or(\n",
    "                        #             task_var[k][link][l]['f'][z] - task_var[k][link][l]['r'][z] == 0,\n",
    "                        #             task_var[k][link][l]['f'][z] - task_var[k][link][l]['r'][z] >= min_size\n",
    "                        #         ),\n",
    "                        #         z3.Or(\n",
    "                        #             task_var[k][link][l]['f'][y] == task_var[i][link][j]['r'][0],\n",
    "                        #             task_var[k][link][l]['f'][y] + min_size <= task_var[i][link][j]['r'][0]\n",
    "                        #         ),\n",
    "                        #         z3.Or(\n",
    "                        #             task_var[k][link][l]['r'][y + 1] == task_var[i][link][j]['f'][0],\n",
    "                        #             task_var[k][link][l]['r'][y + 1] >= task_var[i][link][j]['f'][0] + min_size,\n",
    "                        #         ),\n",
    "                        #         task_var[i][link][j]['f'][0] - task_var[i][link][j]['r'][0] == task_var[i][link]['L'],   \n",
    "                        #     )\n",
    "                        # )\n",
    "                )\n",
    "\n",
    "            s.add(\n",
    "                z3.Implies(\n",
    "                    z3.And(task_var[i][link]['N'][j] == True, task_var[k][link]['N'][l] == False),\n",
    "                    z3.And(temp)\n",
    "                ),\n",
    "                z3.Implies(\n",
    "                    z3.And(task_var[i][link]['N'][j] == True),\n",
    "                    task_var[i][link][j]['f'][0] - task_var[i][link][j]['r'][0] == task_var[i][link]['L']\n",
    "                )\n",
    "            )"
   ]
  },
  {
   "cell_type": "markdown",
   "id": "marine-project",
   "metadata": {},
   "source": [
    "\\begin{equation}\n",
    "\\begin{array}{r}\n",
    "\\forall i, j, k, l\\left|m_{i j}, m_{k l} \\in M, \\forall x, y\\right| v_x, v_y \\in V, \\\\\n",
    "\\left(\\varkappa_{i j x}=1 \\wedge \\varkappa_{k l x}=1\\right) \\vee\\left(\\varkappa_{i j x}=0 \\wedge \\varkappa_{k l x}=0\\right): \\\\\n",
    "\\left(\\eta_{i j x}=\\eta_{k l x}=v_y\\right) \\wedge(i \\neq k \\vee j \\neq l) \\Longrightarrow \\\\\n",
    "r_{i j x}-r_{k l x} \\geq \\gamma_{k x y}+\\zeta_{x y} \\vee r_{k l x}-r_{i j x} \\geq \\gamma_{i x y}+\\zeta_{x y} .\n",
    "\\end{array}\n",
    "\\end{equation}"
   ]
  },
  {
   "cell_type": "markdown",
   "id": "monthly-potential",
   "metadata": {},
   "source": [
    "\\begin{equation}\n",
    "\\begin{array}{r}\n",
    "\\forall i, j, k, l\\left|m_{i j}, m_{k l} \\in M, \\forall x, y\\right| v_x, v_y \\in V, \\\\\n",
    "\\eta_{i j x}=\\eta_{k l x}=v_y \\wedge \\varkappa_{i j k}=1 \\wedge \\varkappa_{k l k}=0, \\\\\n",
    "\\forall y \\in\\{1, \\ldots, \\lambda-1\\}, \\forall z \\in\\{1, \\ldots, \\lambda-1\\} \\backslash\\{y, y+1\\}: \\\\\n",
    "\\left(f_{i j x}^1 \\leq r_{k l x}^1\\right) \\vee\\left(f_{k l x}^1 \\leq r_{i j x}^1\\right) \\\\\n",
    "\\vee\\left(f_{k l x}^y-r_{k l x}^y \\geq \\mu\\right. \\\\\n",
    "\\wedge f_{k l x}^{y+1}-r_{k l x}^{y+1} \\geq \\mu \\wedge\\left(f_{k l x}^z-r_{k l x}^z=0 \\vee f_{k l x}^z-r_{k l x}^z \\geq \\mu\\right) \\\\\n",
    "\\wedge\\left(f_{k l x}^y=r_{i j x}^1 \\vee f_{k l x}^y+\\mu \\leq r_{i j x}^1\\right) \\\\\n",
    "\\wedge\\left(r_{k l x}^{y+1}=f_{i j x}^1 \\vee r_{k l x}^{y+1} \\geq f_{i j x}^1+\\mu\\right) \\\\\n",
    "\\left.\\wedge f_{i j x}^1-r_{i j x}^1=\\gamma_{i x y}+\\zeta_{x y}\\right) \\\\\n",
    "+\\left(f_{k l x}^{\\lambda-1}-r_{k l x}^{\\lambda-1}\\right)-\\operatorname{If}\\left(f_{k l x}^{\\lambda-1}-r_{k l x}^{\\lambda-1}>0,1,0\\right) * \\rho_{x y} \\\\\n",
    "+\\ldots+\\left(f_{k l x}^1-r_{k l x}^1\\right)-\\operatorname{If}\\left(f_{k l x}^1-r_{k l x}^1>0,1,0\\right) * \\rho_{x y} \\\\\n",
    "=\\gamma_{k x y}^\\lambda+\\zeta_{x y}-\\rho_{x y}\n",
    "\\end{array}\n",
    "\\end{equation}"
   ]
  },
  {
   "cell_type": "code",
   "execution_count": 78,
   "id": "quiet-champion",
   "metadata": {},
   "outputs": [],
   "source": [
    "for i in task_var:\n",
    "    for link in task_var[i]:\n",
    "        for j in range(int(LCM / task_var[i][link]['T'])):\n",
    "            for p in range(0, U - 1):\n",
    "                s.add(\n",
    "                    task_var[i][link][j]['r'][p] <= task_var[i][link][j]['f'][p],\n",
    "                    task_var[i][link][j]['f'][p] <= task_var[i][link][j]['r'][p + 1] ,\n",
    "                    task_var[i][link][j]['r'][p + 1]  <= task_var[i][link][j]['f'][p + 1]\n",
    "                )\n",
    "            s.add(\n",
    "                z3.Sum([\n",
    "                    (task_var[i][link][j]['f'][z] - task_var[i][link][j]['r'][z]) \n",
    "                    for z in range(0, U)\n",
    "                    ]) == task_var[i][link]['L']\n",
    "            )"
   ]
  },
  {
   "cell_type": "code",
   "execution_count": 79,
   "id": "direct-eleven",
   "metadata": {},
   "outputs": [],
   "source": [
    "# for link in tqdm(net_var):\n",
    "#     for i, j in [(i, j) for i in task_var for j in task_var \n",
    "#                  if i != j and link in task_var[i] and link in task_var[j]]:\n",
    "#         ti, tj = int(task.loc[i].period), int(task.loc[j].period)\n",
    "#         lcm = np.lcm(ti, tj)\n",
    "#         x_ijk = task_var[i][link]['x']\n",
    "#         x_klk = task_var[i][link]['x']\n",
    "#         for a, b in [(a,b) for a in range(0, int(lcm / ti)) for b in range(0, int(lcm / tj))]:\n",
    "#             r_ijx, f_ijx = [x + a * ti for x in task_var[i][link]['r']], [x + a * ti for x in task_var[i][link]['f']]\n",
    "#             r_klx, f_klx = [x + b * tj for x in task_var[j][link]['r']], [x + b * tj for x in task_var[j][link]['f']]\n",
    "#             for y in range(0, U - 1):\n",
    "#                 for z in set(range(0, U - 1)) - set([y, y + 1]):\n",
    "#                     s.add(\n",
    "#                         z3.Implies(\n",
    "#                             z3.And(x_ijk == True, x_klk == False)\n",
    "#                             ,\n",
    "#                             z3.Or(\n",
    "#                                 f_ijx[0] <= r_klx[0],\n",
    "#                                 f_klx[0] <= r_ijx[0],\n",
    "#                                 z3.And(\n",
    "#                                     f_klx[y] - r_klx[y] >= 1,\n",
    "#                                     f_klx[y + 1] - r_klx[y + 1] >= 1,\n",
    "#                                     z3.Or(\n",
    "#                                         f_klx[y] - r_klx[z] == 0,\n",
    "#                                         f_klx[y] - r_klx[z] >= 1\n",
    "#                                     ),\n",
    "#                                     z3.Or(\n",
    "#                                         f_klx[y] == r_ijx[0],\n",
    "#                                         f_klx[y] + 1 <= r_ijx[0]\n",
    "#                                     ),\n",
    "#                                     z3.Or(\n",
    "#                                         r_klx[y + 1] == f_ijx[0],\n",
    "#                                         r_klx[y + 1] >= f_ijx[0] + 1\n",
    "#                                     ),\n",
    "#                                     f_ijx[0] - r_ijx[0] == task_var[i][link]['L']\n",
    "#                                 )\n",
    "#                             )\n",
    "#                         )\n",
    "#                     )\n"
   ]
  },
  {
   "cell_type": "markdown",
   "id": "light-process",
   "metadata": {},
   "source": [
    "\\begin{equation}\n",
    "\\begin{array}{r}\n",
    "\\forall i, j\\left|m_{i j} \\in M, \\forall x\\right| v_x \\in V \\\\\n",
    "\\forall p \\in\\{1, \\ldots, \\lambda-1\\}, \\varkappa_{i j x}=0 \\\\\n",
    "r_{i j x}^p \\leq f_{i j x}^p \\leq r_{i j x}^{p+1} \\leq f_{i j x}^{p+1}\n",
    "\\end{array}\n",
    "\\end{equation}"
   ]
  },
  {
   "cell_type": "code",
   "execution_count": 80,
   "id": "fatty-metallic",
   "metadata": {},
   "outputs": [],
   "source": [
    "# for i in task_var:\n",
    "#     for link in task_var[i]:\n",
    "#         for p in range(0, U - 1):\n",
    "#             s.add(\n",
    "#                     z3.And(\n",
    "#                         task_var[i][link]['r'][p] <= task_var[i][link]['f'][p],\n",
    "#                         task_var[i][link]['f'][p] <= task_var[i][link]['r'][p + 1],\n",
    "#                         task_var[i][link]['r'][p + 1] <= task_var[i][link]['f'][p + 1]\n",
    "#                     )\n",
    "#                 )\n",
    "            \n",
    "\n",
    "        "
   ]
  },
  {
   "cell_type": "code",
   "execution_count": 81,
   "id": "fitted-slide",
   "metadata": {},
   "outputs": [],
   "source": [
    "# s.add(\n",
    "#                         z3.Implies(\n",
    "#                             z3.And(x_ijk == True, x_klk == False)\n",
    "#                             ,\n",
    "#                             z3.And(\n",
    "#                                 z3.Or(\n",
    "#                                     f_ijx[0] <= r_klx[0],\n",
    "#                                     f_klx[0] <= r_ijx[0],\n",
    "#                                     z3.And(\n",
    "#                                         f_klx[y] - r_klx[y] >= 1,\n",
    "#                                         f_klx[y + 1] - r_klx[y + 1] >= 1,\n",
    "#                                         z3.Or(\n",
    "#                                             f_klx[y] - r_klx[z] == 0,\n",
    "#                                             f_klx[y] - r_klx[z] >= 1\n",
    "#                                         ),\n",
    "#                                         z3.Or(\n",
    "#                                             f_klx[y] == r_ijx[0],\n",
    "#                                             f_klx[y] + 1 <= r_ijx[0]\n",
    "#                                         ),\n",
    "#                                         z3.Or(\n",
    "#                                             r_klx[y + 1] == f_ijx[0],\n",
    "#                                             r_klx[y + 1] >= f_ijx[0] + 1\n",
    "#                                         ),\n",
    "#                                         f_ijx[0] - r_ijx[0] == task_var[i][link]['L']\n",
    "#                                     )\n",
    "#                                 ),\n",
    "#                                 z3.Sum(\n",
    "#                                    [(f_klx[lam] - r_klx[lam]) for lam in range(U)]\n",
    "#                                 ) == task_var[j][link]['L']\n",
    "#                             )\n",
    "#                         )\n",
    "#                     )"
   ]
  },
  {
   "cell_type": "markdown",
   "id": "configured-response",
   "metadata": {},
   "source": [
    "\\begin{equation}\n",
    "\\begin{array}{r}\n",
    "\\forall i, j\\left|m_{i j} \\in M, \\forall k, l\\right| v_k, v_l \\in V: \\\\\n",
    "\\eta_{i j k}=v_l \\Longrightarrow r_{i j l} \\geq \\max \\left(r_{i j k}\\right)+\\gamma_{i k l}+\\zeta_{k l}+s d_l\n",
    "\\end{array}\n",
    "\\end{equation}"
   ]
  },
  {
   "cell_type": "code",
   "execution_count": 82,
   "id": "million-russian",
   "metadata": {},
   "outputs": [],
   "source": [
    "for i in task_var.keys():\n",
    "    path = list(task_var[i].keys())\n",
    "    for _i, link in enumerate(path[:-1]):\n",
    "        next_hop = path[_i + 1]\n",
    "        for j in range(int(LCM / task_var[i][link]['T'])):\n",
    "            s.add(\n",
    "                task_var[i][next_hop][j]['r'][0] >= task_var[i][link][j]['f'][U - 1] + net_var[link]['d']\n",
    "            )"
   ]
  },
  {
   "cell_type": "markdown",
   "id": "julian-firmware",
   "metadata": {},
   "source": [
    "\\begin{equation}\n",
    "\\begin{array}{r}\n",
    "\\forall i, j\\left|m_{i j} \\in M, \\forall k\\right| v_k \\in V, \\eta_{i j k}=v_l: \\\\\n",
    "\\left(\\varpi_{k l}=1 \\wedge\\left(\\varkappa_{i j k}=0 \\vee \\varkappa_{i j k}=1\\right)\\right) \\\\\n",
    "\\vee\\left(\\varpi_{k l}=0 \\wedge \\varkappa_{i j k}=1\\right)\n",
    "\\end{array}\n",
    "\\end{equation}"
   ]
  },
  {
   "cell_type": "code",
   "execution_count": 83,
   "id": "offensive-affiliation",
   "metadata": {},
   "outputs": [],
   "source": [
    "## We assume every port supports preemption"
   ]
  },
  {
   "cell_type": "code",
   "execution_count": 84,
   "id": "bacterial-adrian",
   "metadata": {},
   "outputs": [],
   "source": [
    "for i in task_var.keys():\n",
    "    _hop_s = list(task_var[i].items())[0]\n",
    "    _hop_e = list(task_var[i].items())[-1]\n",
    "    for a in range(int(LCM / task_var[i][_hop_s[0]]['T'])):\n",
    "        s.add(\n",
    "            _hop_s[1][a]['r'][0] + int(task.loc[i]['deadline']) >=\n",
    "            _hop_e[1][a]['f'][U - 1] + net_var[_hop_e[0]]['d'] + sync_error\n",
    "        )"
   ]
  },
  {
   "cell_type": "code",
   "execution_count": 85,
   "id": "acoustic-fundamental",
   "metadata": {},
   "outputs": [],
   "source": [
    "from time import time\n",
    "start = time()"
   ]
  },
  {
   "cell_type": "code",
   "execution_count": 86,
   "id": "educational-italian",
   "metadata": {},
   "outputs": [
    {
     "ename": "Z3Exception",
     "evalue": "model is not available",
     "output_type": "error",
     "traceback": [
      "\u001b[0;31m---------------------------------------------------------------------------\u001b[0m",
      "\u001b[0;31mZ3Exception\u001b[0m                               Traceback (most recent call last)",
      "File \u001b[0;32m~/.local/lib/python3.8/site-packages/z3/z3.py:7130\u001b[0m, in \u001b[0;36mSolver.model\u001b[0;34m(self)\u001b[0m\n\u001b[1;32m   7129\u001b[0m \u001b[39mtry\u001b[39;00m:\n\u001b[0;32m-> 7130\u001b[0m     \u001b[39mreturn\u001b[39;00m ModelRef(Z3_solver_get_model(\u001b[39mself\u001b[39;49m\u001b[39m.\u001b[39;49mctx\u001b[39m.\u001b[39;49mref(), \u001b[39mself\u001b[39;49m\u001b[39m.\u001b[39;49msolver), \u001b[39mself\u001b[39m\u001b[39m.\u001b[39mctx)\n\u001b[1;32m   7131\u001b[0m \u001b[39mexcept\u001b[39;00m Z3Exception:\n",
      "File \u001b[0;32m~/.local/lib/python3.8/site-packages/z3/z3core.py:4065\u001b[0m, in \u001b[0;36mZ3_solver_get_model\u001b[0;34m(a0, a1, _elems)\u001b[0m\n\u001b[1;32m   4064\u001b[0m r \u001b[39m=\u001b[39m _elems\u001b[39m.\u001b[39mf(a0, a1)\n\u001b[0;32m-> 4065\u001b[0m _elems\u001b[39m.\u001b[39;49mCheck(a0)\n\u001b[1;32m   4066\u001b[0m \u001b[39mreturn\u001b[39;00m r\n",
      "File \u001b[0;32m~/.local/lib/python3.8/site-packages/z3/z3core.py:1475\u001b[0m, in \u001b[0;36mElementaries.Check\u001b[0;34m(self, ctx)\u001b[0m\n\u001b[1;32m   1474\u001b[0m \u001b[39mif\u001b[39;00m err \u001b[39m!=\u001b[39m \u001b[39mself\u001b[39m\u001b[39m.\u001b[39mOK:\n\u001b[0;32m-> 1475\u001b[0m     \u001b[39mraise\u001b[39;00m \u001b[39mself\u001b[39m\u001b[39m.\u001b[39mException(\u001b[39mself\u001b[39m\u001b[39m.\u001b[39mget_error_message(ctx, err))\n",
      "\u001b[0;31mZ3Exception\u001b[0m: b'there is no current model'",
      "\nDuring handling of the above exception, another exception occurred:\n",
      "\u001b[0;31mZ3Exception\u001b[0m                               Traceback (most recent call last)",
      "\u001b[1;32m/home/chuanyu/Code/Time-Sensitive-Network-Benchmark/notebooks/ASPDAC2022/Time-Triggered Scheduling for Time-Sensitive Networking with Preemption.ipynb Cell 28\u001b[0m in \u001b[0;36m<module>\u001b[0;34m\u001b[0m\n\u001b[1;32m      <a href='vscode-notebook-cell:/home/chuanyu/Code/Time-Sensitive-Network-Benchmark/notebooks/ASPDAC2022/Time-Triggered%20Scheduling%20for%20Time-Sensitive%20Networking%20with%20Preemption.ipynb#X36sZmlsZQ%3D%3D?line=0'>1</a>\u001b[0m res \u001b[39m=\u001b[39m s\u001b[39m.\u001b[39mcheck()\n\u001b[0;32m----> <a href='vscode-notebook-cell:/home/chuanyu/Code/Time-Sensitive-Network-Benchmark/notebooks/ASPDAC2022/Time-Triggered%20Scheduling%20for%20Time-Sensitive%20Networking%20with%20Preemption.ipynb#X36sZmlsZQ%3D%3D?line=1'>2</a>\u001b[0m result \u001b[39m=\u001b[39m s\u001b[39m.\u001b[39;49mmodel()\n",
      "File \u001b[0;32m~/.local/lib/python3.8/site-packages/z3/z3.py:7132\u001b[0m, in \u001b[0;36mSolver.model\u001b[0;34m(self)\u001b[0m\n\u001b[1;32m   7130\u001b[0m     \u001b[39mreturn\u001b[39;00m ModelRef(Z3_solver_get_model(\u001b[39mself\u001b[39m\u001b[39m.\u001b[39mctx\u001b[39m.\u001b[39mref(), \u001b[39mself\u001b[39m\u001b[39m.\u001b[39msolver), \u001b[39mself\u001b[39m\u001b[39m.\u001b[39mctx)\n\u001b[1;32m   7131\u001b[0m \u001b[39mexcept\u001b[39;00m Z3Exception:\n\u001b[0;32m-> 7132\u001b[0m     \u001b[39mraise\u001b[39;00m Z3Exception(\u001b[39m\"\u001b[39m\u001b[39mmodel is not available\u001b[39m\u001b[39m\"\u001b[39m)\n",
      "\u001b[0;31mZ3Exception\u001b[0m: model is not available"
     ]
    }
   ],
   "source": [
    "res = s.check()\n",
    "result = s.model()"
   ]
  },
  {
   "cell_type": "code",
   "execution_count": null,
   "id": "fac37d87",
   "metadata": {},
   "outputs": [],
   "source": [
    "info = s.statistics()\n",
    "run_time = info.time\n",
    "run_memory = info.max_memory"
   ]
  },
  {
   "cell_type": "code",
   "execution_count": null,
   "id": "be7d326a",
   "metadata": {},
   "outputs": [
    {
     "data": {
      "text/plain": [
       "369.849"
      ]
     },
     "execution_count": 33,
     "metadata": {},
     "output_type": "execute_result"
    },
    {
     "ename": "",
     "evalue": "",
     "output_type": "error",
     "traceback": [
      "\u001b[1;31mThe Kernel crashed while executing code in the the current cell or a previous cell. Please review the code in the cell(s) to identify a possible cause of the failure. Click <a href='https://aka.ms/vscodeJupyterKernelCrash'>here</a> for more info. View Jupyter <a href='command:jupyter.viewOutput'>log</a> for further details."
     ]
    }
   ],
   "source": [
    "run_time"
   ]
  },
  {
   "cell_type": "code",
   "execution_count": null,
   "id": "spare-nurse",
   "metadata": {},
   "outputs": [],
   "source": [
    "end = time()\n",
    "print(end - start)"
   ]
  },
  {
   "cell_type": "code",
   "execution_count": null,
   "id": "daee32fb",
   "metadata": {},
   "outputs": [],
   "source": [
    "## GCL\n",
    "queue_count = {}\n",
    "queue_log = {}\n",
    "GCL = []\n",
    "for i in task_var:\n",
    "    for e in task_var[i]:\n",
    "        queue_count.setdefault(e, 0)\n",
    "        for j in range(int(LCM / task_var[i][e]['T'])):\n",
    "            # start = result[task_var[i][e][j]['r'][0]].as_long()\n",
    "            # end = result[task_var[i][e][j]['f'][-1]].as_long()\n",
    "            # queue = queue_count[e]\n",
    "            # GCL.append(\n",
    "            #         [eval(e), queue, (start) * macrotick, (end) * macrotick, LCM * macrotick]\n",
    "            #     )\n",
    "            if eval(str(result[task_var[i][e]['N'][j]])) == True:\n",
    "                start = result[task_var[i][e][j]['r'][0]].as_long()\n",
    "                end = result[task_var[i][e][j]['f'][0]].as_long()\n",
    "                if end > start:\n",
    "                    queue = queue_count[e]\n",
    "                    t = task_var[i][e]['T']\n",
    "                    GCL.append(\n",
    "                        [eval(e), queue, (start) * macrotick, (end) * macrotick, LCM * macrotick]\n",
    "                    )\n",
    "            else:\n",
    "                for u in range(0, U):\n",
    "                    start = result[task_var[i][e][j]['r'][u]].as_long()\n",
    "                    end = result[task_var[i][e][j]['f'][u]].as_long()\n",
    "                    if end > start:\n",
    "                        queue = queue_count[e]\n",
    "                        t = task_var[i][e]['T']\n",
    "                        GCL.append(\n",
    "                            [eval(e), queue, (start) * macrotick, (end) * macrotick, LCM * macrotick]\n",
    "                        )\n",
    "        queue_log[(i, e)] = queue\n",
    "        queue_count[e] += 1"
   ]
  },
  {
   "cell_type": "code",
   "execution_count": null,
   "id": "74d97525",
   "metadata": {},
   "outputs": [],
   "source": [
    "OFFSET = []\n",
    "for i in task_var:\n",
    "    e = list(task_var[i].keys())[0]\n",
    "    for j in range(int(LCM / task_var[i][e]['T'])):\n",
    "        OFFSET.append(\n",
    "            [i, 0, (task.loc[i, 'period'] - result[task_var[i][e][j]['r'][0]].as_long()) * macrotick]\n",
    "        )"
   ]
  },
  {
   "cell_type": "code",
   "execution_count": null,
   "id": "bbbbf12f",
   "metadata": {},
   "outputs": [],
   "source": [
    "ROUTE = []\n",
    "for i in task_var:\n",
    "    route = list(task_var[i].keys())\n",
    "    for x in route:\n",
    "        ROUTE.append(\n",
    "            [i, eval(x)]\n",
    "        )\n",
    "\n",
    "QUEUE = []\n",
    "for i in task_var:\n",
    "    for e in list(task_var[i].keys()):\n",
    "        QUEUE.append([i, 0, e, queue_log[(i, e)]])"
   ]
  },
  {
   "cell_type": "code",
   "execution_count": null,
   "id": "511ba45f",
   "metadata": {},
   "outputs": [],
   "source": [
    "GCL = pd.DataFrame(GCL)\n",
    "GCL.columns = [\"link\", \"queue\", \"start\", \"end\", \"cycle\"]\n",
    "GCL.to_csv(\"ASPDAC2022-%s-%d-%s-GCL.csv\"%(DATA_NAME,NUM_FLOW,TOPO_NAME), index=False)\n",
    "\n",
    "OFFSET = pd.DataFrame(OFFSET)\n",
    "OFFSET.columns = ['id', 'ins_id', 'offset']\n",
    "OFFSET.to_csv(\"ASPDAC2022-%s-%d-%s-OFFSET.csv\"%(DATA_NAME,NUM_FLOW,TOPO_NAME), index=False)\n",
    "\n",
    "ROUTE = pd.DataFrame(ROUTE)\n",
    "ROUTE.columns = ['id', 'link']\n",
    "ROUTE.to_csv(\"ASPDAC2022-%s-%d-%s-ROUTE.csv\"%(DATA_NAME,NUM_FLOW,TOPO_NAME), index=False)\n",
    "\n",
    "QUEUE = pd.DataFrame(QUEUE)\n",
    "QUEUE.columns = ['id','ins_id','link','queue']\n",
    "QUEUE.to_csv(\"ASPDAC2022-%s-%d-%s-QUEUE.csv\"%(DATA_NAME,NUM_FLOW,TOPO_NAME), index=False)"
   ]
  },
  {
   "cell_type": "code",
   "execution_count": null,
   "id": "5f9f797d",
   "metadata": {},
   "outputs": [],
   "source": [
    "for i in task_var:\n",
    "    _hop_s = list(task_var[i].items())[0]\n",
    "    _hop_e = list(task_var[i].items())[-1]\n",
    "    for j in range(int(LCM / task.loc[i, 'period'])):\n",
    "        print(i, (result[_hop_e[1][j]['f'][-1]].as_long() - result[_hop_s[1][j]['r'][0]].as_long()\n",
    "         + net_var[_hop_e[0]]['d']) * macrotick)"
   ]
  },
  {
   "cell_type": "code",
   "execution_count": null,
   "id": "78332ed1",
   "metadata": {},
   "outputs": [],
   "source": [
    "task"
   ]
  },
  {
   "cell_type": "code",
   "execution_count": null,
   "id": "explicit-dispute",
   "metadata": {},
   "outputs": [],
   "source": [
    "# gcl = GCL\n",
    "# GCL = {}\n",
    "# CYCLE = {}\n",
    "# for i, row in gcl.iterrows():\n",
    "#     GCL.setdefault(row['link'], [])\n",
    "#     CYCLE.setdefault(row['link'], row['cycle'])\n",
    "#     GCL[row['link']].append((row['start'], row['end'], row['queue']))\n",
    "    \n",
    "# for link in GCL:\n",
    "#     GCL[link] = sorted(GCL[link], key=lambda x:x[0], reverse=False)\n",
    "# for link in GCL:\n",
    "#     temp = GCL[link]\n",
    "#     for i, row in enumerate(temp[:-1]):\n",
    "#         if row[1] > temp[i+1][0]:\n",
    "#             print('overlap', link, row, temp[i+1])"
   ]
  },
  {
   "cell_type": "code",
   "execution_count": null,
   "id": "177b1d25",
   "metadata": {},
   "outputs": [],
   "source": []
  }
 ],
 "metadata": {
  "kernelspec": {
   "display_name": "base",
   "language": "python",
   "name": "python3"
  },
  "language_info": {
   "codemirror_mode": {
    "name": "ipython",
    "version": 3
   },
   "file_extension": ".py",
   "mimetype": "text/x-python",
   "name": "python",
   "nbconvert_exporter": "python",
   "pygments_lexer": "ipython3",
   "version": "3.9.13"
  },
  "toc": {
   "base_numbering": 1,
   "nav_menu": {},
   "number_sections": false,
   "sideBar": true,
   "skip_h1_title": false,
   "title_cell": "Table of Contents",
   "title_sidebar": "Contents",
   "toc_cell": false,
   "toc_position": {},
   "toc_section_display": true,
   "toc_window_display": false
  },
  "vscode": {
   "interpreter": {
    "hash": "c6e4e9f98eb68ad3b7c296f83d20e6de614cb42e90992a65aa266555a3137d0d"
   }
  }
 },
 "nbformat": 4,
 "nbformat_minor": 5
}

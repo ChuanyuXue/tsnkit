{
 "cells": [
  {
   "cell_type": "code",
   "execution_count": 2,
   "id": "5fc9ffc2",
   "metadata": {},
   "outputs": [],
   "source": [
    "import pandas as pd\n",
    "import numpy as np\n",
    "import z3\n",
    "from tqdm import tqdm"
   ]
  },
  {
   "cell_type": "code",
   "execution_count": 3,
   "id": "07eecf0a-2431-4e4e-93bb-80291018ed73",
   "metadata": {},
   "outputs": [],
   "source": [
    "z3.set_option(\"parallel.enable\", True)\n",
    "z3.set_option(\"parallel.threads.max\", 1024)"
   ]
  },
  {
   "cell_type": "code",
   "execution_count": 4,
   "id": "74c2df77-9b94-41e5-9df6-021e610f5488",
   "metadata": {},
   "outputs": [],
   "source": [
    "NUM_FLOW = 10\n",
    "DATA_NAME = \"single0\"\n",
    "TOPO_NAME = \"0\"\n",
    "task = pd.read_csv(\"../../dac_data/%s.csv\"%DATA_NAME)[:50]\n",
    "network = pd.read_csv(\"../../dac_data/%s_topology.csv\"%TOPO_NAME)\n",
    "macrotick = 100\n",
    "sync_error = 0\n",
    "time_out = 4 * 60 * 60\n",
    "\n",
    "for col in ['size','period','deadline','jitter']:\n",
    "    task[col] = np.ceil(task[col] / macrotick).astype(int)\n",
    "for col in ['t_proc','t_prop']:\n",
    "    network[col] = np.ceil(network[col] / macrotick).astype(int)\n",
    "\n"
   ]
  },
  {
   "cell_type": "markdown",
   "id": "908dcbdb",
   "metadata": {},
   "source": [
    "## 1. Model"
   ]
  },
  {
   "cell_type": "code",
   "execution_count": 5,
   "id": "b812052a",
   "metadata": {},
   "outputs": [],
   "source": [
    "NUM_SW = 8\n",
    "NUM_ES = 8\n",
    "NUM_NODE = NUM_ES + NUM_SW\n",
    "NETWORK_ERROR = 0\n",
    "NUM_WINDOW = 5\n",
    "\n",
    "LCM = int(np.lcm.reduce(task['period']))\n",
    "net = np.zeros(shape = (NUM_NODE, NUM_NODE))"
   ]
  },
  {
   "cell_type": "code",
   "execution_count": 6,
   "id": "f3cda72f-3b5d-415e-8dca-0075f62a74b3",
   "metadata": {},
   "outputs": [],
   "source": [
    "NG = 10"
   ]
  },
  {
   "cell_type": "markdown",
   "id": "3f28aa31",
   "metadata": {},
   "source": [
    "Schedule table"
   ]
  },
  {
   "cell_type": "code",
   "execution_count": 7,
   "id": "60548a6c-cca5-40b8-a36a-c18a5366096a",
   "metadata": {},
   "outputs": [],
   "source": [
    "net_var = {}\n",
    "\n",
    "for _, row in network.iterrows():\n",
    "    net_var.setdefault(row['link'], {})\n",
    "    net_var[row['link']]['N'] = row['q_num']\n",
    "    net_var[row['link']]['s'] = row['rate']\n",
    "    net_var[row['link']]['tproc'] = row['t_proc']\n",
    "    ## t is the start time of entry, if v == 0, then t is set to 0\n",
    "    net_var[row['link']]['t'] = z3.IntVector('t_%s'%row['link'], NUM_WINDOW)\n",
    "    ## if v == 1, then the entry is available for link\n",
    "    net_var[row['link']]['v'] = z3.IntVector('v', NUM_WINDOW)\n",
    "    ## if c_q == q, then the queue is used\n",
    "    net_var[row['link']]['c'] = [z3.IntVector('c_%s_%d'%(row['link'], i), row['q_num']) for i in range(NUM_WINDOW\n",
    "    )]\n",
    "    \n",
    "    net[eval(row['link'])[0], eval(row['link'])[1]] = 1"
   ]
  },
  {
   "cell_type": "markdown",
   "id": "0a5aeb9c",
   "metadata": {},
   "source": [
    "Task model"
   ]
  },
  {
   "cell_type": "code",
   "execution_count": 8,
   "id": "1e70b4f8",
   "metadata": {},
   "outputs": [],
   "source": [
    "task_var = {}\n",
    "task_attr = {}\n",
    "packet_weight = {}"
   ]
  },
  {
   "cell_type": "code",
   "execution_count": 9,
   "id": "3379a2f2",
   "metadata": {},
   "outputs": [],
   "source": [
    "## Shortest path\n",
    "def bfs_paths(graph, start, goal):\n",
    "    queue = [(start, [start])]\n",
    "    while queue:\n",
    "        (vertex, path) = queue.pop(0)\n",
    "        for _next in set(np.reshape(np.argwhere(graph[vertex] > 0),  -1)) - set(path):\n",
    "            if _next == goal:\n",
    "                yield path + [_next]\n",
    "            else:\n",
    "                queue.append((_next, path + [_next]))"
   ]
  },
  {
   "cell_type": "code",
   "execution_count": 10,
   "id": "17981c37",
   "metadata": {},
   "outputs": [],
   "source": [
    "for i, row in task.iterrows():\n",
    "    task.loc[i,'route'] = str(next(bfs_paths(net, int(row['src']), int(eval(row['dst'])[0]))))\n",
    "    task_var.setdefault(i, {})\n",
    "    task_attr.setdefault(i, {})\n",
    "    route = eval(task.loc[i, 'route'])\n",
    "    \n",
    "    task_attr[i]['C'] = int(row['size'])\n",
    "    task_attr[i]['T'] = int(row['period']) \n",
    "    task_attr[i]['L'] = int(row['deadline'])\n",
    "    task_attr[i]['t_trans'] = int(task_attr[i]['C']) * 8 \n",
    "    task_attr[i]['rho'] = (int(task_attr[i]['C'] * 8) + sync_error) * (len(route) - 1) / task_attr[i]['L']\n",
    "#     task_attr[i]['J'] = 1000000000 \n",
    "    task_attr[i]['d'] = []\n",
    "    for j in range(int(LCM / task_attr[i]['T'])):\n",
    "        packet_weight[(i,j)] = task_attr[i]['L'] + j * task_attr[i]['T']\n",
    "    for _i, a in enumerate(route[:-1]):\n",
    "        link = str((a, route[_i + 1]))\n",
    "        task_var[i].setdefault(link, {})\n",
    "        task_var[i][link] = {}\n",
    "        task_var[i][link]['alpha'] = []\n",
    "        task_var[i][link]['beta'] = []\n",
    "        task_var[i][link]['group'] = []\n",
    "        for j in range(int(LCM / task_attr[i]['T'])):\n",
    "            task_var[i][link]['alpha'].append(z3.Int('alpha' +  str(i) + '_' + str(link) + '_' + str(j)))\n",
    "            task_var[i][link]['beta'].append(z3.Int('beta' +  str(i) + '_' + str(link) + '_' + str(j)))\n",
    "            task_var[i][link]['group'].append(None)\n",
    "        task_attr[i].setdefault(link, {})\n",
    "        \n",
    "        \n",
    "        \n",
    "#         task_var[i][link]['phi'] = []\n",
    "#         task_var[i][link]['p'] =  z3.Int('p_' +  str(i) + '_' + str(link))\n",
    "#         task_var[i][link]['T'] = np.ceil(row['period'] / net_var[str(link)]['mt'])\n",
    "#         task_var[i][link]['L'] = np.ceil((row['size'] * 8 / net_var[str(link)]['s']) / net_var[str(link)]['mt'])\n",
    "#         for j in range(0, int(LCM / row['period'])):\n",
    "#              task_var[i][link]['phi'].append(z3.Int('phi_' +  str(i) + '_' + str(link) + '_' + str(j)))"
   ]
  },
  {
   "cell_type": "markdown",
   "id": "e9692640",
   "metadata": {},
   "source": [
    "## 2. Queue assignment"
   ]
  },
  {
   "cell_type": "code",
   "execution_count": 11,
   "id": "24516aac",
   "metadata": {},
   "outputs": [],
   "source": [
    "phat = {}\n",
    "for link in net_var:\n",
    "    phat.setdefault(link, [0] * 8)\n",
    "\n",
    "for f, attr in sorted(task_attr.items(), key = lambda x:x[1]['rho'], reverse=True):\n",
    "    min_h = -1\n",
    "    min_value = np.inf\n",
    "    for g in range(8):\n",
    "        result = max([phat[link][g] for link in list(task_var[f].keys())])\n",
    "        if result < min_value:\n",
    "            min_h = g\n",
    "            min_value = result\n",
    "    \n",
    "    for link in list(task_var[f].keys()):\n",
    "        phat[link][min_h] += task_attr[f]['rho']\n",
    "        task_attr[f][link]['q'] = min_h"
   ]
  },
  {
   "cell_type": "markdown",
   "id": "1db72893",
   "metadata": {},
   "source": [
    "## 3. Taskset decomposition"
   ]
  },
  {
   "cell_type": "code",
   "execution_count": 12,
   "id": "bec57b10-9893-406d-bb44-ceffe72812cf",
   "metadata": {},
   "outputs": [],
   "source": [
    "packet_group = {}"
   ]
  },
  {
   "cell_type": "code",
   "execution_count": 13,
   "id": "a349a1ea-29ae-45ba-89db-459ffa35e5cf",
   "metadata": {},
   "outputs": [],
   "source": [
    "packet_weight = [x[0] for x in sorted(packet_weight.items(), key = lambda x:x[1])]"
   ]
  },
  {
   "cell_type": "code",
   "execution_count": 14,
   "id": "48a5025b-7c5c-4ced-9112-7360d7e347c9",
   "metadata": {},
   "outputs": [],
   "source": [
    "group_size = int(np.ceil(len(packet_weight) / NG))"
   ]
  },
  {
   "cell_type": "code",
   "execution_count": 15,
   "id": "b8d07cee-7c91-4d20-a251-bd3aae4f7483",
   "metadata": {},
   "outputs": [],
   "source": [
    "packet_group = [packet_weight[i * group_size: (i + 1) * group_size] for i in range((len(packet_weight) + group_size - 1) // group_size )]"
   ]
  },
  {
   "cell_type": "code",
   "execution_count": 16,
   "id": "36673027-3603-4fd8-8e8a-23235d95adf8",
   "metadata": {},
   "outputs": [],
   "source": [
    "for inte, group in enumerate(packet_group):\n",
    "    for i, ins in group:\n",
    "        for link in task_var[i]:\n",
    "            task_var[i][link]['group'][ins] = inte"
   ]
  },
  {
   "cell_type": "markdown",
   "id": "50cc5351",
   "metadata": {},
   "source": [
    "## 4. SMT model"
   ]
  },
  {
   "cell_type": "markdown",
   "id": "c87a7689-7818-4634-b4ed-1f3807caa358",
   "metadata": {},
   "source": [
    "Range constraints"
   ]
  },
  {
   "cell_type": "markdown",
   "id": "32970f51-6639-4133-a6c3-4ad8daed4491",
   "metadata": {},
   "source": [
    "\\begin{aligned}\n",
    "&\\forall n_i \\in W, \\quad \\forall y \\in[2, T], t_{i, 1}=0 \\\\\n",
    "&\\quad\\left(\\left(t_{i, y}=0\\right) \\wedge \\bigwedge_{\\forall z \\in[y+1, T]}\\left(t_{i, z}=0\\right)\\right) \\\\\n",
    "&\\quad \\vee\\left(\\left(t_{i, y}>0\\right) \\wedge\\left(1 \\leq t_{i, y-1}<t_{i, y} \\leq H\\right)\\right) \\\\\n",
    "&\\forall n_i \\in W, \\quad \\forall y \\in[1, T], \\quad \\forall r \\in[1, Q], c_{i, y, r} \\in\\{0, r\\} \\\\\n",
    "&\\forall n_i \\in W, \\quad \\forall y \\in[1, T], \\quad \\forall j \\in[1, V], v_{i, y, j} \\in\\{0,1\\} . \\\\\n",
    "&\\forall f_a \\in F, \\quad 1 \\leq q_a \\leq Q . \\\\\n",
    "&\\forall f_a \\in F, \\quad \\forall b \\in\\left[1,\\left|\\Pi_a\\right|\\right), \\forall k \\in\\left[0, \\frac{H}{p_a}\\right) \\\\\n",
    "&k \\times p_a+1 \\leq \\alpha_{a, b}^k<\\beta_{a, b}^k \\leq d_a+k \\times p_a \\\\\n",
    "&\\beta_{a, b}^k-\\alpha_{a, b}^k=\\gamma_a^{+} .\n",
    "\\end{aligned}"
   ]
  },
  {
   "cell_type": "code",
   "execution_count": 17,
   "id": "94f7ba49-57ab-43f5-8ef3-68685c361e88",
   "metadata": {
    "tags": []
   },
   "outputs": [],
   "source": [
    "interation = 0\n",
    "s = z3.Optimize()\n",
    "s.set(\"timeout\", time_out * 1000)"
   ]
  },
  {
   "cell_type": "code",
   "execution_count": 18,
   "id": "fe7e484c",
   "metadata": {},
   "outputs": [],
   "source": [
    "\n",
    "## Constraint 1\n",
    "## The first entry should be one, the paper is wrong\n",
    "# for (eachSW=0;eachSW<SW;eachSW++)\n",
    "# \t\tZ3_optimize_assert(ctx,opt,Z3_mk_eq(ctx,t[eachSW][0],one));\n",
    "\n",
    "for link in net_var:\n",
    "    s.add(net_var[link]['t'][0] == 1)\n",
    "\n",
    "for link in net_var:\n",
    "    for y in range(1, NUM_WINDOW):\n",
    "        ## The paper is wrong that the frist entry should be one\n",
    "        first_line = z3.And(net_var[link]['t'][y] == 0 ,z3.And([x == 0 for x in net_var[link]['t'][y+1:]]))\n",
    "        second_line = z3.And(net_var[link]['t'][y] > 0,\n",
    "        1 <= net_var[link]['t'][y - 1],\n",
    "        net_var[link]['t'][y - 1] < net_var[link]['t'][y],\n",
    "        net_var[link]['t'][y] <= LCM)\n",
    "        s.add(\n",
    "            z3.Or(first_line, second_line)\n",
    "        )"
   ]
  },
  {
   "cell_type": "code",
   "execution_count": 19,
   "id": "47fbeeff",
   "metadata": {},
   "outputs": [],
   "source": [
    "## Constraint 2\n",
    "for link in net_var:\n",
    "    for y in range(0, NUM_WINDOW):\n",
    "        for q in range(0, net_var[link]['N']):\n",
    "            s.add(\n",
    "                z3.Or(net_var[link]['c'][y][q] == q, net_var[link]['c'][y][q] == 0)\n",
    "            )"
   ]
  },
  {
   "cell_type": "code",
   "execution_count": 20,
   "id": "5a7fd5f3",
   "metadata": {},
   "outputs": [],
   "source": [
    "## Constraint 3\n",
    "for link in net_var:\n",
    "    for y in range(0, NUM_WINDOW):\n",
    "        s.add(\n",
    "            z3.Or(net_var[link]['v'][y] == 0, net_var[link]['v'][y] == 1)\n",
    "        )"
   ]
  },
  {
   "cell_type": "code",
   "execution_count": 21,
   "id": "afcfdd13",
   "metadata": {},
   "outputs": [],
   "source": [
    "## Constraint 4\n",
    "## This one can be omitted as queue assignment has already been decided"
   ]
  },
  {
   "cell_type": "code",
   "execution_count": 22,
   "id": "c7a11c15",
   "metadata": {},
   "outputs": [],
   "source": [
    "## Constraint 5\n",
    "for i in task_attr:\n",
    "    for link in task_var[i]:\n",
    "        for k in range(0, int(LCM / task_attr[i]['T'])):\n",
    "            s.add(\n",
    "                z3.And(\n",
    "                    k * task_attr[i]['T'] + 1 <= task_var[i][link]['alpha'][k],\n",
    "                    task_var[i][link]['alpha'][k] < task_var[i][link]['beta'][k],\n",
    "                    task_var[i][link]['beta'][k] <= task_attr[i]['L'] + k * task_attr[i]['T'],\n",
    "                    task_var[i][link]['beta'][k] - task_var[i][link]['alpha'][k] == task_attr[i]['t_trans']\n",
    "                )\n",
    "            )"
   ]
  },
  {
   "cell_type": "code",
   "execution_count": 23,
   "id": "7ff48d95",
   "metadata": {},
   "outputs": [],
   "source": [
    "## Constraint 6\n",
    "for i in task_var:\n",
    "    links = list(task_var[i].keys())\n",
    "    for hop, link in enumerate(links[:-1]):\n",
    "        for k in range(0, int(LCM / task_attr[i]['T'])):\n",
    "            s.add(\n",
    "                task_var[i][links[hop]]['beta'][k] + net_var[links[hop + 1]]['tproc'] < task_var[i][links[hop + 1]]['alpha'][k]\n",
    "            )"
   ]
  },
  {
   "cell_type": "code",
   "execution_count": 24,
   "id": "3666e789",
   "metadata": {},
   "outputs": [],
   "source": [
    "## Constraint 7\n",
    "for i in task_var:\n",
    "    s_hop = list(task_var[i].keys())[0]\n",
    "    e_hop = list(task_var[i].keys())[-1]\n",
    "    for k in range(0, int(LCM / task_attr[i]['T'])):\n",
    "        s.add(\n",
    "            task_var[i][e_hop]['beta'][k] <= task_attr[i]['L'] + k * task_attr[i]['T']\n",
    "        )"
   ]
  },
  {
   "cell_type": "code",
   "execution_count": 25,
   "id": "bb60c656",
   "metadata": {},
   "outputs": [],
   "source": [
    "## Constraint 8\n",
    "for link in net_var:\n",
    "    for fa, fg in [(fa, fg) for fa in task_attr for fg in task_attr if fg > fa and link in task_var[fa] and link in task_var[fg]]:\n",
    "        for k, m in [(k, m) for k in range(len(task_var[fa][link]['alpha'])) for m in range(len(task_var[fg][link]['alpha']))]:\n",
    "            if task_var[fa][link]['group'][k] == interation and task_var[fg][link]['group'][m] == interation:\n",
    "                ins_k = task_var[fa][link]['alpha'][k]\n",
    "                ins_m = task_var[fg][link]['alpha'][m]\n",
    "                s.add(\n",
    "                    z3.Or(\n",
    "                        task_var[fa][link]['alpha'][k] > task_var[fg][link]['beta'][m],\n",
    "                        task_var[fg][link]['alpha'][m] > task_var[fa][link]['beta'][k]\n",
    "                    )\n",
    "                )"
   ]
  },
  {
   "cell_type": "code",
   "execution_count": 26,
   "id": "372c9839",
   "metadata": {},
   "outputs": [],
   "source": [
    "## Constraint 9\n",
    "for fa, fg in [(fa, fg) for fa in task_attr for fg in task_attr if fg > fa]:\n",
    "    path_i = list(task_var[fa].keys())\n",
    "    path_j = list(task_var[fg].keys())\n",
    "    for x_a, y_a, a_b in [(path_i[_x - 1], path_j[_y - 1], i_a_b)\n",
    "                    for _x, i_a_b in enumerate(path_i) \n",
    "                    for _y, j_a_b in enumerate(path_j) \n",
    "                    if i_a_b == j_a_b and task_attr[fa][i_a_b]['q'] == task_attr[fa][j_a_b]['q']]:\n",
    "        for k, m in [(k, m) for k in range(len(task_var[fa][x_a]['alpha'])) for m in range(len(task_var[fg][y_a]['alpha']))]:\n",
    "            if task_var[fa][x_a]['group'][k] == interation and task_var[fg][y_a]['group'][m] == interation:\n",
    "                s.add(\n",
    "                    z3.Or(\n",
    "                        task_var[fa][x_a]['beta'][k] + net_var[x_a]['tproc'] > task_var[fg][a_b]['alpha'][m],\n",
    "                        task_var[fg][y_a]['beta'][m] + net_var[y_a]['tproc'] > task_var[fa][a_b]['alpha'][k]\n",
    "                    )\n",
    "                )"
   ]
  },
  {
   "cell_type": "code",
   "execution_count": 27,
   "id": "4d4685d1",
   "metadata": {},
   "outputs": [],
   "source": [
    "## Constraint 12 (B)\n",
    "def B(x, i, k, link):\n",
    "    ## Or the following things\n",
    "    bb = []\n",
    "    for y in range(0, NUM_WINDOW):\n",
    "        big_or = z3.Or([net_var[link]['c'][y][r] == task_attr[i][link]['q'] for r in range(0, net_var[link]['N'])])\n",
    "        big_and = z3.And([z3.Or(\n",
    "            [net_var[link]['t'][z] == 0, \n",
    "            net_var[link]['v'][z] == 0, \n",
    "            z3.And(net_var[link]['t'][z] < net_var[link]['t'][y], \n",
    "            net_var[link]['t'][y] <= x), \n",
    "            net_var[link]['t'][y] > x]\n",
    "        ) for z in range(0, NUM_WINDOW) if z != y])\n",
    "        second_line = z3.And(net_var[link]['v'][y] == 1, big_or, big_and)\n",
    "        inner = z3.Or(net_var[link]['t'][y] == 0, second_line)\n",
    "        bb.append(inner)\n",
    "    return z3.Or(bb)"
   ]
  },
  {
   "cell_type": "code",
   "execution_count": 28,
   "id": "f4ea9bfb",
   "metadata": {},
   "outputs": [],
   "source": [
    "## Constraint 11 (A)\n",
    "\n",
    "def A(x, i, k, link, last_link):\n",
    "    first_line = z3.And(\n",
    "        x > task_var[i][last_link]['beta'][k],\n",
    "        B(x, i, k, link)\n",
    "    )\n",
    "    second_line = z3.And(\n",
    "        [z3.Or(h <= task_var[i][last_link]['beta'][k], z3.Not(B(h, i, k, link))) for h in range(k * task_attr[i]['T'] + 1,  x)]\n",
    "    )\n",
    "    return z3.And(first_line, second_line)"
   ]
  },
  {
   "cell_type": "code",
   "execution_count": 29,
   "id": "9f618d25",
   "metadata": {},
   "outputs": [
    {
     "name": "stderr",
     "output_type": "stream",
     "text": [
      "  0%|          | 0/50 [1:29:51<?, ?it/s]\n",
      "\n",
      "KeyboardInterrupt\n",
      "\n"
     ]
    }
   ],
   "source": [
    "## THis one is not possible to work.\n",
    "\n",
    "## Constriant 10\n",
    "for a in tqdm(task_attr):\n",
    "    ## link indicates n_i,j\n",
    "    links = list(task_var[a].keys())\n",
    "    for hop, link in enumerate(links[1: ]):\n",
    "        ## hop = 0 means the 1-th hop, so hos is the last hop\n",
    "        for k in range(0, int(LCM / task_attr[a]['T'])):\n",
    "            s.add(\n",
    "                z3.Or([\n",
    "                    z3.And(task_var[a][link]['alpha'][k] == g, A(g, a, k, link, links[hop]))\n",
    "                    for g in range(k * task_attr[a]['T'] + 1, k * task_attr[a]['T'] + task_attr[a]['L'])\n",
    "                ])\n",
    "            )\n",
    "\n"
   ]
  },
  {
   "cell_type": "code",
   "execution_count": null,
   "id": "a94cfc15-6359-4e97-8129-fb1d2a5331ec",
   "metadata": {},
   "outputs": [],
   "source": []
  },
  {
   "cell_type": "code",
   "execution_count": null,
   "id": "fbf97197-e26d-41cc-becb-11702f30c81a",
   "metadata": {},
   "outputs": [],
   "source": []
  }
 ],
 "metadata": {
  "kernelspec": {
   "display_name": "Python 3",
   "language": "python",
   "name": "python3"
  },
  "language_info": {
   "codemirror_mode": {
    "name": "ipython",
    "version": 3
   },
   "file_extension": ".py",
   "mimetype": "text/x-python",
   "name": "python",
   "nbconvert_exporter": "python",
   "pygments_lexer": "ipython3",
   "version": "3.8.10 (default, Nov 14 2022, 12:59:47) \n[GCC 9.4.0]"
  },
  "vscode": {
   "interpreter": {
    "hash": "e7370f93d1d0cde622a1f8e1c04877d8463912d04d973331ad4851f04de6915a"
   }
  }
 },
 "nbformat": 4,
 "nbformat_minor": 5
}

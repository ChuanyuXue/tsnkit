{
 "cells": [
  {
   "cell_type": "code",
   "execution_count": 2,
   "id": "5fc9ffc2",
   "metadata": {},
   "outputs": [],
   "source": [
    "import pandas as pd\n",
    "import numpy as np\n",
    "import z3\n",
    "from tqdm import tqdm"
   ]
  },
  {
   "cell_type": "code",
   "execution_count": 3,
   "id": "07eecf0a-2431-4e4e-93bb-80291018ed73",
   "metadata": {},
   "outputs": [],
   "source": [
    "z3.set_option(\"parallel.enable\", True)\n",
    "z3.set_option(\"parallel.threads.max\", 1024)"
   ]
  },
  {
   "cell_type": "code",
   "execution_count": 4,
   "id": "74c2df77-9b94-41e5-9df6-021e610f5488",
   "metadata": {},
   "outputs": [],
   "source": [
    "NUM_FLOW = 128\n",
    "DATA_NAME = \"single0\"\n",
    "TOPO_NAME = \"0\"\n",
    "task = pd.read_csv(\"../../dac_data/%s.csv\"%DATA_NAME)[:NUM_FLOW]\n",
    "network = pd.read_csv(\"../../dac_data/%s_topology.csv\"%TOPO_NAME)\n",
    "macrotick = 100\n",
    "sync_error = 0\n",
    "time_out = 4 * 60 * 60\n",
    "\n",
    "for col in ['size','period','deadline','jitter']:\n",
    "    task[col] = np.ceil(task[col] / macrotick).astype(int)\n",
    "for col in ['t_proc','t_prop']:\n",
    "    network[col] = np.ceil(network[col] / macrotick).astype(int)\n",
    "\n"
   ]
  },
  {
   "cell_type": "markdown",
   "id": "908dcbdb",
   "metadata": {},
   "source": [
    "## 1. Model"
   ]
  },
  {
   "cell_type": "code",
   "execution_count": 5,
   "id": "b812052a",
   "metadata": {},
   "outputs": [],
   "source": [
    "NUM_SW = 8\n",
    "NUM_ES = 8\n",
    "NUM_NODE = NUM_ES + NUM_SW\n",
    "NETWORK_ERROR = 0\n",
    "NUM_WINDOW = 20\n",
    "\n",
    "LCM = int(np.lcm.reduce(task['period']))\n",
    "net = np.zeros(shape = (NUM_NODE, NUM_NODE))"
   ]
  },
  {
   "cell_type": "code",
   "execution_count": 6,
   "id": "f3cda72f-3b5d-415e-8dca-0075f62a74b3",
   "metadata": {},
   "outputs": [],
   "source": [
    "NG = 10"
   ]
  },
  {
   "cell_type": "markdown",
   "id": "3f28aa31",
   "metadata": {},
   "source": [
    "Schedule table"
   ]
  },
  {
   "cell_type": "code",
   "execution_count": 7,
   "id": "60548a6c-cca5-40b8-a36a-c18a5366096a",
   "metadata": {},
   "outputs": [],
   "source": [
    "net_var = {}\n",
    "\n",
    "for _, row in network.iterrows():\n",
    "    net_var.setdefault(row['link'], {})\n",
    "    net_var[row['link']]['N'] = row['q_num']\n",
    "    net_var[row['link']]['s'] = row['rate']\n",
    "    net_var[row['link']]['tproc'] = row['t_proc']\n",
    "    net_var[row['link']]['t'] = z3.IntVector('t_%s'%row['link'], NUM_WINDOW)\n",
    "    net_var[row['link']]['v'] = z3.IntVector('v_%s'%row['link'], NUM_WINDOW)\n",
    "    net_var[row['link']]['c'] = z3.IntVector('c_%s'%row['link'], NUM_WINDOW)\n",
    "    net[eval(row['link'])[0], eval(row['link'])[1]] = 1"
   ]
  },
  {
   "cell_type": "markdown",
   "id": "0a5aeb9c",
   "metadata": {},
   "source": [
    "Task model"
   ]
  },
  {
   "cell_type": "code",
   "execution_count": 8,
   "id": "1e70b4f8",
   "metadata": {},
   "outputs": [],
   "source": [
    "task_var = {}\n",
    "task_attr = {}\n",
    "packet_weight = {}"
   ]
  },
  {
   "cell_type": "code",
   "execution_count": 9,
   "id": "3379a2f2",
   "metadata": {},
   "outputs": [],
   "source": [
    "## Shortest path\n",
    "def bfs_paths(graph, start, goal):\n",
    "    queue = [(start, [start])]\n",
    "    while queue:\n",
    "        (vertex, path) = queue.pop(0)\n",
    "        for _next in set(np.reshape(np.argwhere(graph[vertex] > 0),  -1)) - set(path):\n",
    "            if _next == goal:\n",
    "                yield path + [_next]\n",
    "            else:\n",
    "                queue.append((_next, path + [_next]))"
   ]
  },
  {
   "cell_type": "code",
   "execution_count": 10,
   "id": "17981c37",
   "metadata": {},
   "outputs": [],
   "source": [
    "for i, row in task.iterrows():\n",
    "    task.loc[i,'route'] = str(next(bfs_paths(net, int(row['src']), int(eval(row['dst'])[0]))))\n",
    "    task_var.setdefault(i, {})\n",
    "    task_attr.setdefault(i, {})\n",
    "    route = eval(task.loc[i, 'route'])\n",
    "    \n",
    "    task_attr[i]['C'] = int(row['size'])\n",
    "    task_attr[i]['T'] = int(row['period']) \n",
    "    task_attr[i]['L'] = int(row['deadline'])\n",
    "    task_attr[i]['rho'] = (int(task_attr[i]['C'] * 8) + sync_error) * (len(route) - 1) / task_attr[i]['L']\n",
    "#     task_attr[i]['J'] = 1000000000 \n",
    "    task_attr[i]['d'] = []\n",
    "    for j in range(int(LCM / task_attr[i]['T'])):\n",
    "        packet_weight[(i,j)] = task_attr[i]['L'] + j * task_attr[i]['T']\n",
    "    for _i, a in enumerate(route[:-1]):\n",
    "        link = str((a, route[_i + 1]))\n",
    "        task_var[i].setdefault(link, {})\n",
    "        task_var[i][link] = {}\n",
    "        task_var[i][link]['alpha'] = []\n",
    "        task_var[i][link]['w'] = []\n",
    "        task_var[i][link]['group'] = []\n",
    "        for j in range(int(LCM / task_attr[i]['T'])):\n",
    "            task_var[i][link]['alpha'].append(z3.Int('alpha' +  str(i) + '_' + str(link) + '_' + str(j)))\n",
    "            task_var[i][link]['w'].append(z3.Int('w' +  str(i) + '_' + str(link) + '_' + str(j)))\n",
    "            task_var[i][link]['group'].append(None)\n",
    "        task_attr[i].setdefault(link, {})\n",
    "        task_attr[i][link]['l'] = int(task_attr[i]['C']) * 8 \n",
    "        \n",
    "        \n",
    "#         task_var[i][link]['phi'] = []\n",
    "#         task_var[i][link]['p'] =  z3.Int('p_' +  str(i) + '_' + str(link))\n",
    "#         task_var[i][link]['T'] = np.ceil(row['period'] / net_var[str(link)]['mt'])\n",
    "#         task_var[i][link]['L'] = np.ceil((row['size'] * 8 / net_var[str(link)]['s']) / net_var[str(link)]['mt'])\n",
    "#         for j in range(0, int(LCM / row['period'])):\n",
    "#              task_var[i][link]['phi'].append(z3.Int('phi_' +  str(i) + '_' + str(link) + '_' + str(j)))"
   ]
  },
  {
   "cell_type": "markdown",
   "id": "e9692640",
   "metadata": {},
   "source": [
    "## 2. Queue assignment"
   ]
  },
  {
   "cell_type": "code",
   "execution_count": 11,
   "id": "24516aac",
   "metadata": {},
   "outputs": [],
   "source": [
    "phat = {}\n",
    "for link in net_var:\n",
    "    phat.setdefault(link, [0] * 8)\n",
    "\n",
    "for f, attr in sorted(task_attr.items(), key = lambda x:x[1]['rho'], reverse=True):\n",
    "    min_h = -1\n",
    "    min_value = np.inf\n",
    "    for g in range(8):\n",
    "        result = max([phat[link][g] for link in list(task_var[f].keys())])\n",
    "        if result < min_value:\n",
    "            min_h = g\n",
    "            min_value = result\n",
    "    \n",
    "    for link in list(task_var[f].keys()):\n",
    "        phat[link][min_h] += task_attr[f]['rho']\n",
    "        task_attr[f][link]['q'] = min_h"
   ]
  },
  {
   "cell_type": "markdown",
   "id": "1db72893",
   "metadata": {},
   "source": [
    "## 3. Taskset decomposition"
   ]
  },
  {
   "cell_type": "code",
   "execution_count": 12,
   "id": "bec57b10-9893-406d-bb44-ceffe72812cf",
   "metadata": {},
   "outputs": [],
   "source": [
    "packet_group = {}"
   ]
  },
  {
   "cell_type": "code",
   "execution_count": 13,
   "id": "a349a1ea-29ae-45ba-89db-459ffa35e5cf",
   "metadata": {},
   "outputs": [],
   "source": [
    "packet_weight = [x[0] for x in sorted(packet_weight.items(), key = lambda x:x[1])]"
   ]
  },
  {
   "cell_type": "code",
   "execution_count": 14,
   "id": "48a5025b-7c5c-4ced-9112-7360d7e347c9",
   "metadata": {},
   "outputs": [],
   "source": [
    "group_size = int(np.ceil(len(packet_weight) / NG))"
   ]
  },
  {
   "cell_type": "code",
   "execution_count": 15,
   "id": "b8d07cee-7c91-4d20-a251-bd3aae4f7483",
   "metadata": {},
   "outputs": [],
   "source": [
    "packet_group = [packet_weight[i * group_size: (i + 1) * group_size] for i in range((len(packet_weight) + group_size - 1) // group_size )]"
   ]
  },
  {
   "cell_type": "code",
   "execution_count": 16,
   "id": "36673027-3603-4fd8-8e8a-23235d95adf8",
   "metadata": {},
   "outputs": [],
   "source": [
    "for inte, group in enumerate(packet_group):\n",
    "    for i, ins in group:\n",
    "        for link in task_var[i]:\n",
    "            task_var[i][link]['group'][ins] = inte"
   ]
  },
  {
   "cell_type": "markdown",
   "id": "50cc5351",
   "metadata": {},
   "source": [
    "## 4. SMT model"
   ]
  },
  {
   "cell_type": "markdown",
   "id": "c87a7689-7818-4634-b4ed-1f3807caa358",
   "metadata": {},
   "source": [
    "Range constraints"
   ]
  },
  {
   "cell_type": "markdown",
   "id": "32970f51-6639-4133-a6c3-4ad8daed4491",
   "metadata": {},
   "source": [
    "\\begin{aligned}\n",
    "&\\forall n_i \\in W, \\quad \\forall y \\in[2, T], t_{i, 1}=0 \\\\\n",
    "&\\quad\\left(\\left(t_{i, y}=0\\right) \\wedge \\bigwedge_{\\forall z \\in[y+1, T]}\\left(t_{i, z}=0\\right)\\right) \\\\\n",
    "&\\quad \\vee\\left(\\left(t_{i, y}>0\\right) \\wedge\\left(1 \\leq t_{i, y-1}<t_{i, y} \\leq H\\right)\\right) \\\\\n",
    "&\\forall n_i \\in W, \\quad \\forall y \\in[1, T], \\quad \\forall r \\in[1, Q], c_{i, y, r} \\in\\{0, r\\} \\\\\n",
    "&\\forall n_i \\in W, \\quad \\forall y \\in[1, T], \\quad \\forall j \\in[1, V], v_{i, y, j} \\in\\{0,1\\} . \\\\\n",
    "&\\forall f_a \\in F, \\quad 1 \\leq q_a \\leq Q . \\\\\n",
    "&\\forall f_a \\in F, \\quad \\forall b \\in\\left[1,\\left|\\Pi_a\\right|\\right), \\forall k \\in\\left[0, \\frac{H}{p_a}\\right) \\\\\n",
    "&k \\times p_a+1 \\leq \\alpha_{a, b}^k<\\beta_{a, b}^k \\leq d_a+k \\times p_a \\\\\n",
    "&\\beta_{a, b}^k-\\alpha_{a, b}^k=\\gamma_a^{+} .\n",
    "\\end{aligned}"
   ]
  },
  {
   "cell_type": "code",
   "execution_count": null,
   "id": "94f7ba49-57ab-43f5-8ef3-68685c361e88",
   "metadata": {
    "tags": []
   },
   "outputs": [],
   "source": [
    "interation = 0\n",
    "s = z3.Optimize()\n",
    "s.set(\"timeout\", time_out * 1000)\n",
    "# s.set(\"timeout\", 4 * 1000) # 4s"
   ]
  },
  {
   "cell_type": "code",
   "execution_count": null,
   "id": "d94cab7e-7da9-4fcd-9d52-b7054a769009",
   "metadata": {},
   "outputs": [],
   "source": [
    "for link in net_var:\n",
    "    s.add(\n",
    "        net_var[link]['t'][0] < LCM,\n",
    "        net_var[link]['t'][0] >= 0,\n",
    "        # z3.If(\n",
    "        #         net_var[link]['t'][0] == 0,\n",
    "        #         z3.Sum([net_var[link]['t'][i] for i in range(NUM_WINDOW)]) == 0,\n",
    "        #         True\n",
    "        #     )\n",
    "    )\n",
    "    for y in range(1, NUM_WINDOW):\n",
    "        s.add(\n",
    "            net_var[link]['t'][y] < LCM,\n",
    "            net_var[link]['t'][y] >= 0,\n",
    "            net_var[link]['t'][y] >= net_var[link]['t'][y - 1]\n",
    "            # z3.Or(\n",
    "            #     z3.Sum([net_var[link]['t'][i] for i in range(y, NUM_WINDOW)]) == 0,\n",
    "            #     z3.And(\n",
    "            #         net_var[link]['t'][y] > 0,\n",
    "            #         net_var[link]['t'][y] > net_var[link]['t'][y - 1]\n",
    "            #     )\n",
    "            # )\n",
    "        )\n",
    "    for y in range(NUM_WINDOW):\n",
    "        s.add(\n",
    "            net_var[link]['c'][y] >= 0,\n",
    "            net_var[link]['c'][y] < net_var[link]['N']\n",
    "        )\n",
    "        # s.add(\n",
    "        #     net_var[link]['v'][y] >= 0,\n",
    "        #     net_var[link]['v'][y] <= 1\n",
    "        # )\n",
    "    for y in range(NUM_WINDOW):\n",
    "        s.add(\n",
    "            net_var[link]['v'][y] >= 0,\n",
    "            net_var[link]['v'][y] <= 1\n",
    "        )\n",
    "        "
   ]
  },
  {
   "cell_type": "code",
   "execution_count": null,
   "id": "a3e906ad-f222-46a0-8f29-4abede11586f",
   "metadata": {},
   "outputs": [],
   "source": [
    "for i in task_var:\n",
    "    for link in task_var[i]:\n",
    "        for k, ins in enumerate(task_var[i][link]['alpha']):\n",
    "            if task_var[i][link]['group'][k] == interation:\n",
    "                s.add(\n",
    "                   k * (task_attr[i]['T']) <= ins,\n",
    "                   ins <= (k + 1) * (task_attr[i]['T'])\n",
    "                )\n",
    "        for k, ins in enumerate(task_var[i][link]['w']):\n",
    "            if task_var[i][link]['group'][k] == interation:\n",
    "                s.add(\n",
    "                   0 <= ins,\n",
    "                   ins < NUM_WINDOW\n",
    "                )"
   ]
  },
  {
   "cell_type": "markdown",
   "id": "7474f676-d9da-4978-b40e-60ebde503b70",
   "metadata": {},
   "source": [
    "Path sequence constraint"
   ]
  },
  {
   "cell_type": "markdown",
   "id": "29f7e546-80fa-4116-a7b7-d1015ebf5377",
   "metadata": {},
   "source": [
    "\\begin{equation}\n",
    "\\forall f_a \\in F, \\quad \\forall b \\in\\left[1,\\left|\\Pi_a\\right|-1\\right), \\quad \\forall k \\in\\left[0, \\frac{H}{p_a}\\right), \\alpha_{a, b+1}^k>\\beta_{a, b}^k\n",
    "\\end{equation}"
   ]
  },
  {
   "cell_type": "code",
   "execution_count": null,
   "id": "5ab01274-678f-4e24-a128-ec502d36b233",
   "metadata": {},
   "outputs": [],
   "source": [
    "for i in task_var:\n",
    "    links = list(task_var[i].keys())\n",
    "    for hop, link in enumerate(links[:-1]):\n",
    "        for k, ins in enumerate(task_var[i][link]['alpha']):\n",
    "            if task_var[i][link]['group'][k] == interation:\n",
    "                s.add(\n",
    "                    ins + task_attr[i][link]['l'] + net_var[link]['tproc'] <= task_var[i][links[hop + 1]]['alpha'][k]\n",
    "                )"
   ]
  },
  {
   "cell_type": "markdown",
   "id": "9d43ac36-8a55-4f9e-b76e-446412116a1e",
   "metadata": {},
   "source": [
    "Real-time constraint"
   ]
  },
  {
   "cell_type": "markdown",
   "id": "335f7802-b296-465c-a697-994546569376",
   "metadata": {},
   "source": [
    "\\begin{equation}\n",
    "\\forall f_a \\in F, \\quad \\forall k \\in\\left[0, \\frac{H}{p_a}\\right), \\beta_{a,\\left|\\Pi_a\\right|-1}^k \\leq d_a+k \\times p_a .\n",
    "\\end{equation}"
   ]
  },
  {
   "cell_type": "code",
   "execution_count": null,
   "id": "9eba6936-ec40-4b43-b31a-7e4d128fd89f",
   "metadata": {},
   "outputs": [],
   "source": [
    "for i in task_var:\n",
    "    s_hop = list(task_var[i].keys())[0]\n",
    "    e_hop = list(task_var[i].keys())[-1]\n",
    "    for k, ins in enumerate(task_var[i][e_hop]['alpha']):\n",
    "        if task_var[i][s_hop]['group'][k] == interation:\n",
    "            s.add(\n",
    "                ins + task_attr[i][e_hop]['l'] + net_var[e_hop]['tproc'] <= task_var[i][s_hop]['alpha'][k] + task_attr[i]['L']\n",
    "            )"
   ]
  },
  {
   "cell_type": "markdown",
   "id": "7bf291fb-15aa-4a47-8296-aad7d152f19b",
   "metadata": {},
   "source": [
    "Link conﬂict constraint"
   ]
  },
  {
   "cell_type": "markdown",
   "id": "a455bbf2-431f-4552-abf5-08f79d51a287",
   "metadata": {},
   "source": [
    "\\begin{equation}\n",
    "\\begin{aligned}\n",
    "\\forall f_a, f_g \\in F, a \\neq g, \\quad \\forall b \\in\\left[1,\\left|\\Pi_a\\right|\\right), \\quad \\forall h \\in\\left[1,\\left|\\Pi_g\\right|\\right), \\\\\n",
    "& \\forall k \\in\\left[0, \\frac{H}{p_a}\\right), \\forall m \\in\\left[0, \\frac{H}{p_g}\\right), \\\\\n",
    "& \\neg\\left(\\pi_{a, b}=\\pi_{g, h}\\right) \\vee \\neg\\left(\\pi_{a, b+1}=\\pi_{g, h+1}\\right) \\\\\n",
    "& \\vee\\left(\\alpha_{a, b}^k>\\beta_{g, h}^m\\right) \\vee\\left(\\alpha_{g, h}^m>\\beta_{a, b}^k\\right) .\n",
    "\\end{aligned}\n",
    "\\end{equation}"
   ]
  },
  {
   "cell_type": "code",
   "execution_count": null,
   "id": "4cf549c8-4b22-4aaa-a62c-749cfc847763",
   "metadata": {},
   "outputs": [],
   "source": [
    "for link in net_var:\n",
    "    for fa, fg in [(fa, fg) for fa in task_attr for fg in task_attr if fg > fa and link in task_var[fa] and link in task_var[fg]]:\n",
    "        for k, m in [(k, m) for k in range(len(task_var[fa][link]['alpha'])) for m in range(len(task_var[fg][link]['alpha']))]:\n",
    "            if task_var[fa][link]['group'][k] == interation and task_var[fg][link]['group'][m] == interation:\n",
    "                ins_k = task_var[fa][link]['alpha'][k]\n",
    "                ins_m = task_var[fg][link]['alpha'][m]\n",
    "                s.add(\n",
    "                    z3.Or(\n",
    "                        ins_k >= ins_m + task_attr[fa][link]['l'],\n",
    "                        ins_m >= ins_k + task_attr[fg][link]['l']\n",
    "                    )\n",
    "                )\n",
    "print(s.check())"
   ]
  },
  {
   "cell_type": "markdown",
   "id": "52ee1f43-5fee-4703-946e-2ee86fcf124d",
   "metadata": {},
   "source": [
    "Queue conﬂict constraint"
   ]
  },
  {
   "cell_type": "markdown",
   "id": "27279afe-dae9-4810-818c-55bc339fef5e",
   "metadata": {},
   "source": [
    "$\\forall f_a, f_g \\in F, a \\neq g, \\quad \\forall b \\in\\left[2,\\left|\\Pi_a\\right|\\right), \\quad \\forall h \\in\\left[2,\\left|\\Pi_g\\right|\\right)$\n",
    "$$\n",
    "\\begin{array}{l}\n",
    "\\forall k \\in\\left[0, \\frac{H}{p_a}\\right), \\quad \\forall m \\in\\left[0, \\frac{H}{p_g}\\right), \\\\\n",
    "\\neg\\left(\\pi_{a, b}=\\pi_{g, h}\\right) \\vee \\neg\\left(\\pi_{a, b+1}=\\pi_{g, h+1}\\right) \\vee \\neg\\left(q_a=q_g\\right) \\\\\n",
    "\\vee\\left(\\beta_{a, b}^k<\\alpha_{g, h-1}^m\\right) \\vee\\left(\\beta_{g, h}^m<\\alpha_{a, b-1}^k\\right) .\n",
    "\\end{array}\n",
    "$$"
   ]
  },
  {
   "cell_type": "code",
   "execution_count": null,
   "id": "85f55d6f-e9dd-45fc-bb8f-a4aa99409540",
   "metadata": {},
   "outputs": [],
   "source": [
    "for fa, fg in [(fa, fg) for fa in task_attr for fg in task_attr if fg > fa]:\n",
    "    path_i = list(task_var[fa].keys())\n",
    "    path_j = list(task_var[fg].keys())\n",
    "    for x_a, y_a, a_b in [(path_i[_x - 1], path_j[_y - 1], i_a_b)\n",
    "                    for _x, i_a_b in enumerate(path_i) \n",
    "                    for _y, j_a_b in enumerate(path_j) \n",
    "                    if i_a_b == j_a_b and task_attr[fa][i_a_b]['q'] == task_attr[fa][j_a_b]['q']]:\n",
    "        for k, m in [(k, m) for k in range(len(task_var[fa][x_a]['alpha'])) for m in range(len(task_var[fg][y_a]['alpha']))]:\n",
    "            if task_var[fa][x_a]['group'][k] == interation and task_var[fg][y_a]['group'][m] == interation:\n",
    "                s.add(\n",
    "                    z3.Or(\n",
    "                        task_var[fa][x_a]['alpha'][k] + task_attr[fa][x_a]['l'] + net_var[x_a]['tproc'] >= task_var[fg][a_b]['alpha'][m],\n",
    "                        task_var[fg][y_a]['alpha'][m] + task_attr[fg][y_a]['l'] + net_var[y_a]['tproc'] >= task_var[fa][a_b]['alpha'][k]\n",
    "                    )\n",
    "\n",
    "                )"
   ]
  },
  {
   "cell_type": "markdown",
   "id": "df7b188a-c415-4b8a-81a7-9ab796401e14",
   "metadata": {},
   "source": [
    "Time validity constraint"
   ]
  },
  {
   "cell_type": "markdown",
   "id": "53edcc69-cd23-438c-93a4-c85e0db86359",
   "metadata": {},
   "source": [
    "\\begin{equation}\n",
    "\\begin{array}{l}\n",
    "\\forall f_a \\in F, \\quad \\forall b \\in\\left[2,\\left|\\Pi_a\\right|\\right), \\operatorname{port}\\left(f_a, \\pi_{a, b}\\right)=n_{i, j}\\\\\n",
    "\\forall k \\in\\left[0, \\frac{H}{p_a}\\right), \\quad \\bigvee_{\\forall g \\in\\left[k \\times p_a+1, k \\times p_a+d_a\\right]}\\left(\\left(\\alpha_{a, b}^k=g\\right) \\wedge A(g)\\right),\n",
    "\\end{array}\n",
    "\\end{equation}\n",
    "\n",
    "\\begin{equation}\n",
    "\\begin{aligned}\n",
    "A(x)=((x>&\\left.\\left.\\beta_{a, b-1}^k\\right) \\wedge B(x)\\right) \\\\\n",
    "& \\wedge \\bigwedge_{\\forall h \\in\\left[k \\times p_a+1, x\\right)}\\left(\\left(h \\leq \\beta_{a, b-1}^k\\right) \\vee \\neg B(h)\\right)\n",
    "\\end{aligned}\n",
    "\\end{equation}\n",
    "\n",
    "\\begin{equation}\n",
    "\\begin{aligned}\n",
    "B(x)=& \\bigvee_{\\forall e_{i, y} \\in E_i}\\left(( t _ { i , y } = 0 ) \\vee \\left(v_{i, y, j} \\wedge \\bigvee_{\\forall r \\in[1, Q]}\\left(c_{i, y, r}=q_a\\right)\\right.\\right.\\\\\n",
    "& \\wedge \\bigwedge_{\\forall e_{i, z} \\in E_i, z \\neq y}\\left(\\left(t_{i, z}=0\\right) \\vee \\neg v_{i, z, j} \\vee\\left(t_{i, z}<t_{i, y} \\leq x\\right)\\right.\\\\\n",
    "&\\left.\\left.\\left.\\vee\\left(t_{i, z}>x\\right)\\right)\\right)\\right)\n",
    "\\end{aligned}\n",
    "\\end{equation}"
   ]
  },
  {
   "cell_type": "code",
   "execution_count": null,
   "id": "89bc71f0-b0fd-458e-a21c-c690778bf73c",
   "metadata": {},
   "outputs": [],
   "source": [
    "for i in task_var:\n",
    "    links = list(task_var[i].keys())\n",
    "    for hop, link in enumerate(links):\n",
    "        last_link = links[hop - 1]\n",
    "        for ins in range(len(task_var[i][link]['alpha'])):\n",
    "            if task_var[i][link]['group'][ins] == interation:\n",
    "                s.add(\n",
    "                    z3.Or([\n",
    "                        ## One widnow is opened for the task\n",
    "                        z3.And(\n",
    "                        net_var[link]['t'][x] <= task_var[i][link]['alpha'][ins],\n",
    "                        net_var[link]['t'][x + 1] >= task_var[i][link]['alpha'][ins] + task_attr[i][link]['l'],\n",
    "                        net_var[link]['c'][x] == task_attr[i][link]['q'],\n",
    "                        net_var[link]['c'][x + 1] != net_var[link]['c'][x],\n",
    "                        net_var[link]['v'][x] == 1,\n",
    "                        task_var[i][link]['w'][ins] == x, ## Make sure it can only from this window\n",
    "                        ## At least meet one of the following conditions:\n",
    "                        ## (1) alpha = t: start from the beginning of the window\n",
    "                        ## (2) or alpha = beta_{-1}: just arrive from last hop\n",
    "                        ## (3) or alpha = other beta: start hehind other traffics ->\n",
    "                        ## We can get benefits from only searching the frames with same queue and same link to speed up (3)\n",
    "                        z3.Or(\n",
    "                            net_var[link]['t'][x] == task_var[i][link]['alpha'][ins],\n",
    "                            task_var[i][last_link]['alpha'][ins] + task_attr[i][last_link]['l'] + net_var[link]['tproc']\n",
    "                            == task_var[i][link]['alpha'][ins],\n",
    "                            z3.Or(\n",
    "                                [task_var[j][link]['alpha'][l] + task_attr[j][link]['l'] == task_var[i][link]['alpha'][ins]\n",
    "                                for j in task_var if link in task_var[j] and task_attr[j][link]['q'] == task_attr[i][link]['q']\n",
    "                                for l in range(int(LCM / task_attr[j]['T'])) ]\n",
    "                            )\n",
    "                        ) if hop != 0 else True\n",
    "                    )\n",
    "                    for x in range(NUM_WINDOW - 1)])\n",
    "                )\n",
    "                "
   ]
  },
  {
   "cell_type": "code",
   "execution_count": null,
   "id": "3b6eb20a-3912-444c-8d2a-839019c33d15",
   "metadata": {},
   "outputs": [],
   "source": [
    "# upper_bound = z3.Int('UP')\n",
    "# for link in net_var:\n",
    "#     s.add(\n",
    "#         upper_bound >= net_var[link]['t'][-1]\n",
    "#     )\n",
    "\n",
    "# s.minimize(\n",
    "#     upper_bound\n",
    "# )\n",
    "\n",
    "# upper_bound = z3.Int('UP')\n",
    "# for link in net_var:\n",
    "#     s.add(\n",
    "#         upper_bound >= net_var[link]['t'][-1]\n",
    "#     )\n",
    "\n",
    "# s.minimize(\n",
    "#     z3.Sum(\n",
    "#         [z3.Sum(net_var[link]['v']) for link in net_var]\n",
    "#     )\n",
    "# )\n",
    "\n",
    "s.minimize(\n",
    "    z3.Sum(\n",
    "        [net_var[link]['t'][-1] for link in net_var]\n",
    "    )\n",
    ")"
   ]
  },
  {
   "cell_type": "code",
   "execution_count": null,
   "id": "af47d18c-e741-4a4d-96b2-945a4c150f6c",
   "metadata": {},
   "outputs": [],
   "source": [
    "print(s.check())\n",
    "result = s.model()"
   ]
  },
  {
   "cell_type": "markdown",
   "id": "16c2b549-9dfc-4624-a1d1-17265464e627",
   "metadata": {},
   "source": [
    "## Output Schedule"
   ]
  },
  {
   "cell_type": "code",
   "execution_count": null,
   "id": "7752a9b1",
   "metadata": {},
   "outputs": [],
   "source": [
    "GCL = []\n",
    "\n",
    "for link in net_var:\n",
    "    for t in range(NUM_WINDOW):\n",
    "        if \n",
    "    result[net_var[link]['t'][t]].as_long(), result[net_var[link]['c'][t]].as_long()) for t in range(NUM_WINDOW)])"
   ]
  },
  {
   "cell_type": "code",
   "execution_count": null,
   "id": "c7460fdc",
   "metadata": {},
   "outputs": [],
   "source": [
    "for i in task_attr:\n",
    "    for link in task_var[i]:\n",
    "        if task_var[i][link]['group'][0] == 0:\n",
    "            print(i, link, task_attr[i][link]['l'], task_attr[i]['T'], task_attr[i][link]['q'])"
   ]
  },
  {
   "cell_type": "code",
   "execution_count": null,
   "id": "48a00273",
   "metadata": {},
   "outputs": [],
   "source": [
    "for iteration, result in enumerate(group_result):\n",
    "    for i in task_var:\n",
    "        for link in task_var[i]:\n",
    "            for k in range(len(task_var[i][link]['alpha'])):\n",
    "                if task_var[i][link]['group'][k] == iteration:\n",
    "                    print(i, link, result[task_var[i][link]['alpha'][k]] * macrotick, result[task_var[i][link]['w'][k]])"
   ]
  },
  {
   "cell_type": "code",
   "execution_count": null,
   "id": "f102fded",
   "metadata": {},
   "outputs": [],
   "source": [
    "# for i in task_var:\n",
    "#     for link in task_var[i]:\n",
    "#         if task_var[i][link]['group'][0] == 0:\n",
    "#             print(i, link, result[task_var[i][link]['alpha'][0]])\n",
    "#         break"
   ]
  },
  {
   "cell_type": "code",
   "execution_count": null,
   "id": "23318e88-057d-4c13-a592-63fbbef33448",
   "metadata": {},
   "outputs": [],
   "source": [
    "for link in net_var:\n",
    "    print(link, [(result[net_var[link]['t'][t]].as_long(), result[net_var[link]['c'][t]].as_long()) for t in range(NUM_WINDOW)])"
   ]
  },
  {
   "cell_type": "code",
   "execution_count": 17,
   "id": "fbf97197-e26d-41cc-becb-11702f30c81a",
   "metadata": {},
   "outputs": [
    {
     "name": "stdout",
     "output_type": "stream",
     "text": [
      "0 sat\n",
      "1 sat\n",
      "2 sat\n",
      "3 sat\n",
      "4 sat\n",
      "5 sat\n",
      "6 sat\n",
      "7 sat\n",
      "8 sat\n",
      "9 sat\n"
     ]
    }
   ],
   "source": [
    "group_result = []\n",
    "\n",
    "for interation in range(NG):\n",
    "    ## Reset the net_var\n",
    "    \n",
    "    for _, row in network.iterrows():\n",
    "        net_var.setdefault(row['link'], {})\n",
    "        net_var[row['link']]['N'] = row['q_num']\n",
    "        net_var[row['link']]['s'] = row['rate']\n",
    "        net_var[row['link']]['tproc'] = row['t_proc']\n",
    "        net_var[row['link']]['t'] = z3.IntVector('t_%s'%row['link'], NUM_WINDOW)\n",
    "        net_var[row['link']]['v'] = z3.IntVector('v_%s'%row['link'], NUM_WINDOW)\n",
    "        net_var[row['link']]['c'] = z3.IntVector('c_%s'%row['link'], NUM_WINDOW)\n",
    "        if interation == 0:\n",
    "            net_var[row['link']]['max_c'] = 0\n",
    "            net_var[row['link']]['max_q'] = 0\n",
    "    \n",
    "    s = z3.Optimize()\n",
    "    s.set(\"timeout\", time_out * 1000)\n",
    "    for link in net_var:\n",
    "\n",
    "        for y in range(NUM_WINDOW):\n",
    "            s.add(\n",
    "                net_var[link]['t'][y] < LCM,\n",
    "                net_var[link]['t'][y] >= net_var[link]['max_c'],\n",
    "                net_var[link]['t'][y] >= net_var[link]['t'][y - 1] if y > 0 else True\n",
    "            )\n",
    "        for y in range(NUM_WINDOW):\n",
    "            s.add(\n",
    "                net_var[link]['c'][y] >= 0,\n",
    "                net_var[link]['c'][y] < net_var[link]['N']\n",
    "            )\n",
    "        for y in range(NUM_WINDOW):\n",
    "            s.add(\n",
    "            net_var[link]['v'][y] >= 0,\n",
    "            net_var[link]['v'][y] <= 1,\n",
    "            # net_var[link]['v'][y] <= net_var[link]['v'][y - 1] if y != 0 else True,\n",
    "            # z3.Or(\n",
    "            #     net_var[link]['v'][y] == 0,\n",
    "            #     net_var[link]['t'][y + 1] - net_var[link]['t'][y] > 0\n",
    "            # ) if y != NUM_WINDOW - 1 else True\n",
    "            )\n",
    "        \n",
    "\n",
    "\n",
    "    for i in task_var:\n",
    "        for link in task_var[i]:\n",
    "            for k, ins in enumerate(task_var[i][link]['alpha']):\n",
    "                if task_var[i][link]['group'][k] == interation:\n",
    "                    s.add(\n",
    "                       k * (task_attr[i]['T']) <= ins,\n",
    "                       ins <= (k + 1) * (task_attr[i]['T'])\n",
    "                    )\n",
    "            for k, ins in enumerate(task_var[i][link]['w']):\n",
    "                if task_var[i][link]['group'][k] == interation:\n",
    "                    s.add(\n",
    "                       0 <= ins,\n",
    "                       ins < NUM_WINDOW\n",
    "                    )\n",
    "\n",
    "    for i in task_var:\n",
    "        links = list(task_var[i].keys())\n",
    "        for hop, link in enumerate(links[:-1]):\n",
    "            for k, ins in enumerate(task_var[i][link]['alpha']):\n",
    "                if task_var[i][link]['group'][k] == interation:\n",
    "                    s.add(\n",
    "                        ins + task_attr[i][link]['l'] + net_var[link]['tproc'] <= task_var[i][links[hop + 1]]['alpha'][k]\n",
    "                    )\n",
    "\n",
    "    for i in task_var:\n",
    "        s_hop = list(task_var[i].keys())[0]\n",
    "        e_hop = list(task_var[i].keys())[-1]\n",
    "        for k, ins in enumerate(task_var[i][e_hop]['alpha']):\n",
    "            if task_var[i][s_hop]['group'][k] == interation:\n",
    "                s.add(\n",
    "                    ins + task_attr[i][e_hop]['l'] + net_var[e_hop]['tproc'] <= task_var[i][s_hop]['alpha'][k] + task_attr[i]['L']\n",
    "                )\n",
    "\n",
    "\n",
    "    for link in net_var:\n",
    "        for fa, fg in [(fa, fg) for fa in task_attr for fg in task_attr if fg > fa and link in task_var[fa] and link in task_var[fg]]:\n",
    "            for k, m in [(k, m) for k in range(len(task_var[fa][link]['alpha'])) for m in range(len(task_var[fg][link]['alpha']))]:\n",
    "                if task_var[fa][link]['group'][k] == interation and task_var[fg][link]['group'][m] == interation:\n",
    "                    ins_k = task_var[fa][link]['alpha'][k]\n",
    "                    ins_m = task_var[fg][link]['alpha'][m]\n",
    "                    s.add(\n",
    "                        z3.Or(\n",
    "                            ins_k >= ins_m + task_attr[fa][link]['l'],\n",
    "                            ins_m >= ins_k + task_attr[fg][link]['l']\n",
    "                        )\n",
    "                    )\n",
    "\n",
    "\n",
    "    for fa, fg in [(fa, fg) for fa in task_attr for fg in task_attr if fg > fa]:\n",
    "        path_i = list(task_var[fa].keys())\n",
    "        path_j = list(task_var[fg].keys())\n",
    "        for x_a, y_a, a_b in [(path_i[_x - 1], path_j[_y - 1], i_a_b)\n",
    "                        for _x, i_a_b in enumerate(path_i) \n",
    "                        for _y, j_a_b in enumerate(path_j) \n",
    "                        if i_a_b == j_a_b and task_attr[fa][i_a_b]['q'] == task_attr[fa][j_a_b]['q']]:\n",
    "            for k, m in [(k, m) for k in range(len(task_var[fa][x_a]['alpha'])) for m in range(len(task_var[fg][y_a]['alpha']))]:\n",
    "                if task_var[fa][x_a]['group'][k] == interation and task_var[fg][y_a]['group'][m] == interation:\n",
    "                    s.add(\n",
    "                        z3.Or(\n",
    "                            task_var[fa][x_a]['alpha'][k] + task_attr[fa][x_a]['l'] + net_var[x_a]['tproc'] >= task_var[fg][a_b]['alpha'][m],\n",
    "                            task_var[fg][y_a]['alpha'][m] + task_attr[fg][y_a]['l'] + net_var[y_a]['tproc'] >= task_var[fa][a_b]['alpha'][k]\n",
    "                        )\n",
    "                    )\n",
    "            \n",
    "\n",
    "    for i in task_var:\n",
    "        links = list(task_var[i].keys())\n",
    "        for hop, link in enumerate(links):\n",
    "            last_link = links[hop - 1] if hop != 0 else None\n",
    "            for ins in range(len(task_var[i][link]['alpha'])):\n",
    "                if task_var[i][link]['group'][ins] == interation:\n",
    "                    s.add(\n",
    "                        z3.Or([\n",
    "                            ## One widnow is opened for the task\n",
    "                            z3.And(\n",
    "                            net_var[link]['t'][x] <= task_var[i][link]['alpha'][ins],\n",
    "                            net_var[link]['t'][x + 1] >= task_var[i][link]['alpha'][ins] + task_attr[i][link]['l'],\n",
    "                            net_var[link]['c'][x] == task_attr[i][link]['q'],\n",
    "                            net_var[link]['c'][x + 1] != net_var[link]['c'][x],\n",
    "                            # net_var[link]['c'][x] != net_var[link]['max_q'] if x == 0 else True,\n",
    "                            net_var[link]['v'][x] == 1,\n",
    "                            task_var[i][link]['w'][ins] == x, ## Make sure one frame can only use one window\n",
    "                            ## At least meet one of the following conditions:\n",
    "                            ## (1) alpha = t: start from the beginning of the window\n",
    "                            ## (2) or alpha = beta_{-1}: just arrive from last hop\n",
    "                            ## (3) or alpha = other beta: start hehind other traffics ->\n",
    "                            ## We can get benefits from only searching the frames with same queue and same link to speed up (3)\n",
    "                            z3.Or(\n",
    "                                net_var[link]['t'][x] == task_var[i][link]['alpha'][ins],\n",
    "                                task_var[i][last_link]['alpha'][ins] + task_attr[i][last_link]['l'] + net_var[link]['tproc']\n",
    "                                == task_var[i][link]['alpha'][ins] if hop != 0 else True,\n",
    "                                z3.Or(\n",
    "                                    [task_var[j][link]['alpha'][l] + task_attr[j][link]['l'] == task_var[i][link]['alpha'][ins]\n",
    "                                    for j in task_var if link in task_var[j] and task_attr[j][link]['q'] == task_attr[i][link]['q']\n",
    "                                    for l in range(int(LCM / task_attr[j]['T'])) ]\n",
    "                                )\n",
    "                            ) \n",
    "                        )\n",
    "                        for x in range(NUM_WINDOW - 1)])\n",
    "                    )\n",
    "                \n",
    "    upper_bound = z3.Int('UP')\n",
    "    for link in net_var:\n",
    "        s.add(\n",
    "            upper_bound >= net_var[link]['t'][-1]\n",
    "        )\n",
    "\n",
    "    s.minimize(\n",
    "        upper_bound\n",
    "    )\n",
    "\n",
    "    print(interation, s.check())\n",
    "    \n",
    "    result = s.model()\n",
    "\n",
    "    for link in net_var:\n",
    "        net_var[link]['max_c'] = result[net_var[link]['t'][-1]].as_long()\n",
    "        # net_var[link]['max_c'] =  max([result[net_var[link]['t'][-1]].as_long() for link in net_var])\n",
    "        for x in range(NUM_WINDOW - 1):\n",
    "            if result[net_var[link]['t'][x + 1]].as_long() - result[net_var[link]['t'][x]].as_long() > 0:\n",
    "                net_var[link]['max_q'] = result[net_var[link]['c'][x]].as_long()\n",
    "\n",
    "    group_result.append(result)"
   ]
  },
  {
   "cell_type": "code",
   "execution_count": 24,
   "id": "2a3ad990",
   "metadata": {},
   "outputs": [],
   "source": [
    "GCL = []\n",
    "for i, result in enumerate(group_result):\n",
    "    for link in net_var:\n",
    "        for t in range(NUM_WINDOW - 1):\n",
    "            if result[net_var[link]['t'][t+1]].as_long() - result[net_var[link]['t'][t]].as_long() > 0:\n",
    "                start = result[net_var[link]['t'][t]].as_long()\n",
    "                end = result[net_var[link]['t'][t + 1]].as_long()\n",
    "                queue = result[net_var[link]['c'][t]].as_long()\n",
    "                GCL.append(\n",
    "                    [eval(link), queue, (start) * macrotick, (end) * macrotick, LCM * macrotick]\n",
    "                )\n",
    "            "
   ]
  },
  {
   "cell_type": "code",
   "execution_count": 19,
   "id": "1dfb4f63",
   "metadata": {},
   "outputs": [],
   "source": [
    "## Offset\n",
    "OFFSET = []\n",
    "for interation, result in enumerate(group_result):\n",
    "    for i in task_var:\n",
    "        link = list(task_var[i].keys())[0]\n",
    "        for ins_id in range(len(task_var[i][link]['alpha'])):\n",
    "            if task_var[i][link]['group'][ins_id] == interation:\n",
    "                offset = result[task_var[i][link]['alpha'][ins_id]].as_long()\n",
    "                OFFSET.append([i, ins_id, (task_attr[i]['T'] - offset) * macrotick])"
   ]
  },
  {
   "cell_type": "code",
   "execution_count": 20,
   "id": "ef0368ea",
   "metadata": {},
   "outputs": [],
   "source": [
    "ROUTE = []\n",
    "for i, row in task.iterrows():\n",
    "    route = list(task_var[i].keys())\n",
    "    for h, v in enumerate(route):\n",
    "        ROUTE.append(\n",
    "            [i, eval(v)]\n",
    "        )"
   ]
  },
  {
   "cell_type": "code",
   "execution_count": 21,
   "id": "65029625",
   "metadata": {},
   "outputs": [],
   "source": [
    "QUEUE = []\n",
    "for i in task_var:\n",
    "    for e in task_var[i]:\n",
    "        for ins_id in range(len(task_var[i][e]['alpha'])):\n",
    "            queue = task_attr[i][e]['q']\n",
    "            QUEUE.append([i, ins_id, eval(e), queue])"
   ]
  },
  {
   "cell_type": "code",
   "execution_count": 22,
   "id": "762fca2c",
   "metadata": {},
   "outputs": [],
   "source": [
    "GCL = pd.DataFrame(GCL)\n",
    "GCL.columns = [\"link\", \"queue\", \"start\", \"end\", \"cycle\"]\n",
    "GCL.to_csv(\"ACCESS2020-%s-%d-%s-GCL.csv\"%(DATA_NAME,NUM_FLOW,TOPO_NAME), index=False)\n",
    "\n",
    "OFFSET = pd.DataFrame(OFFSET)\n",
    "OFFSET.columns = ['id', 'ins_id', 'offset']\n",
    "OFFSET.to_csv(\"ACCESS2020-%s-%d-%s-OFFSET.csv\"%(DATA_NAME,NUM_FLOW,TOPO_NAME), index=False)\n",
    "\n",
    "ROUTE = pd.DataFrame(ROUTE)\n",
    "ROUTE.columns = ['id', 'link']\n",
    "ROUTE.to_csv(\"ACCESS2020-%s-%d-%s-ROUTE.csv\"%(DATA_NAME,NUM_FLOW,TOPO_NAME), index=False)\n",
    "\n",
    "QUEUE = pd.DataFrame(QUEUE)\n",
    "QUEUE.columns = ['id','ins_id','link','queue']\n",
    "QUEUE.to_csv(\"ACCESS2020-%s-%d-%s-QUEUE.csv\"%(DATA_NAME,NUM_FLOW,TOPO_NAME), index=False)"
   ]
  },
  {
   "cell_type": "code",
   "execution_count": null,
   "id": "82bee008",
   "metadata": {},
   "outputs": [],
   "source": []
  }
 ],
 "metadata": {
  "kernelspec": {
   "display_name": "Python 3",
   "language": "python",
   "name": "python3"
  },
  "language_info": {
   "codemirror_mode": {
    "name": "ipython",
    "version": 3
   },
   "file_extension": ".py",
   "mimetype": "text/x-python",
   "name": "python",
   "nbconvert_exporter": "python",
   "pygments_lexer": "ipython3",
   "version": "3.8.10 (default, Nov 14 2022, 12:59:47) \n[GCC 9.4.0]"
  },
  "vscode": {
   "interpreter": {
    "hash": "e7370f93d1d0cde622a1f8e1c04877d8463912d04d973331ad4851f04de6915a"
   }
  }
 },
 "nbformat": 4,
 "nbformat_minor": 5
}

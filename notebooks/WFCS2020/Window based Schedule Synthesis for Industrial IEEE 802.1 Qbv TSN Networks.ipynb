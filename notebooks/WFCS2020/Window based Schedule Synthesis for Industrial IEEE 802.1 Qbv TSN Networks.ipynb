{
 "cells": [
  {
   "cell_type": "code",
   "execution_count": 1,
   "id": "da628189",
   "metadata": {},
   "outputs": [],
   "source": [
    "import pandas as pd\n",
    "import numpy as np\n",
    "from tqdm import tqdm\n",
    "import seaborn as sns"
   ]
  },
  {
   "cell_type": "markdown",
   "id": "16ab372a",
   "metadata": {},
   "source": [
    "## 1. System Model"
   ]
  },
  {
   "cell_type": "code",
   "execution_count": 2,
   "id": "8ca93388",
   "metadata": {},
   "outputs": [],
   "source": [
    "## i -> The i-th window\n",
    "## j -> The relative offset with the j-th window\n",
    "\n",
    "T_GCL = None\n",
    "GRANULARITY = 1_000\n",
    "T_Pm = {}\n",
    "## Number of window cases\n",
    "N_Pm = {}"
   ]
  },
  {
   "cell_type": "code",
   "execution_count": 3,
   "id": "2342abc1",
   "metadata": {},
   "outputs": [],
   "source": [
    "## t_Pm_o_i[Pm][i]\n",
    "t_Pm_o_i = {}\n",
    "t_Pm_c_i = {}"
   ]
  },
  {
   "cell_type": "code",
   "execution_count": 4,
   "id": "620c3061",
   "metadata": {},
   "outputs": [],
   "source": [
    "l_max_Pm = {}\n",
    "l_min_Pm = {}"
   ]
  },
  {
   "cell_type": "code",
   "execution_count": 5,
   "id": "5c611a94",
   "metadata": {},
   "outputs": [],
   "source": [
    "l_tt = {}\n",
    "p_tt = {}"
   ]
  },
  {
   "cell_type": "code",
   "execution_count": 6,
   "id": "46784efd",
   "metadata": {},
   "outputs": [],
   "source": [
    "tt_Pm = {}\n",
    "Pm_tt = {}"
   ]
  },
  {
   "cell_type": "code",
   "execution_count": 7,
   "id": "d80fd636",
   "metadata": {},
   "outputs": [],
   "source": [
    "def h(a, b, Pm):\n",
    "    max_d = -1\n",
    "    for s in range(0, T_GCL, GRANULARITY):\n",
    "        if a(s, Pm) >= b(s, Pm):\n",
    "            for d in range(0, T_GCL - s, GRANULARITY):\n",
    "                if b(s + d, Pm) >= a(s, Pm):\n",
    "                    if d > max_d:\n",
    "                        max_d = d\n",
    "                    break\n",
    "    return max_d"
   ]
  },
  {
   "cell_type": "markdown",
   "id": "432ba35c",
   "metadata": {},
   "source": [
    "## 2. Service curve"
   ]
  },
  {
   "cell_type": "markdown",
   "id": "c05606b9",
   "metadata": {},
   "source": [
    "$$\\beta_{T, L}(t)=C \\cdot \\max \\left(\\left\\lfloor\\frac{t}{T}\\right\\rfloor L, t-\\left\\lceil\\frac{t}{T}\\right\\rceil(T-L)\\right)$$"
   ]
  },
  {
   "cell_type": "code",
   "execution_count": 8,
   "id": "5ef16a3e",
   "metadata": {},
   "outputs": [],
   "source": [
    "## T = Period\n",
    "## L = Window length\n",
    "\n",
    "def TDMA_service(t, T, L):\n",
    "    return max(np.floor(t / T) * L, t - np.ceil(t / T)*(T - L))"
   ]
  },
  {
   "cell_type": "markdown",
   "id": "215662c0",
   "metadata": {},
   "source": [
    "$$\\beta_{P_{m}}^{j, i}(t)=\\beta_{T_{G C L}, \\bar{L}_{P_{m}}^{j}}\\left(t+T_{G C L}-\\bar{L}_{P_{m}}^{j}-S_{P_{m}}^{i}-o_{P_{m}}^{j, i}\\right)$$"
   ]
  },
  {
   "cell_type": "code",
   "execution_count": 9,
   "id": "6aaa7ec4",
   "metadata": {},
   "outputs": [],
   "source": [
    "## P_m: critical traffic priority\n",
    "def beta_i_j_Pm(t, Pm, i, j):\n",
    "    return TDMA_service(t + T_GCL - L_Pm_i(Pm, j) - S_Pm_i(Pm, i) - o_Pm_i_j(Pm, i, j), T_GCL, L_Pm_i(Pm, j))"
   ]
  },
  {
   "cell_type": "markdown",
   "id": "14a370e2",
   "metadata": {},
   "source": [
    "$$\\beta_{P_{m}}^{i}(t)=\\sum_{j=i}^{i+N_{P_{m}}-1} \\beta_{P_{m}}^{j, i}(t)$$"
   ]
  },
  {
   "cell_type": "code",
   "execution_count": 10,
   "id": "36ea6f75",
   "metadata": {},
   "outputs": [],
   "source": [
    "def beta_i_Pm(t, Pm, i):\n",
    "    result = 0\n",
    "    for j in range(i, i + N_Pm[Pm]):\n",
    "        result += beta_i_j_Pm(t, Pm, i, j)\n",
    "    return result"
   ]
  },
  {
   "cell_type": "code",
   "execution_count": 11,
   "id": "7cf71dad",
   "metadata": {},
   "outputs": [],
   "source": [
    "def beta_Pm(t, Pm):\n",
    "    return min([beta_i_Pm(t, Pm, i+1) for i in range(N_Pm[Pm])])"
   ]
  },
  {
   "cell_type": "markdown",
   "id": "909fa21c",
   "metadata": {},
   "source": [
    "## 3. GUARANTEED TIME SLOT\n",
    "\n",
    "Analysis for $L_{Pm}^i$"
   ]
  },
  {
   "cell_type": "code",
   "execution_count": 12,
   "id": "946236e9",
   "metadata": {},
   "outputs": [],
   "source": [
    "def G_PmPos(PmPos, t):\n",
    "    global GCL\n",
    "    for row in [x for x in GCL if x[-1] == PmPos]:\n",
    "        if row[0] < t < row[1]:\n",
    "            return 1\n",
    "    return 0\n",
    "    \n",
    "def G_PmNeg(PmPos, t):\n",
    "    global GCL\n",
    "    for row in [x for x in GCL if x[-1] == PmPos]:\n",
    "        if row[0] < t < row[1]:\n",
    "            return 1\n",
    "    return 0"
   ]
  },
  {
   "cell_type": "markdown",
   "id": "542034b5",
   "metadata": {},
   "source": [
    "### 3.1 Collision from Lower priority"
   ]
  },
  {
   "cell_type": "markdown",
   "id": "d0610ec7",
   "metadata": {},
   "source": [
    "$$t_{P_{m}}^{c, i}=\\inf _{t \\geq t_{P_{m}}^{o, i}}\\left\\{G_{P_{m^{+}}}(t)=0\\right\\}$$"
   ]
  },
  {
   "cell_type": "code",
   "execution_count": 13,
   "id": "09692e10",
   "metadata": {},
   "outputs": [],
   "source": [
    "## input is Pm\n",
    "def t_PmPos_c_i(Pm, PmPos, i):\n",
    "    result = t_Pm_o_i[Pm][i]\n",
    "    while result <= T_GCL:\n",
    "        if G_PmPos(PmPos, result) == 0:\n",
    "            return result\n",
    "        result += GRANULARITY"
   ]
  },
  {
   "cell_type": "markdown",
   "id": "e5d7bbc0",
   "metadata": {},
   "source": [
    "$$d_{P_{m^{+}}}^{n p, i}= \\begin{cases}\\min \\left\\{\\frac{l_{P_{m^{+}}}^{\\max }}{C}, t_{P_{m^{+}}, i}^{c, i}-t_{P_{m}}^{o, i}\\right\\}, & G_{P_{m^{+}}}\\left(t_{P_{m}}^{o, i}\\right)=1 \\\\ 0 & G_{P_{m^{+}}}\\left(t_{P_{m}}^{o, i}\\right)=0,\\end{cases}$$"
   ]
  },
  {
   "cell_type": "code",
   "execution_count": 14,
   "id": "19131027",
   "metadata": {},
   "outputs": [],
   "source": [
    "def d_PmPos_np_i(PmPos, Pm, i):\n",
    "    if G_PmPos(PmPos, t_Pm_o_i[Pm][i]) == 0:\n",
    "        return 0\n",
    "    else:\n",
    "        return min(l_max_Pm[PmPos], t_PmPos_c_i(Pm, PmPos, i) - t_Pm_o_i[Pm][i])"
   ]
  },
  {
   "cell_type": "markdown",
   "id": "9435d61d",
   "metadata": {},
   "source": [
    "$$d_{L}^{n p, i}=\\max _{m+1 \\leq m^{+} \\leq n}\\left\\{d_{P_{m^{+}}^{n p, i}}\\right\\}$$"
   ]
  },
  {
   "cell_type": "code",
   "execution_count": 15,
   "id": "7aceab0d",
   "metadata": {},
   "outputs": [],
   "source": [
    "def d_L_np_i(Pm, i):\n",
    "    return max([d_PmPos_np_i(pmPos, Pm, i) for pmPos in range(Pm+1, 8+1) if pmPos in t_Pm_o_i])"
   ]
  },
  {
   "cell_type": "markdown",
   "id": "2f28b12f",
   "metadata": {},
   "source": [
    "$$t_{L}^{n p, i}=d_{L}^{n p, i}+t_{P_{m}}^{o, i}$$"
   ]
  },
  {
   "cell_type": "code",
   "execution_count": 16,
   "id": "eb7ede34",
   "metadata": {},
   "outputs": [],
   "source": [
    "## t_L_np_i -> start time of guaranteed time slot.\n",
    "def t_L_np_i(Pm, i):\n",
    "    return d_L_np_i(Pm, i) + t_Pm_o_i[Pm][i]"
   ]
  },
  {
   "cell_type": "markdown",
   "id": "ec4d3c2f",
   "metadata": {},
   "source": [
    "### 3.2 Effect of the look head"
   ]
  },
  {
   "cell_type": "markdown",
   "id": "e26c93f0",
   "metadata": {},
   "source": [
    "$$t_{P_{m}}^{g b, i}=t_{P_{m}}^{c, i}-d_{P_{m}}^{g b}$$"
   ]
  },
  {
   "cell_type": "markdown",
   "id": "d44741b6",
   "metadata": {},
   "source": [
    "$$d_{P_{m}}^{g b}=\\frac{l_{P_{m}}^{\\max }}{C}$$"
   ]
  },
  {
   "cell_type": "code",
   "execution_count": 17,
   "id": "68cafc0a",
   "metadata": {},
   "outputs": [],
   "source": [
    "def t_Pm_gb_i(Pm, i):\n",
    "    return t_Pm_c_i[Pm][i] - l_max_Pm[Pm]"
   ]
  },
  {
   "cell_type": "markdown",
   "id": "986ff159",
   "metadata": {},
   "source": [
    "### 3.3 Collision from Higher priority"
   ]
  },
  {
   "cell_type": "markdown",
   "id": "57eb068c",
   "metadata": {},
   "source": [
    "$$t_{P_{m^{-}}}^{c, i}=\\inf _{t \\geq t_{P_{m}}^{o, i}}\\left\\{G_{m^{-}}(t)=0\\right\\}$$"
   ]
  },
  {
   "cell_type": "code",
   "execution_count": 18,
   "id": "7bb872fe",
   "metadata": {},
   "outputs": [],
   "source": [
    "## Input is Pm\n",
    "def t_PmNeg_c_i(Pm, PmNeg, i):\n",
    "    result = t_Pm_o_i[Pm][i]\n",
    "    while result <= T_GCL:\n",
    "        if G_PmNeg(PmNeg, result) == 0:\n",
    "            return result\n",
    "        result += GRANULARITY"
   ]
  },
  {
   "cell_type": "markdown",
   "id": "0794c5dd",
   "metadata": {},
   "source": [
    "$$t_{P_{m^{-}}^{o, i}}^{o}=\\sup _{t \\leq t_{P_{m}}^{c, i}}\\left\\{G_{P_{m^{-}}}(t)=0\\right\\}$$"
   ]
  },
  {
   "cell_type": "code",
   "execution_count": 19,
   "id": "74efd27a",
   "metadata": {},
   "outputs": [],
   "source": [
    "## Input is Pm\n",
    "def t_PmNeg_o_i(Pm, PmNeg, i):\n",
    "    result = t_Pm_c_i[Pm][i]\n",
    "    while result >= 0:\n",
    "        if G_PmNeg(PmNeg, result) == 0:\n",
    "            return result\n",
    "        result -= GRANULARITY"
   ]
  },
  {
   "cell_type": "markdown",
   "id": "2ab5d5d4",
   "metadata": {},
   "source": [
    "$$t_{H}^{B, i}=\\underset{1 \\leq m^{-} \\leq m-1}{\\max }\\left\\{t_{P_{m^{-}}^{c, i}}\\right\\}$$"
   ]
  },
  {
   "cell_type": "code",
   "execution_count": 20,
   "id": "7481ca4a",
   "metadata": {},
   "outputs": [],
   "source": [
    "def t_H_B_i(Pm, i):\n",
    "    if Pm == 1:\n",
    "        return t_Pm_o_i[Pm][i]\n",
    "    return max([t_PmNeg_c_i(Pm, PmNeg, i) for PmNeg in range(1, Pm)])"
   ]
  },
  {
   "cell_type": "markdown",
   "id": "b28de8bb",
   "metadata": {},
   "source": [
    "$$t_{H}^{E, i}=\\min _{1 \\leq m^{-} \\leq m-1}\\left\\{t_{P_{m^{-}}}^{o, i}\\right\\}$$"
   ]
  },
  {
   "cell_type": "code",
   "execution_count": 21,
   "id": "f5c8ad5a",
   "metadata": {},
   "outputs": [],
   "source": [
    "def t_H_E_i(Pm, i):\n",
    "    if Pm == 1:\n",
    "        return t_Pm_c_i[Pm][i]\n",
    "    return max([t_PmNeg_o_i(Pm, PmNeg, i) for PmNeg in range(1, Pm)])"
   ]
  },
  {
   "cell_type": "markdown",
   "id": "d07ebc50",
   "metadata": {},
   "source": [
    "### 3.4 Comprehensive effect considerations"
   ]
  },
  {
   "cell_type": "markdown",
   "id": "39178788",
   "metadata": {},
   "source": [
    "$$t_{P_{m}}^{B, i}=\\max \\left\\{t_{L}^{n p, i}, t_{H}^{B, i}\\right\\}$$"
   ]
  },
  {
   "cell_type": "code",
   "execution_count": 22,
   "id": "256bea61",
   "metadata": {},
   "outputs": [],
   "source": [
    "def t_Pm_B_i(Pm, i):\n",
    "    return max(t_L_np_i(Pm, i), t_H_B_i(Pm, i))"
   ]
  },
  {
   "cell_type": "markdown",
   "id": "6acac3be",
   "metadata": {},
   "source": [
    "$$t_{P_{m}}^{E, i}=\\min \\left\\{t_{P_{m}}^{g b, i}, t_{H}^{E, i}\\right\\}$$"
   ]
  },
  {
   "cell_type": "code",
   "execution_count": 23,
   "id": "de3cbd80",
   "metadata": {},
   "outputs": [],
   "source": [
    "def t_Pm_E_i(Pm, i):\n",
    "    if i == 0:\n",
    "        return 0\n",
    "    return min(t_Pm_gb_i(Pm, i), t_H_E_i(Pm, i))"
   ]
  },
  {
   "cell_type": "markdown",
   "id": "23bb8525",
   "metadata": {},
   "source": [
    "$$\\bar{L}_{P_{m}}^{i}= \\begin{cases}\\max \\left\\{t_{P_{m}}^{E, i}-t_{P_{m}}^{B, i}, \\frac{l_{P_{m}}^{\\min }}{C}\\right\\}, & t_{P_{m}}^{B, i}<t_{P_{m}}^{E, i} \\\\ 0 & t_{P_{m}}^{B, i} \\geq t_{P_{m}}^{E, i}\\end{cases}$$"
   ]
  },
  {
   "cell_type": "code",
   "execution_count": 24,
   "id": "2d6ae6d6",
   "metadata": {},
   "outputs": [],
   "source": [
    "def L_Pm_i(Pm, i):\n",
    "    if t_Pm_B_i(Pm, i) >= t_Pm_E_i(Pm, i):\n",
    "        return 0\n",
    "    else:\n",
    "        return max(t_Pm_E_i(Pm, i) - t_Pm_B_i(Pm, i), l_min_Pm[Pm])"
   ]
  },
  {
   "cell_type": "markdown",
   "id": "35b7cba0",
   "metadata": {},
   "source": [
    "$$\\bar{o}_{P_{m}}^{i}=t_{P_{m}}^{B, i}-\\left.t_{P_{m}}^{o, i}\\right|_{\\bar{L}_{P_{m}}^{i} \\neq 0}$$"
   ]
  },
  {
   "cell_type": "code",
   "execution_count": 25,
   "id": "8541a237",
   "metadata": {},
   "outputs": [],
   "source": [
    "def o_Pm_i(Pm, i):\n",
    "    if L_Pm_i(Pm, i) == 0:\n",
    "        assert()\n",
    "    return t_Pm_B_i(Pm, i) - t_Pm_E_i(Pm, i)"
   ]
  },
  {
   "cell_type": "markdown",
   "id": "ec148b07",
   "metadata": {},
   "source": [
    "$$o_{P_{m}}^{j, i}=(j-i) \\cdot T_{P_{m}}-\\bar{o}_{P_{m}}^{i}+\\bar{o}_{P_{m}}^{j}$$"
   ]
  },
  {
   "cell_type": "code",
   "execution_count": 26,
   "id": "e37c50f6",
   "metadata": {},
   "outputs": [],
   "source": [
    "def o_Pm_i_j(Pm, i, j):\n",
    "    return (j - i) * T_Pm[Pm] - o_Pm_i(Pm, i) + o_Pm_i(Pm, j)"
   ]
  },
  {
   "cell_type": "markdown",
   "id": "cd9f310d",
   "metadata": {},
   "source": [
    "## 4. Maximum waiting time"
   ]
  },
  {
   "cell_type": "markdown",
   "id": "fb3ed3bd",
   "metadata": {},
   "source": [
    "$$t_{P_{m^{+}}^{o, i-1}} = {\\sup _{t \\leq t_{P_{m}}^{E, i-1}}}\\left\\{G_{P_{m^{+}}}(t)=0\\right\\}$$"
   ]
  },
  {
   "cell_type": "code",
   "execution_count": 27,
   "id": "91acc1fe",
   "metadata": {},
   "outputs": [],
   "source": [
    "## Input is Pm\n",
    "def t_PmPos_o_i(Pm, PmPos, i):\n",
    "    result = t_Pm_E_i(Pm, i)\n",
    "    while result >= 0:\n",
    "        if G_PmPos(PmPos, result) == 0:\n",
    "            return result\n",
    "        result -= GRANULARITY"
   ]
  },
  {
   "cell_type": "markdown",
   "id": "b534adcc",
   "metadata": {},
   "source": [
    "$$d_{L}^{n p, 0}=\\max _{m+1 \\leq m^{+} \\leq n}\\left\\{\\min \\left\\{\\frac{l_{P_{m^{+}}}^{\\max }}{C}, t_{P_{m}^{E,i-1}}-t_{P_{m^{+}}}^{o}\\right\\}\\right\\}$$"
   ]
  },
  {
   "cell_type": "code",
   "execution_count": 28,
   "id": "f894512d",
   "metadata": {},
   "outputs": [],
   "source": [
    "def d_L_np_0(Pm, i):\n",
    "    result = 0\n",
    "    if i == 0:\n",
    "        return 0\n",
    "    for PmPos in [x for x in l_max_Pm.keys() if x > Pm]:\n",
    "        temp = min(l_max_Pm[PmPos], t_Pm_E_i(Pm, i-1) - t_PmPos_o_i(Pm, PmPos, i-1))\n",
    "        if temp > result:\n",
    "            result = temp\n",
    "    return result"
   ]
  },
  {
   "cell_type": "markdown",
   "id": "f5210a60",
   "metadata": {},
   "source": [
    "$$S_{P_{m}}^{i}=d_{L}^{n p, 0}+t_{P_{m}}^{B, i}-t_{P_{m}}^{E, i-1}$$"
   ]
  },
  {
   "cell_type": "code",
   "execution_count": 29,
   "id": "37a6f106",
   "metadata": {},
   "outputs": [],
   "source": [
    "def S_Pm_i(Pm, i):\n",
    "    return d_L_np_0(Pm, i) + t_Pm_B_i(Pm, i) - t_Pm_E_i(Pm, i-1)"
   ]
  },
  {
   "cell_type": "markdown",
   "id": "b970c163",
   "metadata": {},
   "source": [
    "## 5. WCRT"
   ]
  },
  {
   "cell_type": "code",
   "execution_count": 30,
   "id": "55ca365a",
   "metadata": {},
   "outputs": [],
   "source": [
    "def alpha_tt(t, tt):\n",
    "    return max((l_tt[tt] / p_tt[tt]) * t + l_tt[tt], 0)"
   ]
  },
  {
   "cell_type": "code",
   "execution_count": 31,
   "id": "fcc569cb",
   "metadata": {},
   "outputs": [],
   "source": [
    "def alpha_Pm(t, Pm):\n",
    "    return sum([alpha_tt(t, tt) for tt in Pm_tt[Pm]])"
   ]
  },
  {
   "cell_type": "markdown",
   "id": "594d0d01",
   "metadata": {},
   "source": [
    "# Testing Case"
   ]
  },
  {
   "cell_type": "code",
   "execution_count": 32,
   "id": "0432cc0b",
   "metadata": {},
   "outputs": [],
   "source": [
    "GCL = [(70_000, 90_000, 7), (85_000, 105_000, 5), (40_000, 60_000, 3), (95_000, 115_000, 2), (55_000, 75_000, 1)]"
   ]
  },
  {
   "cell_type": "code",
   "execution_count": 33,
   "id": "47c9c381",
   "metadata": {},
   "outputs": [],
   "source": [
    "tt_Pm[1] = 2\n",
    "Pm_tt[2] = [1]\n",
    "l_tt[1] = 3200\n",
    "p_tt[1] = 250_000"
   ]
  },
  {
   "cell_type": "code",
   "execution_count": 34,
   "id": "e7890d8f",
   "metadata": {},
   "outputs": [],
   "source": [
    "## Number of window cases:\n",
    "\n",
    "for row in GCL:\n",
    "    Pm = row[-1]\n",
    "    N_Pm[Pm] = 1\n",
    "    T_Pm[Pm] = 250_000\n",
    "    T_GCL = 250_000\n",
    "    t_Pm_o_i.setdefault(Pm, {})\n",
    "    t_Pm_c_i.setdefault(Pm, {})\n",
    "    t_Pm_o_i[Pm][0]= 0\n",
    "    t_Pm_c_i[Pm][0]= 0\n",
    "    for i in range(N_Pm[Pm]):\n",
    "        t_Pm_o_i[Pm][i+1]= row[0] + i * T_Pm[Pm]\n",
    "        t_Pm_c_i[Pm][i+1]= row[1] + i * T_Pm[Pm]\n",
    "    if Pm in Pm_tt:\n",
    "        l_max_Pm[Pm] = max([l_tt[tt] for tt in Pm_tt[Pm]])\n",
    "        l_min_Pm[Pm] = min([l_tt[tt] for tt in Pm_tt[Pm]])\n",
    "    else:\n",
    "        l_max_Pm[Pm] = 0\n",
    "        l_min_Pm[Pm] = 0"
   ]
  },
  {
   "cell_type": "markdown",
   "id": "b5ae04e4",
   "metadata": {},
   "source": [
    "### Hop 1"
   ]
  },
  {
   "cell_type": "code",
   "execution_count": 35,
   "id": "0277cf59",
   "metadata": {},
   "outputs": [],
   "source": [
    "GCL = [(70_000, 90_000, 7), (85_000, 105_000, 5), (40_000, 60_000, 3), (95_000, 115_000, 2), (55_000, 75_000, 1)]"
   ]
  },
  {
   "cell_type": "code",
   "execution_count": 36,
   "id": "228f713d",
   "metadata": {},
   "outputs": [],
   "source": [
    "tt_Pm[1] = 2\n",
    "Pm_tt[2] = [1]\n",
    "l_tt[1] = 3200\n",
    "p_tt[1] = 250_000"
   ]
  },
  {
   "cell_type": "code",
   "execution_count": 37,
   "id": "8c197b4f",
   "metadata": {},
   "outputs": [],
   "source": [
    "## Number of window cases:\n",
    "T_GCL = 250_000\n",
    "for row in GCL:\n",
    "    Pm = row[-1]\n",
    "    N_Pm[Pm] = 1\n",
    "    T_Pm[Pm] = 250_000\n",
    "    \n",
    "    t_Pm_o_i.setdefault(Pm, {})\n",
    "    t_Pm_c_i.setdefault(Pm, {})\n",
    "    t_Pm_o_i[Pm][0]= 0\n",
    "    t_Pm_c_i[Pm][0]= 0\n",
    "    for i in range(N_Pm[Pm]):\n",
    "        t_Pm_o_i[Pm][i+1]= row[0] + i * T_Pm[Pm]\n",
    "        t_Pm_c_i[Pm][i+1]= row[1] + i * T_Pm[Pm]\n",
    "    l_max_Pm[Pm] = 400\n",
    "    if Pm in Pm_tt:\n",
    "        l_min_Pm[Pm] = min([l_tt[tt] for tt in Pm_tt[Pm]])\n",
    "    else:\n",
    "        l_min_Pm[Pm] = 0"
   ]
  },
  {
   "cell_type": "code",
   "execution_count": 38,
   "id": "00fa5b17",
   "metadata": {},
   "outputs": [
    {
     "data": {
      "text/plain": [
       "19200"
      ]
     },
     "execution_count": 38,
     "metadata": {},
     "output_type": "execute_result"
    }
   ],
   "source": [
    "L_Pm_i(2, 1)"
   ]
  },
  {
   "cell_type": "code",
   "execution_count": 39,
   "id": "d4030e49",
   "metadata": {},
   "outputs": [
    {
     "data": {
      "text/plain": [
       "99000"
      ]
     },
     "execution_count": 39,
     "metadata": {},
     "output_type": "execute_result"
    }
   ],
   "source": [
    "h(alpha_Pm, beta_Pm, 2)"
   ]
  },
  {
   "cell_type": "code",
   "execution_count": 40,
   "id": "ea56d3fb",
   "metadata": {},
   "outputs": [
    {
     "name": "stderr",
     "output_type": "stream",
     "text": [
      "/opt/homebrew/Caskroom/miniforge/base/lib/python3.9/site-packages/seaborn/_decorators.py:36: FutureWarning: Pass the following variables as keyword args: x, y. From version 0.12, the only valid positional argument will be `data`, and passing other arguments without an explicit keyword will result in an error or misinterpretation.\n",
      "  warnings.warn(\n",
      "/opt/homebrew/Caskroom/miniforge/base/lib/python3.9/site-packages/seaborn/_decorators.py:36: FutureWarning: Pass the following variables as keyword args: x, y. From version 0.12, the only valid positional argument will be `data`, and passing other arguments without an explicit keyword will result in an error or misinterpretation.\n",
      "  warnings.warn(\n"
     ]
    },
    {
     "data": {
      "text/plain": [
       "<AxesSubplot:>"
      ]
     },
     "execution_count": 40,
     "metadata": {},
     "output_type": "execute_result"
    },
    {
     "data": {
      "image/png": "[encoded data removed]",
      "text/plain": [
       "<Figure size 432x288 with 1 Axes>"
      ]
     },
     "metadata": {
      "needs_background": "light"
     },
     "output_type": "display_data"
    }
   ],
   "source": [
    "a_points = []\n",
    "b_points = []\n",
    "for i in range(0, 1_000_000, GRANULARITY):\n",
    "    a_points.append(alpha_Pm(i, 2))\n",
    "    b_points.append(beta_Pm(i, 2))\n",
    "\n",
    "sns.lineplot(range(0, 1_000_000, GRANULARITY), a_points)\n",
    "sns.lineplot(range(0, 1_000_000, GRANULARITY), b_points)"
   ]
  },
  {
   "cell_type": "markdown",
   "id": "cc64df18",
   "metadata": {},
   "source": [
    "### Hop 2"
   ]
  },
  {
   "cell_type": "code",
   "execution_count": 41,
   "id": "ab809367",
   "metadata": {},
   "outputs": [],
   "source": [
    "GCL = [(70_000, 90_000, 7), \n",
    "       (115_000, 135_000, 6), \n",
    "       (130_000, 150_000, 5), \n",
    "       (145_000, 165_000, 4), \n",
    "       (85_000, 105_000, 3), \n",
    "       (155_000, 175_000, 2), \n",
    "       (100_000, 120_000, 1)]"
   ]
  },
  {
   "cell_type": "code",
   "execution_count": 42,
   "id": "75e763e3",
   "metadata": {},
   "outputs": [],
   "source": [
    "tt_Pm[1] = 2\n",
    "Pm_tt[2] = [1]\n",
    "l_tt[1] = 3200\n",
    "p_tt[1] = 250_000\n",
    "\n",
    "## Number of window cases:\n",
    "T_GCL = 250_000\n",
    "for row in GCL:\n",
    "    Pm = row[-1]\n",
    "    N_Pm[Pm] = 1\n",
    "    T_Pm[Pm] = 250_000\n",
    "    \n",
    "    t_Pm_o_i.setdefault(Pm, {})\n",
    "    t_Pm_c_i.setdefault(Pm, {})\n",
    "    t_Pm_o_i[Pm][0]= 0\n",
    "    t_Pm_c_i[Pm][0]= 0\n",
    "    for i in range(N_Pm[Pm]):\n",
    "        t_Pm_o_i[Pm][i+1]= row[0] + i * T_Pm[Pm]\n",
    "        t_Pm_c_i[Pm][i+1]= row[1] + i * T_Pm[Pm]\n",
    "    l_max_Pm[Pm] = 400\n",
    "    if Pm in Pm_tt:\n",
    "        l_min_Pm[Pm] = min([l_tt[tt] for tt in Pm_tt[Pm]])\n",
    "    else:\n",
    "        l_min_Pm[Pm] = 0"
   ]
  },
  {
   "cell_type": "code",
   "execution_count": 52,
   "id": "5dc58a54",
   "metadata": {},
   "outputs": [
    {
     "data": {
      "text/plain": [
       "19200"
      ]
     },
     "execution_count": 52,
     "metadata": {},
     "output_type": "execute_result"
    }
   ],
   "source": [
    "L_Pm_i(2, 1)"
   ]
  },
  {
   "cell_type": "code",
   "execution_count": 44,
   "id": "b14ee1ef",
   "metadata": {},
   "outputs": [
    {
     "data": {
      "text/plain": [
       "159000"
      ]
     },
     "execution_count": 44,
     "metadata": {},
     "output_type": "execute_result"
    }
   ],
   "source": [
    "h(alpha_Pm, beta_Pm, 2)"
   ]
  },
  {
   "cell_type": "code",
   "execution_count": 45,
   "id": "e46c4676",
   "metadata": {},
   "outputs": [
    {
     "name": "stderr",
     "output_type": "stream",
     "text": [
      "/opt/homebrew/Caskroom/miniforge/base/lib/python3.9/site-packages/seaborn/_decorators.py:36: FutureWarning: Pass the following variables as keyword args: x, y. From version 0.12, the only valid positional argument will be `data`, and passing other arguments without an explicit keyword will result in an error or misinterpretation.\n",
      "  warnings.warn(\n",
      "/opt/homebrew/Caskroom/miniforge/base/lib/python3.9/site-packages/seaborn/_decorators.py:36: FutureWarning: Pass the following variables as keyword args: x, y. From version 0.12, the only valid positional argument will be `data`, and passing other arguments without an explicit keyword will result in an error or misinterpretation.\n",
      "  warnings.warn(\n"
     ]
    },
    {
     "data": {
      "text/plain": [
       "<AxesSubplot:>"
      ]
     },
     "execution_count": 45,
     "metadata": {},
     "output_type": "execute_result"
    },
    {
     "data": {
      "image/png": "[encoded data removed]",
      "text/plain": [
       "<Figure size 432x288 with 1 Axes>"
      ]
     },
     "metadata": {
      "needs_background": "light"
     },
     "output_type": "display_data"
    }
   ],
   "source": [
    "a_points = []\n",
    "b_points = []\n",
    "for i in range(0, 1_000_000, GRANULARITY):\n",
    "    a_points.append(alpha_Pm(i, 2))\n",
    "    b_points.append(beta_Pm(i, 2))\n",
    "\n",
    "sns.lineplot(range(0, 1_000_000, GRANULARITY), a_points)\n",
    "sns.lineplot(range(0, 1_000_000, GRANULARITY), b_points)"
   ]
  },
  {
   "cell_type": "markdown",
   "id": "e6d1dc47",
   "metadata": {},
   "source": [
    "### Hop 3"
   ]
  },
  {
   "cell_type": "code",
   "execution_count": 46,
   "id": "1c8e58dc",
   "metadata": {},
   "outputs": [],
   "source": [
    "GCL = [(170_000, 190_000, 5), \n",
    "       (180_000, 200_000, 2),  \n",
    "       (140_000, 160_000, 1)]"
   ]
  },
  {
   "cell_type": "code",
   "execution_count": 47,
   "id": "177635a0",
   "metadata": {},
   "outputs": [],
   "source": [
    "tt_Pm[1] = 2\n",
    "Pm_tt[2] = [1]\n",
    "l_tt[1] = 3200\n",
    "p_tt[1] = 250_000\n",
    "\n",
    "## Number of window cases:\n",
    "T_GCL = 250_000\n",
    "for row in GCL:\n",
    "    Pm = row[-1]\n",
    "    N_Pm[Pm] = 1\n",
    "    T_Pm[Pm] = 250_000\n",
    "    \n",
    "    t_Pm_o_i.setdefault(Pm, {})\n",
    "    t_Pm_c_i.setdefault(Pm, {})\n",
    "    t_Pm_o_i[Pm][0]= 0\n",
    "    t_Pm_c_i[Pm][0]= 0\n",
    "    for i in range(N_Pm[Pm]):\n",
    "        t_Pm_o_i[Pm][i+1]= row[0] + i * T_Pm[Pm]\n",
    "        t_Pm_c_i[Pm][i+1]= row[1] + i * T_Pm[Pm]\n",
    "    l_max_Pm[Pm] = 400\n",
    "    if Pm in Pm_tt:\n",
    "        l_min_Pm[Pm] = min([l_tt[tt] for tt in Pm_tt[Pm]])\n",
    "    else:\n",
    "        l_min_Pm[Pm] = 0"
   ]
  },
  {
   "cell_type": "code",
   "execution_count": 48,
   "id": "979e190f",
   "metadata": {},
   "outputs": [
    {
     "data": {
      "text/plain": [
       "19200"
      ]
     },
     "execution_count": 48,
     "metadata": {},
     "output_type": "execute_result"
    }
   ],
   "source": [
    "L_Pm_i(2, 1)"
   ]
  },
  {
   "cell_type": "code",
   "execution_count": 49,
   "id": "11bb7532",
   "metadata": {},
   "outputs": [
    {
     "data": {
      "text/plain": [
       "184000"
      ]
     },
     "execution_count": 49,
     "metadata": {},
     "output_type": "execute_result"
    }
   ],
   "source": [
    "h(alpha_Pm, beta_Pm, 2)"
   ]
  },
  {
   "cell_type": "code",
   "execution_count": 50,
   "id": "b6a6e9d1",
   "metadata": {},
   "outputs": [
    {
     "name": "stderr",
     "output_type": "stream",
     "text": [
      "/opt/homebrew/Caskroom/miniforge/base/lib/python3.9/site-packages/seaborn/_decorators.py:36: FutureWarning: Pass the following variables as keyword args: x, y. From version 0.12, the only valid positional argument will be `data`, and passing other arguments without an explicit keyword will result in an error or misinterpretation.\n",
      "  warnings.warn(\n",
      "/opt/homebrew/Caskroom/miniforge/base/lib/python3.9/site-packages/seaborn/_decorators.py:36: FutureWarning: Pass the following variables as keyword args: x, y. From version 0.12, the only valid positional argument will be `data`, and passing other arguments without an explicit keyword will result in an error or misinterpretation.\n",
      "  warnings.warn(\n"
     ]
    },
    {
     "data": {
      "text/plain": [
       "<AxesSubplot:>"
      ]
     },
     "execution_count": 50,
     "metadata": {},
     "output_type": "execute_result"
    },
    {
     "data": {
      "image/png": "[encoded data removed]",
      "text/plain": [
       "<Figure size 432x288 with 1 Axes>"
      ]
     },
     "metadata": {
      "needs_background": "light"
     },
     "output_type": "display_data"
    }
   ],
   "source": [
    "a_points = []\n",
    "b_points = []\n",
    "for i in range(0, 1_000_000, GRANULARITY):\n",
    "    a_points.append(alpha_Pm(i, 2))\n",
    "    b_points.append(beta_Pm(i, 2))\n",
    "\n",
    "sns.lineplot(range(0, 1_000_000, GRANULARITY), a_points)\n",
    "sns.lineplot(range(0, 1_000_000, GRANULARITY), b_points)"
   ]
  },
  {
   "cell_type": "markdown",
   "id": "6063021e",
   "metadata": {},
   "source": [
    "## Debug/"
   ]
  },
  {
   "cell_type": "code",
   "execution_count": null,
   "id": "bc5f0b1b",
   "metadata": {},
   "outputs": [],
   "source": []
  },
  {
   "cell_type": "code",
   "execution_count": null,
   "id": "84bfa7bb",
   "metadata": {},
   "outputs": [],
   "source": []
  }
 ],
 "metadata": {
  "kernelspec": {
   "display_name": "Python 3 (ipykernel)",
   "language": "python",
   "name": "python3"
  },
  "language_info": {
   "codemirror_mode": {
    "name": "ipython",
    "version": 3
   },
   "file_extension": ".py",
   "mimetype": "text/x-python",
   "name": "python",
   "nbconvert_exporter": "python",
   "pygments_lexer": "ipython3",
   "version": "3.9.13"
  }
 },
 "nbformat": 4,
 "nbformat_minor": 5
}
